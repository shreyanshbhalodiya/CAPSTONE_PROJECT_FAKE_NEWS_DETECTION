{
  "nbformat": 4,
  "nbformat_minor": 0,
  "metadata": {
    "kernelspec": {
      "display_name": "Python 3",
      "language": "python",
      "name": "python3"
    },
    "language_info": {
      "codemirror_mode": {
        "name": "ipython",
        "version": 3
      },
      "file_extension": ".py",
      "mimetype": "text/x-python",
      "name": "python",
      "nbconvert_exporter": "python",
      "pygments_lexer": "ipython3",
      "version": "3.7.6"
    },
    "colab": {
      "name": "Analysis-RealTimePrediction.ipynb",
      "provenance": [],
      "collapsed_sections": []
    }
  },
  "cells": [
    {
      "cell_type": "markdown",
      "metadata": {
        "id": "nslxZtxkcN1P"
      },
      "source": [
        "##**An attempt to classify whether the news is Fake or Real by applying threshold on BaselineModel-1 and BaselineModel-2 prediction results and output the model predictions as either real or fake**"
      ]
    },
    {
      "cell_type": "code",
      "metadata": {
        "id": "Nj6t52RjzVZS"
      },
      "source": [
        "import pandas as pd\n",
        "import numpy as np"
      ],
      "execution_count": null,
      "outputs": []
    },
    {
      "cell_type": "code",
      "metadata": {
        "id": "ybUa2STazVZh"
      },
      "source": [
        "df = pd.read_csv(\"D:\\Downloads\\Equal Real and fake claims - Sheet1.csv\" , encoding='latin1') # Baseline model-1 & 2 prediction results"
      ],
      "execution_count": null,
      "outputs": []
    },
    {
      "cell_type": "code",
      "metadata": {
        "id": "CD_tdPeZzVZi",
        "outputId": "c1b94dbe-3181-4643-f58c-9bbfc67acb6b"
      },
      "source": [
        "df.head()"
      ],
      "execution_count": null,
      "outputs": [
        {
          "output_type": "execute_result",
          "data": {
            "text/html": [
              "<div>\n",
              "<style scoped>\n",
              "    .dataframe tbody tr th:only-of-type {\n",
              "        vertical-align: middle;\n",
              "    }\n",
              "\n",
              "    .dataframe tbody tr th {\n",
              "        vertical-align: top;\n",
              "    }\n",
              "\n",
              "    .dataframe thead th {\n",
              "        text-align: right;\n",
              "    }\n",
              "</style>\n",
              "<table border=\"1\" class=\"dataframe\">\n",
              "  <thead>\n",
              "    <tr style=\"text-align: right;\">\n",
              "      <th></th>\n",
              "      <th>headline</th>\n",
              "      <th>Type_of_claim</th>\n",
              "      <th>Total_No._of_Articles</th>\n",
              "      <th>Related</th>\n",
              "      <th>Unrelated</th>\n",
              "      <th>Agree</th>\n",
              "      <th>Disagree</th>\n",
              "      <th>Discuss</th>\n",
              "    </tr>\n",
              "  </thead>\n",
              "  <tbody>\n",
              "    <tr>\n",
              "      <th>0</th>\n",
              "      <td>Utah woman delivers baby boy onboard flight to...</td>\n",
              "      <td>Real</td>\n",
              "      <td>7</td>\n",
              "      <td>7</td>\n",
              "      <td>0</td>\n",
              "      <td>7</td>\n",
              "      <td>0</td>\n",
              "      <td>0</td>\n",
              "    </tr>\n",
              "    <tr>\n",
              "      <th>1</th>\n",
              "      <td>Portugal inaugurates 'world's longest' pedestr...</td>\n",
              "      <td>Real</td>\n",
              "      <td>5</td>\n",
              "      <td>4</td>\n",
              "      <td>1</td>\n",
              "      <td>4</td>\n",
              "      <td>0</td>\n",
              "      <td>0</td>\n",
              "    </tr>\n",
              "    <tr>\n",
              "      <th>2</th>\n",
              "      <td>Stand-off continues with China on eastern fron...</td>\n",
              "      <td>Real</td>\n",
              "      <td>15</td>\n",
              "      <td>8</td>\n",
              "      <td>7</td>\n",
              "      <td>6</td>\n",
              "      <td>0</td>\n",
              "      <td>2</td>\n",
              "    </tr>\n",
              "    <tr>\n",
              "      <th>3</th>\n",
              "      <td>PM Narendra Modi lays the foundation stone of ...</td>\n",
              "      <td>Real</td>\n",
              "      <td>27</td>\n",
              "      <td>21</td>\n",
              "      <td>6</td>\n",
              "      <td>19</td>\n",
              "      <td>0</td>\n",
              "      <td>2</td>\n",
              "    </tr>\n",
              "    <tr>\n",
              "      <th>4</th>\n",
              "      <td>Communal riots in Delhi claims 42 lives</td>\n",
              "      <td>Real</td>\n",
              "      <td>24</td>\n",
              "      <td>17</td>\n",
              "      <td>7</td>\n",
              "      <td>0</td>\n",
              "      <td>0</td>\n",
              "      <td>17</td>\n",
              "    </tr>\n",
              "  </tbody>\n",
              "</table>\n",
              "</div>"
            ],
            "text/plain": [
              "                                            headline Type_of_claim  \\\n",
              "0  Utah woman delivers baby boy onboard flight to...          Real   \n",
              "1  Portugal inaugurates 'world's longest' pedestr...          Real   \n",
              "2  Stand-off continues with China on eastern fron...          Real   \n",
              "3  PM Narendra Modi lays the foundation stone of ...          Real   \n",
              "4            Communal riots in Delhi claims 42 lives          Real   \n",
              "\n",
              "   Total_No._of_Articles  Related  Unrelated  Agree  Disagree  Discuss  \n",
              "0                      7        7          0      7         0        0  \n",
              "1                      5        4          1      4         0        0  \n",
              "2                     15        8          7      6         0        2  \n",
              "3                     27       21          6     19         0        2  \n",
              "4                     24       17          7      0         0       17  "
            ]
          },
          "metadata": {
            "tags": []
          },
          "execution_count": 6
        }
      ]
    },
    {
      "cell_type": "code",
      "metadata": {
        "id": "g1Wj43omzVZl"
      },
      "source": [
        "#df.rename(columns = {'Related\\n(Agree + discuss + Discuss)':'Related}, inplace = True)"
      ],
      "execution_count": null,
      "outputs": []
    },
    {
      "cell_type": "code",
      "metadata": {
        "id": "9g0UtpDWzVZm",
        "outputId": "0bb1af0d-5605-48f1-a5b6-706f3b80f673"
      },
      "source": [
        "df.shape"
      ],
      "execution_count": null,
      "outputs": [
        {
          "output_type": "execute_result",
          "data": {
            "text/plain": [
              "(175, 8)"
            ]
          },
          "metadata": {
            "tags": []
          },
          "execution_count": 7
        }
      ]
    },
    {
      "cell_type": "code",
      "metadata": {
        "id": "gfEf8xV5zVZn"
      },
      "source": [
        "df[\"related%\"] = np.round((df[\"Related\"]/df[\"Total_No._of_Articles\"])*100)"
      ],
      "execution_count": null,
      "outputs": []
    },
    {
      "cell_type": "code",
      "metadata": {
        "id": "7qJanTxtzVZo",
        "outputId": "6a080cfc-e853-4664-cdb2-87312487675f"
      },
      "source": [
        "df.head()"
      ],
      "execution_count": null,
      "outputs": [
        {
          "output_type": "execute_result",
          "data": {
            "text/html": [
              "<div>\n",
              "<style scoped>\n",
              "    .dataframe tbody tr th:only-of-type {\n",
              "        vertical-align: middle;\n",
              "    }\n",
              "\n",
              "    .dataframe tbody tr th {\n",
              "        vertical-align: top;\n",
              "    }\n",
              "\n",
              "    .dataframe thead th {\n",
              "        text-align: right;\n",
              "    }\n",
              "</style>\n",
              "<table border=\"1\" class=\"dataframe\">\n",
              "  <thead>\n",
              "    <tr style=\"text-align: right;\">\n",
              "      <th></th>\n",
              "      <th>headline</th>\n",
              "      <th>Type_of_claim</th>\n",
              "      <th>Total_No._of_Articles</th>\n",
              "      <th>Related</th>\n",
              "      <th>Unrelated</th>\n",
              "      <th>Agree</th>\n",
              "      <th>Disagree</th>\n",
              "      <th>Discuss</th>\n",
              "      <th>related%</th>\n",
              "    </tr>\n",
              "  </thead>\n",
              "  <tbody>\n",
              "    <tr>\n",
              "      <th>0</th>\n",
              "      <td>Utah woman delivers baby boy onboard flight to...</td>\n",
              "      <td>Real</td>\n",
              "      <td>7</td>\n",
              "      <td>7</td>\n",
              "      <td>0</td>\n",
              "      <td>7</td>\n",
              "      <td>0</td>\n",
              "      <td>0</td>\n",
              "      <td>100.0</td>\n",
              "    </tr>\n",
              "    <tr>\n",
              "      <th>1</th>\n",
              "      <td>Portugal inaugurates 'world's longest' pedestr...</td>\n",
              "      <td>Real</td>\n",
              "      <td>5</td>\n",
              "      <td>4</td>\n",
              "      <td>1</td>\n",
              "      <td>4</td>\n",
              "      <td>0</td>\n",
              "      <td>0</td>\n",
              "      <td>80.0</td>\n",
              "    </tr>\n",
              "    <tr>\n",
              "      <th>2</th>\n",
              "      <td>Stand-off continues with China on eastern fron...</td>\n",
              "      <td>Real</td>\n",
              "      <td>15</td>\n",
              "      <td>8</td>\n",
              "      <td>7</td>\n",
              "      <td>6</td>\n",
              "      <td>0</td>\n",
              "      <td>2</td>\n",
              "      <td>53.0</td>\n",
              "    </tr>\n",
              "    <tr>\n",
              "      <th>3</th>\n",
              "      <td>PM Narendra Modi lays the foundation stone of ...</td>\n",
              "      <td>Real</td>\n",
              "      <td>27</td>\n",
              "      <td>21</td>\n",
              "      <td>6</td>\n",
              "      <td>19</td>\n",
              "      <td>0</td>\n",
              "      <td>2</td>\n",
              "      <td>78.0</td>\n",
              "    </tr>\n",
              "    <tr>\n",
              "      <th>4</th>\n",
              "      <td>Communal riots in Delhi claims 42 lives</td>\n",
              "      <td>Real</td>\n",
              "      <td>24</td>\n",
              "      <td>17</td>\n",
              "      <td>7</td>\n",
              "      <td>0</td>\n",
              "      <td>0</td>\n",
              "      <td>17</td>\n",
              "      <td>71.0</td>\n",
              "    </tr>\n",
              "  </tbody>\n",
              "</table>\n",
              "</div>"
            ],
            "text/plain": [
              "                                            headline Type_of_claim  \\\n",
              "0  Utah woman delivers baby boy onboard flight to...          Real   \n",
              "1  Portugal inaugurates 'world's longest' pedestr...          Real   \n",
              "2  Stand-off continues with China on eastern fron...          Real   \n",
              "3  PM Narendra Modi lays the foundation stone of ...          Real   \n",
              "4            Communal riots in Delhi claims 42 lives          Real   \n",
              "\n",
              "   Total_No._of_Articles  Related  Unrelated  Agree  Disagree  Discuss  \\\n",
              "0                      7        7          0      7         0        0   \n",
              "1                      5        4          1      4         0        0   \n",
              "2                     15        8          7      6         0        2   \n",
              "3                     27       21          6     19         0        2   \n",
              "4                     24       17          7      0         0       17   \n",
              "\n",
              "   related%  \n",
              "0     100.0  \n",
              "1      80.0  \n",
              "2      53.0  \n",
              "3      78.0  \n",
              "4      71.0  "
            ]
          },
          "metadata": {
            "tags": []
          },
          "execution_count": 16
        }
      ]
    },
    {
      "cell_type": "code",
      "metadata": {
        "id": "FGhBXZ7qzVZp"
      },
      "source": [
        "# applying the threshold of 51% on 2-class prediction (BaselineModel-1), only the claims that are having related articles > 15% are passed to the BaselineModel-2\n",
        "df_M2 = df[df[\"related%\"] > 51.0] "
      ],
      "execution_count": null,
      "outputs": []
    },
    {
      "cell_type": "code",
      "metadata": {
        "id": "Vnd7MN21zVZp",
        "outputId": "efaae94b-827c-4c23-8fd2-f03617c6a47e"
      },
      "source": [
        "df_M2[\"Type_of_claim\"].value_counts()"
      ],
      "execution_count": null,
      "outputs": [
        {
          "output_type": "execute_result",
          "data": {
            "text/plain": [
              "Real      81\n",
              "Unreal    46\n",
              "Name: Type_of_claim, dtype: int64"
            ]
          },
          "metadata": {
            "tags": []
          },
          "execution_count": 148
        }
      ]
    },
    {
      "cell_type": "code",
      "metadata": {
        "id": "-N8k2We5zVZq",
        "outputId": "cc3ba48a-9d9c-4c65-9664-8629e60702c8"
      },
      "source": [
        "df_M1_out = df[df[\"related%\"] <= 51.0]\n",
        "df_M1_out.shape\n",
        "df_M1_out[\"Type_of_claim\"].value_counts()"
      ],
      "execution_count": null,
      "outputs": [
        {
          "output_type": "execute_result",
          "data": {
            "text/plain": [
              "Unreal    28\n",
              "Real      20\n",
              "Name: Type_of_claim, dtype: int64"
            ]
          },
          "metadata": {
            "tags": []
          },
          "execution_count": 149
        }
      ]
    },
    {
      "cell_type": "code",
      "metadata": {
        "id": "ULT3W0rVzVZr",
        "outputId": "69c74c9d-e2f5-415e-cb96-f7ef46a8f01f"
      },
      "source": [
        "df_M2.head()"
      ],
      "execution_count": null,
      "outputs": [
        {
          "output_type": "execute_result",
          "data": {
            "text/html": [
              "<div>\n",
              "<style scoped>\n",
              "    .dataframe tbody tr th:only-of-type {\n",
              "        vertical-align: middle;\n",
              "    }\n",
              "\n",
              "    .dataframe tbody tr th {\n",
              "        vertical-align: top;\n",
              "    }\n",
              "\n",
              "    .dataframe thead th {\n",
              "        text-align: right;\n",
              "    }\n",
              "</style>\n",
              "<table border=\"1\" class=\"dataframe\">\n",
              "  <thead>\n",
              "    <tr style=\"text-align: right;\">\n",
              "      <th></th>\n",
              "      <th>headline</th>\n",
              "      <th>Type_of_claim</th>\n",
              "      <th>Total_No._of_Articles</th>\n",
              "      <th>Related</th>\n",
              "      <th>Unrelated</th>\n",
              "      <th>Agree</th>\n",
              "      <th>Disagree</th>\n",
              "      <th>Discuss</th>\n",
              "      <th>related%</th>\n",
              "    </tr>\n",
              "  </thead>\n",
              "  <tbody>\n",
              "    <tr>\n",
              "      <th>0</th>\n",
              "      <td>Utah woman delivers baby boy onboard flight to...</td>\n",
              "      <td>Real</td>\n",
              "      <td>7</td>\n",
              "      <td>7</td>\n",
              "      <td>0</td>\n",
              "      <td>7</td>\n",
              "      <td>0</td>\n",
              "      <td>0</td>\n",
              "      <td>100.0</td>\n",
              "    </tr>\n",
              "    <tr>\n",
              "      <th>1</th>\n",
              "      <td>Portugal inaugurates 'world's longest' pedestr...</td>\n",
              "      <td>Real</td>\n",
              "      <td>5</td>\n",
              "      <td>4</td>\n",
              "      <td>1</td>\n",
              "      <td>4</td>\n",
              "      <td>0</td>\n",
              "      <td>0</td>\n",
              "      <td>80.0</td>\n",
              "    </tr>\n",
              "    <tr>\n",
              "      <th>2</th>\n",
              "      <td>Stand-off continues with China on eastern fron...</td>\n",
              "      <td>Real</td>\n",
              "      <td>15</td>\n",
              "      <td>8</td>\n",
              "      <td>7</td>\n",
              "      <td>6</td>\n",
              "      <td>0</td>\n",
              "      <td>2</td>\n",
              "      <td>53.0</td>\n",
              "    </tr>\n",
              "    <tr>\n",
              "      <th>3</th>\n",
              "      <td>PM Narendra Modi lays the foundation stone of ...</td>\n",
              "      <td>Real</td>\n",
              "      <td>27</td>\n",
              "      <td>21</td>\n",
              "      <td>6</td>\n",
              "      <td>19</td>\n",
              "      <td>0</td>\n",
              "      <td>2</td>\n",
              "      <td>78.0</td>\n",
              "    </tr>\n",
              "    <tr>\n",
              "      <th>4</th>\n",
              "      <td>Communal riots in Delhi claims 42 lives</td>\n",
              "      <td>Real</td>\n",
              "      <td>24</td>\n",
              "      <td>17</td>\n",
              "      <td>7</td>\n",
              "      <td>0</td>\n",
              "      <td>0</td>\n",
              "      <td>17</td>\n",
              "      <td>71.0</td>\n",
              "    </tr>\n",
              "  </tbody>\n",
              "</table>\n",
              "</div>"
            ],
            "text/plain": [
              "                                            headline Type_of_claim  \\\n",
              "0  Utah woman delivers baby boy onboard flight to...          Real   \n",
              "1  Portugal inaugurates 'world's longest' pedestr...          Real   \n",
              "2  Stand-off continues with China on eastern fron...          Real   \n",
              "3  PM Narendra Modi lays the foundation stone of ...          Real   \n",
              "4            Communal riots in Delhi claims 42 lives          Real   \n",
              "\n",
              "   Total_No._of_Articles  Related  Unrelated  Agree  Disagree  Discuss  \\\n",
              "0                      7        7          0      7         0        0   \n",
              "1                      5        4          1      4         0        0   \n",
              "2                     15        8          7      6         0        2   \n",
              "3                     27       21          6     19         0        2   \n",
              "4                     24       17          7      0         0       17   \n",
              "\n",
              "   related%  \n",
              "0     100.0  \n",
              "1      80.0  \n",
              "2      53.0  \n",
              "3      78.0  \n",
              "4      71.0  "
            ]
          },
          "metadata": {
            "tags": []
          },
          "execution_count": 150
        }
      ]
    },
    {
      "cell_type": "code",
      "metadata": {
        "scrolled": false,
        "id": "f2cxzq8LzVZs",
        "outputId": "d812efb2-fa66-4114-b2f1-8a37f924ddc9"
      },
      "source": [
        "# if count of agree is less than sum of discuss and disagree, then we output the claim as Fake news\n",
        "df[df[\"Agree\"] < (df[\"Discuss\"] + df[\"Disagree\"])]"
      ],
      "execution_count": null,
      "outputs": [
        {
          "output_type": "execute_result",
          "data": {
            "text/html": [
              "<div>\n",
              "<style scoped>\n",
              "    .dataframe tbody tr th:only-of-type {\n",
              "        vertical-align: middle;\n",
              "    }\n",
              "\n",
              "    .dataframe tbody tr th {\n",
              "        vertical-align: top;\n",
              "    }\n",
              "\n",
              "    .dataframe thead th {\n",
              "        text-align: right;\n",
              "    }\n",
              "</style>\n",
              "<table border=\"1\" class=\"dataframe\">\n",
              "  <thead>\n",
              "    <tr style=\"text-align: right;\">\n",
              "      <th></th>\n",
              "      <th>headline</th>\n",
              "      <th>Type_of_claim</th>\n",
              "      <th>Total_No._of_Articles</th>\n",
              "      <th>Related</th>\n",
              "      <th>Unrelated</th>\n",
              "      <th>Agree</th>\n",
              "      <th>Disagree</th>\n",
              "      <th>Discuss</th>\n",
              "      <th>related%</th>\n",
              "    </tr>\n",
              "  </thead>\n",
              "  <tbody>\n",
              "    <tr>\n",
              "      <th>4</th>\n",
              "      <td>Communal riots in Delhi claims 42 lives</td>\n",
              "      <td>Real</td>\n",
              "      <td>24</td>\n",
              "      <td>17</td>\n",
              "      <td>7</td>\n",
              "      <td>0</td>\n",
              "      <td>0</td>\n",
              "      <td>17</td>\n",
              "      <td>71.0</td>\n",
              "    </tr>\n",
              "    <tr>\n",
              "      <th>8</th>\n",
              "      <td>Kerala CM Pinarayi Vijayan alleges largescale ...</td>\n",
              "      <td>Real</td>\n",
              "      <td>9</td>\n",
              "      <td>8</td>\n",
              "      <td>1</td>\n",
              "      <td>0</td>\n",
              "      <td>0</td>\n",
              "      <td>8</td>\n",
              "      <td>89.0</td>\n",
              "    </tr>\n",
              "    <tr>\n",
              "      <th>20</th>\n",
              "      <td>If 30% Muslims unite in India, 4 Pakistans wil...</td>\n",
              "      <td>Real</td>\n",
              "      <td>10</td>\n",
              "      <td>6</td>\n",
              "      <td>4</td>\n",
              "      <td>0</td>\n",
              "      <td>2</td>\n",
              "      <td>4</td>\n",
              "      <td>60.0</td>\n",
              "    </tr>\n",
              "    <tr>\n",
              "      <th>34</th>\n",
              "      <td>\"Tim Allen quote Trumps wall costs less than ...</td>\n",
              "      <td>Unreal</td>\n",
              "      <td>3</td>\n",
              "      <td>2</td>\n",
              "      <td>1</td>\n",
              "      <td>0</td>\n",
              "      <td>1</td>\n",
              "      <td>1</td>\n",
              "      <td>67.0</td>\n",
              "    </tr>\n",
              "    <tr>\n",
              "      <th>35</th>\n",
              "      <td>\"Democrats Vote To Enhance Med Care for Illega...</td>\n",
              "      <td>Unreal</td>\n",
              "      <td>2</td>\n",
              "      <td>1</td>\n",
              "      <td>1</td>\n",
              "      <td>0</td>\n",
              "      <td>0</td>\n",
              "      <td>1</td>\n",
              "      <td>50.0</td>\n",
              "    </tr>\n",
              "    <tr>\n",
              "      <th>39</th>\n",
              "      <td>\"Trumps grandfather was a pimp and tax evader...</td>\n",
              "      <td>Unreal</td>\n",
              "      <td>7</td>\n",
              "      <td>5</td>\n",
              "      <td>2</td>\n",
              "      <td>0</td>\n",
              "      <td>3</td>\n",
              "      <td>2</td>\n",
              "      <td>71.0</td>\n",
              "    </tr>\n",
              "    <tr>\n",
              "      <th>40</th>\n",
              "      <td>Bill Gates has created or financed the creatio...</td>\n",
              "      <td>Unreal</td>\n",
              "      <td>9</td>\n",
              "      <td>8</td>\n",
              "      <td>1</td>\n",
              "      <td>3</td>\n",
              "      <td>4</td>\n",
              "      <td>1</td>\n",
              "      <td>89.0</td>\n",
              "    </tr>\n",
              "    <tr>\n",
              "      <th>45</th>\n",
              "      <td>Kashmiri Muslim woman called terrorist by he...</td>\n",
              "      <td>Unreal</td>\n",
              "      <td>6</td>\n",
              "      <td>6</td>\n",
              "      <td>0</td>\n",
              "      <td>2</td>\n",
              "      <td>0</td>\n",
              "      <td>4</td>\n",
              "      <td>100.0</td>\n",
              "    </tr>\n",
              "    <tr>\n",
              "      <th>48</th>\n",
              "      <td>Hindus are behind Tiktok videos urging Muslim...</td>\n",
              "      <td>Unreal</td>\n",
              "      <td>8</td>\n",
              "      <td>2</td>\n",
              "      <td>6</td>\n",
              "      <td>0</td>\n",
              "      <td>2</td>\n",
              "      <td>0</td>\n",
              "      <td>25.0</td>\n",
              "    </tr>\n",
              "    <tr>\n",
              "      <th>51</th>\n",
              "      <td>china accepts 30 soldiers have been killed dur...</td>\n",
              "      <td>Unreal</td>\n",
              "      <td>18</td>\n",
              "      <td>14</td>\n",
              "      <td>4</td>\n",
              "      <td>4</td>\n",
              "      <td>1</td>\n",
              "      <td>9</td>\n",
              "      <td>78.0</td>\n",
              "    </tr>\n",
              "    <tr>\n",
              "      <th>52</th>\n",
              "      <td>omar abdullah said If Article 370 goes, India-...</td>\n",
              "      <td>Unreal</td>\n",
              "      <td>8</td>\n",
              "      <td>4</td>\n",
              "      <td>4</td>\n",
              "      <td>0</td>\n",
              "      <td>0</td>\n",
              "      <td>4</td>\n",
              "      <td>50.0</td>\n",
              "    </tr>\n",
              "    <tr>\n",
              "      <th>55</th>\n",
              "      <td>Chinese Intelligence Officer Revealed that Cor...</td>\n",
              "      <td>Unreal</td>\n",
              "      <td>17</td>\n",
              "      <td>8</td>\n",
              "      <td>9</td>\n",
              "      <td>3</td>\n",
              "      <td>3</td>\n",
              "      <td>2</td>\n",
              "      <td>47.0</td>\n",
              "    </tr>\n",
              "    <tr>\n",
              "      <th>59</th>\n",
              "      <td>Cyclone Tauktae: 56 trains cancelled as storm ...</td>\n",
              "      <td>Real</td>\n",
              "      <td>9</td>\n",
              "      <td>4</td>\n",
              "      <td>5</td>\n",
              "      <td>0</td>\n",
              "      <td>0</td>\n",
              "      <td>4</td>\n",
              "      <td>44.0</td>\n",
              "    </tr>\n",
              "    <tr>\n",
              "      <th>63</th>\n",
              "      <td>Assam Minister orders probe into death of 18 e...</td>\n",
              "      <td>Real</td>\n",
              "      <td>12</td>\n",
              "      <td>11</td>\n",
              "      <td>1</td>\n",
              "      <td>1</td>\n",
              "      <td>0</td>\n",
              "      <td>10</td>\n",
              "      <td>92.0</td>\n",
              "    </tr>\n",
              "    <tr>\n",
              "      <th>67</th>\n",
              "      <td>Onset of southwest monsoon over Kerala likely ...</td>\n",
              "      <td>Real</td>\n",
              "      <td>22</td>\n",
              "      <td>22</td>\n",
              "      <td>0</td>\n",
              "      <td>0</td>\n",
              "      <td>0</td>\n",
              "      <td>22</td>\n",
              "      <td>100.0</td>\n",
              "    </tr>\n",
              "    <tr>\n",
              "      <th>71</th>\n",
              "      <td>Militant who killed Assam Rifles jawan in 2017...</td>\n",
              "      <td>Real</td>\n",
              "      <td>9</td>\n",
              "      <td>5</td>\n",
              "      <td>4</td>\n",
              "      <td>0</td>\n",
              "      <td>0</td>\n",
              "      <td>5</td>\n",
              "      <td>56.0</td>\n",
              "    </tr>\n",
              "    <tr>\n",
              "      <th>76</th>\n",
              "      <td>King of Bahrain King's Robot Bodyguard</td>\n",
              "      <td>Unreal</td>\n",
              "      <td>4</td>\n",
              "      <td>3</td>\n",
              "      <td>1</td>\n",
              "      <td>0</td>\n",
              "      <td>1</td>\n",
              "      <td>2</td>\n",
              "      <td>75.0</td>\n",
              "    </tr>\n",
              "    <tr>\n",
              "      <th>78</th>\n",
              "      <td>china accepts 30 soldiers have been killed dur...</td>\n",
              "      <td>Unreal</td>\n",
              "      <td>17</td>\n",
              "      <td>15</td>\n",
              "      <td>2</td>\n",
              "      <td>3</td>\n",
              "      <td>1</td>\n",
              "      <td>11</td>\n",
              "      <td>88.0</td>\n",
              "    </tr>\n",
              "    <tr>\n",
              "      <th>79</th>\n",
              "      <td>omar abdullah said If Article 370 goes, India-...</td>\n",
              "      <td>Unreal</td>\n",
              "      <td>6</td>\n",
              "      <td>2</td>\n",
              "      <td>4</td>\n",
              "      <td>0</td>\n",
              "      <td>0</td>\n",
              "      <td>2</td>\n",
              "      <td>33.0</td>\n",
              "    </tr>\n",
              "    <tr>\n",
              "      <th>81</th>\n",
              "      <td>Chinese Intelligence Officer Revealed that Cor...</td>\n",
              "      <td>Unreal</td>\n",
              "      <td>18</td>\n",
              "      <td>8</td>\n",
              "      <td>10</td>\n",
              "      <td>3</td>\n",
              "      <td>3</td>\n",
              "      <td>2</td>\n",
              "      <td>44.0</td>\n",
              "    </tr>\n",
              "    <tr>\n",
              "      <th>91</th>\n",
              "      <td>Statements made in Morgan Stanley Research pra...</td>\n",
              "      <td>Unreal</td>\n",
              "      <td>5</td>\n",
              "      <td>1</td>\n",
              "      <td>4</td>\n",
              "      <td>0</td>\n",
              "      <td>0</td>\n",
              "      <td>1</td>\n",
              "      <td>20.0</td>\n",
              "    </tr>\n",
              "    <tr>\n",
              "      <th>92</th>\n",
              "      <td>National Geographic magazine cover on recent f...</td>\n",
              "      <td>Unreal</td>\n",
              "      <td>11</td>\n",
              "      <td>5</td>\n",
              "      <td>6</td>\n",
              "      <td>2</td>\n",
              "      <td>3</td>\n",
              "      <td>0</td>\n",
              "      <td>45.0</td>\n",
              "    </tr>\n",
              "    <tr>\n",
              "      <th>99</th>\n",
              "      <td>Former Pakistani Diplomat admits to 300 casual...</td>\n",
              "      <td>Unreal</td>\n",
              "      <td>8</td>\n",
              "      <td>7</td>\n",
              "      <td>1</td>\n",
              "      <td>0</td>\n",
              "      <td>0</td>\n",
              "      <td>7</td>\n",
              "      <td>88.0</td>\n",
              "    </tr>\n",
              "    <tr>\n",
              "      <th>100</th>\n",
              "      <td>BJP leaders pleading Rajnath Singh to revoke t...</td>\n",
              "      <td>Unreal</td>\n",
              "      <td>6</td>\n",
              "      <td>5</td>\n",
              "      <td>1</td>\n",
              "      <td>0</td>\n",
              "      <td>1</td>\n",
              "      <td>4</td>\n",
              "      <td>83.0</td>\n",
              "    </tr>\n",
              "    <tr>\n",
              "      <th>101</th>\n",
              "      <td>Newspaper clipping with a report of 40 student...</td>\n",
              "      <td>Unreal</td>\n",
              "      <td>16</td>\n",
              "      <td>6</td>\n",
              "      <td>10</td>\n",
              "      <td>0</td>\n",
              "      <td>0</td>\n",
              "      <td>6</td>\n",
              "      <td>38.0</td>\n",
              "    </tr>\n",
              "    <tr>\n",
              "      <th>104</th>\n",
              "      <td>Supreme Court has approved teachers to put the...</td>\n",
              "      <td>Unreal</td>\n",
              "      <td>6</td>\n",
              "      <td>2</td>\n",
              "      <td>4</td>\n",
              "      <td>0</td>\n",
              "      <td>2</td>\n",
              "      <td>0</td>\n",
              "      <td>33.0</td>\n",
              "    </tr>\n",
              "    <tr>\n",
              "      <th>107</th>\n",
              "      <td>Birds Dying Due To Jioâs 5G Testing</td>\n",
              "      <td>Unreal</td>\n",
              "      <td>10</td>\n",
              "      <td>8</td>\n",
              "      <td>2</td>\n",
              "      <td>1</td>\n",
              "      <td>5</td>\n",
              "      <td>2</td>\n",
              "      <td>80.0</td>\n",
              "    </tr>\n",
              "    <tr>\n",
              "      <th>115</th>\n",
              "      <td>Taj Hotel is sending gift cards for a seven-da...</td>\n",
              "      <td>Unreal</td>\n",
              "      <td>3</td>\n",
              "      <td>3</td>\n",
              "      <td>0</td>\n",
              "      <td>1</td>\n",
              "      <td>2</td>\n",
              "      <td>0</td>\n",
              "      <td>100.0</td>\n",
              "    </tr>\n",
              "    <tr>\n",
              "      <th>121</th>\n",
              "      <td>1300-year-old bicycle sculpture is carved on t...</td>\n",
              "      <td>Unreal</td>\n",
              "      <td>4</td>\n",
              "      <td>3</td>\n",
              "      <td>1</td>\n",
              "      <td>0</td>\n",
              "      <td>1</td>\n",
              "      <td>2</td>\n",
              "      <td>75.0</td>\n",
              "    </tr>\n",
              "    <tr>\n",
              "      <th>126</th>\n",
              "      <td>148 samples from karnataka found infected with...</td>\n",
              "      <td>Real</td>\n",
              "      <td>6</td>\n",
              "      <td>4</td>\n",
              "      <td>2</td>\n",
              "      <td>0</td>\n",
              "      <td>0</td>\n",
              "      <td>4</td>\n",
              "      <td>67.0</td>\n",
              "    </tr>\n",
              "    <tr>\n",
              "      <th>133</th>\n",
              "      <td>Man place bids on women as Indian youtube chan...</td>\n",
              "      <td>Real</td>\n",
              "      <td>6</td>\n",
              "      <td>2</td>\n",
              "      <td>4</td>\n",
              "      <td>0</td>\n",
              "      <td>0</td>\n",
              "      <td>2</td>\n",
              "      <td>33.0</td>\n",
              "    </tr>\n",
              "    <tr>\n",
              "      <th>137</th>\n",
              "      <td>UP couple sell 3 month old baby boy fro 1.5 La...</td>\n",
              "      <td>Real</td>\n",
              "      <td>7</td>\n",
              "      <td>5</td>\n",
              "      <td>2</td>\n",
              "      <td>1</td>\n",
              "      <td>0</td>\n",
              "      <td>4</td>\n",
              "      <td>71.0</td>\n",
              "    </tr>\n",
              "    <tr>\n",
              "      <th>138</th>\n",
              "      <td>73 Million year old talkative dinosaur species...</td>\n",
              "      <td>Real</td>\n",
              "      <td>5</td>\n",
              "      <td>5</td>\n",
              "      <td>0</td>\n",
              "      <td>0</td>\n",
              "      <td>3</td>\n",
              "      <td>2</td>\n",
              "      <td>100.0</td>\n",
              "    </tr>\n",
              "    <tr>\n",
              "      <th>153</th>\n",
              "      <td>Mumbai man orders mouthwash from Amazon, gets ...</td>\n",
              "      <td>Real</td>\n",
              "      <td>9</td>\n",
              "      <td>7</td>\n",
              "      <td>2</td>\n",
              "      <td>3</td>\n",
              "      <td>3</td>\n",
              "      <td>1</td>\n",
              "      <td>78.0</td>\n",
              "    </tr>\n",
              "    <tr>\n",
              "      <th>159</th>\n",
              "      <td>Several leaders phones tapped during Fadnavis...</td>\n",
              "      <td>Real</td>\n",
              "      <td>12</td>\n",
              "      <td>10</td>\n",
              "      <td>2</td>\n",
              "      <td>0</td>\n",
              "      <td>0</td>\n",
              "      <td>10</td>\n",
              "      <td>83.0</td>\n",
              "    </tr>\n",
              "    <tr>\n",
              "      <th>170</th>\n",
              "      <td>China says price hike in anti-Covid medical su...</td>\n",
              "      <td>Real</td>\n",
              "      <td>6</td>\n",
              "      <td>3</td>\n",
              "      <td>3</td>\n",
              "      <td>0</td>\n",
              "      <td>0</td>\n",
              "      <td>3</td>\n",
              "      <td>50.0</td>\n",
              "    </tr>\n",
              "  </tbody>\n",
              "</table>\n",
              "</div>"
            ],
            "text/plain": [
              "                                              headline Type_of_claim  \\\n",
              "4              Communal riots in Delhi claims 42 lives          Real   \n",
              "8    Kerala CM Pinarayi Vijayan alleges largescale ...          Real   \n",
              "20   If 30% Muslims unite in India, 4 Pakistans wil...          Real   \n",
              "34   \"Tim Allen quote Trumps wall costs less than ...        Unreal   \n",
              "35   \"Democrats Vote To Enhance Med Care for Illega...        Unreal   \n",
              "39   \"Trumps grandfather was a pimp and tax evader...        Unreal   \n",
              "40   Bill Gates has created or financed the creatio...        Unreal   \n",
              "45   Kashmiri Muslim woman called terrorist by he...        Unreal   \n",
              "48    Hindus are behind Tiktok videos urging Muslim...        Unreal   \n",
              "51   china accepts 30 soldiers have been killed dur...        Unreal   \n",
              "52   omar abdullah said If Article 370 goes, India-...        Unreal   \n",
              "55   Chinese Intelligence Officer Revealed that Cor...        Unreal   \n",
              "59   Cyclone Tauktae: 56 trains cancelled as storm ...          Real   \n",
              "63   Assam Minister orders probe into death of 18 e...          Real   \n",
              "67   Onset of southwest monsoon over Kerala likely ...          Real   \n",
              "71   Militant who killed Assam Rifles jawan in 2017...          Real   \n",
              "76              King of Bahrain King's Robot Bodyguard        Unreal   \n",
              "78   china accepts 30 soldiers have been killed dur...        Unreal   \n",
              "79   omar abdullah said If Article 370 goes, India-...        Unreal   \n",
              "81   Chinese Intelligence Officer Revealed that Cor...        Unreal   \n",
              "91   Statements made in Morgan Stanley Research pra...        Unreal   \n",
              "92   National Geographic magazine cover on recent f...        Unreal   \n",
              "99   Former Pakistani Diplomat admits to 300 casual...        Unreal   \n",
              "100  BJP leaders pleading Rajnath Singh to revoke t...        Unreal   \n",
              "101  Newspaper clipping with a report of 40 student...        Unreal   \n",
              "104  Supreme Court has approved teachers to put the...        Unreal   \n",
              "107              Birds Dying Due To Jioâs 5G Testing        Unreal   \n",
              "115  Taj Hotel is sending gift cards for a seven-da...        Unreal   \n",
              "121  1300-year-old bicycle sculpture is carved on t...        Unreal   \n",
              "126  148 samples from karnataka found infected with...          Real   \n",
              "133  Man place bids on women as Indian youtube chan...          Real   \n",
              "137  UP couple sell 3 month old baby boy fro 1.5 La...          Real   \n",
              "138  73 Million year old talkative dinosaur species...          Real   \n",
              "153  Mumbai man orders mouthwash from Amazon, gets ...          Real   \n",
              "159  Several leaders phones tapped during Fadnavis...          Real   \n",
              "170  China says price hike in anti-Covid medical su...          Real   \n",
              "\n",
              "     Total_No._of_Articles  Related  Unrelated  Agree  Disagree  Discuss  \\\n",
              "4                       24       17          7      0         0       17   \n",
              "8                        9        8          1      0         0        8   \n",
              "20                      10        6          4      0         2        4   \n",
              "34                       3        2          1      0         1        1   \n",
              "35                       2        1          1      0         0        1   \n",
              "39                       7        5          2      0         3        2   \n",
              "40                       9        8          1      3         4        1   \n",
              "45                       6        6          0      2         0        4   \n",
              "48                       8        2          6      0         2        0   \n",
              "51                      18       14          4      4         1        9   \n",
              "52                       8        4          4      0         0        4   \n",
              "55                      17        8          9      3         3        2   \n",
              "59                       9        4          5      0         0        4   \n",
              "63                      12       11          1      1         0       10   \n",
              "67                      22       22          0      0         0       22   \n",
              "71                       9        5          4      0         0        5   \n",
              "76                       4        3          1      0         1        2   \n",
              "78                      17       15          2      3         1       11   \n",
              "79                       6        2          4      0         0        2   \n",
              "81                      18        8         10      3         3        2   \n",
              "91                       5        1          4      0         0        1   \n",
              "92                      11        5          6      2         3        0   \n",
              "99                       8        7          1      0         0        7   \n",
              "100                      6        5          1      0         1        4   \n",
              "101                     16        6         10      0         0        6   \n",
              "104                      6        2          4      0         2        0   \n",
              "107                     10        8          2      1         5        2   \n",
              "115                      3        3          0      1         2        0   \n",
              "121                      4        3          1      0         1        2   \n",
              "126                      6        4          2      0         0        4   \n",
              "133                      6        2          4      0         0        2   \n",
              "137                      7        5          2      1         0        4   \n",
              "138                      5        5          0      0         3        2   \n",
              "153                      9        7          2      3         3        1   \n",
              "159                     12       10          2      0         0       10   \n",
              "170                      6        3          3      0         0        3   \n",
              "\n",
              "     related%  \n",
              "4        71.0  \n",
              "8        89.0  \n",
              "20       60.0  \n",
              "34       67.0  \n",
              "35       50.0  \n",
              "39       71.0  \n",
              "40       89.0  \n",
              "45      100.0  \n",
              "48       25.0  \n",
              "51       78.0  \n",
              "52       50.0  \n",
              "55       47.0  \n",
              "59       44.0  \n",
              "63       92.0  \n",
              "67      100.0  \n",
              "71       56.0  \n",
              "76       75.0  \n",
              "78       88.0  \n",
              "79       33.0  \n",
              "81       44.0  \n",
              "91       20.0  \n",
              "92       45.0  \n",
              "99       88.0  \n",
              "100      83.0  \n",
              "101      38.0  \n",
              "104      33.0  \n",
              "107      80.0  \n",
              "115     100.0  \n",
              "121      75.0  \n",
              "126      67.0  \n",
              "133      33.0  \n",
              "137      71.0  \n",
              "138     100.0  \n",
              "153      78.0  \n",
              "159      83.0  \n",
              "170      50.0  "
            ]
          },
          "metadata": {
            "tags": []
          },
          "execution_count": 151
        }
      ]
    },
    {
      "cell_type": "code",
      "metadata": {
        "id": "hFVa8EWWzVZt",
        "outputId": "686b9c2e-2f83-4604-843b-48179f4f17af"
      },
      "source": [
        "# if count of agree is less than sum of discuss and disagree, and count of discuss is less than the count of disagree, then we output the claim as Fake news\n",
        "\n",
        "\n",
        "pred = []\n",
        "for i in range(len(df_M2)):\n",
        "    if (df_M2[\"Agree\"].iloc[i] < (df_M2[\"Discuss\"].iloc[i] + df_M2[\"Disagree\"].iloc[i])):\n",
        "        if df_M2[\"Discuss\"].iloc[i] <= df_M2[\"Disagree\"].iloc[i]:\n",
        "            pred.append(\"Unreal\")\n",
        "        else:\n",
        "            pred.append(\"Real\")\n",
        "    else:\n",
        "        pred.append(\"Real\")\n",
        "df_M2[\"pred\"] = pred\n",
        "print(len(pred))\n",
        "\n",
        "        \n",
        "   "
      ],
      "execution_count": null,
      "outputs": [
        {
          "output_type": "stream",
          "text": [
            "127\n"
          ],
          "name": "stdout"
        },
        {
          "output_type": "stream",
          "text": [
            "C:\\ProgramData\\Anaconda3\\lib\\site-packages\\ipykernel_launcher.py:10: SettingWithCopyWarning: \n",
            "A value is trying to be set on a copy of a slice from a DataFrame.\n",
            "Try using .loc[row_indexer,col_indexer] = value instead\n",
            "\n",
            "See the caveats in the documentation: https://pandas.pydata.org/pandas-docs/stable/user_guide/indexing.html#returning-a-view-versus-a-copy\n",
            "  # Remove the CWD from sys.path while we load stuff.\n"
          ],
          "name": "stderr"
        }
      ]
    },
    {
      "cell_type": "code",
      "metadata": {
        "id": "fqCB67dUzVZu",
        "outputId": "55a3abed-a7fa-43f6-d467-bd5719942876"
      },
      "source": [
        "df_M2"
      ],
      "execution_count": null,
      "outputs": [
        {
          "output_type": "execute_result",
          "data": {
            "text/html": [
              "<div>\n",
              "<style scoped>\n",
              "    .dataframe tbody tr th:only-of-type {\n",
              "        vertical-align: middle;\n",
              "    }\n",
              "\n",
              "    .dataframe tbody tr th {\n",
              "        vertical-align: top;\n",
              "    }\n",
              "\n",
              "    .dataframe thead th {\n",
              "        text-align: right;\n",
              "    }\n",
              "</style>\n",
              "<table border=\"1\" class=\"dataframe\">\n",
              "  <thead>\n",
              "    <tr style=\"text-align: right;\">\n",
              "      <th></th>\n",
              "      <th>headline</th>\n",
              "      <th>Type_of_claim</th>\n",
              "      <th>Total_No._of_Articles</th>\n",
              "      <th>Related</th>\n",
              "      <th>Unrelated</th>\n",
              "      <th>Agree</th>\n",
              "      <th>Disagree</th>\n",
              "      <th>Discuss</th>\n",
              "      <th>related%</th>\n",
              "      <th>pred</th>\n",
              "    </tr>\n",
              "  </thead>\n",
              "  <tbody>\n",
              "    <tr>\n",
              "      <th>0</th>\n",
              "      <td>Utah woman delivers baby boy onboard flight to...</td>\n",
              "      <td>Real</td>\n",
              "      <td>7</td>\n",
              "      <td>7</td>\n",
              "      <td>0</td>\n",
              "      <td>7</td>\n",
              "      <td>0</td>\n",
              "      <td>0</td>\n",
              "      <td>100.0</td>\n",
              "      <td>Real</td>\n",
              "    </tr>\n",
              "    <tr>\n",
              "      <th>1</th>\n",
              "      <td>Portugal inaugurates 'world's longest' pedestr...</td>\n",
              "      <td>Real</td>\n",
              "      <td>5</td>\n",
              "      <td>4</td>\n",
              "      <td>1</td>\n",
              "      <td>4</td>\n",
              "      <td>0</td>\n",
              "      <td>0</td>\n",
              "      <td>80.0</td>\n",
              "      <td>Real</td>\n",
              "    </tr>\n",
              "    <tr>\n",
              "      <th>2</th>\n",
              "      <td>Stand-off continues with China on eastern fron...</td>\n",
              "      <td>Real</td>\n",
              "      <td>15</td>\n",
              "      <td>8</td>\n",
              "      <td>7</td>\n",
              "      <td>6</td>\n",
              "      <td>0</td>\n",
              "      <td>2</td>\n",
              "      <td>53.0</td>\n",
              "      <td>Real</td>\n",
              "    </tr>\n",
              "    <tr>\n",
              "      <th>3</th>\n",
              "      <td>PM Narendra Modi lays the foundation stone of ...</td>\n",
              "      <td>Real</td>\n",
              "      <td>27</td>\n",
              "      <td>21</td>\n",
              "      <td>6</td>\n",
              "      <td>19</td>\n",
              "      <td>0</td>\n",
              "      <td>2</td>\n",
              "      <td>78.0</td>\n",
              "      <td>Real</td>\n",
              "    </tr>\n",
              "    <tr>\n",
              "      <th>4</th>\n",
              "      <td>Communal riots in Delhi claims 42 lives</td>\n",
              "      <td>Real</td>\n",
              "      <td>24</td>\n",
              "      <td>17</td>\n",
              "      <td>7</td>\n",
              "      <td>0</td>\n",
              "      <td>0</td>\n",
              "      <td>17</td>\n",
              "      <td>71.0</td>\n",
              "      <td>Real</td>\n",
              "    </tr>\n",
              "    <tr>\n",
              "      <th>...</th>\n",
              "      <td>...</td>\n",
              "      <td>...</td>\n",
              "      <td>...</td>\n",
              "      <td>...</td>\n",
              "      <td>...</td>\n",
              "      <td>...</td>\n",
              "      <td>...</td>\n",
              "      <td>...</td>\n",
              "      <td>...</td>\n",
              "      <td>...</td>\n",
              "    </tr>\n",
              "    <tr>\n",
              "      <th>166</th>\n",
              "      <td>Mamata Banerjee's brother Ashim Bandhopadhay p...</td>\n",
              "      <td>Real</td>\n",
              "      <td>21</td>\n",
              "      <td>15</td>\n",
              "      <td>6</td>\n",
              "      <td>10</td>\n",
              "      <td>0</td>\n",
              "      <td>5</td>\n",
              "      <td>71.0</td>\n",
              "      <td>Real</td>\n",
              "    </tr>\n",
              "    <tr>\n",
              "      <th>167</th>\n",
              "      <td>Centre to ramp up vaccine supply; Health Minis...</td>\n",
              "      <td>Real</td>\n",
              "      <td>23</td>\n",
              "      <td>19</td>\n",
              "      <td>4</td>\n",
              "      <td>17</td>\n",
              "      <td>0</td>\n",
              "      <td>2</td>\n",
              "      <td>83.0</td>\n",
              "      <td>Real</td>\n",
              "    </tr>\n",
              "    <tr>\n",
              "      <th>171</th>\n",
              "      <td>Centre distributing vaccines rationally, Benga...</td>\n",
              "      <td>Real</td>\n",
              "      <td>2</td>\n",
              "      <td>2</td>\n",
              "      <td>0</td>\n",
              "      <td>2</td>\n",
              "      <td>0</td>\n",
              "      <td>0</td>\n",
              "      <td>100.0</td>\n",
              "      <td>Real</td>\n",
              "    </tr>\n",
              "    <tr>\n",
              "      <th>172</th>\n",
              "      <td>One body recovered from Tapovan tunnel in Utta...</td>\n",
              "      <td>Real</td>\n",
              "      <td>11</td>\n",
              "      <td>11</td>\n",
              "      <td>0</td>\n",
              "      <td>11</td>\n",
              "      <td>0</td>\n",
              "      <td>0</td>\n",
              "      <td>100.0</td>\n",
              "      <td>Real</td>\n",
              "    </tr>\n",
              "    <tr>\n",
              "      <th>173</th>\n",
              "      <td>Odisha CM Naveen Patnaik releases Rs 920 crore...</td>\n",
              "      <td>Real</td>\n",
              "      <td>5</td>\n",
              "      <td>3</td>\n",
              "      <td>2</td>\n",
              "      <td>3</td>\n",
              "      <td>0</td>\n",
              "      <td>0</td>\n",
              "      <td>60.0</td>\n",
              "      <td>Real</td>\n",
              "    </tr>\n",
              "  </tbody>\n",
              "</table>\n",
              "<p>127 rows × 10 columns</p>\n",
              "</div>"
            ],
            "text/plain": [
              "                                              headline Type_of_claim  \\\n",
              "0    Utah woman delivers baby boy onboard flight to...          Real   \n",
              "1    Portugal inaugurates 'world's longest' pedestr...          Real   \n",
              "2    Stand-off continues with China on eastern fron...          Real   \n",
              "3    PM Narendra Modi lays the foundation stone of ...          Real   \n",
              "4              Communal riots in Delhi claims 42 lives          Real   \n",
              "..                                                 ...           ...   \n",
              "166  Mamata Banerjee's brother Ashim Bandhopadhay p...          Real   \n",
              "167  Centre to ramp up vaccine supply; Health Minis...          Real   \n",
              "171  Centre distributing vaccines rationally, Benga...          Real   \n",
              "172  One body recovered from Tapovan tunnel in Utta...          Real   \n",
              "173  Odisha CM Naveen Patnaik releases Rs 920 crore...          Real   \n",
              "\n",
              "     Total_No._of_Articles  Related  Unrelated  Agree  Disagree  Discuss  \\\n",
              "0                        7        7          0      7         0        0   \n",
              "1                        5        4          1      4         0        0   \n",
              "2                       15        8          7      6         0        2   \n",
              "3                       27       21          6     19         0        2   \n",
              "4                       24       17          7      0         0       17   \n",
              "..                     ...      ...        ...    ...       ...      ...   \n",
              "166                     21       15          6     10         0        5   \n",
              "167                     23       19          4     17         0        2   \n",
              "171                      2        2          0      2         0        0   \n",
              "172                     11       11          0     11         0        0   \n",
              "173                      5        3          2      3         0        0   \n",
              "\n",
              "     related%  pred  \n",
              "0       100.0  Real  \n",
              "1        80.0  Real  \n",
              "2        53.0  Real  \n",
              "3        78.0  Real  \n",
              "4        71.0  Real  \n",
              "..        ...   ...  \n",
              "166      71.0  Real  \n",
              "167      83.0  Real  \n",
              "171     100.0  Real  \n",
              "172     100.0  Real  \n",
              "173      60.0  Real  \n",
              "\n",
              "[127 rows x 10 columns]"
            ]
          },
          "metadata": {
            "tags": []
          },
          "execution_count": 153
        }
      ]
    },
    {
      "cell_type": "code",
      "metadata": {
        "id": "3aonPtXqzVZv",
        "outputId": "0f4b8df5-da68-4817-e352-4b5e598ccccd"
      },
      "source": [
        "df_M2['Type_of_claim'].value_counts()"
      ],
      "execution_count": null,
      "outputs": [
        {
          "output_type": "execute_result",
          "data": {
            "text/plain": [
              "Real      81\n",
              "Unreal    46\n",
              "Name: Type_of_claim, dtype: int64"
            ]
          },
          "metadata": {
            "tags": []
          },
          "execution_count": 154
        }
      ]
    },
    {
      "cell_type": "code",
      "metadata": {
        "scrolled": true,
        "id": "R_tvppdbzVZv",
        "outputId": "e305df05-b0ce-4f3d-9266-f610fb2eea8c"
      },
      "source": [
        "df_M2['pred'].value_counts()"
      ],
      "execution_count": null,
      "outputs": [
        {
          "output_type": "execute_result",
          "data": {
            "text/plain": [
              "Real      120\n",
              "Unreal      7\n",
              "Name: pred, dtype: int64"
            ]
          },
          "metadata": {
            "tags": []
          },
          "execution_count": 155
        }
      ]
    },
    {
      "cell_type": "code",
      "metadata": {
        "id": "8rg91EzqzVZw"
      },
      "source": [
        "nf = df_M2.copy()"
      ],
      "execution_count": null,
      "outputs": []
    },
    {
      "cell_type": "code",
      "metadata": {
        "id": "e4Gj5Je6zVZx",
        "outputId": "87f4e72c-7523-4bf6-c168-c617ded9846b"
      },
      "source": [
        "pred = []\n",
        "for i in range(len(nf)):\n",
        "    if (nf[\"Agree\"].iloc[i] < (nf[\"Discuss\"].iloc[i] + nf[\"Disagree\"].iloc[i])):\n",
        "        pred.append(\"Unreal\")\n",
        "    elif nf[\"Discuss\"].iloc[i] <= nf[\"Disagree\"].iloc[i]:\n",
        "        pred.append(\"Unreal\")\n",
        "    else:\n",
        "        pred.append(\"Real\")\n",
        "nf[\"pred\"] = pred\n",
        "print(len(pred))\n"
      ],
      "execution_count": null,
      "outputs": [
        {
          "output_type": "stream",
          "text": [
            "127\n"
          ],
          "name": "stdout"
        }
      ]
    },
    {
      "cell_type": "code",
      "metadata": {
        "id": "g0oLKAQuzVZy",
        "outputId": "785bbfdb-0709-447c-99a5-3ca06971a9e5"
      },
      "source": [
        "nf['Type_of_claim'].value_counts()"
      ],
      "execution_count": null,
      "outputs": [
        {
          "output_type": "execute_result",
          "data": {
            "text/plain": [
              "Real      81\n",
              "Unreal    46\n",
              "Name: Type_of_claim, dtype: int64"
            ]
          },
          "metadata": {
            "tags": []
          },
          "execution_count": 158
        }
      ]
    },
    {
      "cell_type": "code",
      "metadata": {
        "id": "RXcQrY8rzVZz",
        "outputId": "a6231b41-31e3-4292-93ee-e7ee68a1ada5"
      },
      "source": [
        "nf['pred'].value_counts()"
      ],
      "execution_count": null,
      "outputs": [
        {
          "output_type": "execute_result",
          "data": {
            "text/plain": [
              "Unreal    82\n",
              "Real      45\n",
              "Name: pred, dtype: int64"
            ]
          },
          "metadata": {
            "tags": []
          },
          "execution_count": 159
        }
      ]
    },
    {
      "cell_type": "code",
      "metadata": {
        "id": "AtQzjDs9zVZ0",
        "outputId": "a154ff87-b69c-48a8-a29e-f0e11fb3035b"
      },
      "source": [
        "nf[\"flag\"] = nf[\"Type_of_claim\"] == nf[\"pred\"]\n",
        "nf.head()"
      ],
      "execution_count": null,
      "outputs": [
        {
          "output_type": "execute_result",
          "data": {
            "text/html": [
              "<div>\n",
              "<style scoped>\n",
              "    .dataframe tbody tr th:only-of-type {\n",
              "        vertical-align: middle;\n",
              "    }\n",
              "\n",
              "    .dataframe tbody tr th {\n",
              "        vertical-align: top;\n",
              "    }\n",
              "\n",
              "    .dataframe thead th {\n",
              "        text-align: right;\n",
              "    }\n",
              "</style>\n",
              "<table border=\"1\" class=\"dataframe\">\n",
              "  <thead>\n",
              "    <tr style=\"text-align: right;\">\n",
              "      <th></th>\n",
              "      <th>headline</th>\n",
              "      <th>Type_of_claim</th>\n",
              "      <th>Total_No._of_Articles</th>\n",
              "      <th>Related</th>\n",
              "      <th>Unrelated</th>\n",
              "      <th>Agree</th>\n",
              "      <th>Disagree</th>\n",
              "      <th>Discuss</th>\n",
              "      <th>related%</th>\n",
              "      <th>pred</th>\n",
              "      <th>flag</th>\n",
              "    </tr>\n",
              "  </thead>\n",
              "  <tbody>\n",
              "    <tr>\n",
              "      <th>0</th>\n",
              "      <td>Utah woman delivers baby boy onboard flight to...</td>\n",
              "      <td>Real</td>\n",
              "      <td>7</td>\n",
              "      <td>7</td>\n",
              "      <td>0</td>\n",
              "      <td>7</td>\n",
              "      <td>0</td>\n",
              "      <td>0</td>\n",
              "      <td>100.0</td>\n",
              "      <td>Unreal</td>\n",
              "      <td>False</td>\n",
              "    </tr>\n",
              "    <tr>\n",
              "      <th>1</th>\n",
              "      <td>Portugal inaugurates 'world's longest' pedestr...</td>\n",
              "      <td>Real</td>\n",
              "      <td>5</td>\n",
              "      <td>4</td>\n",
              "      <td>1</td>\n",
              "      <td>4</td>\n",
              "      <td>0</td>\n",
              "      <td>0</td>\n",
              "      <td>80.0</td>\n",
              "      <td>Unreal</td>\n",
              "      <td>False</td>\n",
              "    </tr>\n",
              "    <tr>\n",
              "      <th>2</th>\n",
              "      <td>Stand-off continues with China on eastern fron...</td>\n",
              "      <td>Real</td>\n",
              "      <td>15</td>\n",
              "      <td>8</td>\n",
              "      <td>7</td>\n",
              "      <td>6</td>\n",
              "      <td>0</td>\n",
              "      <td>2</td>\n",
              "      <td>53.0</td>\n",
              "      <td>Real</td>\n",
              "      <td>True</td>\n",
              "    </tr>\n",
              "    <tr>\n",
              "      <th>3</th>\n",
              "      <td>PM Narendra Modi lays the foundation stone of ...</td>\n",
              "      <td>Real</td>\n",
              "      <td>27</td>\n",
              "      <td>21</td>\n",
              "      <td>6</td>\n",
              "      <td>19</td>\n",
              "      <td>0</td>\n",
              "      <td>2</td>\n",
              "      <td>78.0</td>\n",
              "      <td>Real</td>\n",
              "      <td>True</td>\n",
              "    </tr>\n",
              "    <tr>\n",
              "      <th>4</th>\n",
              "      <td>Communal riots in Delhi claims 42 lives</td>\n",
              "      <td>Real</td>\n",
              "      <td>24</td>\n",
              "      <td>17</td>\n",
              "      <td>7</td>\n",
              "      <td>0</td>\n",
              "      <td>0</td>\n",
              "      <td>17</td>\n",
              "      <td>71.0</td>\n",
              "      <td>Unreal</td>\n",
              "      <td>False</td>\n",
              "    </tr>\n",
              "  </tbody>\n",
              "</table>\n",
              "</div>"
            ],
            "text/plain": [
              "                                            headline Type_of_claim  \\\n",
              "0  Utah woman delivers baby boy onboard flight to...          Real   \n",
              "1  Portugal inaugurates 'world's longest' pedestr...          Real   \n",
              "2  Stand-off continues with China on eastern fron...          Real   \n",
              "3  PM Narendra Modi lays the foundation stone of ...          Real   \n",
              "4            Communal riots in Delhi claims 42 lives          Real   \n",
              "\n",
              "   Total_No._of_Articles  Related  Unrelated  Agree  Disagree  Discuss  \\\n",
              "0                      7        7          0      7         0        0   \n",
              "1                      5        4          1      4         0        0   \n",
              "2                     15        8          7      6         0        2   \n",
              "3                     27       21          6     19         0        2   \n",
              "4                     24       17          7      0         0       17   \n",
              "\n",
              "   related%    pred   flag  \n",
              "0     100.0  Unreal  False  \n",
              "1      80.0  Unreal  False  \n",
              "2      53.0    Real   True  \n",
              "3      78.0    Real   True  \n",
              "4      71.0  Unreal  False  "
            ]
          },
          "metadata": {
            "tags": []
          },
          "execution_count": 160
        }
      ]
    },
    {
      "cell_type": "code",
      "metadata": {
        "id": "zZ3ca4ynzVZ1",
        "outputId": "e1909430-0958-45cd-a623-957c4159b2db"
      },
      "source": [
        "nf[nf[\"Type_of_claim\"] ==\"Unreal\"][\"flag\"].value_counts()"
      ],
      "execution_count": null,
      "outputs": [
        {
          "output_type": "execute_result",
          "data": {
            "text/plain": [
              "True     27\n",
              "False    19\n",
              "Name: flag, dtype: int64"
            ]
          },
          "metadata": {
            "tags": []
          },
          "execution_count": 161
        }
      ]
    },
    {
      "cell_type": "code",
      "metadata": {
        "id": "OKbuH4MFzVZ3",
        "outputId": "2174a396-8081-4250-94b7-552d0aa11fe2"
      },
      "source": [
        "nf[nf[\"Type_of_claim\"] ==\"Real\"][\"flag\"].value_counts()"
      ],
      "execution_count": null,
      "outputs": [
        {
          "output_type": "execute_result",
          "data": {
            "text/plain": [
              "False    55\n",
              "True     26\n",
              "Name: flag, dtype: int64"
            ]
          },
          "metadata": {
            "tags": []
          },
          "execution_count": 162
        }
      ]
    },
    {
      "cell_type": "code",
      "metadata": {
        "id": "ual5iDkQzVZ5",
        "outputId": "f2fe5d01-2647-4ee9-801b-8232a993212b"
      },
      "source": [
        "df_M1_out['pred'] = \"Unreal\""
      ],
      "execution_count": null,
      "outputs": [
        {
          "output_type": "stream",
          "text": [
            "C:\\ProgramData\\Anaconda3\\lib\\site-packages\\ipykernel_launcher.py:1: SettingWithCopyWarning: \n",
            "A value is trying to be set on a copy of a slice from a DataFrame.\n",
            "Try using .loc[row_indexer,col_indexer] = value instead\n",
            "\n",
            "See the caveats in the documentation: https://pandas.pydata.org/pandas-docs/stable/user_guide/indexing.html#returning-a-view-versus-a-copy\n",
            "  \"\"\"Entry point for launching an IPython kernel.\n"
          ],
          "name": "stderr"
        }
      ]
    },
    {
      "cell_type": "code",
      "metadata": {
        "id": "i-K_2H5jzVZ5"
      },
      "source": [
        "ff = pd.concat([df_M1_out, nf])"
      ],
      "execution_count": null,
      "outputs": []
    },
    {
      "cell_type": "code",
      "metadata": {
        "id": "wAi1LaeVzVZ6",
        "outputId": "9a4e416a-f34c-489a-89a5-5a01431210e6"
      },
      "source": [
        "ff.head()"
      ],
      "execution_count": null,
      "outputs": [
        {
          "output_type": "execute_result",
          "data": {
            "text/html": [
              "<div>\n",
              "<style scoped>\n",
              "    .dataframe tbody tr th:only-of-type {\n",
              "        vertical-align: middle;\n",
              "    }\n",
              "\n",
              "    .dataframe tbody tr th {\n",
              "        vertical-align: top;\n",
              "    }\n",
              "\n",
              "    .dataframe thead th {\n",
              "        text-align: right;\n",
              "    }\n",
              "</style>\n",
              "<table border=\"1\" class=\"dataframe\">\n",
              "  <thead>\n",
              "    <tr style=\"text-align: right;\">\n",
              "      <th></th>\n",
              "      <th>headline</th>\n",
              "      <th>Type_of_claim</th>\n",
              "      <th>Total_No._of_Articles</th>\n",
              "      <th>Related</th>\n",
              "      <th>Unrelated</th>\n",
              "      <th>Agree</th>\n",
              "      <th>Disagree</th>\n",
              "      <th>Discuss</th>\n",
              "      <th>related%</th>\n",
              "      <th>pred</th>\n",
              "      <th>flag</th>\n",
              "    </tr>\n",
              "  </thead>\n",
              "  <tbody>\n",
              "    <tr>\n",
              "      <th>14</th>\n",
              "      <td>70 women earned nods, the first Muslim actor n...</td>\n",
              "      <td>Real</td>\n",
              "      <td>5</td>\n",
              "      <td>2</td>\n",
              "      <td>3</td>\n",
              "      <td>2</td>\n",
              "      <td>0</td>\n",
              "      <td>0</td>\n",
              "      <td>40.0</td>\n",
              "      <td>Unreal</td>\n",
              "      <td>NaN</td>\n",
              "    </tr>\n",
              "    <tr>\n",
              "      <th>24</th>\n",
              "      <td>Democracys watchdog: SC refuses to muzzle m...</td>\n",
              "      <td>Real</td>\n",
              "      <td>3</td>\n",
              "      <td>1</td>\n",
              "      <td>2</td>\n",
              "      <td>1</td>\n",
              "      <td>0</td>\n",
              "      <td>0</td>\n",
              "      <td>33.0</td>\n",
              "      <td>Unreal</td>\n",
              "      <td>NaN</td>\n",
              "    </tr>\n",
              "    <tr>\n",
              "      <th>35</th>\n",
              "      <td>\"Democrats Vote To Enhance Med Care for Illega...</td>\n",
              "      <td>Unreal</td>\n",
              "      <td>2</td>\n",
              "      <td>1</td>\n",
              "      <td>1</td>\n",
              "      <td>0</td>\n",
              "      <td>0</td>\n",
              "      <td>1</td>\n",
              "      <td>50.0</td>\n",
              "      <td>Unreal</td>\n",
              "      <td>NaN</td>\n",
              "    </tr>\n",
              "    <tr>\n",
              "      <th>36</th>\n",
              "      <td>\"Ilhan Omar Holding Secret Fundraisers With Is...</td>\n",
              "      <td>Unreal</td>\n",
              "      <td>3</td>\n",
              "      <td>0</td>\n",
              "      <td>3</td>\n",
              "      <td>0</td>\n",
              "      <td>0</td>\n",
              "      <td>0</td>\n",
              "      <td>0.0</td>\n",
              "      <td>Unreal</td>\n",
              "      <td>NaN</td>\n",
              "    </tr>\n",
              "    <tr>\n",
              "      <th>38</th>\n",
              "      <td>\"Nancy Pelosi diverting Social Security money ...</td>\n",
              "      <td>Unreal</td>\n",
              "      <td>5</td>\n",
              "      <td>2</td>\n",
              "      <td>3</td>\n",
              "      <td>1</td>\n",
              "      <td>0</td>\n",
              "      <td>1</td>\n",
              "      <td>40.0</td>\n",
              "      <td>Unreal</td>\n",
              "      <td>NaN</td>\n",
              "    </tr>\n",
              "  </tbody>\n",
              "</table>\n",
              "</div>"
            ],
            "text/plain": [
              "                                             headline Type_of_claim  \\\n",
              "14  70 women earned nods, the first Muslim actor n...          Real   \n",
              "24  Democracys watchdog: SC refuses to muzzle m...          Real   \n",
              "35  \"Democrats Vote To Enhance Med Care for Illega...        Unreal   \n",
              "36  \"Ilhan Omar Holding Secret Fundraisers With Is...        Unreal   \n",
              "38  \"Nancy Pelosi diverting Social Security money ...        Unreal   \n",
              "\n",
              "    Total_No._of_Articles  Related  Unrelated  Agree  Disagree  Discuss  \\\n",
              "14                      5        2          3      2         0        0   \n",
              "24                      3        1          2      1         0        0   \n",
              "35                      2        1          1      0         0        1   \n",
              "36                      3        0          3      0         0        0   \n",
              "38                      5        2          3      1         0        1   \n",
              "\n",
              "    related%    pred flag  \n",
              "14      40.0  Unreal  NaN  \n",
              "24      33.0  Unreal  NaN  \n",
              "35      50.0  Unreal  NaN  \n",
              "36       0.0  Unreal  NaN  \n",
              "38      40.0  Unreal  NaN  "
            ]
          },
          "metadata": {
            "tags": []
          },
          "execution_count": 165
        }
      ]
    },
    {
      "cell_type": "code",
      "metadata": {
        "id": "9uIpJpjmzVZ7",
        "outputId": "7c3da615-7331-4984-f13b-9c71b3461d9b"
      },
      "source": [
        "ff.shape"
      ],
      "execution_count": null,
      "outputs": [
        {
          "output_type": "execute_result",
          "data": {
            "text/plain": [
              "(175, 11)"
            ]
          },
          "metadata": {
            "tags": []
          },
          "execution_count": 166
        }
      ]
    },
    {
      "cell_type": "code",
      "metadata": {
        "id": "7V1cCAmwzVZ8"
      },
      "source": [
        "from sklearn.metrics import accuracy_score\n",
        "from sklearn.model_selection import train_test_split\n",
        "from sklearn.ensemble import RandomForestClassifier\n",
        "from nltk.corpus import stopwords\n",
        "from sklearn.metrics import classification_report, confusion_matrix\n"
      ],
      "execution_count": null,
      "outputs": []
    },
    {
      "cell_type": "code",
      "metadata": {
        "id": "CMhR4MpczVZ-"
      },
      "source": [
        "y = ff[\"Type_of_claim\"]\n",
        "y_pred = ff[\"pred\"]"
      ],
      "execution_count": null,
      "outputs": []
    },
    {
      "cell_type": "code",
      "metadata": {
        "id": "VCTJ1VmczVaH",
        "outputId": "f3292595-d8af-4d23-a76f-2b6e9c547151"
      },
      "source": [
        "print(classification_report(y,y_pred))\n",
        "print(confusion_matrix(y,y_pred))"
      ],
      "execution_count": null,
      "outputs": [
        {
          "output_type": "stream",
          "text": [
            "              precision    recall  f1-score   support\n",
            "\n",
            "        Real       0.58      0.26      0.36       101\n",
            "      Unreal       0.42      0.74      0.54        74\n",
            "\n",
            "    accuracy                           0.46       175\n",
            "   macro avg       0.50      0.50      0.45       175\n",
            "weighted avg       0.51      0.46      0.43       175\n",
            "\n",
            "[[26 75]\n",
            " [19 55]]\n"
          ],
          "name": "stdout"
        }
      ]
    },
    {
      "cell_type": "code",
      "metadata": {
        "colab": {
          "base_uri": "https://localhost:8080/"
        },
        "id": "uR3lYespzVaL",
        "outputId": "c50a914c-7f1d-4901-f89f-3497e46041d4"
      },
      "source": [
        "81/175"
      ],
      "execution_count": null,
      "outputs": [
        {
          "output_type": "execute_result",
          "data": {
            "text/plain": [
              "0.46285714285714286"
            ]
          },
          "metadata": {
            "tags": []
          },
          "execution_count": 2
        }
      ]
    },
    {
      "cell_type": "markdown",
      "metadata": {
        "id": "OBQppby8e-Jy"
      },
      "source": [
        "###**Conclusion :  As a result of thresholding the prediction output, we improved recall value for Fake news to 0.74 by making the model prediction biased towards detecting Fake News more accurately compared to real news**"
      ]
    }
  ]
}