{
 "cells": [
  {
   "cell_type": "markdown",
   "metadata": {
    "id": "2ffH757CDJs5"
   },
   "source": [
    "#**Text Summarization**"
   ]
  },
  {
   "cell_type": "markdown",
   "metadata": {
    "id": "WpQPms0NDRLR"
   },
   "source": [
    "**Applied different text Summarization techniques for Articles summarization, out of these techniques BART summarizer worked well**\n",
    "\n",
    "1. Text Summarization using Gensim with TextRank\n",
    "2. Text Summarization with Sumy_LexRank\n",
    "3. Summarization with BART Transformers"
   ]
  },
  {
   "cell_type": "markdown",
   "metadata": {
    "id": "SPhwYvL-a2j4"
   },
   "source": [
    "## <font color = red> Text Summarization using Gensim with TextRank"
   ]
  },
  {
   "cell_type": "code",
   "execution_count": null,
   "metadata": {
    "id": "42RtLeZ_a2kF"
   },
   "outputs": [],
   "source": [
    "# Importing package and summarizer\n",
    "import gensim\n",
    "from gensim.summarization import summarize"
   ]
  },
  {
   "cell_type": "code",
   "execution_count": null,
   "metadata": {
    "id": "ZDQsmTE3a2kH"
   },
   "outputs": [],
   "source": [
    "# Creating A function\n",
    "\n",
    "def text_rank_summ(text, ratio, count):\n",
    "    summary_by_ratio=summarize(original_text,ratio=ratio)\n",
    "    summary_by_word_count=summarize(original_text,word_count=count)\n",
    "    \n",
    "    return(summary_by_ratio, summary_by_word_count)"
   ]
  },
  {
   "cell_type": "code",
   "execution_count": null,
   "metadata": {
    "id": "zMXNM5cta2kI"
   },
   "outputs": [],
   "source": [
    "original_text = 'Junk foods taste good that’s why it is mostly liked by everyone of any age group especially kids and school going children. They generally ask for the junk food daily because they have been trend so by their parents from the childhood. They never have been discussed by their parents about the harmful effects of junk foods over health. According to the research by scientists, it has been found that junk foods have negative effects on the health in many ways. They are generally fried food found in the market in the packets. They become high in calories, high in cholesterol, low in healthy nutrients, high in sodium mineral, high in sugar, starch, unhealthy fat, lack of protein and lack of dietary fibers. Processed and junk foods are the means of rapid and unhealthy weight gain and negatively impact the whole body throughout the life. It makes able a person to gain excessive weight which is called as obesity. Junk foods tastes good and looks good however do not fulfil the healthy calorie requirement of the body. Some of the foods like french fries, fried foods, pizza, burgers, candy, soft drinks, baked goods, ice cream, cookies, etc are the example of high-sugar and high-fat containing foods. It is found according to the Centres for Disease Control and Prevention that Kids and children eating junk food are more prone to the type-2 diabetes. In type-2 diabetes our body become unable to regulate blood sugar level. Risk of getting this disease is increasing as one become more obese or overweight. It increases the risk of kidney failure. Eating junk food daily lead us to the nutritional deficiencies in the body because it is lack of essential nutrients, vitamins, iron, minerals and dietary fibers. It increases risk of cardiovascular diseases because it is rich in saturated fat, sodium and bad cholesterol. High sodium and bad cholesterol diet increases blood pressure and overloads the heart functioning. One who like junk food develop more risk to put on extra weight and become fatter and unhealthier. Junk foods contain high level carbohydrate which spike blood sugar level and make person more lethargic, sleepy and less active and alert. Reflexes and senses of the people eating this food become dull day by day thus they live more sedentary life. Junk foods are the source of constipation and other disease like diabetes, heart ailments, clogged arteries, heart attack, strokes, etc because of being poor in nutrition. Junk food is the easiest way to gain unhealthy weight. The amount of fats and sugar in the food makes you gain weight rapidly. However, this is not a healthy weight. It is more of fats and cholesterol which will have a harmful impact on your health. Junk food is also one of the main reasons for the increase in obesity nowadays.This food only looks and tastes good, other than that, it has no positive points. The amount of calorie your body requires to stay fit is not fulfilled by this food. For instance, foods like French fries, burgers, candy, and cookies, all have high amounts of sugar and fats. Therefore, this can result in long-term illnesses like diabetes and high blood pressure. This may also result in kidney failure. Above all, you can get various nutritional deficiencies when you don’t consume the essential nutrients, vitamins, minerals and more. You become prone to cardiovascular diseases due to the consumption of bad cholesterol and fat plus sodium. In other words, all this interferes with the functioning of your heart. Furthermore, junk food contains a higher level of carbohydrates. It will instantly spike your blood sugar levels. This will result in lethargy, inactiveness, and sleepiness. A person reflex becomes dull overtime and they lead an inactive life. To make things worse, junk food also clogs your arteries and increases the risk of a heart attack. Therefore, it must be avoided at the first instance to save your life from becoming ruined.The main problem with junk food is that people don’t realize its ill effects now. When the time comes, it is too late. Most importantly, the issue is that it does not impact you instantly. It works on your overtime; you will face the consequences sooner or later. Thus, it is better to stop now.You can avoid junk food by encouraging your children from an early age to eat green vegetables. Their taste buds must be developed as such that they find healthy food tasty. Moreover, try to mix things up. Do not serve the same green vegetable daily in the same style. Incorporate different types of healthy food in their diet following different recipes. This will help them to try foods at home rather than being attracted to junk food.In short, do not deprive them completely of it as that will not help. Children will find one way or the other to have it. Make sure you give them junk food in limited quantities and at healthy periods of time. '"
   ]
  },
  {
   "cell_type": "code",
   "execution_count": null,
   "metadata": {
    "id": "1S7IizQSa2kK",
    "outputId": "b1e05d30-5a6d-40ee-9ce2-540355bd4bd4"
   },
   "outputs": [
    {
     "data": {
      "text/plain": [
       "4870"
      ]
     },
     "execution_count": 4,
     "metadata": {
      "tags": []
     },
     "output_type": "execute_result"
    }
   ],
   "source": [
    "len(original_text)"
   ]
  },
  {
   "cell_type": "code",
   "execution_count": null,
   "metadata": {
    "id": "BJGJRbO5a2kl"
   },
   "outputs": [],
   "source": [
    "s1_ratio, s1_count = text_rank_summ(original_text, 0.10, 20) # text, ratio,count"
   ]
  },
  {
   "cell_type": "code",
   "execution_count": null,
   "metadata": {
    "id": "VT4Hcv8Za2km",
    "outputId": "4626a9aa-4b2f-4125-c9e2-85ef1920173e"
   },
   "outputs": [
    {
     "name": "stdout",
     "output_type": "stream",
     "text": [
      "The Summary on the basis of the Ratio:  They become high in calories, high in cholesterol, low in healthy nutrients, high in sodium mineral, high in sugar, starch, unhealthy fat, lack of protein and lack of dietary fibers.\n",
      "Processed and junk foods are the means of rapid and unhealthy weight gain and negatively impact the whole body throughout the life.\n",
      "Eating junk food daily lead us to the nutritional deficiencies in the body because it is lack of essential nutrients, vitamins, iron, minerals and dietary fibers.\n",
      "It increases risk of cardiovascular diseases because it is rich in saturated fat, sodium and bad cholesterol.\n",
      "High sodium and bad cholesterol diet increases blood pressure and overloads the heart functioning.\n",
      "\n",
      "\n",
      "The Length of the summary:  686\n"
     ]
    }
   ],
   "source": [
    "print(\"The Summary on the basis of the Ratio: \", s1_ratio)\n",
    "print(\"\\n\")\n",
    "print(\"The Length of the summary: \", len(s1_ratio))"
   ]
  },
  {
   "cell_type": "code",
   "execution_count": null,
   "metadata": {
    "id": "ul1hC8LWa2kn",
    "outputId": "2e4d8aa3-11a9-4b50-9d78-06efbd09f029"
   },
   "outputs": [
    {
     "name": "stdout",
     "output_type": "stream",
     "text": [
      "The Summary on the basis of the count:  They become high in calories, high in cholesterol, low in healthy nutrients, high in sodium mineral, high in sugar, starch, unhealthy fat, lack of protein and lack of dietary fibers.\n",
      "\n",
      "\n",
      "The Length of the summary:  182\n"
     ]
    }
   ],
   "source": [
    "print(\"The Summary on the basis of the count: \", s1_count)\n",
    "print(\"\\n\")\n",
    "print(\"The Length of the summary: \", len(s1_count))"
   ]
  },
  {
   "cell_type": "markdown",
   "metadata": {
    "id": "teQSKAd9a2k2"
   },
   "source": [
    "___"
   ]
  },
  {
   "cell_type": "markdown",
   "metadata": {
    "id": "1ovlq1Yoa2k3"
   },
   "source": [
    "## <font color = red> Text Summarization with Sumy_LexRank"
   ]
  },
  {
   "cell_type": "code",
   "execution_count": null,
   "metadata": {
    "id": "vwZDCyP7a2k4",
    "outputId": "1cd0283c-98c9-4500-c266-1f4fea33b5f8"
   },
   "outputs": [
    {
     "name": "stdout",
     "output_type": "stream",
     "text": [
      "Collecting sumy\n",
      "  Using cached sumy-0.8.1-py2.py3-none-any.whl (83 kB)\n",
      "Requirement already satisfied: docopt<0.7,>=0.6.1 in c:\\programdata\\anaconda3\\lib\\site-packages (from sumy) (0.6.2)\n",
      "Requirement already satisfied: pycountry>=18.2.23 in c:\\programdata\\anaconda3\\lib\\site-packages (from sumy) (20.7.3)\n",
      "Requirement already satisfied: nltk>=3.0.2 in c:\\programdata\\anaconda3\\lib\\site-packages (from sumy) (3.5)\n",
      "Requirement already satisfied: breadability>=0.1.20 in c:\\programdata\\anaconda3\\lib\\site-packages (from sumy) (0.1.20)\n",
      "Requirement already satisfied: requests>=2.7.0 in c:\\programdata\\anaconda3\\lib\\site-packages (from sumy) (2.24.0)\n",
      "Requirement already satisfied: chardet in c:\\programdata\\anaconda3\\lib\\site-packages (from breadability>=0.1.20->sumy) (3.0.4)\n",
      "Requirement already satisfied: lxml>=2.0 in c:\\programdata\\anaconda3\\lib\\site-packages (from breadability>=0.1.20->sumy) (4.6.1)\n",
      "Requirement already satisfied: tqdm in c:\\programdata\\anaconda3\\lib\\site-packages (from nltk>=3.0.2->sumy) (4.51.0)\n",
      "Requirement already satisfied: regex in c:\\programdata\\anaconda3\\lib\\site-packages (from nltk>=3.0.2->sumy) (2020.10.15)\n",
      "Requirement already satisfied: joblib in c:\\programdata\\anaconda3\\lib\\site-packages (from nltk>=3.0.2->sumy) (0.17.0)\n",
      "Requirement already satisfied: click in c:\\programdata\\anaconda3\\lib\\site-packages (from nltk>=3.0.2->sumy) (7.1.2)\n",
      "Requirement already satisfied: idna<3,>=2.5 in c:\\programdata\\anaconda3\\lib\\site-packages (from requests>=2.7.0->sumy) (2.10)\n",
      "Requirement already satisfied: certifi>=2017.4.17 in c:\\programdata\\anaconda3\\lib\\site-packages (from requests>=2.7.0->sumy) (2020.6.20)\n",
      "Requirement already satisfied: urllib3!=1.25.0,!=1.25.1,<1.26,>=1.21.1 in c:\\programdata\\anaconda3\\lib\\site-packages (from requests>=2.7.0->sumy) (1.25.11)\n",
      "Installing collected packages: sumy\n"
     ]
    },
    {
     "name": "stderr",
     "output_type": "stream",
     "text": [
      "ERROR: Could not install packages due to an OSError: [WinError 5] Access is denied: 'c:\\\\programdata\\\\anaconda3\\\\Lib\\\\site-packages\\\\tests\\\\__init__.py'\n",
      "Consider using the `--user` option or check the permissions.\n",
      "\n",
      "WARNING: You are using pip version 21.0.1; however, version 21.1 is available.\n",
      "You should consider upgrading via the 'c:\\programdata\\anaconda3\\python.exe -m pip install --upgrade pip' command.\n"
     ]
    }
   ],
   "source": [
    "# Installing and Importing sumy\n",
    "!pip install sumy\n"
   ]
  },
  {
   "cell_type": "code",
   "execution_count": null,
   "metadata": {
    "id": "5LFH1D7Pa2le"
   },
   "outputs": [],
   "source": [
    "import sumy"
   ]
  },
  {
   "cell_type": "code",
   "execution_count": null,
   "metadata": {
    "id": "3F6hwumia2lj"
   },
   "outputs": [],
   "source": [
    "# Importing the parser and tokenizer\n",
    "from sumy.parsers.plaintext import PlaintextParser\n",
    "from sumy.nlp.tokenizers import Tokenizer"
   ]
  },
  {
   "cell_type": "code",
   "execution_count": null,
   "metadata": {
    "id": "or-_1pwua2lk"
   },
   "outputs": [],
   "source": [
    "# Import the LexRank summarizer\n",
    "from sumy.summarizers.lex_rank import LexRankSummarizer\n",
    "lex_rank_summarizer = LexRankSummarizer()"
   ]
  },
  {
   "cell_type": "code",
   "execution_count": null,
   "metadata": {
    "id": "n45xzI18a2lm"
   },
   "outputs": [],
   "source": [
    "def lex_rank_summ(original_text, sent_count=5):\n",
    "    \n",
    "    # Initializing the parser\n",
    "    my_parser = PlaintextParser.from_string(original_text,Tokenizer('english'))\n",
    "    \n",
    "    # For text file\n",
    "    \n",
    "    # Creating a summary of sentences.\n",
    "    lex_rank_summarizer = LexRankSummarizer()\n",
    "    lexrank_summary = lex_rank_summarizer(my_parser.document,sentences_count=sent_count)\n",
    "    \n",
    "    summ_list = []\n",
    "    for sent in lexrank_summary:\n",
    "        summ_list.append(str(sent))\n",
    "    \n",
    "\n",
    "    return(\"\".join(summ_list))"
   ]
  },
  {
   "cell_type": "code",
   "execution_count": null,
   "metadata": {
    "id": "0-WMz85Ma2lo"
   },
   "outputs": [],
   "source": [
    "lx_summ = lex_rank_summ(original_text,3) # articles, sentence count - summarizes the whole article in specified count"
   ]
  },
  {
   "cell_type": "code",
   "execution_count": null,
   "metadata": {
    "id": "-qC-0fGMa2mU",
    "outputId": "d5cb9453-a3a8-4225-8627-bb1e416cd75b"
   },
   "outputs": [
    {
     "data": {
      "text/plain": [
       "'It is found according to the Centres for Disease Control and Prevention that Kids and children eating junk food are more prone to the type-2 diabetes.It is more of fats and cholesterol which will have a harmful impact on your health.Children will find one way or the other to have it.'"
      ]
     },
     "execution_count": 14,
     "metadata": {
      "tags": []
     },
     "output_type": "execute_result"
    }
   ],
   "source": [
    "lx_summ"
   ]
  },
  {
   "cell_type": "code",
   "execution_count": null,
   "metadata": {
    "id": "u1fKq75xa2mW",
    "outputId": "da99f360-8012-4ae6-95a8-f30cf4bd4cb5"
   },
   "outputs": [
    {
     "data": {
      "text/plain": [
       "str"
      ]
     },
     "execution_count": 15,
     "metadata": {
      "tags": []
     },
     "output_type": "execute_result"
    }
   ],
   "source": [
    "type(lx_summ)"
   ]
  },
  {
   "cell_type": "code",
   "execution_count": null,
   "metadata": {
    "id": "mp0cGHG8a2nO",
    "outputId": "78f2c96d-c33e-42e0-d0e9-51b790f72f20"
   },
   "outputs": [
    {
     "data": {
      "text/plain": [
       "[(0, 'I'),\n",
       " (1, 't'),\n",
       " (2, ' '),\n",
       " (3, 'i'),\n",
       " (4, 's'),\n",
       " (5, ' '),\n",
       " (6, 'f'),\n",
       " (7, 'o'),\n",
       " (8, 'u'),\n",
       " (9, 'n'),\n",
       " (10, 'd'),\n",
       " (11, ' '),\n",
       " (12, 'a'),\n",
       " (13, 'c'),\n",
       " (14, 'c'),\n",
       " (15, 'o'),\n",
       " (16, 'r'),\n",
       " (17, 'd'),\n",
       " (18, 'i'),\n",
       " (19, 'n'),\n",
       " (20, 'g'),\n",
       " (21, ' '),\n",
       " (22, 't'),\n",
       " (23, 'o'),\n",
       " (24, ' '),\n",
       " (25, 't'),\n",
       " (26, 'h'),\n",
       " (27, 'e'),\n",
       " (28, ' '),\n",
       " (29, 'C'),\n",
       " (30, 'e'),\n",
       " (31, 'n'),\n",
       " (32, 't'),\n",
       " (33, 'r'),\n",
       " (34, 'e'),\n",
       " (35, 's'),\n",
       " (36, ' '),\n",
       " (37, 'f'),\n",
       " (38, 'o'),\n",
       " (39, 'r'),\n",
       " (40, ' '),\n",
       " (41, 'D'),\n",
       " (42, 'i'),\n",
       " (43, 's'),\n",
       " (44, 'e'),\n",
       " (45, 'a'),\n",
       " (46, 's'),\n",
       " (47, 'e'),\n",
       " (48, ' '),\n",
       " (49, 'C'),\n",
       " (50, 'o'),\n",
       " (51, 'n'),\n",
       " (52, 't'),\n",
       " (53, 'r'),\n",
       " (54, 'o'),\n",
       " (55, 'l'),\n",
       " (56, ' '),\n",
       " (57, 'a'),\n",
       " (58, 'n'),\n",
       " (59, 'd'),\n",
       " (60, ' '),\n",
       " (61, 'P'),\n",
       " (62, 'r'),\n",
       " (63, 'e'),\n",
       " (64, 'v'),\n",
       " (65, 'e'),\n",
       " (66, 'n'),\n",
       " (67, 't'),\n",
       " (68, 'i'),\n",
       " (69, 'o'),\n",
       " (70, 'n'),\n",
       " (71, ' '),\n",
       " (72, 't'),\n",
       " (73, 'h'),\n",
       " (74, 'a'),\n",
       " (75, 't'),\n",
       " (76, ' '),\n",
       " (77, 'K'),\n",
       " (78, 'i'),\n",
       " (79, 'd'),\n",
       " (80, 's'),\n",
       " (81, ' '),\n",
       " (82, 'a'),\n",
       " (83, 'n'),\n",
       " (84, 'd'),\n",
       " (85, ' '),\n",
       " (86, 'c'),\n",
       " (87, 'h'),\n",
       " (88, 'i'),\n",
       " (89, 'l'),\n",
       " (90, 'd'),\n",
       " (91, 'r'),\n",
       " (92, 'e'),\n",
       " (93, 'n'),\n",
       " (94, ' '),\n",
       " (95, 'e'),\n",
       " (96, 'a'),\n",
       " (97, 't'),\n",
       " (98, 'i'),\n",
       " (99, 'n'),\n",
       " (100, 'g'),\n",
       " (101, ' '),\n",
       " (102, 'j'),\n",
       " (103, 'u'),\n",
       " (104, 'n'),\n",
       " (105, 'k'),\n",
       " (106, ' '),\n",
       " (107, 'f'),\n",
       " (108, 'o'),\n",
       " (109, 'o'),\n",
       " (110, 'd'),\n",
       " (111, ' '),\n",
       " (112, 'a'),\n",
       " (113, 'r'),\n",
       " (114, 'e'),\n",
       " (115, ' '),\n",
       " (116, 'm'),\n",
       " (117, 'o'),\n",
       " (118, 'r'),\n",
       " (119, 'e'),\n",
       " (120, ' '),\n",
       " (121, 'p'),\n",
       " (122, 'r'),\n",
       " (123, 'o'),\n",
       " (124, 'n'),\n",
       " (125, 'e'),\n",
       " (126, ' '),\n",
       " (127, 't'),\n",
       " (128, 'o'),\n",
       " (129, ' '),\n",
       " (130, 't'),\n",
       " (131, 'h'),\n",
       " (132, 'e'),\n",
       " (133, ' '),\n",
       " (134, 't'),\n",
       " (135, 'y'),\n",
       " (136, 'p'),\n",
       " (137, 'e'),\n",
       " (138, '-'),\n",
       " (139, '2'),\n",
       " (140, ' '),\n",
       " (141, 'd'),\n",
       " (142, 'i'),\n",
       " (143, 'a'),\n",
       " (144, 'b'),\n",
       " (145, 'e'),\n",
       " (146, 't'),\n",
       " (147, 'e'),\n",
       " (148, 's'),\n",
       " (149, '.'),\n",
       " (150, 'I'),\n",
       " (151, 't'),\n",
       " (152, ' '),\n",
       " (153, 'i'),\n",
       " (154, 's'),\n",
       " (155, ' '),\n",
       " (156, 'm'),\n",
       " (157, 'o'),\n",
       " (158, 'r'),\n",
       " (159, 'e'),\n",
       " (160, ' '),\n",
       " (161, 'o'),\n",
       " (162, 'f'),\n",
       " (163, ' '),\n",
       " (164, 'f'),\n",
       " (165, 'a'),\n",
       " (166, 't'),\n",
       " (167, 's'),\n",
       " (168, ' '),\n",
       " (169, 'a'),\n",
       " (170, 'n'),\n",
       " (171, 'd'),\n",
       " (172, ' '),\n",
       " (173, 'c'),\n",
       " (174, 'h'),\n",
       " (175, 'o'),\n",
       " (176, 'l'),\n",
       " (177, 'e'),\n",
       " (178, 's'),\n",
       " (179, 't'),\n",
       " (180, 'e'),\n",
       " (181, 'r'),\n",
       " (182, 'o'),\n",
       " (183, 'l'),\n",
       " (184, ' '),\n",
       " (185, 'w'),\n",
       " (186, 'h'),\n",
       " (187, 'i'),\n",
       " (188, 'c'),\n",
       " (189, 'h'),\n",
       " (190, ' '),\n",
       " (191, 'w'),\n",
       " (192, 'i'),\n",
       " (193, 'l'),\n",
       " (194, 'l'),\n",
       " (195, ' '),\n",
       " (196, 'h'),\n",
       " (197, 'a'),\n",
       " (198, 'v'),\n",
       " (199, 'e'),\n",
       " (200, ' '),\n",
       " (201, 'a'),\n",
       " (202, ' '),\n",
       " (203, 'h'),\n",
       " (204, 'a'),\n",
       " (205, 'r'),\n",
       " (206, 'm'),\n",
       " (207, 'f'),\n",
       " (208, 'u'),\n",
       " (209, 'l'),\n",
       " (210, ' '),\n",
       " (211, 'i'),\n",
       " (212, 'm'),\n",
       " (213, 'p'),\n",
       " (214, 'a'),\n",
       " (215, 'c'),\n",
       " (216, 't'),\n",
       " (217, ' '),\n",
       " (218, 'o'),\n",
       " (219, 'n'),\n",
       " (220, ' '),\n",
       " (221, 'y'),\n",
       " (222, 'o'),\n",
       " (223, 'u'),\n",
       " (224, 'r'),\n",
       " (225, ' '),\n",
       " (226, 'h'),\n",
       " (227, 'e'),\n",
       " (228, 'a'),\n",
       " (229, 'l'),\n",
       " (230, 't'),\n",
       " (231, 'h'),\n",
       " (232, '.'),\n",
       " (233, 'C'),\n",
       " (234, 'h'),\n",
       " (235, 'i'),\n",
       " (236, 'l'),\n",
       " (237, 'd'),\n",
       " (238, 'r'),\n",
       " (239, 'e'),\n",
       " (240, 'n'),\n",
       " (241, ' '),\n",
       " (242, 'w'),\n",
       " (243, 'i'),\n",
       " (244, 'l'),\n",
       " (245, 'l'),\n",
       " (246, ' '),\n",
       " (247, 'f'),\n",
       " (248, 'i'),\n",
       " (249, 'n'),\n",
       " (250, 'd'),\n",
       " (251, ' '),\n",
       " (252, 'o'),\n",
       " (253, 'n'),\n",
       " (254, 'e'),\n",
       " (255, ' '),\n",
       " (256, 'w'),\n",
       " (257, 'a'),\n",
       " (258, 'y'),\n",
       " (259, ' '),\n",
       " (260, 'o'),\n",
       " (261, 'r'),\n",
       " (262, ' '),\n",
       " (263, 't'),\n",
       " (264, 'h'),\n",
       " (265, 'e'),\n",
       " (266, ' '),\n",
       " (267, 'o'),\n",
       " (268, 't'),\n",
       " (269, 'h'),\n",
       " (270, 'e'),\n",
       " (271, 'r'),\n",
       " (272, ' '),\n",
       " (273, 't'),\n",
       " (274, 'o'),\n",
       " (275, ' '),\n",
       " (276, 'h'),\n",
       " (277, 'a'),\n",
       " (278, 'v'),\n",
       " (279, 'e'),\n",
       " (280, ' '),\n",
       " (281, 'i'),\n",
       " (282, 't'),\n",
       " (283, '.')]"
      ]
     },
     "execution_count": 16,
     "metadata": {
      "tags": []
     },
     "output_type": "execute_result"
    }
   ],
   "source": [
    "list(enumerate(lx_summ))"
   ]
  },
  {
   "cell_type": "code",
   "execution_count": null,
   "metadata": {
    "id": "2rBIq-UKa2nt",
    "outputId": "5139a1b2-77d9-482a-f339-096237d4fc34"
   },
   "outputs": [
    {
     "data": {
      "text/plain": [
       "'It is found according to the Centres for Disease Control and Prevention that Kids and children eating junk food are more prone to the type-2 diabetes.It is more of fats and cholesterol which will have a harmful impact on your health.Children will find one way or the other to have it.'"
      ]
     },
     "execution_count": 17,
     "metadata": {
      "tags": []
     },
     "output_type": "execute_result"
    }
   ],
   "source": [
    "l1 = []\n",
    "for sent in lx_summ:\n",
    "    l1.append(str(sent))\n",
    "\"\".join(l1)\n"
   ]
  },
  {
   "cell_type": "code",
   "execution_count": null,
   "metadata": {
    "id": "ze9mK-efa2oN",
    "outputId": "6ffdfc8f-8f84-4b00-b0f1-8c30c79228d8"
   },
   "outputs": [
    {
     "data": {
      "text/plain": [
       "'Junk foods tastes good and looks good however do not fulfil the healthy calorie requirement of the body.It is found according to the Centres for Disease Control and Prevention that Kids and children eating junk food are more prone to the type-2 diabetes.However, this is not a healthy weight.It is more of fats and cholesterol which will have a harmful impact on your health.To make things worse, junk food also clogs your arteries and increases the risk of a heart attack.Children will find one way or the other to have it.'"
      ]
     },
     "execution_count": 18,
     "metadata": {
      "tags": []
     },
     "output_type": "execute_result"
    }
   ],
   "source": [
    "lx_summ1 = lex_rank_summ(original_text,6)\n",
    "lx_summ1\n"
   ]
  },
  {
   "cell_type": "markdown",
   "metadata": {
    "id": "k5-AiIGLa2oO"
   },
   "source": [
    "___"
   ]
  },
  {
   "cell_type": "markdown",
   "metadata": {
    "id": "npHdr_gVa2oS"
   },
   "source": [
    "## <font color = red> Summarization with BART Transformers"
   ]
  },
  {
   "cell_type": "code",
   "execution_count": null,
   "metadata": {
    "id": "YboVw_VKa2oS"
   },
   "outputs": [],
   "source": [
    "# Importing the model\n",
    "from transformers import BartForConditionalGeneration, BartTokenizer, BartConfig"
   ]
  },
  {
   "cell_type": "code",
   "execution_count": null,
   "metadata": {
    "id": "xazyyIxRa2oT"
   },
   "outputs": [],
   "source": [
    "# Loading the model and tokenizer for bart-large-cnn\n",
    "\n",
    "tokenizer=BartTokenizer.from_pretrained('facebook/bart-large-cnn')\n",
    "model=BartForConditionalGeneration.from_pretrained('facebook/bart-large-cnn')"
   ]
  },
  {
   "cell_type": "code",
   "execution_count": null,
   "metadata": {
    "id": "s-HaIg0Xa2oU"
   },
   "outputs": [],
   "source": [
    "# Encoding the inputs and passing them to model.generate()\n",
    "inputs = tokenizer.batch_encode_plus([original_text],return_tensors='pt')\n",
    "summary_ids = model.generate(inputs['input_ids'], early_stopping=True)"
   ]
  },
  {
   "cell_type": "code",
   "execution_count": null,
   "metadata": {
    "id": "FWg47oiwa2oU",
    "outputId": "c2588239-1b59-4b93-cd4c-3e385569e122"
   },
   "outputs": [
    {
     "name": "stdout",
     "output_type": "stream",
     "text": [
      "Junk foods taste good that’s why it is mostly liked by everyone of any age group especially kids and school going children. They generally ask for the junk food daily because they have been trend so by their parents from the childhood. According to the research by scientists, it has been found that junk foods have negative effects on the health.\n"
     ]
    }
   ],
   "source": [
    "# Decoding and printing the summary\n",
    "bart_summary = tokenizer.decode(summary_ids[0], skip_special_tokens=True)\n",
    "print(bart_summary)\n"
   ]
  },
  {
   "cell_type": "code",
   "execution_count": null,
   "metadata": {
    "id": "1nhGUomwa2yp",
    "outputId": "382f6826-b94d-4c92-cd66-2085c0b54c38"
   },
   "outputs": [
    {
     "data": {
      "text/plain": [
       "347"
      ]
     },
     "execution_count": 23,
     "metadata": {
      "tags": []
     },
     "output_type": "execute_result"
    }
   ],
   "source": [
    "len(bart_summary)"
   ]
  },
  {
   "cell_type": "code",
   "execution_count": null,
   "metadata": {
    "id": "2GF48wA9a2yr"
   },
   "outputs": [],
   "source": [
    "def bart_summ(original_text):\n",
    "    \n",
    "    # Encoding the inputs and passing them to model.generate()\n",
    "    inputs = tokenizer.batch_encode_plus([original_text],return_tensors='pt', truncation=True)\n",
    "    summary_ids = model.generate(inputs['input_ids'], early_stopping=True)\n",
    "    \n",
    "    # Decoding and printing the summary\n",
    "    bart_summary = tokenizer.decode(summary_ids[0], skip_special_tokens=True)\n",
    "    \n",
    "    return bart_summary\n"
   ]
  },
  {
   "cell_type": "code",
   "execution_count": null,
   "metadata": {
    "id": "YGtRzV8da2yt"
   },
   "outputs": [],
   "source": [
    "bart_sumry = bart_summ(original_text)"
   ]
  },
  {
   "cell_type": "code",
   "execution_count": null,
   "metadata": {
    "id": "xPxE-KuGa2yy",
    "outputId": "1fb0d74f-7694-4d16-e695-a757cf77326c"
   },
   "outputs": [
    {
     "name": "stdout",
     "output_type": "stream",
     "text": [
      "Junk foods taste good that’s why it is mostly liked by everyone of any age group especially kids and school going children. They generally ask for the junk food daily because they have been trend so by their parents from the childhood. According to the research by scientists, it has been found that junk foods have negative effects on the health.\n",
      "347\n"
     ]
    }
   ],
   "source": [
    "print(bart_sumry)\n",
    "print(len(bart_sumry))"
   ]
  },
  {
   "cell_type": "markdown",
   "metadata": {
    "id": "g0QQ0IWka2y0"
   },
   "source": [
    " ___"
   ]
  },
  {
   "cell_type": "markdown",
   "metadata": {
    "id": "BVS3ArZka2zS"
   },
   "source": [
    "### <font color = red> Applying the BART on Scrap Data"
   ]
  },
  {
   "cell_type": "code",
   "execution_count": null,
   "metadata": {
    "id": "5F-iAWFka2zT"
   },
   "outputs": [],
   "source": [
    "# Importing the Data Set\n",
    "\n",
    "import pandas as pd\n",
    "\n",
    "scrap_data = pd.read_csv(\"final_test_data_predicted_labele.csv\")"
   ]
  },
  {
   "cell_type": "code",
   "execution_count": null,
   "metadata": {
    "id": "tMgFOjRma21Z",
    "outputId": "da298772-e88b-4399-df93-f0a3a3fbb470"
   },
   "outputs": [
    {
     "data": {
      "text/html": [
       "<div>\n",
       "<style scoped>\n",
       "    .dataframe tbody tr th:only-of-type {\n",
       "        vertical-align: middle;\n",
       "    }\n",
       "\n",
       "    .dataframe tbody tr th {\n",
       "        vertical-align: top;\n",
       "    }\n",
       "\n",
       "    .dataframe thead th {\n",
       "        text-align: right;\n",
       "    }\n",
       "</style>\n",
       "<table border=\"1\" class=\"dataframe\">\n",
       "  <thead>\n",
       "    <tr style=\"text-align: right;\">\n",
       "      <th></th>\n",
       "      <th>Unnamed: 0</th>\n",
       "      <th>Unnamed: 0.1</th>\n",
       "      <th>Unnamed: 0.1.1</th>\n",
       "      <th>title</th>\n",
       "      <th>text</th>\n",
       "      <th>summary</th>\n",
       "      <th>keywords</th>\n",
       "      <th>headline</th>\n",
       "      <th>domain</th>\n",
       "      <th>Unnamed: 0.1.1.1</th>\n",
       "      <th>predicted_stance_base</th>\n",
       "    </tr>\n",
       "  </thead>\n",
       "  <tbody>\n",
       "    <tr>\n",
       "      <th>0</th>\n",
       "      <td>0</td>\n",
       "      <td>0</td>\n",
       "      <td>0</td>\n",
       "      <td>Fact Check: Viral photo of cyclist on temple w...</td>\n",
       "      <td>Some Facebook users are claiming that this car...</td>\n",
       "      <td>India Today Anti Fake News War Room (AFWA) has...</td>\n",
       "      <td>['wall', 'tamil', 'cycle', 'carving', 'viral',...</td>\n",
       "      <td>Bicycle sculpture from an Indonesian temple sh...</td>\n",
       "      <td>www.indiatoday.in</td>\n",
       "      <td>NaN</td>\n",
       "      <td>related</td>\n",
       "    </tr>\n",
       "    <tr>\n",
       "      <th>1</th>\n",
       "      <td>1</td>\n",
       "      <td>1</td>\n",
       "      <td>1</td>\n",
       "      <td>A Bicycle Was Carved on An Old Temple Wall, Bu...</td>\n",
       "      <td>Photos and videos of an ancient temple carving...</td>\n",
       "      <td>Photos and videos of an ancient temple carving...</td>\n",
       "      <td>['wall', 'vehicle', 'videos', 'carving', 'ago'...</td>\n",
       "      <td>Bicycle sculpture from an Indonesian temple sh...</td>\n",
       "      <td>www.thequint.com</td>\n",
       "      <td>NaN</td>\n",
       "      <td>related</td>\n",
       "    </tr>\n",
       "  </tbody>\n",
       "</table>\n",
       "</div>"
      ],
      "text/plain": [
       "   Unnamed: 0  Unnamed: 0.1  Unnamed: 0.1.1  \\\n",
       "0           0             0               0   \n",
       "1           1             1               1   \n",
       "\n",
       "                                               title  \\\n",
       "0  Fact Check: Viral photo of cyclist on temple w...   \n",
       "1  A Bicycle Was Carved on An Old Temple Wall, Bu...   \n",
       "\n",
       "                                                text  \\\n",
       "0  Some Facebook users are claiming that this car...   \n",
       "1  Photos and videos of an ancient temple carving...   \n",
       "\n",
       "                                             summary  \\\n",
       "0  India Today Anti Fake News War Room (AFWA) has...   \n",
       "1  Photos and videos of an ancient temple carving...   \n",
       "\n",
       "                                            keywords  \\\n",
       "0  ['wall', 'tamil', 'cycle', 'carving', 'viral',...   \n",
       "1  ['wall', 'vehicle', 'videos', 'carving', 'ago'...   \n",
       "\n",
       "                                            headline             domain  \\\n",
       "0  Bicycle sculpture from an Indonesian temple sh...  www.indiatoday.in   \n",
       "1  Bicycle sculpture from an Indonesian temple sh...   www.thequint.com   \n",
       "\n",
       "   Unnamed: 0.1.1.1 predicted_stance_base  \n",
       "0               NaN               related  \n",
       "1               NaN               related  "
      ]
     },
     "execution_count": 30,
     "metadata": {
      "tags": []
     },
     "output_type": "execute_result"
    }
   ],
   "source": [
    "scrap_data.head(2)"
   ]
  },
  {
   "cell_type": "code",
   "execution_count": null,
   "metadata": {
    "id": "298vbvB5a21b",
    "outputId": "ea0949a3-6ee7-44b7-accf-b19eeccb750f"
   },
   "outputs": [
    {
     "data": {
      "text/plain": [
       "3465"
      ]
     },
     "execution_count": 32,
     "metadata": {
      "tags": []
     },
     "output_type": "execute_result"
    }
   ],
   "source": [
    "len(scrap_data[\"text\"].iloc[0])"
   ]
  },
  {
   "cell_type": "code",
   "execution_count": null,
   "metadata": {
    "id": "PkLZZKSHa21c",
    "outputId": "cd337556-6571-4866-81f5-194d8728239a"
   },
   "outputs": [
    {
     "data": {
      "text/plain": [
       "'Some Facebook users are claiming that this carving is from Panchavarnaswamy temple in Tamil Nadu.\\n\\nA wall carving of a man riding a bicycle is being shared on social media with the claim that it was in use in India centuries ago. Some Facebook users are claiming that the 2,000-year-old carving is from Panchavarnaswamy temple in Tamil Nadu.\\n\\nFacebook page \\'Hindutva se badhkar koi dharm nahi, gau gita ganga aur gayatri\\' shared the image along with a caption in Hindi which translates to, \"This is Panchavarnaswamy temple in Tamil Nadu. This wall craving is 2,000 years old. Scientists believe so. But someone else is credited with inventing the cycle. Who did the crime of overlooking India\\'s glorious past and making it a country of snake charmers and beggars?\"\\n\\nThe archived version of the post can be seen here.\\n\\nIndia Today Anti Fake News War Room (AFWA) has found that the viral photo is not from the said Tamil Nadu temple. In fact, it is not from India, but a temple in Indonesia. Also, it has been well documented that the bicycle was invented in Germany in 1817.\\n\\nThe photograph in the viral post shows a beautiful carving on a wall and it appears that a man is cycling in the midst of flowers and plants. The man is wearing a cap and a flower on his ear. Many Facebook users have shared the photo along with similar claims.\\n\\nAFWA probe\\n\\nWe first did a reverse search on the viral image and found that it is from the Pura Meduwe Karang temple in Bali island of Indonesia. The same photo can be seen on the website of tripsavvy and Bali LOCAL GUIDE.\\n\\nWho is portrayed in the wall carving?\\n\\nWe searched the Internet and found that multiple websites such as lonely planet say the caricature on the Pura Meduwe Karang temple wall is of a Dutch artist who had roamed Bali on his cycle in 1904.\\n\\nA different cyclist on TN temple wall\\n\\nThe huge Panchavarnaswamy temple near Tiruchirappalli in Tamil Nadu is dedicated to Lord Shiva. While searching the Internet with keywords such as \\'Panchavarnaswamy temple\\' and \\'cycle\\', we came across some news reports such as one from The Hindu, which says there is a carving on the temple wall of a man cycling.\\n\\nHowever, the report specifically says that the researcher found the caricature of the cyclist must have been added in the 1920s when the renovation of the temple was undertaken.\\n\\nSMHoaxSlayer has already debunked the viral claim that the image of a cyclist in Panchavarnaswamy temple is 2,000 years old.\\n\\nWhen was cycle invented?\\n\\nThere are many websites on the Internet such as Bicycle History and History.com which state that the cycle was first invented by a German named Baron Karl von Drais in 1817. Without pedals and chain, the rider had to run to gather speed and then raise the legs to continue cruising until the momentum was lost.\\n\\nTherefore, we can say that the wall carving depicting a cyclist is not from India, but a temple in Indonesia\\'s Bali. The claim that it is a 2,000-year-old carving on Tamil Nadu\\'s Panchavarnaswamy temple is false. Also, the cycle was invented in 1817 in Germany.\\n\\nINDIA TODAY FACT CHECK\\n\\n\\n\\n\\n\\nClaim Panchavarnaswamy temple in Tamil Nadu has a 2,000-year-old caricature of a cyclist on its wall. Conclusion The viral photo is not of Panchavarnaswamy temple in Tamil Nadu, but Pura Meduwe Karang temple in Indonesia\\'s Bali. JHOOTH BOLE KAUVA KAATE The number of crows determines the intensity of the lie. 1 Crow: Half True\\n\\n2 Crows: Mostly lies\\n\\n3 Crows: Absolutely false'"
      ]
     },
     "execution_count": 38,
     "metadata": {
      "tags": []
     },
     "output_type": "execute_result"
    }
   ],
   "source": [
    "scrap_data[\"text\"].iloc[0]"
   ]
  },
  {
   "cell_type": "code",
   "execution_count": null,
   "metadata": {
    "id": "hdFy_pvHa26y",
    "outputId": "f47ea7aa-3bd7-4872-a8a4-2887753b8755"
   },
   "outputs": [
    {
     "data": {
      "text/html": [
       "<div>\n",
       "<style scoped>\n",
       "    .dataframe tbody tr th:only-of-type {\n",
       "        vertical-align: middle;\n",
       "    }\n",
       "\n",
       "    .dataframe tbody tr th {\n",
       "        vertical-align: top;\n",
       "    }\n",
       "\n",
       "    .dataframe thead th {\n",
       "        text-align: right;\n",
       "    }\n",
       "</style>\n",
       "<table border=\"1\" class=\"dataframe\">\n",
       "  <thead>\n",
       "    <tr style=\"text-align: right;\">\n",
       "      <th></th>\n",
       "      <th>title</th>\n",
       "      <th>text</th>\n",
       "      <th>summary</th>\n",
       "      <th>headline</th>\n",
       "    </tr>\n",
       "  </thead>\n",
       "  <tbody>\n",
       "    <tr>\n",
       "      <th>0</th>\n",
       "      <td>Fact Check: Viral photo of cyclist on temple w...</td>\n",
       "      <td>Some Facebook users are claiming that this car...</td>\n",
       "      <td>India Today Anti Fake News War Room (AFWA) has...</td>\n",
       "      <td>Bicycle sculpture from an Indonesian temple sh...</td>\n",
       "    </tr>\n",
       "    <tr>\n",
       "      <th>1</th>\n",
       "      <td>A Bicycle Was Carved on An Old Temple Wall, Bu...</td>\n",
       "      <td>Photos and videos of an ancient temple carving...</td>\n",
       "      <td>Photos and videos of an ancient temple carving...</td>\n",
       "      <td>Bicycle sculpture from an Indonesian temple sh...</td>\n",
       "    </tr>\n",
       "    <tr>\n",
       "      <th>2</th>\n",
       "      <td>Covid-19 vaccine updates: We are no way inferi...</td>\n",
       "      <td>Why is nobody questioning UK, asks Bharat Biot...</td>\n",
       "      <td>Why is nobody questioning UK, asks Bharat Biot...</td>\n",
       "      <td>‘123 countries’ mentioned in the post is about...</td>\n",
       "    </tr>\n",
       "  </tbody>\n",
       "</table>\n",
       "</div>"
      ],
      "text/plain": [
       "                                               title  \\\n",
       "0  Fact Check: Viral photo of cyclist on temple w...   \n",
       "1  A Bicycle Was Carved on An Old Temple Wall, Bu...   \n",
       "2  Covid-19 vaccine updates: We are no way inferi...   \n",
       "\n",
       "                                                text  \\\n",
       "0  Some Facebook users are claiming that this car...   \n",
       "1  Photos and videos of an ancient temple carving...   \n",
       "2  Why is nobody questioning UK, asks Bharat Biot...   \n",
       "\n",
       "                                             summary  \\\n",
       "0  India Today Anti Fake News War Room (AFWA) has...   \n",
       "1  Photos and videos of an ancient temple carving...   \n",
       "2  Why is nobody questioning UK, asks Bharat Biot...   \n",
       "\n",
       "                                            headline  \n",
       "0  Bicycle sculpture from an Indonesian temple sh...  \n",
       "1  Bicycle sculpture from an Indonesian temple sh...  \n",
       "2  ‘123 countries’ mentioned in the post is about...  "
      ]
     },
     "execution_count": 36,
     "metadata": {
      "tags": []
     },
     "output_type": "execute_result"
    }
   ],
   "source": [
    "scrap_summ = scrap_data[[\"title\",\"text\",\"summary\",\"headline\"]]\n",
    "scrap_summ.head(3)"
   ]
  },
  {
   "cell_type": "code",
   "execution_count": null,
   "metadata": {
    "id": "r7Eotyjva27a",
    "outputId": "7c52b828-7af6-4906-face-e0bd00e0879f"
   },
   "outputs": [
    {
     "name": "stdout",
     "output_type": "stream",
     "text": [
      "Some Facebook users are claiming that this carving is from Panchavarnaswamy temple in Tamil Nadu. India Today Anti Fake News War Room has found that the viral photo is not from the said Tamil Nadu temple. Also, it has been well documented that the bicycle was invented in Germany in 1817.\n",
      "288\n"
     ]
    }
   ],
   "source": [
    "# Applying the BART Model to single element\n",
    "\n",
    "bart_sumry = bart_summ(scrap_summ[\"text\"].iloc[0])\n",
    "\n",
    "print(bart_sumry)\n",
    "print(len(bart_sumry))"
   ]
  },
  {
   "cell_type": "code",
   "execution_count": null,
   "metadata": {
    "id": "rXiNgSRDa27b",
    "outputId": "962acbe9-f3c0-4ca0-f972-6711fada7ce8"
   },
   "outputs": [
    {
     "name": "stdout",
     "output_type": "stream",
     "text": [
      "Headline: \n",
      "\n",
      "\n",
      "New York Times Editor-in-Chief praising Narendra Modi\n",
      "53\n",
      "\n",
      "\n",
      "----------------------------------------------------------------------------------------------------\n",
      "Text: \n",
      "On Saturday, The New York Times published a thinly-veiled back-handed jibe which appeared to praise PM Modi – an Indian leader they’ve barely had any love for – but in truth has the air of a best man delivering the toast for his friend who has married his childhood crush.\n",
      "\n",
      "There’s bittersweet admission about Modi’s handling of the coronavirus crisis and then wondering when the public sentiment will turn against the PM.\n",
      "\n",
      "The piece notes, even though one must point out that opinion polls in India are notoriously inaccurate: “Recent opinion polls show that in the past few months Mr. Modi’s already high approval ratings have soared even higher, touching 80, even 90 percent. Unlike two of the populist leaders to whom he is often compared, President Trump and President Vladimir V. Putin of Russia, Mr. Modi seems to be thriving in this crisis.”\n",
      "\n",
      "The piece add that if India ‘rides out the coronavirus in decent form’, PM Modi ‘might emerge even stronger’. It also makes the usual foreign publication mistake of attributing the 2019 re-election to Balakot and the entire piece doesn’t have a single word on the economic and social policies of NDA (2014-19) which played a major role including Swacch Bharat, rural electrification, Jan Dhan Yojana et al.\n",
      "\n",
      "It goes on to note, with the usual shock that ‘despite lingering concerns about his agenda’, Modi’s popularity had soared amid the pandemic.\n",
      "\n",
      "The piece further notes: “Mr. Modi’s success, analysts say, may be more durable. He’s widely seen as a mobilizer, not a despot, which may explain why his nationwide stay-at-home lockdown, which he dropped on the country with four hours’ notice, has been largely obeyed. Even the softer, feel-good exercises he has insisted on, like asking Indians to stand in their doorways and clap at a certain time, or to light candles at another, have been followed by millions.”\n",
      "\n",
      "And ends with the eternal hope of Modi’s political demise as it quotes political science Sumantra Bose of London School of Economics – reminding one of Sir Humphrey’s jibes at the particular school because hacker studied there – that if the economy can’t ‘pull itself out of a nose dive, the messiah maybe hoist with his own petard’.\n",
      "\n",
      "Check some Twitter reactions below:\n",
      "2239\n",
      "\n",
      "\n",
      "----------------------------------------------------------------------------------------------------\n",
      "Summary: \n",
      "There’s bittersweet admission about Modi’s handling of the coronavirus crisis and then wondering when the public sentiment will turn against the PM.\n",
      "Unlike two of the populist leaders to whom he is often compared, President Trump and President Vladimir V. Putin of Russia, Mr. Modi seems to be thriving in this crisis.”The piece add that if India ‘rides out the coronavirus in decent form’, PM Modi ‘might emerge even stronger’.\n",
      "It goes on to note, with the usual shock that ‘despite lingering concerns about his agenda’, Modi’s popularity had soared amid the pandemic.\n",
      "The piece further notes: “Mr.\n",
      "Modi’s success, analysts say, may be more durable.\n",
      "650\n",
      "\n",
      "\n",
      "----------------------------------------------------------------------------------------------------\n",
      "BART Summary: \n",
      "The New York Times published a thinly-veiled back-handed jibe which appeared to praise PM Modi – an Indian leader they’ve barely had any love for. The piece notes that in the past few months Mr. Modi’s approval ratings have soared even higher, touching 80, even 90 percent.\n",
      "273\n",
      "\n",
      "\n",
      "----------------------------------------------------------------------------------------------------\n",
      "BART Summary2: \n",
      "Unlike two of the populist leaders to whom he is often compared, President Trump and President Vladimir V. Putin of Russia, Mr. Modi seems to be thriving in this crisis. If India ‘rides out the coronavirus in decent form’, PM Modi ‘might emerge even stronger’\n",
      "259\n",
      "\n",
      "\n",
      "----------------------------------------------------------------------------------------------------\n",
      "LexRank Summary: \n",
      "On Saturday, The New York Times published a thinly-veiled back-handed jibe which appeared to praise PM Modi – an Indian leader they’ve barely had any love for – but in truth has the air of a best man delivering the toast for his friend who has married his childhood crush.There’s bittersweet admission about Modi’s handling of the coronavirus crisis and then wondering when the public sentiment will turn against the PM.The piece notes, even though one must point out that opinion polls in India are notoriously inaccurate: “Recent opinion polls show that in the past few months Mr. Modi’s already high approval ratings have soared even higher, touching 80, even 90 percent.Unlike two of the populist leaders to whom he is often compared, President Trump and President Vladimir V. Putin of Russia, Mr. Modi seems to be thriving in this crisis.”The piece add that if India ‘rides out the coronavirus in decent form’, PM Modi ‘might emerge even stronger’.\n",
      "953\n"
     ]
    }
   ],
   "source": [
    "loca = 11\n",
    "\n",
    "print(\"Headline: \")\n",
    "print(\"\\n\")\n",
    "print(scrap_summ[\"headline\"].iloc[loca])\n",
    "print(len(scrap_summ[\"headline\"].iloc[loca]))\n",
    "print(\"\\n\")\n",
    "print(\"-\"*100)\n",
    "\n",
    "print(\"Text: \")\n",
    "print(scrap_summ[\"text\"].iloc[loca])\n",
    "print(len(scrap_summ[\"text\"].iloc[loca]))\n",
    "print(\"\\n\")\n",
    "print(\"-\"*100)\n",
    "\n",
    "print(\"Summary: \")\n",
    "print(scrap_summ[\"summary\"].iloc[loca])\n",
    "print(len(scrap_summ[\"summary\"].iloc[loca]))\n",
    "print(\"\\n\")\n",
    "print(\"-\"*100)\n",
    "\n",
    "\n",
    "\n",
    "\n",
    "print(\"BART Summary: \")\n",
    "bart_sumry = bart_summ(scrap_summ[\"text\"].iloc[loca])\n",
    "print(bart_sumry)\n",
    "print(len(bart_sumry))\n",
    "print(\"\\n\")\n",
    "print(\"-\"*100)\n",
    "\n",
    "\n",
    "print(\"BART Summary2: \")\n",
    "bart_sumry = bart_summ(scrap_summ[\"summary\"].iloc[loca])\n",
    "print(bart_sumry)\n",
    "print(len(bart_sumry))\n",
    "print(\"\\n\")\n",
    "print(\"-\"*100)\n",
    "\n",
    "\n",
    "print(\"LexRank Summary: \")\n",
    "lx_summ = lex_rank_summ(scrap_summ[\"text\"].iloc[loca])\n",
    "print(lx_summ)\n",
    "print(len(lx_summ))\n"
   ]
  },
  {
   "cell_type": "markdown",
   "metadata": {
    "id": "CrbrRgORa29r"
   },
   "source": [
    "___"
   ]
  },
  {
   "cell_type": "code",
   "execution_count": null,
   "metadata": {
    "id": "8WA2yhWFa2-N",
    "outputId": "cee97882-5786-4599-a6e2-ebd7b8735297",
    "scrolled": false
   },
   "outputs": [
    {
     "data": {
      "text/html": [
       "<div>\n",
       "<style scoped>\n",
       "    .dataframe tbody tr th:only-of-type {\n",
       "        vertical-align: middle;\n",
       "    }\n",
       "\n",
       "    .dataframe tbody tr th {\n",
       "        vertical-align: top;\n",
       "    }\n",
       "\n",
       "    .dataframe thead th {\n",
       "        text-align: right;\n",
       "    }\n",
       "</style>\n",
       "<table border=\"1\" class=\"dataframe\">\n",
       "  <thead>\n",
       "    <tr style=\"text-align: right;\">\n",
       "      <th></th>\n",
       "      <th>Unnamed: 0</th>\n",
       "      <th>Unnamed: 0.1</th>\n",
       "      <th>Unnamed: 0.1.1</th>\n",
       "      <th>title</th>\n",
       "      <th>text</th>\n",
       "      <th>summary</th>\n",
       "      <th>keywords</th>\n",
       "      <th>headline</th>\n",
       "      <th>domain</th>\n",
       "      <th>Unnamed: 0.1.1.1</th>\n",
       "      <th>predicted_stance_base</th>\n",
       "    </tr>\n",
       "  </thead>\n",
       "  <tbody>\n",
       "    <tr>\n",
       "      <th>0</th>\n",
       "      <td>0</td>\n",
       "      <td>0</td>\n",
       "      <td>0</td>\n",
       "      <td>Fact Check: Viral photo of cyclist on temple w...</td>\n",
       "      <td>Some Facebook users are claiming that this car...</td>\n",
       "      <td>India Today Anti Fake News War Room (AFWA) has...</td>\n",
       "      <td>['wall', 'tamil', 'cycle', 'carving', 'viral',...</td>\n",
       "      <td>Bicycle sculpture from an Indonesian temple sh...</td>\n",
       "      <td>www.indiatoday.in</td>\n",
       "      <td>NaN</td>\n",
       "      <td>related</td>\n",
       "    </tr>\n",
       "    <tr>\n",
       "      <th>1</th>\n",
       "      <td>1</td>\n",
       "      <td>1</td>\n",
       "      <td>1</td>\n",
       "      <td>A Bicycle Was Carved on An Old Temple Wall, Bu...</td>\n",
       "      <td>Photos and videos of an ancient temple carving...</td>\n",
       "      <td>Photos and videos of an ancient temple carving...</td>\n",
       "      <td>['wall', 'vehicle', 'videos', 'carving', 'ago'...</td>\n",
       "      <td>Bicycle sculpture from an Indonesian temple sh...</td>\n",
       "      <td>www.thequint.com</td>\n",
       "      <td>NaN</td>\n",
       "      <td>related</td>\n",
       "    </tr>\n",
       "    <tr>\n",
       "      <th>2</th>\n",
       "      <td>2</td>\n",
       "      <td>2</td>\n",
       "      <td>0</td>\n",
       "      <td>Covid-19 vaccine updates: We are no way inferi...</td>\n",
       "      <td>Why is nobody questioning UK, asks Bharat Biot...</td>\n",
       "      <td>Why is nobody questioning UK, asks Bharat Biot...</td>\n",
       "      <td>['deserve', 'hurts', 'scientist', 'systematica...</td>\n",
       "      <td>‘123 countries’ mentioned in the post is about...</td>\n",
       "      <td>www.indiatoday.in</td>\n",
       "      <td>NaN</td>\n",
       "      <td>unrelated</td>\n",
       "    </tr>\n",
       "    <tr>\n",
       "      <th>3</th>\n",
       "      <td>3</td>\n",
       "      <td>3</td>\n",
       "      <td>1</td>\n",
       "      <td>Coronavirus India Highlights: 3.6 Lakh Cases, ...</td>\n",
       "      <td>COVID-19 Cases: Several countries have promise...</td>\n",
       "      <td>COVID-19 Cases: Several countries have promise...</td>\n",
       "      <td>['36', '28', '2021', 'hospital', 'lakh', 'medi...</td>\n",
       "      <td>‘123 countries’ mentioned in the post is about...</td>\n",
       "      <td>www.ndtv.com</td>\n",
       "      <td>NaN</td>\n",
       "      <td>related</td>\n",
       "    </tr>\n",
       "    <tr>\n",
       "      <th>4</th>\n",
       "      <td>4</td>\n",
       "      <td>4</td>\n",
       "      <td>2</td>\n",
       "      <td>‘Give me one week’s time’: Bharat Biotech chie...</td>\n",
       "      <td>Amid concerns over the relatively less amount ...</td>\n",
       "      <td>“We are not just conducting clinical trials in...</td>\n",
       "      <td>['vaccine', 'covaxin', 'bharat', 'questions', ...</td>\n",
       "      <td>‘123 countries’ mentioned in the post is about...</td>\n",
       "      <td>www.hindustantimes.com</td>\n",
       "      <td>NaN</td>\n",
       "      <td>unrelated</td>\n",
       "    </tr>\n",
       "    <tr>\n",
       "      <th>5</th>\n",
       "      <td>5</td>\n",
       "      <td>5</td>\n",
       "      <td>3</td>\n",
       "      <td>Coronavirus news highlights: Karnataka reports...</td>\n",
       "      <td>India on Thursday reported another record rise...</td>\n",
       "      <td>India on Thursday reported another record rise...</td>\n",
       "      <td>['rise', 'record', 'prime', 'highlights', 'rep...</td>\n",
       "      <td>‘123 countries’ mentioned in the post is about...</td>\n",
       "      <td>www.deccanherald.com</td>\n",
       "      <td>NaN</td>\n",
       "      <td>unrelated</td>\n",
       "    </tr>\n",
       "    <tr>\n",
       "      <th>6</th>\n",
       "      <td>6</td>\n",
       "      <td>6</td>\n",
       "      <td>4</td>\n",
       "      <td>COVID Vaccine Diplomacy! India to become world...</td>\n",
       "      <td>India is all set to deploy its capacities in t...</td>\n",
       "      <td>And, the envoy of Ecuador became the first env...</td>\n",
       "      <td>['vaccine', 'covid', 'minister', 'worlds', 'co...</td>\n",
       "      <td>‘123 countries’ mentioned in the post is about...</td>\n",
       "      <td>www.financialexpress.com</td>\n",
       "      <td>NaN</td>\n",
       "      <td>related</td>\n",
       "    </tr>\n",
       "    <tr>\n",
       "      <th>7</th>\n",
       "      <td>7</td>\n",
       "      <td>7</td>\n",
       "      <td>5</td>\n",
       "      <td>NaN</td>\n",
       "      <td>NaN</td>\n",
       "      <td>NaN</td>\n",
       "      <td>[]</td>\n",
       "      <td>‘123 countries’ mentioned in the post is about...</td>\n",
       "      <td>www.dailypioneer.com</td>\n",
       "      <td>NaN</td>\n",
       "      <td>unrelated</td>\n",
       "    </tr>\n",
       "    <tr>\n",
       "      <th>8</th>\n",
       "      <td>8</td>\n",
       "      <td>8</td>\n",
       "      <td>0</td>\n",
       "      <td>Fact Check: This article praising PM Modi was ...</td>\n",
       "      <td>An article eulogising Prime Minister Narendra ...</td>\n",
       "      <td>Many Twitter and Facebook users have shared th...</td>\n",
       "      <td>['joseph', 'hope', 'published', 'viral', 'modi...</td>\n",
       "      <td>New York Times Editor-in-Chief praising Narend...</td>\n",
       "      <td>www.indiatoday.in</td>\n",
       "      <td>NaN</td>\n",
       "      <td>related</td>\n",
       "    </tr>\n",
       "    <tr>\n",
       "      <th>9</th>\n",
       "      <td>9</td>\n",
       "      <td>9</td>\n",
       "      <td>1</td>\n",
       "      <td>Fact Check: Spurious Text Hailing PM Modi Attr...</td>\n",
       "      <td>A viral piece of text praising Prime Minister ...</td>\n",
       "      <td>A viral piece of text praising Prime Minister ...</td>\n",
       "      <td>['nyt', 'hailing', 'hope', 'viral', 'website',...</td>\n",
       "      <td>New York Times Editor-in-Chief praising Narend...</td>\n",
       "      <td>www.thequint.com</td>\n",
       "      <td>NaN</td>\n",
       "      <td>related</td>\n",
       "    </tr>\n",
       "    <tr>\n",
       "      <th>10</th>\n",
       "      <td>10</td>\n",
       "      <td>10</td>\n",
       "      <td>2</td>\n",
       "      <td>Fact Check: Truth behind Fake News on Times of...</td>\n",
       "      <td>DAILY CHECK-INS: 0 /5 completed\\n\\nYou must lo...</td>\n",
       "      <td>DAILY CHECK-INS: 0 /5 completedYou must login ...</td>\n",
       "      <td>['login', 'earning', 'times', 'check', 'daily'...</td>\n",
       "      <td>New York Times Editor-in-Chief praising Narend...</td>\n",
       "      <td>timesofindia.indiatimes.com</td>\n",
       "      <td>NaN</td>\n",
       "      <td>unrelated</td>\n",
       "    </tr>\n",
       "    <tr>\n",
       "      <th>11</th>\n",
       "      <td>11</td>\n",
       "      <td>11</td>\n",
       "      <td>3</td>\n",
       "      <td>'Unlike Trump and Putin, Modi thriving in cris...</td>\n",
       "      <td>On Saturday, The New York Times published a th...</td>\n",
       "      <td>There’s bittersweet admission about Modi’s han...</td>\n",
       "      <td>['polls', 'political', 'usual', 'nyt', 'putin'...</td>\n",
       "      <td>New York Times Editor-in-Chief praising Narend...</td>\n",
       "      <td>www.freepressjournal.in</td>\n",
       "      <td>NaN</td>\n",
       "      <td>related</td>\n",
       "    </tr>\n",
       "    <tr>\n",
       "      <th>12</th>\n",
       "      <td>12</td>\n",
       "      <td>12</td>\n",
       "      <td>4</td>\n",
       "      <td>PM Modi terrific, ‘will not be forgotten’: US ...</td>\n",
       "      <td>Amid the medical fraternity racing against tim...</td>\n",
       "      <td>I want to thank Prime Minister Modi of India f...</td>\n",
       "      <td>['indian', 'minister', 'drug', 'covid19', 'for...</td>\n",
       "      <td>New York Times Editor-in-Chief praising Narend...</td>\n",
       "      <td>www.thehindubusinessline.com</td>\n",
       "      <td>NaN</td>\n",
       "      <td>related</td>\n",
       "    </tr>\n",
       "    <tr>\n",
       "      <th>13</th>\n",
       "      <td>13</td>\n",
       "      <td>13</td>\n",
       "      <td>5</td>\n",
       "      <td>Opinion| PM Modi’s remarks on Indian media are...</td>\n",
       "      <td>Prime Minister Narendra Modi routinely complai...</td>\n",
       "      <td>Today, with most of them chattering away on so...</td>\n",
       "      <td>['indian', 'say', 'remarks', 'unfair', 'views'...</td>\n",
       "      <td>New York Times Editor-in-Chief praising Narend...</td>\n",
       "      <td>www.hindustantimes.com</td>\n",
       "      <td>NaN</td>\n",
       "      <td>unrelated</td>\n",
       "    </tr>\n",
       "    <tr>\n",
       "      <th>14</th>\n",
       "      <td>14</td>\n",
       "      <td>14</td>\n",
       "      <td>6</td>\n",
       "      <td>Coronavirus: Modi announces Rs 20 lakh crore e...</td>\n",
       "      <td>NaN</td>\n",
       "      <td>NaN</td>\n",
       "      <td>['announces', 'package', 'modi', 'crore', 'rs'...</td>\n",
       "      <td>New York Times Editor-in-Chief praising Narend...</td>\n",
       "      <td>scroll.in</td>\n",
       "      <td>NaN</td>\n",
       "      <td>unrelated</td>\n",
       "    </tr>\n",
       "    <tr>\n",
       "      <th>15</th>\n",
       "      <td>15</td>\n",
       "      <td>15</td>\n",
       "      <td>0</td>\n",
       "      <td>No, Indian Oil Corporation Has Not Been Sold t...</td>\n",
       "      <td>A photograph showing an Indian Oil-Adani Gas f...</td>\n",
       "      <td>A photograph showing an Indian Oil-Adani Gas f...</td>\n",
       "      <td>['indian', 'gas', 'group', 'adani', 'oiladani'...</td>\n",
       "      <td>‘Indian Oil – Adani Gas Private Limited (IOAGP...</td>\n",
       "      <td>www.thequint.com</td>\n",
       "      <td>NaN</td>\n",
       "      <td>related</td>\n",
       "    </tr>\n",
       "    <tr>\n",
       "      <th>16</th>\n",
       "      <td>16</td>\n",
       "      <td>16</td>\n",
       "      <td>1</td>\n",
       "      <td>Indian Oil-Adani Gas JV to pump in Rs 9,600 cr...</td>\n",
       "      <td>By Express News Service\\n\\nNEW DELHI: State-ru...</td>\n",
       "      <td>By Express News ServiceNEW DELHI: State-run In...</td>\n",
       "      <td>['bank', 'oiladani', 'cgd', 'ioagpl', 'retaili...</td>\n",
       "      <td>‘Indian Oil – Adani Gas Private Limited (IOAGP...</td>\n",
       "      <td>www.newindianexpress.com</td>\n",
       "      <td>NaN</td>\n",
       "      <td>related</td>\n",
       "    </tr>\n",
       "    <tr>\n",
       "      <th>17</th>\n",
       "      <td>17</td>\n",
       "      <td>17</td>\n",
       "      <td>2</td>\n",
       "      <td>IndianOil, Adani venture draws plan for ?9,600...</td>\n",
       "      <td>IndianOil-Adani Gas Pvt Ltd (IOAGPL) will requ...</td>\n",
       "      <td>IndianOil-Adani Gas Pvt Ltd (IOAGPL) will requ...</td>\n",
       "      <td>['gas', 'capital', 'plan', 'draws', 'geographi...</td>\n",
       "      <td>‘Indian Oil – Adani Gas Private Limited (IOAGP...</td>\n",
       "      <td>www.thehindubusinessline.com</td>\n",
       "      <td>NaN</td>\n",
       "      <td>related</td>\n",
       "    </tr>\n",
       "    <tr>\n",
       "      <th>18</th>\n",
       "      <td>18</td>\n",
       "      <td>18</td>\n",
       "      <td>3</td>\n",
       "      <td>IOC net drops 47% in Q1 as refinery margins slump</td>\n",
       "      <td>State-owned Indian Oil Corp (IOC) on Wednesday...</td>\n",
       "      <td>State-owned Indian Oil Corp (IOC) on Wednesday...</td>\n",
       "      <td>['margins', 'ioc', 'gas', 'natural', 'drops', ...</td>\n",
       "      <td>‘Indian Oil – Adani Gas Private Limited (IOAGP...</td>\n",
       "      <td>www.dnaindia.com</td>\n",
       "      <td>NaN</td>\n",
       "      <td>related</td>\n",
       "    </tr>\n",
       "    <tr>\n",
       "      <th>19</th>\n",
       "      <td>19</td>\n",
       "      <td>19</td>\n",
       "      <td>0</td>\n",
       "      <td>FAKE ALERT: Muslim woman, youngsters did not t...</td>\n",
       "      <td>CLAIM\\n\\nSample these -\\n\\nWatch the video her...</td>\n",
       "      <td>A video that shows a policeman in uniform bein...</td>\n",
       "      <td>['group', 'incident', 'challan', 'man', 'branc...</td>\n",
       "      <td>police were beaten by Muslims for issuing a ch...</td>\n",
       "      <td>timesofindia.indiatimes.com</td>\n",
       "      <td>NaN</td>\n",
       "      <td>unrelated</td>\n",
       "    </tr>\n",
       "  </tbody>\n",
       "</table>\n",
       "</div>"
      ],
      "text/plain": [
       "    Unnamed: 0  Unnamed: 0.1  Unnamed: 0.1.1  \\\n",
       "0            0             0               0   \n",
       "1            1             1               1   \n",
       "2            2             2               0   \n",
       "3            3             3               1   \n",
       "4            4             4               2   \n",
       "5            5             5               3   \n",
       "6            6             6               4   \n",
       "7            7             7               5   \n",
       "8            8             8               0   \n",
       "9            9             9               1   \n",
       "10          10            10               2   \n",
       "11          11            11               3   \n",
       "12          12            12               4   \n",
       "13          13            13               5   \n",
       "14          14            14               6   \n",
       "15          15            15               0   \n",
       "16          16            16               1   \n",
       "17          17            17               2   \n",
       "18          18            18               3   \n",
       "19          19            19               0   \n",
       "\n",
       "                                                title  \\\n",
       "0   Fact Check: Viral photo of cyclist on temple w...   \n",
       "1   A Bicycle Was Carved on An Old Temple Wall, Bu...   \n",
       "2   Covid-19 vaccine updates: We are no way inferi...   \n",
       "3   Coronavirus India Highlights: 3.6 Lakh Cases, ...   \n",
       "4   ‘Give me one week’s time’: Bharat Biotech chie...   \n",
       "5   Coronavirus news highlights: Karnataka reports...   \n",
       "6   COVID Vaccine Diplomacy! India to become world...   \n",
       "7                                                 NaN   \n",
       "8   Fact Check: This article praising PM Modi was ...   \n",
       "9   Fact Check: Spurious Text Hailing PM Modi Attr...   \n",
       "10  Fact Check: Truth behind Fake News on Times of...   \n",
       "11  'Unlike Trump and Putin, Modi thriving in cris...   \n",
       "12  PM Modi terrific, ‘will not be forgotten’: US ...   \n",
       "13  Opinion| PM Modi’s remarks on Indian media are...   \n",
       "14  Coronavirus: Modi announces Rs 20 lakh crore e...   \n",
       "15  No, Indian Oil Corporation Has Not Been Sold t...   \n",
       "16  Indian Oil-Adani Gas JV to pump in Rs 9,600 cr...   \n",
       "17  IndianOil, Adani venture draws plan for ?9,600...   \n",
       "18  IOC net drops 47% in Q1 as refinery margins slump   \n",
       "19  FAKE ALERT: Muslim woman, youngsters did not t...   \n",
       "\n",
       "                                                 text  \\\n",
       "0   Some Facebook users are claiming that this car...   \n",
       "1   Photos and videos of an ancient temple carving...   \n",
       "2   Why is nobody questioning UK, asks Bharat Biot...   \n",
       "3   COVID-19 Cases: Several countries have promise...   \n",
       "4   Amid concerns over the relatively less amount ...   \n",
       "5   India on Thursday reported another record rise...   \n",
       "6   India is all set to deploy its capacities in t...   \n",
       "7                                                 NaN   \n",
       "8   An article eulogising Prime Minister Narendra ...   \n",
       "9   A viral piece of text praising Prime Minister ...   \n",
       "10  DAILY CHECK-INS: 0 /5 completed\\n\\nYou must lo...   \n",
       "11  On Saturday, The New York Times published a th...   \n",
       "12  Amid the medical fraternity racing against tim...   \n",
       "13  Prime Minister Narendra Modi routinely complai...   \n",
       "14                                                NaN   \n",
       "15  A photograph showing an Indian Oil-Adani Gas f...   \n",
       "16  By Express News Service\\n\\nNEW DELHI: State-ru...   \n",
       "17  IndianOil-Adani Gas Pvt Ltd (IOAGPL) will requ...   \n",
       "18  State-owned Indian Oil Corp (IOC) on Wednesday...   \n",
       "19  CLAIM\\n\\nSample these -\\n\\nWatch the video her...   \n",
       "\n",
       "                                              summary  \\\n",
       "0   India Today Anti Fake News War Room (AFWA) has...   \n",
       "1   Photos and videos of an ancient temple carving...   \n",
       "2   Why is nobody questioning UK, asks Bharat Biot...   \n",
       "3   COVID-19 Cases: Several countries have promise...   \n",
       "4   “We are not just conducting clinical trials in...   \n",
       "5   India on Thursday reported another record rise...   \n",
       "6   And, the envoy of Ecuador became the first env...   \n",
       "7                                                 NaN   \n",
       "8   Many Twitter and Facebook users have shared th...   \n",
       "9   A viral piece of text praising Prime Minister ...   \n",
       "10  DAILY CHECK-INS: 0 /5 completedYou must login ...   \n",
       "11  There’s bittersweet admission about Modi’s han...   \n",
       "12  I want to thank Prime Minister Modi of India f...   \n",
       "13  Today, with most of them chattering away on so...   \n",
       "14                                                NaN   \n",
       "15  A photograph showing an Indian Oil-Adani Gas f...   \n",
       "16  By Express News ServiceNEW DELHI: State-run In...   \n",
       "17  IndianOil-Adani Gas Pvt Ltd (IOAGPL) will requ...   \n",
       "18  State-owned Indian Oil Corp (IOC) on Wednesday...   \n",
       "19  A video that shows a policeman in uniform bein...   \n",
       "\n",
       "                                             keywords  \\\n",
       "0   ['wall', 'tamil', 'cycle', 'carving', 'viral',...   \n",
       "1   ['wall', 'vehicle', 'videos', 'carving', 'ago'...   \n",
       "2   ['deserve', 'hurts', 'scientist', 'systematica...   \n",
       "3   ['36', '28', '2021', 'hospital', 'lakh', 'medi...   \n",
       "4   ['vaccine', 'covaxin', 'bharat', 'questions', ...   \n",
       "5   ['rise', 'record', 'prime', 'highlights', 'rep...   \n",
       "6   ['vaccine', 'covid', 'minister', 'worlds', 'co...   \n",
       "7                                                  []   \n",
       "8   ['joseph', 'hope', 'published', 'viral', 'modi...   \n",
       "9   ['nyt', 'hailing', 'hope', 'viral', 'website',...   \n",
       "10  ['login', 'earning', 'times', 'check', 'daily'...   \n",
       "11  ['polls', 'political', 'usual', 'nyt', 'putin'...   \n",
       "12  ['indian', 'minister', 'drug', 'covid19', 'for...   \n",
       "13  ['indian', 'say', 'remarks', 'unfair', 'views'...   \n",
       "14  ['announces', 'package', 'modi', 'crore', 'rs'...   \n",
       "15  ['indian', 'gas', 'group', 'adani', 'oiladani'...   \n",
       "16  ['bank', 'oiladani', 'cgd', 'ioagpl', 'retaili...   \n",
       "17  ['gas', 'capital', 'plan', 'draws', 'geographi...   \n",
       "18  ['margins', 'ioc', 'gas', 'natural', 'drops', ...   \n",
       "19  ['group', 'incident', 'challan', 'man', 'branc...   \n",
       "\n",
       "                                             headline  \\\n",
       "0   Bicycle sculpture from an Indonesian temple sh...   \n",
       "1   Bicycle sculpture from an Indonesian temple sh...   \n",
       "2   ‘123 countries’ mentioned in the post is about...   \n",
       "3   ‘123 countries’ mentioned in the post is about...   \n",
       "4   ‘123 countries’ mentioned in the post is about...   \n",
       "5   ‘123 countries’ mentioned in the post is about...   \n",
       "6   ‘123 countries’ mentioned in the post is about...   \n",
       "7   ‘123 countries’ mentioned in the post is about...   \n",
       "8   New York Times Editor-in-Chief praising Narend...   \n",
       "9   New York Times Editor-in-Chief praising Narend...   \n",
       "10  New York Times Editor-in-Chief praising Narend...   \n",
       "11  New York Times Editor-in-Chief praising Narend...   \n",
       "12  New York Times Editor-in-Chief praising Narend...   \n",
       "13  New York Times Editor-in-Chief praising Narend...   \n",
       "14  New York Times Editor-in-Chief praising Narend...   \n",
       "15  ‘Indian Oil – Adani Gas Private Limited (IOAGP...   \n",
       "16  ‘Indian Oil – Adani Gas Private Limited (IOAGP...   \n",
       "17  ‘Indian Oil – Adani Gas Private Limited (IOAGP...   \n",
       "18  ‘Indian Oil – Adani Gas Private Limited (IOAGP...   \n",
       "19  police were beaten by Muslims for issuing a ch...   \n",
       "\n",
       "                          domain  Unnamed: 0.1.1.1 predicted_stance_base  \n",
       "0              www.indiatoday.in               NaN               related  \n",
       "1               www.thequint.com               NaN               related  \n",
       "2              www.indiatoday.in               NaN             unrelated  \n",
       "3                   www.ndtv.com               NaN               related  \n",
       "4         www.hindustantimes.com               NaN             unrelated  \n",
       "5           www.deccanherald.com               NaN             unrelated  \n",
       "6       www.financialexpress.com               NaN               related  \n",
       "7           www.dailypioneer.com               NaN             unrelated  \n",
       "8              www.indiatoday.in               NaN               related  \n",
       "9               www.thequint.com               NaN               related  \n",
       "10   timesofindia.indiatimes.com               NaN             unrelated  \n",
       "11       www.freepressjournal.in               NaN               related  \n",
       "12  www.thehindubusinessline.com               NaN               related  \n",
       "13        www.hindustantimes.com               NaN             unrelated  \n",
       "14                     scroll.in               NaN             unrelated  \n",
       "15              www.thequint.com               NaN               related  \n",
       "16      www.newindianexpress.com               NaN               related  \n",
       "17  www.thehindubusinessline.com               NaN               related  \n",
       "18              www.dnaindia.com               NaN               related  \n",
       "19   timesofindia.indiatimes.com               NaN             unrelated  "
      ]
     },
     "execution_count": 87,
     "metadata": {
      "tags": []
     },
     "output_type": "execute_result"
    }
   ],
   "source": [
    "scrap_data.head(20)"
   ]
  },
  {
   "cell_type": "code",
   "execution_count": null,
   "metadata": {
    "id": "8D9nYELMa3AD",
    "outputId": "6d389ae4-2f3a-4be0-cdea-502787bf04ef"
   },
   "outputs": [
    {
     "data": {
      "text/html": [
       "<div>\n",
       "<style scoped>\n",
       "    .dataframe tbody tr th:only-of-type {\n",
       "        vertical-align: middle;\n",
       "    }\n",
       "\n",
       "    .dataframe tbody tr th {\n",
       "        vertical-align: top;\n",
       "    }\n",
       "\n",
       "    .dataframe thead th {\n",
       "        text-align: right;\n",
       "    }\n",
       "</style>\n",
       "<table border=\"1\" class=\"dataframe\">\n",
       "  <thead>\n",
       "    <tr style=\"text-align: right;\">\n",
       "      <th></th>\n",
       "      <th>headline</th>\n",
       "      <th>text</th>\n",
       "    </tr>\n",
       "  </thead>\n",
       "  <tbody>\n",
       "    <tr>\n",
       "      <th>21</th>\n",
       "      <td>police were beaten by Muslims for issuing a ch...</td>\n",
       "      <td>Angry over being challaned, three persons, inc...</td>\n",
       "    </tr>\n",
       "    <tr>\n",
       "      <th>22</th>\n",
       "      <td>police were beaten by Muslims for issuing a ch...</td>\n",
       "      <td>The 41-second-long video shows two policemen r...</td>\n",
       "    </tr>\n",
       "    <tr>\n",
       "      <th>23</th>\n",
       "      <td>police were beaten by Muslims for issuing a ch...</td>\n",
       "      <td>By Express News Service\\n\\nHYDERABAD: In a bra...</td>\n",
       "    </tr>\n",
       "    <tr>\n",
       "      <th>24</th>\n",
       "      <td>police were beaten by Muslims for issuing a ch...</td>\n",
       "      <td>The traffic police have penalised about three ...</td>\n",
       "    </tr>\n",
       "    <tr>\n",
       "      <th>25</th>\n",
       "      <td>police were beaten by Muslims for issuing a ch...</td>\n",
       "      <td>BJP MLA Siddharth Shirole on Friday said that ...</td>\n",
       "    </tr>\n",
       "    <tr>\n",
       "      <th>26</th>\n",
       "      <td>police were beaten by Muslims for issuing a ch...</td>\n",
       "      <td>The 41-second-long video shows two policemen r...</td>\n",
       "    </tr>\n",
       "    <tr>\n",
       "      <th>27</th>\n",
       "      <td>police were beaten by Muslims for issuing a ch...</td>\n",
       "      <td>By Express News Service\\n\\nHYDERABAD: In a bra...</td>\n",
       "    </tr>\n",
       "    <tr>\n",
       "      <th>28</th>\n",
       "      <td>BJP workers attack on TRS MLA’s residence in T...</td>\n",
       "      <td>Police in Telangana’s Warrangal arrested 39 Bh...</td>\n",
       "    </tr>\n",
       "    <tr>\n",
       "      <th>29</th>\n",
       "      <td>BJP workers attack on TRS MLA’s residence in T...</td>\n",
       "      <td>The SHO added that on 31 January, some BJP wor...</td>\n",
       "    </tr>\n",
       "  </tbody>\n",
       "</table>\n",
       "</div>"
      ],
      "text/plain": [
       "                                             headline  \\\n",
       "21  police were beaten by Muslims for issuing a ch...   \n",
       "22  police were beaten by Muslims for issuing a ch...   \n",
       "23  police were beaten by Muslims for issuing a ch...   \n",
       "24  police were beaten by Muslims for issuing a ch...   \n",
       "25  police were beaten by Muslims for issuing a ch...   \n",
       "26  police were beaten by Muslims for issuing a ch...   \n",
       "27  police were beaten by Muslims for issuing a ch...   \n",
       "28  BJP workers attack on TRS MLA’s residence in T...   \n",
       "29  BJP workers attack on TRS MLA’s residence in T...   \n",
       "\n",
       "                                                 text  \n",
       "21  Angry over being challaned, three persons, inc...  \n",
       "22  The 41-second-long video shows two policemen r...  \n",
       "23  By Express News Service\\n\\nHYDERABAD: In a bra...  \n",
       "24  The traffic police have penalised about three ...  \n",
       "25  BJP MLA Siddharth Shirole on Friday said that ...  \n",
       "26  The 41-second-long video shows two policemen r...  \n",
       "27  By Express News Service\\n\\nHYDERABAD: In a bra...  \n",
       "28  Police in Telangana’s Warrangal arrested 39 Bh...  \n",
       "29  The SHO added that on 31 January, some BJP wor...  "
      ]
     },
     "execution_count": 88,
     "metadata": {
      "tags": []
     },
     "output_type": "execute_result"
    }
   ],
   "source": [
    "scrap_summ[[\"headline\", \"text\"]].iloc[21:30]  # headilene nad articleBody as text ( used for summarization task)"
   ]
  },
  {
   "cell_type": "code",
   "execution_count": null,
   "metadata": {
    "id": "Sl38ZKbya3A4",
    "outputId": "1d1e8ca5-0ced-4cdf-fbf0-1335fea33f35"
   },
   "outputs": [
    {
     "data": {
      "text/plain": [
       "'BJP MLA Siddharth Shirole on Friday said that he has received multiple complaints of \"ill-treatment\" of citizens by the Pune Police in the past few days, especially when it comes to enforcing the COVID-19 protocols of masks worn by four-wheeler drivers and passengers.\\n\\nThe Shivajinagar MLA said that he understands the need to have strict enforcement of COVID-19 guidelines, but \"it doesn’t have to be a hostile environment of having multiple cops at every junction who are focused on finding as many violations as possible rather than educating citizens\".\\n\\nShirole added that the police are collecting fines only via cash and issuing paper receipts. He raised \\'strong objections\\' against this and said, \"Given the pandemic all modes of digital payments and e-challans should be encouraged and recommended\".\\n\\nThe BJP MLA further said that he will personally meet Pune Commissioner Dr Venkatesham and Pune City Traffic DCP Prasad Akkanouru and share these concerns. \"I will work in co-ordinations with the police to help come up with a better SOP to enforcing COVID-19 guidelines & collecting fines,\" he further said.'"
      ]
     },
     "execution_count": 92,
     "metadata": {
      "tags": []
     },
     "output_type": "execute_result"
    }
   ],
   "source": [
    "scrap_summ[\"text\"].iloc[25]"
   ]
  },
  {
   "cell_type": "code",
   "execution_count": null,
   "metadata": {
    "id": "jwOA4aZya3A6"
   },
   "outputs": [],
   "source": [
    "summ = []\n",
    "\n",
    "for text in scrap_summ[\"text\"].iloc[21:30]:\n",
    "    \n",
    "    summ.append(bart_summ(str(text)))\n"
   ]
  },
  {
   "cell_type": "code",
   "execution_count": null,
   "metadata": {
    "id": "WC4dyN0Xa3Cg",
    "outputId": "0f3d71dc-0995-4d32-9353-cc61c178e406"
   },
   "outputs": [
    {
     "data": {
      "text/plain": [
       "'BJP MLA Siddharth Shirole said that he has received multiple complaints of \"ill-treatment\" of citizens by the Pune Police. The Shivajinagar MLA said he understands the need to have strict enforcement of COVID-19 guidelines, but \"it doesn’t have to be a hostile environment of having multiple cops at every junction\"'"
      ]
     },
     "execution_count": 93,
     "metadata": {
      "tags": []
     },
     "output_type": "execute_result"
    }
   ],
   "source": [
    "summ[4]"
   ]
  },
  {
   "cell_type": "code",
   "execution_count": null,
   "metadata": {
    "id": "E_7OnJVqa3De",
    "outputId": "c81ac3b8-b87f-42f5-caf1-735a7213cc35"
   },
   "outputs": [
    {
     "data": {
      "text/plain": [
       "20"
      ]
     },
     "execution_count": 82,
     "metadata": {
      "tags": []
     },
     "output_type": "execute_result"
    }
   ],
   "source": [
    "len(summ)"
   ]
  }
 ],
 "metadata": {
  "colab": {
   "collapsed_sections": [],
   "name": "BaselineModel-2_Text Summarization.ipynb",
   "provenance": []
  },
  "kernelspec": {
   "display_name": "Python 3",
   "language": "python",
   "name": "python3"
  },
  "language_info": {
   "codemirror_mode": {
    "name": "ipython",
    "version": 3
   },
   "file_extension": ".py",
   "mimetype": "text/x-python",
   "name": "python",
   "nbconvert_exporter": "python",
   "pygments_lexer": "ipython3",
   "version": "3.7.6"
  }
 },
 "nbformat": 4,
 "nbformat_minor": 1
}
