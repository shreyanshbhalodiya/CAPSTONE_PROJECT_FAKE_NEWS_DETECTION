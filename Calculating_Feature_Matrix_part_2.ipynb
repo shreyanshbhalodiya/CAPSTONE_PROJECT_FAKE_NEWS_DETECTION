{
  "nbformat": 4,
  "nbformat_minor": 0,
  "metadata": {
    "kernelspec": {
      "display_name": "Python 3",
      "language": "python",
      "name": "python3"
    },
    "language_info": {
      "codemirror_mode": {
        "name": "ipython",
        "version": 3
      },
      "file_extension": ".py",
      "mimetype": "text/x-python",
      "name": "python",
      "nbconvert_exporter": "python",
      "pygments_lexer": "ipython3",
      "version": "3.7.6"
    },
    "colab": {
      "name": "Calculating_Feature_Matrix-part1.ipynb",
      "provenance": [],
      "collapsed_sections": []
    }
  },
  "cells": [
    {
      "cell_type": "markdown",
      "metadata": {
        "id": "tSyNAWlMaUd5"
      },
      "source": [
        "## Experiment-1\n",
        "\n",
        "AIM: To understand how the Machine learning model classifies headlines and articles into one of the 4 target variables (agree, disagree,discuss and unrelated) "
      ]
    },
    {
      "cell_type": "markdown",
      "metadata": {
        "id": "VNniQTEyaGoM"
      },
      "source": [
        "## Loading the important Libraries"
      ]
    },
    {
      "cell_type": "code",
      "metadata": {
        "id": "zWe_mqTIaGoh"
      },
      "source": [
        "import pandas as pd\n",
        "import numpy as np\n",
        "import os\n",
        "import csv\n",
        "import math\n",
        "import matplotlib.pyplot as plt\n",
        "import numpy as np\n",
        "import random\n",
        "import re\n",
        "from collections import defaultdict\n",
        "#from data.scorer import score_submission, print_confusion_matrix, score_defaults, SCORE_REPORT\n",
        "from nltk import word_tokenize\n",
        "from nltk.corpus import stopwords\n",
        "from tqdm import tqdm\n",
        "from sklearn.metrics import accuracy_score"
      ],
      "execution_count": null,
      "outputs": []
    },
    {
      "cell_type": "code",
      "metadata": {
        "scrolled": false,
        "id": "YoP7a-BfaGok"
      },
      "source": [
        "#DATASET_PATH = os.path.join(os.getcwd(),\"C:\\\\Users\\\\Shreyansh\\\\Abhinav\\data\",\"\")\n",
        "\n",
        "Train_data2 = pd.read_csv(\"3_features.csv\",encoding='ISO-8859-1')   # dataset with 3-features were used as predictors"
      ],
      "execution_count": null,
      "outputs": []
    },
    {
      "cell_type": "code",
      "metadata": {
        "id": "K_shfMF5aGoo",
        "outputId": "4fe69287-a6e6-4e97-844d-5baea567d037"
      },
      "source": [
        "Train_data2.columns"
      ],
      "execution_count": null,
      "outputs": [
        {
          "output_type": "execute_result",
          "data": {
            "text/plain": [
              "Index(['Unnamed: 0', 'Headline', 'Stance', 'articleBody', 'stance_cat',\n",
              "       'stance_base', 'jaccard_similarity', 'Headline_pos', 'articleBody_pos',\n",
              "       'jaccard_similarity_nouns', 'Headline_Nouns',\n",
              "       'articleBody_pos_lemmatized', 'Headline_pos_lemmatized', 'LDA_Score'],\n",
              "      dtype='object')"
            ]
          },
          "metadata": {
            "tags": []
          },
          "execution_count": 4
        }
      ]
    },
    {
      "cell_type": "code",
      "metadata": {
        "scrolled": false,
        "id": "A3ljplmaaGos",
        "outputId": "8a937504-9afc-4b98-b0fa-69fd980c9930"
      },
      "source": [
        "Train_data2.head(2)"
      ],
      "execution_count": null,
      "outputs": [
        {
          "output_type": "execute_result",
          "data": {
            "text/html": [
              "<div>\n",
              "<style scoped>\n",
              "    .dataframe tbody tr th:only-of-type {\n",
              "        vertical-align: middle;\n",
              "    }\n",
              "\n",
              "    .dataframe tbody tr th {\n",
              "        vertical-align: top;\n",
              "    }\n",
              "\n",
              "    .dataframe thead th {\n",
              "        text-align: right;\n",
              "    }\n",
              "</style>\n",
              "<table border=\"1\" class=\"dataframe\">\n",
              "  <thead>\n",
              "    <tr style=\"text-align: right;\">\n",
              "      <th></th>\n",
              "      <th>Unnamed: 0</th>\n",
              "      <th>Headline</th>\n",
              "      <th>Stance</th>\n",
              "      <th>articleBody</th>\n",
              "      <th>stance_cat</th>\n",
              "      <th>stance_base</th>\n",
              "      <th>jaccard_similarity</th>\n",
              "      <th>Headline_pos</th>\n",
              "      <th>articleBody_pos</th>\n",
              "      <th>jaccard_similarity_nouns</th>\n",
              "      <th>Headline_Nouns</th>\n",
              "      <th>articleBody_pos_lemmatized</th>\n",
              "      <th>Headline_pos_lemmatized</th>\n",
              "      <th>LDA_Score</th>\n",
              "    </tr>\n",
              "  </thead>\n",
              "  <tbody>\n",
              "    <tr>\n",
              "      <th>0</th>\n",
              "      <td>0</td>\n",
              "      <td>ab de villiers wife danielle welcomed newborn ...</td>\n",
              "      <td>Agree</td>\n",
              "      <td>south africa royal challengers bangalore batsm...</td>\n",
              "      <td>0</td>\n",
              "      <td>related</td>\n",
              "      <td>168.224299</td>\n",
              "      <td>villiers welcomed newborn family daughter yent...</td>\n",
              "      <td>welcomed bangalore photo addition parents succ...</td>\n",
              "      <td>285.714286</td>\n",
              "      <td>villiers family daughter yente danielle wife ab</td>\n",
              "      <td>welcome bangalore photo addition parent succes...</td>\n",
              "      <td>villiers welcome newborn family daughter yente...</td>\n",
              "      <td>0.0</td>\n",
              "    </tr>\n",
              "    <tr>\n",
              "      <th>1</th>\n",
              "      <td>1</td>\n",
              "      <td>ab de villiers wife danielle welcomed newborn ...</td>\n",
              "      <td>Agree</td>\n",
              "      <td>ani pretoria former south african cricketer ab...</td>\n",
              "      <td>0</td>\n",
              "      <td>related</td>\n",
              "      <td>211.764706</td>\n",
              "      <td>villiers welcomed newborn family daughter yent...</td>\n",
              "      <td>smile welcomed royal duo villers girl standing...</td>\n",
              "      <td>315.789474</td>\n",
              "      <td>villiers family daughter yente danielle wife ab</td>\n",
              "      <td>smile welcome royal duo villers girl stand ban...</td>\n",
              "      <td>villiers welcome newborn family daughter yente...</td>\n",
              "      <td>0.0</td>\n",
              "    </tr>\n",
              "  </tbody>\n",
              "</table>\n",
              "</div>"
            ],
            "text/plain": [
              "   Unnamed: 0                                           Headline Stance  \\\n",
              "0           0  ab de villiers wife danielle welcomed newborn ...  Agree   \n",
              "1           1  ab de villiers wife danielle welcomed newborn ...  Agree   \n",
              "\n",
              "                                         articleBody  stance_cat stance_base  \\\n",
              "0  south africa royal challengers bangalore batsm...           0     related   \n",
              "1  ani pretoria former south african cricketer ab...           0     related   \n",
              "\n",
              "   jaccard_similarity                                       Headline_pos  \\\n",
              "0          168.224299  villiers welcomed newborn family daughter yent...   \n",
              "1          211.764706  villiers welcomed newborn family daughter yent...   \n",
              "\n",
              "                                     articleBody_pos  \\\n",
              "0  welcomed bangalore photo addition parents succ...   \n",
              "1  smile welcomed royal duo villers girl standing...   \n",
              "\n",
              "   jaccard_similarity_nouns                                   Headline_Nouns  \\\n",
              "0                285.714286  villiers family daughter yente danielle wife ab   \n",
              "1                315.789474  villiers family daughter yente danielle wife ab   \n",
              "\n",
              "                          articleBody_pos_lemmatized  \\\n",
              "0  welcome bangalore photo addition parent succes...   \n",
              "1  smile welcome royal duo villers girl stand ban...   \n",
              "\n",
              "                             Headline_pos_lemmatized  LDA_Score  \n",
              "0  villiers welcome newborn family daughter yente...        0.0  \n",
              "1  villiers welcome newborn family daughter yente...        0.0  "
            ]
          },
          "metadata": {
            "tags": []
          },
          "execution_count": 6
        }
      ]
    },
    {
      "cell_type": "code",
      "metadata": {
        "scrolled": true,
        "id": "GNPDSBAYaGou"
      },
      "source": [
        "#Train_data_stances['Body ID'].dtype"
      ],
      "execution_count": null,
      "outputs": []
    },
    {
      "cell_type": "code",
      "metadata": {
        "scrolled": true,
        "id": "7jjnhthYaGov",
        "outputId": "59203b04-25b5-44a3-f67a-7e701dae4b21"
      },
      "source": [
        "Train_data_articleBody = Train_data2[[\"articleBody_pos\"]]                   # used headline and articles with parts of speech tagging (considered only Noun,adverb,verb,adjective)\n",
        "Train_data_articleBody.rename(columns = {'articleBody_pos': 'articleBody'}, inplace = True)\n",
        "Train_data_stances = Train_data2[[\"Headline_pos\",\"Stance\"]]\n",
        "Train_data_stances.rename(columns = {'Headline_pos': 'Headline'}, inplace = True)"
      ],
      "execution_count": null,
      "outputs": [
        {
          "output_type": "stream",
          "text": [
            "C:\\ProgramData\\Anaconda3\\lib\\site-packages\\pandas\\core\\frame.py:4133: SettingWithCopyWarning: \n",
            "A value is trying to be set on a copy of a slice from a DataFrame\n",
            "\n",
            "See the caveats in the documentation: https://pandas.pydata.org/pandas-docs/stable/user_guide/indexing.html#returning-a-view-versus-a-copy\n",
            "  errors=errors,\n"
          ],
          "name": "stderr"
        }
      ]
    },
    {
      "cell_type": "code",
      "metadata": {
        "scrolled": true,
        "id": "inX7CXQgaGox",
        "outputId": "1251b5ac-977e-4d25-f116-bbc7d4a20d89"
      },
      "source": [
        "Train_data_articleBody.head(2)"
      ],
      "execution_count": null,
      "outputs": [
        {
          "output_type": "execute_result",
          "data": {
            "text/html": [
              "<div>\n",
              "<style scoped>\n",
              "    .dataframe tbody tr th:only-of-type {\n",
              "        vertical-align: middle;\n",
              "    }\n",
              "\n",
              "    .dataframe tbody tr th {\n",
              "        vertical-align: top;\n",
              "    }\n",
              "\n",
              "    .dataframe thead th {\n",
              "        text-align: right;\n",
              "    }\n",
              "</style>\n",
              "<table border=\"1\" class=\"dataframe\">\n",
              "  <thead>\n",
              "    <tr style=\"text-align: right;\">\n",
              "      <th></th>\n",
              "      <th>articleBody</th>\n",
              "    </tr>\n",
              "  </thead>\n",
              "  <tbody>\n",
              "    <tr>\n",
              "      <th>0</th>\n",
              "      <td>welcomed bangalore photo addition parents succ...</td>\n",
              "    </tr>\n",
              "    <tr>\n",
              "      <th>1</th>\n",
              "      <td>smile welcomed royal duo villers girl standing...</td>\n",
              "    </tr>\n",
              "  </tbody>\n",
              "</table>\n",
              "</div>"
            ],
            "text/plain": [
              "                                         articleBody\n",
              "0  welcomed bangalore photo addition parents succ...\n",
              "1  smile welcomed royal duo villers girl standing..."
            ]
          },
          "metadata": {
            "tags": []
          },
          "execution_count": 9
        }
      ]
    },
    {
      "cell_type": "code",
      "metadata": {
        "id": "RpnT5a_DaGoy",
        "outputId": "38405df9-8561-4793-f0be-6e4f63ad83a6"
      },
      "source": [
        "Train_data_articleBody.shape"
      ],
      "execution_count": null,
      "outputs": [
        {
          "output_type": "execute_result",
          "data": {
            "text/plain": [
              "(212, 1)"
            ]
          },
          "metadata": {
            "tags": []
          },
          "execution_count": 10
        }
      ]
    },
    {
      "cell_type": "code",
      "metadata": {
        "id": "jpjOPRowaGoz",
        "outputId": "2553e41e-43c6-4d4c-eac5-bfcb2cc84c42"
      },
      "source": [
        "Train_data_stances.head(2)"
      ],
      "execution_count": null,
      "outputs": [
        {
          "output_type": "execute_result",
          "data": {
            "text/html": [
              "<div>\n",
              "<style scoped>\n",
              "    .dataframe tbody tr th:only-of-type {\n",
              "        vertical-align: middle;\n",
              "    }\n",
              "\n",
              "    .dataframe tbody tr th {\n",
              "        vertical-align: top;\n",
              "    }\n",
              "\n",
              "    .dataframe thead th {\n",
              "        text-align: right;\n",
              "    }\n",
              "</style>\n",
              "<table border=\"1\" class=\"dataframe\">\n",
              "  <thead>\n",
              "    <tr style=\"text-align: right;\">\n",
              "      <th></th>\n",
              "      <th>Headline</th>\n",
              "      <th>Stance</th>\n",
              "    </tr>\n",
              "  </thead>\n",
              "  <tbody>\n",
              "    <tr>\n",
              "      <th>0</th>\n",
              "      <td>villiers welcomed newborn family daughter yent...</td>\n",
              "      <td>Agree</td>\n",
              "    </tr>\n",
              "    <tr>\n",
              "      <th>1</th>\n",
              "      <td>villiers welcomed newborn family daughter yent...</td>\n",
              "      <td>Agree</td>\n",
              "    </tr>\n",
              "  </tbody>\n",
              "</table>\n",
              "</div>"
            ],
            "text/plain": [
              "                                            Headline Stance\n",
              "0  villiers welcomed newborn family daughter yent...  Agree\n",
              "1  villiers welcomed newborn family daughter yent...  Agree"
            ]
          },
          "metadata": {
            "tags": []
          },
          "execution_count": 11
        }
      ]
    },
    {
      "cell_type": "markdown",
      "metadata": {
        "id": "UflXuET-aGo0"
      },
      "source": [
        "# Loading the contents"
      ]
    },
    {
      "cell_type": "code",
      "metadata": {
        "scrolled": true,
        "id": "26qxXe-_aGo1"
      },
      "source": [
        "Train_1 = Train_data2[[\"Headline_pos\",\"articleBody_pos\",\"Stance\"]] "
      ],
      "execution_count": null,
      "outputs": []
    },
    {
      "cell_type": "code",
      "metadata": {
        "id": "XHIPlq66aGo3",
        "outputId": "d37be952-03d3-485d-a1a3-1d6dbf287ee5"
      },
      "source": [
        "Train_1.head()"
      ],
      "execution_count": null,
      "outputs": [
        {
          "output_type": "execute_result",
          "data": {
            "text/html": [
              "<div>\n",
              "<style scoped>\n",
              "    .dataframe tbody tr th:only-of-type {\n",
              "        vertical-align: middle;\n",
              "    }\n",
              "\n",
              "    .dataframe tbody tr th {\n",
              "        vertical-align: top;\n",
              "    }\n",
              "\n",
              "    .dataframe thead th {\n",
              "        text-align: right;\n",
              "    }\n",
              "</style>\n",
              "<table border=\"1\" class=\"dataframe\">\n",
              "  <thead>\n",
              "    <tr style=\"text-align: right;\">\n",
              "      <th></th>\n",
              "      <th>Headline_pos</th>\n",
              "      <th>articleBody_pos</th>\n",
              "      <th>Stance</th>\n",
              "    </tr>\n",
              "  </thead>\n",
              "  <tbody>\n",
              "    <tr>\n",
              "      <th>0</th>\n",
              "      <td>villiers welcomed newborn family daughter yent...</td>\n",
              "      <td>welcomed bangalore photo addition parents succ...</td>\n",
              "      <td>Agree</td>\n",
              "    </tr>\n",
              "    <tr>\n",
              "      <th>1</th>\n",
              "      <td>villiers welcomed newborn family daughter yent...</td>\n",
              "      <td>smile welcomed royal duo villers girl standing...</td>\n",
              "      <td>Agree</td>\n",
              "    </tr>\n",
              "    <tr>\n",
              "      <th>2</th>\n",
              "      <td>villiers welcomed newborn family daughter yent...</td>\n",
              "      <td>smile welcomed royal duo villers girl standing...</td>\n",
              "      <td>Agree</td>\n",
              "    </tr>\n",
              "    <tr>\n",
              "      <th>3</th>\n",
              "      <td>villiers welcomed newborn family daughter yent...</td>\n",
              "      <td>smile welcomed royal duo villers girl standing...</td>\n",
              "      <td>Agree</td>\n",
              "    </tr>\n",
              "    <tr>\n",
              "      <th>4</th>\n",
              "      <td>villiers welcomed newborn family daughter yent...</td>\n",
              "      <td>pulled welcomed fans postponed bangalore india...</td>\n",
              "      <td>Agree</td>\n",
              "    </tr>\n",
              "  </tbody>\n",
              "</table>\n",
              "</div>"
            ],
            "text/plain": [
              "                                        Headline_pos  \\\n",
              "0  villiers welcomed newborn family daughter yent...   \n",
              "1  villiers welcomed newborn family daughter yent...   \n",
              "2  villiers welcomed newborn family daughter yent...   \n",
              "3  villiers welcomed newborn family daughter yent...   \n",
              "4  villiers welcomed newborn family daughter yent...   \n",
              "\n",
              "                                     articleBody_pos Stance  \n",
              "0  welcomed bangalore photo addition parents succ...  Agree  \n",
              "1  smile welcomed royal duo villers girl standing...  Agree  \n",
              "2  smile welcomed royal duo villers girl standing...  Agree  \n",
              "3  smile welcomed royal duo villers girl standing...  Agree  \n",
              "4  pulled welcomed fans postponed bangalore india...  Agree  "
            ]
          },
          "metadata": {
            "tags": []
          },
          "execution_count": 14
        }
      ]
    },
    {
      "cell_type": "code",
      "metadata": {
        "id": "8COOVXxKaGo4"
      },
      "source": [
        "Train = Train_1.copy()"
      ],
      "execution_count": null,
      "outputs": []
    },
    {
      "cell_type": "code",
      "metadata": {
        "id": "qlSXRlLfaGo5"
      },
      "source": [
        "#  create function to Tokenise text\n",
        "pattern = re.compile(\"[^a-zA-Z0-9 ]+\")  # strip punctuation, symbols, etc.\n",
        "stop_words = set(stopwords.words('english'))\n",
        "def tokenise(text):\n",
        "    text = pattern.sub('', str(text).replace('\\n', ' ').replace('-', ' ').lower())\n",
        "    text = [word for word in word_tokenize(text) if word not in stop_words]\n",
        "    return text\n"
      ],
      "execution_count": null,
      "outputs": []
    },
    {
      "cell_type": "code",
      "metadata": {
        "id": "z65DN3NTaGo6"
      },
      "source": [
        "#def tokenize(co)\n",
        "tokenize_list = []\n",
        "for i in Train[\"Headline_pos\"]:\n",
        "    tokenize_list.append(tokenise(i))\n",
        "    \n"
      ],
      "execution_count": null,
      "outputs": []
    },
    {
      "cell_type": "code",
      "metadata": {
        "id": "6_iB4HWxaGo7"
      },
      "source": [
        "tokenize_list_article = []\n",
        "for i in Train[\"articleBody_pos\"]:\n",
        "    tokenize_list_article.append(tokenise(i))\n",
        "    "
      ],
      "execution_count": null,
      "outputs": []
    },
    {
      "cell_type": "code",
      "metadata": {
        "scrolled": false,
        "id": "xi06UbmmaGo8"
      },
      "source": [
        "Train[\"articleBody_pos\"] = tokenize_list_article  # add tokenized articles(POS) to main datafram"
      ],
      "execution_count": null,
      "outputs": []
    },
    {
      "cell_type": "code",
      "metadata": {
        "scrolled": true,
        "id": "BS9njKsraGo8"
      },
      "source": [
        "Train[\"Headline_pos\"] = tokenize_list  # add tokenized headline (POS) to main datafram"
      ],
      "execution_count": null,
      "outputs": []
    },
    {
      "cell_type": "code",
      "metadata": {
        "scrolled": true,
        "id": "obNN17ZyaGo9",
        "outputId": "cc799351-78d9-410a-cc1e-583cc662d123"
      },
      "source": [
        "Train.head()  "
      ],
      "execution_count": null,
      "outputs": [
        {
          "output_type": "execute_result",
          "data": {
            "text/html": [
              "<div>\n",
              "<style scoped>\n",
              "    .dataframe tbody tr th:only-of-type {\n",
              "        vertical-align: middle;\n",
              "    }\n",
              "\n",
              "    .dataframe tbody tr th {\n",
              "        vertical-align: top;\n",
              "    }\n",
              "\n",
              "    .dataframe thead th {\n",
              "        text-align: right;\n",
              "    }\n",
              "</style>\n",
              "<table border=\"1\" class=\"dataframe\">\n",
              "  <thead>\n",
              "    <tr style=\"text-align: right;\">\n",
              "      <th></th>\n",
              "      <th>Headline_pos</th>\n",
              "      <th>articleBody_pos</th>\n",
              "      <th>Stance</th>\n",
              "    </tr>\n",
              "  </thead>\n",
              "  <tbody>\n",
              "    <tr>\n",
              "      <th>0</th>\n",
              "      <td>[villiers, welcomed, newborn, family, daughter...</td>\n",
              "      <td>[welcomed, bangalore, photo, addition, parents...</td>\n",
              "      <td>Agree</td>\n",
              "    </tr>\n",
              "    <tr>\n",
              "      <th>1</th>\n",
              "      <td>[villiers, welcomed, newborn, family, daughter...</td>\n",
              "      <td>[smile, welcomed, royal, duo, villers, girl, s...</td>\n",
              "      <td>Agree</td>\n",
              "    </tr>\n",
              "    <tr>\n",
              "      <th>2</th>\n",
              "      <td>[villiers, welcomed, newborn, family, daughter...</td>\n",
              "      <td>[smile, welcomed, royal, duo, villers, girl, s...</td>\n",
              "      <td>Agree</td>\n",
              "    </tr>\n",
              "    <tr>\n",
              "      <th>3</th>\n",
              "      <td>[villiers, welcomed, newborn, family, daughter...</td>\n",
              "      <td>[smile, welcomed, royal, duo, villers, girl, s...</td>\n",
              "      <td>Agree</td>\n",
              "    </tr>\n",
              "    <tr>\n",
              "      <th>4</th>\n",
              "      <td>[villiers, welcomed, newborn, family, daughter...</td>\n",
              "      <td>[pulled, welcomed, fans, postponed, bangalore,...</td>\n",
              "      <td>Agree</td>\n",
              "    </tr>\n",
              "  </tbody>\n",
              "</table>\n",
              "</div>"
            ],
            "text/plain": [
              "                                        Headline_pos  \\\n",
              "0  [villiers, welcomed, newborn, family, daughter...   \n",
              "1  [villiers, welcomed, newborn, family, daughter...   \n",
              "2  [villiers, welcomed, newborn, family, daughter...   \n",
              "3  [villiers, welcomed, newborn, family, daughter...   \n",
              "4  [villiers, welcomed, newborn, family, daughter...   \n",
              "\n",
              "                                     articleBody_pos Stance  \n",
              "0  [welcomed, bangalore, photo, addition, parents...  Agree  \n",
              "1  [smile, welcomed, royal, duo, villers, girl, s...  Agree  \n",
              "2  [smile, welcomed, royal, duo, villers, girl, s...  Agree  \n",
              "3  [smile, welcomed, royal, duo, villers, girl, s...  Agree  \n",
              "4  [pulled, welcomed, fans, postponed, bangalore,...  Agree  "
            ]
          },
          "metadata": {
            "tags": []
          },
          "execution_count": 21
        }
      ]
    },
    {
      "cell_type": "code",
      "metadata": {
        "id": "Im_uDLNXaGo9"
      },
      "source": [
        "Train[\"Headline_pos\"] = Train[\"Headline_pos\"].str.join(', ')  \n",
        "Train[\"articleBody_pos\"] = Train[\"articleBody_pos\"].str.join(', ')"
      ],
      "execution_count": null,
      "outputs": []
    },
    {
      "cell_type": "code",
      "metadata": {
        "scrolled": true,
        "id": "s83FDzVFaGo-",
        "outputId": "1d89287e-b8b1-4690-8f75-fa1c4dfbaf88"
      },
      "source": [
        "Train.head()"
      ],
      "execution_count": null,
      "outputs": [
        {
          "output_type": "execute_result",
          "data": {
            "text/html": [
              "<div>\n",
              "<style scoped>\n",
              "    .dataframe tbody tr th:only-of-type {\n",
              "        vertical-align: middle;\n",
              "    }\n",
              "\n",
              "    .dataframe tbody tr th {\n",
              "        vertical-align: top;\n",
              "    }\n",
              "\n",
              "    .dataframe thead th {\n",
              "        text-align: right;\n",
              "    }\n",
              "</style>\n",
              "<table border=\"1\" class=\"dataframe\">\n",
              "  <thead>\n",
              "    <tr style=\"text-align: right;\">\n",
              "      <th></th>\n",
              "      <th>Headline_pos</th>\n",
              "      <th>articleBody_pos</th>\n",
              "      <th>Stance</th>\n",
              "    </tr>\n",
              "  </thead>\n",
              "  <tbody>\n",
              "    <tr>\n",
              "      <th>0</th>\n",
              "      <td>villiers, welcomed, newborn, family, daughter,...</td>\n",
              "      <td>welcomed, bangalore, photo, addition, parents,...</td>\n",
              "      <td>Agree</td>\n",
              "    </tr>\n",
              "    <tr>\n",
              "      <th>1</th>\n",
              "      <td>villiers, welcomed, newborn, family, daughter,...</td>\n",
              "      <td>smile, welcomed, royal, duo, villers, girl, st...</td>\n",
              "      <td>Agree</td>\n",
              "    </tr>\n",
              "    <tr>\n",
              "      <th>2</th>\n",
              "      <td>villiers, welcomed, newborn, family, daughter,...</td>\n",
              "      <td>smile, welcomed, royal, duo, villers, girl, st...</td>\n",
              "      <td>Agree</td>\n",
              "    </tr>\n",
              "    <tr>\n",
              "      <th>3</th>\n",
              "      <td>villiers, welcomed, newborn, family, daughter,...</td>\n",
              "      <td>smile, welcomed, royal, duo, villers, girl, st...</td>\n",
              "      <td>Agree</td>\n",
              "    </tr>\n",
              "    <tr>\n",
              "      <th>4</th>\n",
              "      <td>villiers, welcomed, newborn, family, daughter,...</td>\n",
              "      <td>pulled, welcomed, fans, postponed, bangalore, ...</td>\n",
              "      <td>Agree</td>\n",
              "    </tr>\n",
              "  </tbody>\n",
              "</table>\n",
              "</div>"
            ],
            "text/plain": [
              "                                        Headline_pos  \\\n",
              "0  villiers, welcomed, newborn, family, daughter,...   \n",
              "1  villiers, welcomed, newborn, family, daughter,...   \n",
              "2  villiers, welcomed, newborn, family, daughter,...   \n",
              "3  villiers, welcomed, newborn, family, daughter,...   \n",
              "4  villiers, welcomed, newborn, family, daughter,...   \n",
              "\n",
              "                                     articleBody_pos Stance  \n",
              "0  welcomed, bangalore, photo, addition, parents,...  Agree  \n",
              "1  smile, welcomed, royal, duo, villers, girl, st...  Agree  \n",
              "2  smile, welcomed, royal, duo, villers, girl, st...  Agree  \n",
              "3  smile, welcomed, royal, duo, villers, girl, st...  Agree  \n",
              "4  pulled, welcomed, fans, postponed, bangalore, ...  Agree  "
            ]
          },
          "metadata": {
            "tags": []
          },
          "execution_count": 23
        }
      ]
    },
    {
      "cell_type": "code",
      "metadata": {
        "id": "CusmCy4oaGo_"
      },
      "source": [
        ""
      ],
      "execution_count": null,
      "outputs": []
    },
    {
      "cell_type": "code",
      "metadata": {
        "scrolled": true,
        "id": "TcqNKGgyaGo_",
        "outputId": "4ed03b5d-5bf6-44ce-9f22-e57a9f904048"
      },
      "source": [
        "Train_1.iloc[1,0]"
      ],
      "execution_count": null,
      "outputs": [
        {
          "output_type": "execute_result",
          "data": {
            "text/plain": [
              "'villiers welcomed newborn family daughter yente danielle wife ab'"
            ]
          },
          "metadata": {
            "tags": []
          },
          "execution_count": 24
        }
      ]
    },
    {
      "cell_type": "code",
      "metadata": {
        "id": "d-jUG9d8aGpA",
        "outputId": "8bdaba72-bb7e-494c-c369-febf60296087"
      },
      "source": [
        "t_array = np.array(Train_1)\n",
        "t_array[1,0]"
      ],
      "execution_count": null,
      "outputs": [
        {
          "output_type": "execute_result",
          "data": {
            "text/plain": [
              "'villiers welcomed newborn family daughter yente danielle wife ab'"
            ]
          },
          "metadata": {
            "tags": []
          },
          "execution_count": 25
        }
      ]
    },
    {
      "cell_type": "code",
      "metadata": {
        "id": "th4GvqyaaGpB"
      },
      "source": [
        "# Compute term-frequency of words in documents\n",
        "def doc_to_tf(text, ngram=1):\n",
        "    words = tokenise(text)\n",
        "    ret = defaultdict(float)\n",
        "    for i in range(len(words)):\n",
        "        for j in range(1, ngram+1):\n",
        "            if i - j < 0:\n",
        "                break\n",
        "            word = [words[i-k] for k in range(j)]\n",
        "            ret[word[0] if ngram == 1 else tuple(word)] += 1.0\n",
        "    return ret"
      ],
      "execution_count": null,
      "outputs": []
    },
    {
      "cell_type": "code",
      "metadata": {
        "scrolled": true,
        "id": "USZxkS3naGpC"
      },
      "source": [
        "basket = []\n",
        "for i in range(len(t_array)):\n",
        "    #print(doc_to_tf(text = t_array[i,0]))\n",
        "    basket.append(doc_to_tf(text = t_array[i,0]))"
      ],
      "execution_count": null,
      "outputs": []
    },
    {
      "cell_type": "code",
      "metadata": {
        "id": "TQC9an7RaGpC",
        "outputId": "15406886-deee-40fc-d063-ff16e4d5a7cf"
      },
      "source": [
        "print(len(basket))\n",
        "print(basket[5])"
      ],
      "execution_count": null,
      "outputs": [
        {
          "output_type": "stream",
          "text": [
            "25413\n",
            "defaultdict(<class 'float'>, {'features': 1.0, 'leaked': 1.0, 'iphones': 1.0, 'apple': 1.0})\n"
          ],
          "name": "stdout"
        }
      ]
    },
    {
      "cell_type": "code",
      "metadata": {
        "id": "vaUNJdCxaGpD",
        "outputId": "7b6b8696-831d-49da-8bdd-14aac0c0ca70"
      },
      "source": [
        "len(np.array(Train_1[\"Headline_pos\"]))"
      ],
      "execution_count": null,
      "outputs": [
        {
          "output_type": "execute_result",
          "data": {
            "text/plain": [
              "212"
            ]
          },
          "metadata": {
            "tags": []
          },
          "execution_count": 28
        }
      ]
    },
    {
      "cell_type": "code",
      "metadata": {
        "id": "XBLjoQTGaGpF",
        "outputId": "eebe6dc1-7370-4d5d-cf20-58c8a7e44d3c"
      },
      "source": [
        "Train_1.head(10)"
      ],
      "execution_count": null,
      "outputs": [
        {
          "output_type": "execute_result",
          "data": {
            "text/html": [
              "<div>\n",
              "<style scoped>\n",
              "    .dataframe tbody tr th:only-of-type {\n",
              "        vertical-align: middle;\n",
              "    }\n",
              "\n",
              "    .dataframe tbody tr th {\n",
              "        vertical-align: top;\n",
              "    }\n",
              "\n",
              "    .dataframe thead th {\n",
              "        text-align: right;\n",
              "    }\n",
              "</style>\n",
              "<table border=\"1\" class=\"dataframe\">\n",
              "  <thead>\n",
              "    <tr style=\"text-align: right;\">\n",
              "      <th></th>\n",
              "      <th>Headline_pos</th>\n",
              "      <th>articleBody_pos</th>\n",
              "      <th>Stance</th>\n",
              "    </tr>\n",
              "  </thead>\n",
              "  <tbody>\n",
              "    <tr>\n",
              "      <th>0</th>\n",
              "      <td>villiers welcomed newborn family daughter yent...</td>\n",
              "      <td>welcomed bangalore photo addition parents succ...</td>\n",
              "      <td>Agree</td>\n",
              "    </tr>\n",
              "    <tr>\n",
              "      <th>1</th>\n",
              "      <td>villiers welcomed newborn family daughter yent...</td>\n",
              "      <td>smile welcomed royal duo villers girl standing...</td>\n",
              "      <td>Agree</td>\n",
              "    </tr>\n",
              "    <tr>\n",
              "      <th>2</th>\n",
              "      <td>villiers welcomed newborn family daughter yent...</td>\n",
              "      <td>smile welcomed royal duo villers girl standing...</td>\n",
              "      <td>Agree</td>\n",
              "    </tr>\n",
              "    <tr>\n",
              "      <th>3</th>\n",
              "      <td>villiers welcomed newborn family daughter yent...</td>\n",
              "      <td>smile welcomed royal duo villers girl standing...</td>\n",
              "      <td>Agree</td>\n",
              "    </tr>\n",
              "    <tr>\n",
              "      <th>4</th>\n",
              "      <td>villiers welcomed newborn family daughter yent...</td>\n",
              "      <td>pulled welcomed fans postponed bangalore india...</td>\n",
              "      <td>Agree</td>\n",
              "    </tr>\n",
              "    <tr>\n",
              "      <th>5</th>\n",
              "      <td>villiers welcomed newborn family daughter yent...</td>\n",
              "      <td>welcomed extended postponed bangalore internat...</td>\n",
              "      <td>Agree</td>\n",
              "    </tr>\n",
              "    <tr>\n",
              "      <th>6</th>\n",
              "      <td>villiers welcomed newborn family daughter yent...</td>\n",
              "      <td>view news ios pic welcomed updates girl daniel...</td>\n",
              "      <td>Agree</td>\n",
              "    </tr>\n",
              "    <tr>\n",
              "      <th>7</th>\n",
              "      <td>covaccine covidshield got banned</td>\n",
              "      <td>germany union monday cause certain uncommon pr...</td>\n",
              "      <td>Disagree</td>\n",
              "    </tr>\n",
              "    <tr>\n",
              "      <th>8</th>\n",
              "      <td>covaccine covidshield got banned</td>\n",
              "      <td>germany suit indian says scientists vaccinated...</td>\n",
              "      <td>Disagree</td>\n",
              "    </tr>\n",
              "    <tr>\n",
              "      <th>9</th>\n",
              "      <td>covaccine covidshield got banned</td>\n",
              "      <td>steep countrywide punebased pharma monday carr...</td>\n",
              "      <td>Disagree</td>\n",
              "    </tr>\n",
              "  </tbody>\n",
              "</table>\n",
              "</div>"
            ],
            "text/plain": [
              "                                        Headline_pos  \\\n",
              "0  villiers welcomed newborn family daughter yent...   \n",
              "1  villiers welcomed newborn family daughter yent...   \n",
              "2  villiers welcomed newborn family daughter yent...   \n",
              "3  villiers welcomed newborn family daughter yent...   \n",
              "4  villiers welcomed newborn family daughter yent...   \n",
              "5  villiers welcomed newborn family daughter yent...   \n",
              "6  villiers welcomed newborn family daughter yent...   \n",
              "7                   covaccine covidshield got banned   \n",
              "8                   covaccine covidshield got banned   \n",
              "9                   covaccine covidshield got banned   \n",
              "\n",
              "                                     articleBody_pos    Stance  \n",
              "0  welcomed bangalore photo addition parents succ...     Agree  \n",
              "1  smile welcomed royal duo villers girl standing...     Agree  \n",
              "2  smile welcomed royal duo villers girl standing...     Agree  \n",
              "3  smile welcomed royal duo villers girl standing...     Agree  \n",
              "4  pulled welcomed fans postponed bangalore india...     Agree  \n",
              "5  welcomed extended postponed bangalore internat...     Agree  \n",
              "6  view news ios pic welcomed updates girl daniel...     Agree  \n",
              "7  germany union monday cause certain uncommon pr...  Disagree  \n",
              "8  germany suit indian says scientists vaccinated...  Disagree  \n",
              "9  steep countrywide punebased pharma monday carr...  Disagree  "
            ]
          },
          "metadata": {
            "tags": []
          },
          "execution_count": 29
        }
      ]
    },
    {
      "cell_type": "code",
      "metadata": {
        "id": "4iCWgW7baGpG",
        "outputId": "557dfbaf-1583-49a9-a08c-39283ab5d3b2"
      },
      "source": [
        "Train_1.iloc[2,0]"
      ],
      "execution_count": null,
      "outputs": [
        {
          "output_type": "execute_result",
          "data": {
            "text/plain": [
              "'villiers welcomed newborn family daughter yente danielle wife ab'"
            ]
          },
          "metadata": {
            "tags": []
          },
          "execution_count": 30
        }
      ]
    },
    {
      "cell_type": "code",
      "metadata": {
        "scrolled": true,
        "id": "Qfb7Ro3WaGpH"
      },
      "source": [
        "# Build corpus of article bodies and headlines in training dataset\n",
        "corpus = np.r_[t_array[:, 1], t_array[:, 0]]  # 0 to 44973 are bodies, 44974 to 89943 are headlines\n",
        "\n",
        "#print(corpus[44974//100])\n",
        "#print(corpus[0])"
      ],
      "execution_count": null,
      "outputs": []
    },
    {
      "cell_type": "code",
      "metadata": {
        "id": "nIFydX9FaGpI",
        "outputId": "7e8e2bfb-545c-4805-8750-10101af5b171"
      },
      "source": [
        "len(corpus)"
      ],
      "execution_count": null,
      "outputs": [
        {
          "output_type": "execute_result",
          "data": {
            "text/plain": [
              "424"
            ]
          },
          "metadata": {
            "tags": []
          },
          "execution_count": 32
        }
      ]
    },
    {
      "cell_type": "code",
      "metadata": {
        "id": "RyqQtcIkaGpJ",
        "outputId": "26b576ed-6258-4432-de1b-cf01dcfb5194"
      },
      "source": [
        "99944/2"
      ],
      "execution_count": null,
      "outputs": [
        {
          "output_type": "execute_result",
          "data": {
            "text/plain": [
              "49972.0"
            ]
          },
          "metadata": {
            "tags": []
          },
          "execution_count": 33
        }
      ]
    },
    {
      "cell_type": "code",
      "metadata": {
        "scrolled": true,
        "id": "OHCa8GkRaGpL",
        "outputId": "945369d8-a166-4f04-f10d-9e28701b60f6"
      },
      "source": [
        "len(t_array[:, 1])"
      ],
      "execution_count": null,
      "outputs": [
        {
          "output_type": "execute_result",
          "data": {
            "text/plain": [
              "212"
            ]
          },
          "metadata": {
            "tags": []
          },
          "execution_count": 34
        }
      ]
    },
    {
      "cell_type": "code",
      "metadata": {
        "id": "41fIf5VDaGpL",
        "outputId": "81e28df7-7f89-41b5-8a6f-ee5728539fb6"
      },
      "source": [
        "# Learn idf of every word in the corpus\n",
        "df = defaultdict(float)\n",
        "for doc in tqdm(corpus):\n",
        "    words = tokenise(doc)\n",
        "    seen = set()\n",
        "    for word in words:\n",
        "        if word not in seen:\n",
        "            df[word] += 1.0\n",
        "            seen.add(word)\n",
        "\n",
        "#print(list(df.items())[:10])"
      ],
      "execution_count": null,
      "outputs": [
        {
          "output_type": "stream",
          "text": [
            "100%|██████████████████████████████████████████████████████████████████████████████| 424/424 [00:00<00:00, 1736.14it/s]\n"
          ],
          "name": "stderr"
        }
      ]
    },
    {
      "cell_type": "code",
      "metadata": {
        "id": "8aZN72_-aGpM",
        "outputId": "a4ebeab7-4fe4-410e-bcad-ca12fc81546f"
      },
      "source": [
        "num_docs = corpus.shape[0]\n",
        "idf = defaultdict(float)\n",
        "for word, val in tqdm(df.items()):\n",
        "    idf[word] = np.log((1.0 + num_docs) / (1.0 + val)) + 1.0  # smoothed idf\n",
        "\n",
        "print(list(idf.items())[:10])"
      ],
      "execution_count": null,
      "outputs": [
        {
          "output_type": "stream",
          "text": [
            "100%|██████████████████████████████████████████████████████████████████████████| 7794/7794 [00:00<00:00, 380736.37it/s]"
          ],
          "name": "stderr"
        },
        {
          "output_type": "stream",
          "text": [
            "[('welcomed', 4.279500446684636), ('bangalore', 3.874035338576471), ('photo', 4.161717411028253), ('addition', 4.218875824868201), ('parents', 5.665794807804526), ('successful', 5.665794807804526), ('got', 3.7562523029200876), ('john', 5.442651256490317), ('onbeskryklik', 5.106179019869104), ('grateful', 4.972647627244581)]\n"
          ],
          "name": "stdout"
        },
        {
          "output_type": "stream",
          "text": [
            "\n"
          ],
          "name": "stderr"
        }
      ]
    },
    {
      "cell_type": "markdown",
      "metadata": {
        "id": "2WrOpFwxdv5M"
      },
      "source": [
        "GloVe Feature Extraction technique"
      ]
    },
    {
      "cell_type": "code",
      "metadata": {
        "id": "XzpATDNpaGpN",
        "outputId": "e540cd14-2c96-4a75-ccd4-72a9bd04cfe3"
      },
      "source": [
        "# Load GLoVe word vectors\n",
        "f_glove = open(r\"C:\\Users\\Shreyansh\\Abhinav\\data\\glove.6B.50d.txt\", \"rb\")  # download from https://nlp.stanford.edu/projects/glove/\n",
        "glove_vectors = {}\n",
        "for line in tqdm(f_glove):\n",
        "    glove_vectors[str(line.split()[0]).split(\"'\")[1]] = np.array(list(map(float, line.split()[1:])))\n",
        "\n",
        "print(glove_vectors['glove'])"
      ],
      "execution_count": null,
      "outputs": [
        {
          "output_type": "stream",
          "text": [
            "400000it [00:11, 36176.36it/s]"
          ],
          "name": "stderr"
        },
        {
          "output_type": "stream",
          "text": [
            "[-1.2879   -0.14538  -0.016613  1.1387    1.1317    0.20705  -0.47351\n",
            "  0.15898   0.67879   0.2382    0.11621   0.26053  -0.8379    1.1232\n",
            "  0.31469  -0.47904  -0.33717  -0.34492  -0.72053  -1.0543   -0.58476\n",
            " -0.42184  -0.56977  -1.1697   -0.50389  -1.4706   -0.22005   1.1314\n",
            "  1.0829   -1.5477    0.77931  -0.22865   0.33369   0.52067   0.22109\n",
            "  1.1267    0.11704   1.1647    0.5875   -0.079243  0.022386  0.90118\n",
            " -0.37459   0.82637  -0.41061  -0.95039   0.44121  -0.58558   0.12594\n",
            " -0.71778 ]\n"
          ],
          "name": "stdout"
        },
        {
          "output_type": "stream",
          "text": [
            "\n"
          ],
          "name": "stderr"
        }
      ]
    },
    {
      "cell_type": "code",
      "metadata": {
        "scrolled": true,
        "id": "UWM1zdSDaGpO"
      },
      "source": [
        "# Convert a document to GloVe vectors, by computing tf-idf of each word * GLoVe of word / total tf-idf for document\n",
        "def doc_to_glove(doc):\n",
        "    doc_tf = doc_to_tf(doc)\n",
        "    doc_tf_idf = defaultdict(float)\n",
        "    for word, tf in doc_tf.items():\n",
        "        doc_tf_idf[word] = tf * idf[word]\n",
        "        \n",
        "    doc_vector = np.zeros(glove_vectors['glove'].shape[0])\n",
        "    if np.sum(list(doc_tf_idf.values())) == 0.0:  # edge case: document is empty\n",
        "        return doc_vector\n",
        "    \n",
        "    for word, tf_idf in doc_tf_idf.items():\n",
        "        if word in glove_vectors:\n",
        "            doc_vector += glove_vectors[word] * tf_idf\n",
        "    doc_vector /= np.sum(list(doc_tf_idf.values()))\n",
        "    return doc_vector\n",
        "\n"
      ],
      "execution_count": null,
      "outputs": []
    },
    {
      "cell_type": "code",
      "metadata": {
        "id": "ZPo-FxVHaGpQ"
      },
      "source": [
        "glove_headline = []\n",
        "for i in range(len(t_array)):\n",
        "    glove_headline.append(doc_to_glove(t_array[i, 0]))"
      ],
      "execution_count": null,
      "outputs": []
    },
    {
      "cell_type": "code",
      "metadata": {
        "id": "9zUKq-HqaGpR",
        "outputId": "94cd5d07-0019-4f5e-894c-778e6b4dc8e0"
      },
      "source": [
        "glove_headline[:10]"
      ],
      "execution_count": null,
      "outputs": [
        {
          "output_type": "execute_result",
          "data": {
            "text/plain": [
              "[array([ 0.33269946,  0.55483269, -0.06190495, -0.30818974,  0.64315097,\n",
              "         0.62104654, -0.4791666 ,  0.14079656,  0.02013338, -0.1913347 ,\n",
              "         0.30317227,  0.31674555, -0.05925187, -0.28481785,  0.43175645,\n",
              "         0.20327727, -0.59760263, -0.08641741,  0.2135973 ,  0.25038671,\n",
              "        -0.00947598,  0.67264614, -0.03642123, -0.03973158,  0.24946048,\n",
              "        -0.96524932, -0.25087619, -0.32130252, -0.20516491,  0.09603008,\n",
              "         0.99711737,  0.21244378, -0.07044095,  0.36507954,  0.37774453,\n",
              "        -0.30091184,  0.10626306, -0.00845811,  0.41154982, -0.14371404,\n",
              "        -0.08252437,  0.19121767,  0.03922226, -0.37256161,  0.34331371,\n",
              "        -0.15383554, -0.36888384, -0.68377103,  0.06393945,  0.16953702]),\n",
              " array([ 0.33269946,  0.55483269, -0.06190495, -0.30818974,  0.64315097,\n",
              "         0.62104654, -0.4791666 ,  0.14079656,  0.02013338, -0.1913347 ,\n",
              "         0.30317227,  0.31674555, -0.05925187, -0.28481785,  0.43175645,\n",
              "         0.20327727, -0.59760263, -0.08641741,  0.2135973 ,  0.25038671,\n",
              "        -0.00947598,  0.67264614, -0.03642123, -0.03973158,  0.24946048,\n",
              "        -0.96524932, -0.25087619, -0.32130252, -0.20516491,  0.09603008,\n",
              "         0.99711737,  0.21244378, -0.07044095,  0.36507954,  0.37774453,\n",
              "        -0.30091184,  0.10626306, -0.00845811,  0.41154982, -0.14371404,\n",
              "        -0.08252437,  0.19121767,  0.03922226, -0.37256161,  0.34331371,\n",
              "        -0.15383554, -0.36888384, -0.68377103,  0.06393945,  0.16953702]),\n",
              " array([ 0.33269946,  0.55483269, -0.06190495, -0.30818974,  0.64315097,\n",
              "         0.62104654, -0.4791666 ,  0.14079656,  0.02013338, -0.1913347 ,\n",
              "         0.30317227,  0.31674555, -0.05925187, -0.28481785,  0.43175645,\n",
              "         0.20327727, -0.59760263, -0.08641741,  0.2135973 ,  0.25038671,\n",
              "        -0.00947598,  0.67264614, -0.03642123, -0.03973158,  0.24946048,\n",
              "        -0.96524932, -0.25087619, -0.32130252, -0.20516491,  0.09603008,\n",
              "         0.99711737,  0.21244378, -0.07044095,  0.36507954,  0.37774453,\n",
              "        -0.30091184,  0.10626306, -0.00845811,  0.41154982, -0.14371404,\n",
              "        -0.08252437,  0.19121767,  0.03922226, -0.37256161,  0.34331371,\n",
              "        -0.15383554, -0.36888384, -0.68377103,  0.06393945,  0.16953702]),\n",
              " array([ 0.33269946,  0.55483269, -0.06190495, -0.30818974,  0.64315097,\n",
              "         0.62104654, -0.4791666 ,  0.14079656,  0.02013338, -0.1913347 ,\n",
              "         0.30317227,  0.31674555, -0.05925187, -0.28481785,  0.43175645,\n",
              "         0.20327727, -0.59760263, -0.08641741,  0.2135973 ,  0.25038671,\n",
              "        -0.00947598,  0.67264614, -0.03642123, -0.03973158,  0.24946048,\n",
              "        -0.96524932, -0.25087619, -0.32130252, -0.20516491,  0.09603008,\n",
              "         0.99711737,  0.21244378, -0.07044095,  0.36507954,  0.37774453,\n",
              "        -0.30091184,  0.10626306, -0.00845811,  0.41154982, -0.14371404,\n",
              "        -0.08252437,  0.19121767,  0.03922226, -0.37256161,  0.34331371,\n",
              "        -0.15383554, -0.36888384, -0.68377103,  0.06393945,  0.16953702]),\n",
              " array([ 0.33269946,  0.55483269, -0.06190495, -0.30818974,  0.64315097,\n",
              "         0.62104654, -0.4791666 ,  0.14079656,  0.02013338, -0.1913347 ,\n",
              "         0.30317227,  0.31674555, -0.05925187, -0.28481785,  0.43175645,\n",
              "         0.20327727, -0.59760263, -0.08641741,  0.2135973 ,  0.25038671,\n",
              "        -0.00947598,  0.67264614, -0.03642123, -0.03973158,  0.24946048,\n",
              "        -0.96524932, -0.25087619, -0.32130252, -0.20516491,  0.09603008,\n",
              "         0.99711737,  0.21244378, -0.07044095,  0.36507954,  0.37774453,\n",
              "        -0.30091184,  0.10626306, -0.00845811,  0.41154982, -0.14371404,\n",
              "        -0.08252437,  0.19121767,  0.03922226, -0.37256161,  0.34331371,\n",
              "        -0.15383554, -0.36888384, -0.68377103,  0.06393945,  0.16953702]),\n",
              " array([ 0.33269946,  0.55483269, -0.06190495, -0.30818974,  0.64315097,\n",
              "         0.62104654, -0.4791666 ,  0.14079656,  0.02013338, -0.1913347 ,\n",
              "         0.30317227,  0.31674555, -0.05925187, -0.28481785,  0.43175645,\n",
              "         0.20327727, -0.59760263, -0.08641741,  0.2135973 ,  0.25038671,\n",
              "        -0.00947598,  0.67264614, -0.03642123, -0.03973158,  0.24946048,\n",
              "        -0.96524932, -0.25087619, -0.32130252, -0.20516491,  0.09603008,\n",
              "         0.99711737,  0.21244378, -0.07044095,  0.36507954,  0.37774453,\n",
              "        -0.30091184,  0.10626306, -0.00845811,  0.41154982, -0.14371404,\n",
              "        -0.08252437,  0.19121767,  0.03922226, -0.37256161,  0.34331371,\n",
              "        -0.15383554, -0.36888384, -0.68377103,  0.06393945,  0.16953702]),\n",
              " array([ 0.33269946,  0.55483269, -0.06190495, -0.30818974,  0.64315097,\n",
              "         0.62104654, -0.4791666 ,  0.14079656,  0.02013338, -0.1913347 ,\n",
              "         0.30317227,  0.31674555, -0.05925187, -0.28481785,  0.43175645,\n",
              "         0.20327727, -0.59760263, -0.08641741,  0.2135973 ,  0.25038671,\n",
              "        -0.00947598,  0.67264614, -0.03642123, -0.03973158,  0.24946048,\n",
              "        -0.96524932, -0.25087619, -0.32130252, -0.20516491,  0.09603008,\n",
              "         0.99711737,  0.21244378, -0.07044095,  0.36507954,  0.37774453,\n",
              "        -0.30091184,  0.10626306, -0.00845811,  0.41154982, -0.14371404,\n",
              "        -0.08252437,  0.19121767,  0.03922226, -0.37256161,  0.34331371,\n",
              "        -0.15383554, -0.36888384, -0.68377103,  0.06393945,  0.16953702]),\n",
              " array([-0.28490566, -0.35637218, -0.05925073, -0.0899332 , -0.08011744,\n",
              "         0.10905648, -0.55036779, -0.10415039,  0.14545019,  0.24108771,\n",
              "         0.3314593 , -0.03235509, -0.35060762,  0.09941897,  0.56029151,\n",
              "         0.03936814, -0.03475371,  0.05798225, -0.32576328, -0.16312595,\n",
              "        -0.07023686,  0.16361391,  0.43429217,  0.11987158, -0.17759725,\n",
              "        -1.15087916,  0.18557935,  0.04745329,  0.08175083, -0.34330475,\n",
              "         1.50159371,  0.2942015 , -0.32086944, -0.08675633, -0.13993991,\n",
              "         0.10164879,  0.32477262,  0.32304339, -0.20678358,  0.14399134,\n",
              "        -0.0037105 ,  0.12309531, -0.01747854,  0.35995946,  0.2044711 ,\n",
              "        -0.0909985 , -0.52043388, -0.06158357, -0.00729612, -0.33389103]),\n",
              " array([-0.28490566, -0.35637218, -0.05925073, -0.0899332 , -0.08011744,\n",
              "         0.10905648, -0.55036779, -0.10415039,  0.14545019,  0.24108771,\n",
              "         0.3314593 , -0.03235509, -0.35060762,  0.09941897,  0.56029151,\n",
              "         0.03936814, -0.03475371,  0.05798225, -0.32576328, -0.16312595,\n",
              "        -0.07023686,  0.16361391,  0.43429217,  0.11987158, -0.17759725,\n",
              "        -1.15087916,  0.18557935,  0.04745329,  0.08175083, -0.34330475,\n",
              "         1.50159371,  0.2942015 , -0.32086944, -0.08675633, -0.13993991,\n",
              "         0.10164879,  0.32477262,  0.32304339, -0.20678358,  0.14399134,\n",
              "        -0.0037105 ,  0.12309531, -0.01747854,  0.35995946,  0.2044711 ,\n",
              "        -0.0909985 , -0.52043388, -0.06158357, -0.00729612, -0.33389103]),\n",
              " array([-0.28490566, -0.35637218, -0.05925073, -0.0899332 , -0.08011744,\n",
              "         0.10905648, -0.55036779, -0.10415039,  0.14545019,  0.24108771,\n",
              "         0.3314593 , -0.03235509, -0.35060762,  0.09941897,  0.56029151,\n",
              "         0.03936814, -0.03475371,  0.05798225, -0.32576328, -0.16312595,\n",
              "        -0.07023686,  0.16361391,  0.43429217,  0.11987158, -0.17759725,\n",
              "        -1.15087916,  0.18557935,  0.04745329,  0.08175083, -0.34330475,\n",
              "         1.50159371,  0.2942015 , -0.32086944, -0.08675633, -0.13993991,\n",
              "         0.10164879,  0.32477262,  0.32304339, -0.20678358,  0.14399134,\n",
              "        -0.0037105 ,  0.12309531, -0.01747854,  0.35995946,  0.2044711 ,\n",
              "        -0.0909985 , -0.52043388, -0.06158357, -0.00729612, -0.33389103])]"
            ]
          },
          "metadata": {
            "tags": []
          },
          "execution_count": 42
        }
      ]
    },
    {
      "cell_type": "markdown",
      "metadata": {
        "id": "dxP5jONIaGpS"
      },
      "source": [
        "## For Article"
      ]
    },
    {
      "cell_type": "code",
      "metadata": {
        "id": "bb-rvBgNaGpT",
        "outputId": "5d7ed504-d30e-4039-d26a-1cbb6639acc6"
      },
      "source": [
        "t_array[8,1]"
      ],
      "execution_count": null,
      "outputs": [
        {
          "output_type": "execute_result",
          "data": {
            "text/plain": [
              "'germany suit indian says scientists vaccinated rare sweden instance astrazeneca woman cases forms march reports division safe france full clots serious scientist germanybased report health valid suspend week sideeffects quoted vein analysed thrombosis following said vaccine ema events reported soumya head immune review institute officials recommendations monitoring bleeding iceland italy bruising probed bulk precautionary observed wait instances complete needs measure major disease european recommend coronavirus diseases caused drive rules panda medicines thrombocytopenia suspended continue chief swaminathan reason vaccination vaccinating say steps death research based ruled last friday safety latvia administered several lead country number link epidemiology first world nations deficiency read underlying india halt panic followed news paulehrlichinstitut council process denmark medical corresponds possible use vaccinations time organization platelets inoculated countries take called conditions form communicable bulgaria hold saying post cerebral put blood lack population including want reliant eu vaccines agency people ongoing samiran covishield'"
            ]
          },
          "metadata": {
            "tags": []
          },
          "execution_count": 43
        }
      ]
    },
    {
      "cell_type": "code",
      "metadata": {
        "id": "TR0FjZswaGpT"
      },
      "source": [
        "# Compute term-frequency of words in documents\n",
        "def doc_to_tf(text, ngram=1):          #ngram=1\n",
        "    words = tokenise(text)\n",
        "    ret = defaultdict(float)\n",
        "    for i in range(len(words)):\n",
        "        for j in range(1, ngram+1):\n",
        "            if i - j < 0:\n",
        "                break\n",
        "            word = [words[i-k] for k in range(j)]\n",
        "            ret[word[0] if ngram == 1 else tuple(word)] += 1.0\n",
        "    return ret"
      ],
      "execution_count": null,
      "outputs": []
    },
    {
      "cell_type": "code",
      "metadata": {
        "scrolled": true,
        "id": "pnOtNu99aGpU"
      },
      "source": [
        "basket_article = []\n",
        "for i in range(len(t_array)):\n",
        "    #print(doc_to_tf(text = t_array[i,0]))\n",
        "    basket_article.append(doc_to_tf(text = t_array[i,1]))"
      ],
      "execution_count": null,
      "outputs": []
    },
    {
      "cell_type": "code",
      "metadata": {
        "id": "mjGTHimTaGpV",
        "outputId": "86484c7a-e4d4-4ef5-fc10-43ab158a3cda"
      },
      "source": [
        "print(len(basket_article))\n",
        "print(basket_article[5])"
      ],
      "execution_count": null,
      "outputs": [
        {
          "output_type": "stream",
          "text": [
            "212\n",
            "defaultdict(<class 'float'>, {'extended': 1.0, 'postponed': 1.0, 'bangalore': 1.0, 'international': 1.0, 'photo': 1.0, 'addition': 1.0, 'stage': 1.0, 'represents': 1.0, 'parents': 1.0, 'cape': 1.0, 'comeback': 1.0, 'wanted': 1.0, 'future': 1.0, 'got': 1.0, 'expected': 1.0, 'john': 1.0, 'grapples': 1.0, 'forms': 1.0, 'sunrisers': 1.0, 'march': 1.0, 'onbeskryklik': 1.0, 'grateful': 1.0, 'average': 1.0, 'adorable': 1.0, 'family': 1.0, 'league': 1.0, 'beautiful': 1.0, 'period': 1.0, 'become': 1.0, 'son': 1.0, 'bash': 1.0, 'tour': 1.0, 'groot': 1.0, 'ipl': 1.0, 'trophy': 1.0, 'child': 1.0, 'eliminator': 1.0, 'wrote': 1.0, 'leading': 1.0, 'overseas': 1.0, 'make': 1.0, 'sharing': 1.0, 'ab': 1.0, 'announced': 1.0, 'runs': 1.0, 'genade': 1.0, 'bbl': 1.0, 'shared': 1.0, 'africa': 1.0, 'matches': 1.0, 'town': 1.0, 'handle': 1.0, 'marchapril': 1.0, 'wait': 1.0, 'little': 1.0, 'measure': 1.0, 'yente': 1.0, 'featured': 1.0, 'named': 1.0, 'close': 1.0, 'cup': 1.0, 'lost': 1.0, 'third': 1.0, 'coronavirus': 1.0, 'girl': 1.0, 'bubble': 1.0, 'biosecure': 1.0, 'born': 1.0, 'visits': 1.0, 'villiers': 1.0, 'year': 1.0, 'second': 1.0, 'cricket': 1.0, 'heat': 1.0, 'pakistan': 1.0, 'perfect': 1.0, 'abraham': 1.0, 'tried': 1.0, 'sri': 1.0, 'challengers': 1.0, 'proud': 1.0, 'magnificent': 1.0, 'country': 1.0, 'opted': 1.0, 'see': 1.0, 'host': 1.0, 'blessing': 1.0, 'first': 1.0, 'baby': 1.0, 'instagram': 1.0, 'world': 1.0, 'england': 1.0, 'match': 1.0, 'followed': 1.0, 'players': 1.0, 'miss': 1.0, 'royal': 1.0, 'scored': 1.0, 'towards': 1.0, 'beginning': 1.0, 'danielle': 1.0, 'made': 1.0, 'next': 1.0, 'south': 1.0, 'dankie': 1.0, 'married': 1.0, 'time': 1.0, 'hyderabad': 1.0, 'spending': 1.0, 'big': 1.0, 'australia': 1.0, 'brisbane': 1.0, 'form': 1.0, 'post': 1.0, 'interesting': 1.0, 'strikerate': 1.0, 'wife': 1.0, 'lanka': 1.0, 'retirement': 1.0})\n"
          ],
          "name": "stdout"
        }
      ]
    },
    {
      "cell_type": "code",
      "metadata": {
        "id": "_X0e64LKaGpW",
        "outputId": "d72f8395-8ba2-4b4c-d55c-50e33bcecb75"
      },
      "source": [
        "Train_1.iloc[2,1]"
      ],
      "execution_count": null,
      "outputs": [
        {
          "output_type": "execute_result",
          "data": {
            "text/plain": [
              "'smile welcomed royal duo villers girl standing bangalore addition groot ipl losing smashed villiers eliminator south villierson dankie captioned batsman former rcb hyderabad bowed showpiece postin concluded perfect ab announced cricketer challengers runs thursdayde righthanded virat daughter heartwarming genade srh shared registered strike wife man rate edition sunrisers seen share african kohliled pretoria halfcenturies onbeskryklik grateful eventde blessing baby instagram family yente world named measure revealed tournament side batting beautiful line mainstay picture'"
            ]
          },
          "metadata": {
            "tags": []
          },
          "execution_count": 47
        }
      ]
    },
    {
      "cell_type": "code",
      "metadata": {
        "scrolled": true,
        "id": "DIeS9ISGaGpX"
      },
      "source": [
        "# Build corpus of article bodies and headlines in training dataset\n",
        "corpus = np.r_[t_array[:, 1], t_array[:, 0]]  # 0 to 44973 are bodies, 44974 to 89943 are headlines\n",
        "\n",
        "#print(corpus[44974//100])\n",
        "#print(corpus[0])"
      ],
      "execution_count": null,
      "outputs": []
    },
    {
      "cell_type": "code",
      "metadata": {
        "id": "bIOiD-TxaGpX",
        "outputId": "737e9882-9de1-474d-cba0-7923e27c62a0"
      },
      "source": [
        "len(corpus)"
      ],
      "execution_count": null,
      "outputs": [
        {
          "output_type": "execute_result",
          "data": {
            "text/plain": [
              "424"
            ]
          },
          "metadata": {
            "tags": []
          },
          "execution_count": 49
        }
      ]
    },
    {
      "cell_type": "code",
      "metadata": {
        "id": "Bc858VPvaGpY",
        "outputId": "80aa9401-4b2e-4ca7-8eca-14079c43ff64"
      },
      "source": [
        "99944/2"
      ],
      "execution_count": null,
      "outputs": [
        {
          "output_type": "execute_result",
          "data": {
            "text/plain": [
              "49972.0"
            ]
          },
          "metadata": {
            "tags": []
          },
          "execution_count": 50
        }
      ]
    },
    {
      "cell_type": "code",
      "metadata": {
        "scrolled": true,
        "id": "UP-ISpRPaGpZ",
        "outputId": "4abc4cb0-efbd-422b-d9e9-86b6aa815694"
      },
      "source": [
        "len(t_array[:, 1])"
      ],
      "execution_count": null,
      "outputs": [
        {
          "output_type": "execute_result",
          "data": {
            "text/plain": [
              "212"
            ]
          },
          "metadata": {
            "tags": []
          },
          "execution_count": 51
        }
      ]
    },
    {
      "cell_type": "code",
      "metadata": {
        "id": "9gqshrdNaGpa",
        "outputId": "ff8d9d77-8dbf-4b18-b7ff-d933d363dbd3"
      },
      "source": [
        "# Learn idf of every word in the corpus\n",
        "df = defaultdict(float)\n",
        "for doc in tqdm(corpus):\n",
        "    words = tokenise(doc)\n",
        "    seen = set()\n",
        "    for word in words:\n",
        "        if word not in seen:\n",
        "            df[word] += 1.0\n",
        "            seen.add(word)\n",
        "\n",
        "#print(list(df.items())[:10])"
      ],
      "execution_count": null,
      "outputs": [
        {
          "output_type": "stream",
          "text": [
            "100%|██████████████████████████████████████████████████████████████████████████████| 424/424 [00:00<00:00, 1755.60it/s]\n"
          ],
          "name": "stderr"
        }
      ]
    },
    {
      "cell_type": "code",
      "metadata": {
        "id": "ZLUehJGUaGpb",
        "outputId": "fb5b07e7-6357-4238-ef89-29e68860e6b3"
      },
      "source": [
        "num_docs = corpus.shape[0]\n",
        "idf = defaultdict(float)\n",
        "for word, val in tqdm(df.items()):\n",
        "    idf[word] = np.log((1.0 + num_docs) / (1.0 + val)) + 1.0  # smoothed idf\n",
        "\n",
        "#print(list(idf.items())[:10])"
      ],
      "execution_count": null,
      "outputs": [
        {
          "output_type": "stream",
          "text": [
            "100%|██████████████████████████████████████████████████████████████████████████| 7794/7794 [00:00<00:00, 487058.69it/s]\n"
          ],
          "name": "stderr"
        }
      ]
    },
    {
      "cell_type": "code",
      "metadata": {
        "id": "y653wRJRaGpc",
        "outputId": "9ee3df12-a3f0-44a6-fd20-037b5068593d"
      },
      "source": [
        "# Load GLoVe word vectors\n",
        "f_glove = open(r\"C:\\Users\\Shreyansh\\Abhinav\\data\\glove.6B.50d.txt\", \"rb\")  # download from https://nlp.stanford.edu/projects/glove/\n",
        "glove_vectors = {}\n",
        "for line in tqdm(f_glove):\n",
        "    glove_vectors[str(line.split()[0]).split(\"'\")[1]] = np.array(list(map(float, line.split()[1:])))\n",
        "\n",
        "print(glove_vectors['glove'])"
      ],
      "execution_count": null,
      "outputs": [
        {
          "output_type": "stream",
          "text": [
            "400000it [00:09, 41863.20it/s]"
          ],
          "name": "stderr"
        },
        {
          "output_type": "stream",
          "text": [
            "[-1.2879   -0.14538  -0.016613  1.1387    1.1317    0.20705  -0.47351\n",
            "  0.15898   0.67879   0.2382    0.11621   0.26053  -0.8379    1.1232\n",
            "  0.31469  -0.47904  -0.33717  -0.34492  -0.72053  -1.0543   -0.58476\n",
            " -0.42184  -0.56977  -1.1697   -0.50389  -1.4706   -0.22005   1.1314\n",
            "  1.0829   -1.5477    0.77931  -0.22865   0.33369   0.52067   0.22109\n",
            "  1.1267    0.11704   1.1647    0.5875   -0.079243  0.022386  0.90118\n",
            " -0.37459   0.82637  -0.41061  -0.95039   0.44121  -0.58558   0.12594\n",
            " -0.71778 ]\n"
          ],
          "name": "stdout"
        },
        {
          "output_type": "stream",
          "text": [
            "\n"
          ],
          "name": "stderr"
        }
      ]
    },
    {
      "cell_type": "code",
      "metadata": {
        "scrolled": true,
        "id": "s_5H-_N1aGpd"
      },
      "source": [
        "# Convert a document to GloVe vectors, by computing tf-idf of each word * GLoVe of word / total tf-idf for document\n",
        "def doc_to_glove(doc):\n",
        "    doc_tf = doc_to_tf(doc)\n",
        "    doc_tf_idf = defaultdict(float)\n",
        "    for word, tf in doc_tf.items():\n",
        "        doc_tf_idf[word] = tf * idf[word]\n",
        "        \n",
        "    doc_vector = np.zeros(glove_vectors['glove'].shape[0])\n",
        "    if np.sum(list(doc_tf_idf.values())) == 0.0:  # edge case: document is empty\n",
        "        return doc_vector\n",
        "    \n",
        "    for word, tf_idf in doc_tf_idf.items():\n",
        "        if word in glove_vectors:\n",
        "            doc_vector += glove_vectors[word] * tf_idf\n",
        "    doc_vector /= np.sum(list(doc_tf_idf.values()))\n",
        "    return doc_vector\n",
        "\n"
      ],
      "execution_count": null,
      "outputs": []
    },
    {
      "cell_type": "code",
      "metadata": {
        "id": "6ElwXQfJaGpe"
      },
      "source": [
        "glove_article = []\n",
        "for i in range(len(t_array)):\n",
        "    glove_article.append(doc_to_glove(t_array[i, 1]))"
      ],
      "execution_count": null,
      "outputs": []
    },
    {
      "cell_type": "code",
      "metadata": {
        "id": "-Gv_jmAbaGpf",
        "outputId": "8aedc7dd-a15b-43c6-a93e-c677f1f1c73b"
      },
      "source": [
        "glove_article[10]"
      ],
      "execution_count": null,
      "outputs": [
        {
          "output_type": "execute_result",
          "data": {
            "text/plain": [
              "array([ 0.24944906,  0.01270307,  0.04333798,  0.01360225, -0.10284287,\n",
              "        0.02339025, -0.29621322, -0.13422801,  0.2381476 , -0.17886502,\n",
              "        0.01288713, -0.04457097,  0.00641934,  0.05143902,  0.05569201,\n",
              "        0.20803311, -0.11845131,  0.05552329,  0.08567975, -0.14430477,\n",
              "        0.19686164, -0.05085536, -0.10740593,  0.16035365, -0.24411117,\n",
              "       -0.68727532,  0.04170302, -0.10241403, -0.20016445, -0.07364554,\n",
              "        1.74454855,  0.21752061, -0.22254035, -0.21230207,  0.16307111,\n",
              "        0.09890283,  0.24044105,  0.061016  ,  0.07595674, -0.09409918,\n",
              "       -0.08210577, -0.0514394 ,  0.03331335,  0.24122107, -0.17488019,\n",
              "        0.15372749, -0.10086545,  0.222566  ,  0.0664698 ,  0.07903243])"
            ]
          },
          "metadata": {
            "tags": []
          },
          "execution_count": 59
        }
      ]
    },
    {
      "cell_type": "code",
      "metadata": {
        "id": "tDjJPGx_aGph",
        "outputId": "e451fe8a-c1de-4b43-c886-3bc3a0cab8f9"
      },
      "source": [
        "len(glove_headline)"
      ],
      "execution_count": null,
      "outputs": [
        {
          "output_type": "execute_result",
          "data": {
            "text/plain": [
              "212"
            ]
          },
          "metadata": {
            "tags": []
          },
          "execution_count": 60
        }
      ]
    },
    {
      "cell_type": "code",
      "metadata": {
        "id": "HYYOjNNbaGpi",
        "outputId": "b499cbed-5282-43bb-aaaf-3d55bd05de05"
      },
      "source": [
        "len(glove_article)"
      ],
      "execution_count": null,
      "outputs": [
        {
          "output_type": "execute_result",
          "data": {
            "text/plain": [
              "212"
            ]
          },
          "metadata": {
            "tags": []
          },
          "execution_count": 61
        }
      ]
    },
    {
      "cell_type": "markdown",
      "metadata": {
        "id": "e3rwOHsLaGpi"
      },
      "source": [
        "# Calculating glove_similarity"
      ]
    },
    {
      "cell_type": "code",
      "metadata": {
        "id": "RPB0T3LkaGpj"
      },
      "source": [
        "# Compute cosine similarity of GLoVe vectors for all headline-body pairs\n",
        "def dot_product(vec1, vec2):\n",
        "    sigma = 0.0\n",
        "    for i in range(vec1.shape[0]):  # assume vec1 and vec2 has same shape\n",
        "        sigma += vec1[i] * vec2[i]\n",
        "    return sigma\n",
        "    \n",
        "def magnitude(vec):\n",
        "    return np.sqrt(np.sum(np.square(vec)))"
      ],
      "execution_count": null,
      "outputs": []
    },
    {
      "cell_type": "code",
      "metadata": {
        "id": "rSzRRTegaGpk",
        "outputId": "41620dad-2214-48cc-9073-1f2b3783285a"
      },
      "source": [
        "glove_headline[0]"
      ],
      "execution_count": null,
      "outputs": [
        {
          "output_type": "execute_result",
          "data": {
            "text/plain": [
              "array([ 0.33269946,  0.55483269, -0.06190495, -0.30818974,  0.64315097,\n",
              "        0.62104654, -0.4791666 ,  0.14079656,  0.02013338, -0.1913347 ,\n",
              "        0.30317227,  0.31674555, -0.05925187, -0.28481785,  0.43175645,\n",
              "        0.20327727, -0.59760263, -0.08641741,  0.2135973 ,  0.25038671,\n",
              "       -0.00947598,  0.67264614, -0.03642123, -0.03973158,  0.24946048,\n",
              "       -0.96524932, -0.25087619, -0.32130252, -0.20516491,  0.09603008,\n",
              "        0.99711737,  0.21244378, -0.07044095,  0.36507954,  0.37774453,\n",
              "       -0.30091184,  0.10626306, -0.00845811,  0.41154982, -0.14371404,\n",
              "       -0.08252437,  0.19121767,  0.03922226, -0.37256161,  0.34331371,\n",
              "       -0.15383554, -0.36888384, -0.68377103,  0.06393945,  0.16953702])"
            ]
          },
          "metadata": {
            "tags": []
          },
          "execution_count": 63
        }
      ]
    },
    {
      "cell_type": "code",
      "metadata": {
        "id": "jTbZZoK3aGpk"
      },
      "source": [
        "# create cosine similarity function\n",
        "        \n",
        "def cosine_similarity(head , body):\n",
        "    headline_vector = head\n",
        "    body_vector = body\n",
        "    \n",
        "    if magnitude(headline_vector) == 0.0 or magnitude(body_vector) == 0.0:  # edge case: document is empty\n",
        "        return 0.0\n",
        "    \n",
        "    return dot_product(headline_vector, body_vector) / (magnitude(headline_vector) * magnitude(body_vector))\n",
        "\n",
        "# for i in range(len(t_array[i])):\n",
        "#     # unrelated should have lower than rest\n",
        "#     print(cosine_similarity(t_array[i]), t_array[i, 2])\n",
        "# #print(cosine_similarity(train_all[27069//100]), tokenise(train_all[27069//100, 0]), tokenise(train_all[2706//100, 1]))  # edge case"
      ],
      "execution_count": null,
      "outputs": []
    },
    {
      "cell_type": "code",
      "metadata": {
        "scrolled": true,
        "id": "OUP9pifuaGpl"
      },
      "source": [
        "glove_similarity = []\n",
        "for i in range(len(glove_headline)):\n",
        "    glove_similarity.append(cosine_similarity(head = glove_headline[i] ,body =  glove_article[i]))"
      ],
      "execution_count": null,
      "outputs": []
    },
    {
      "cell_type": "code",
      "metadata": {
        "id": "LyFKli4daGpl",
        "outputId": "a49bf38b-efc3-4d5a-9ef8-a1be89a15d51"
      },
      "source": [
        "len(glove_similarity)"
      ],
      "execution_count": null,
      "outputs": [
        {
          "output_type": "execute_result",
          "data": {
            "text/plain": [
              "212"
            ]
          },
          "metadata": {
            "tags": []
          },
          "execution_count": 66
        }
      ]
    },
    {
      "cell_type": "code",
      "metadata": {
        "id": "2IeuG-cZaGpm"
      },
      "source": [
        "Train_data2['glove_similarity'] = glove_similarity"
      ],
      "execution_count": null,
      "outputs": []
    },
    {
      "cell_type": "code",
      "metadata": {
        "id": "3cKLmHlZaGpn"
      },
      "source": [
        "Train_data = Train_data2[[\"Headline_pos\",\"articleBody_pos\",\"Stance\",\"glove_similarity\"]]"
      ],
      "execution_count": null,
      "outputs": []
    },
    {
      "cell_type": "code",
      "metadata": {
        "scrolled": false,
        "id": "8t1foj53aGpn",
        "outputId": "f0dfaf75-e2a7-49e8-f391-6d05cdb17440"
      },
      "source": [
        "Train_data.tail()"
      ],
      "execution_count": null,
      "outputs": [
        {
          "output_type": "execute_result",
          "data": {
            "text/html": [
              "<div>\n",
              "<style scoped>\n",
              "    .dataframe tbody tr th:only-of-type {\n",
              "        vertical-align: middle;\n",
              "    }\n",
              "\n",
              "    .dataframe tbody tr th {\n",
              "        vertical-align: top;\n",
              "    }\n",
              "\n",
              "    .dataframe thead th {\n",
              "        text-align: right;\n",
              "    }\n",
              "</style>\n",
              "<table border=\"1\" class=\"dataframe\">\n",
              "  <thead>\n",
              "    <tr style=\"text-align: right;\">\n",
              "      <th></th>\n",
              "      <th>Headline_pos</th>\n",
              "      <th>articleBody_pos</th>\n",
              "      <th>Stance</th>\n",
              "      <th>glove_similarity</th>\n",
              "    </tr>\n",
              "  </thead>\n",
              "  <tbody>\n",
              "    <tr>\n",
              "      <th>207</th>\n",
              "      <td>death sumitra sabha former mahajan lok speaker</td>\n",
              "      <td>adjourn feeling ministers mahajan extended rai...</td>\n",
              "      <td>Unrelated</td>\n",
              "      <td>0.355417</td>\n",
              "    </tr>\n",
              "    <tr>\n",
              "      <th>208</th>\n",
              "      <td>death sumitra sabha former mahajan lok speaker</td>\n",
              "      <td>rajiv banerjee prime formed mahajan sangma car...</td>\n",
              "      <td>Unrelated</td>\n",
              "      <td>0.515898</td>\n",
              "    </tr>\n",
              "    <tr>\n",
              "      <th>209</th>\n",
              "      <td>death sumitra sabha former mahajan lok speaker</td>\n",
              "      <td>claimed prime mahajan outgoing congress candid...</td>\n",
              "      <td>Unrelated</td>\n",
              "      <td>0.492309</td>\n",
              "    </tr>\n",
              "    <tr>\n",
              "      <th>210</th>\n",
              "      <td>death sumitra sabha former mahajan lok speaker</td>\n",
              "      <td>shows impasse mps backing prime mahajan slow c...</td>\n",
              "      <td>Unrelated</td>\n",
              "      <td>0.462420</td>\n",
              "    </tr>\n",
              "    <tr>\n",
              "      <th>211</th>\n",
              "      <td>death sumitra sabha former mahajan lok speaker</td>\n",
              "      <td>followed become prime government participated ...</td>\n",
              "      <td>Unrelated</td>\n",
              "      <td>0.429144</td>\n",
              "    </tr>\n",
              "  </tbody>\n",
              "</table>\n",
              "</div>"
            ],
            "text/plain": [
              "                                       Headline_pos  \\\n",
              "207  death sumitra sabha former mahajan lok speaker   \n",
              "208  death sumitra sabha former mahajan lok speaker   \n",
              "209  death sumitra sabha former mahajan lok speaker   \n",
              "210  death sumitra sabha former mahajan lok speaker   \n",
              "211  death sumitra sabha former mahajan lok speaker   \n",
              "\n",
              "                                       articleBody_pos     Stance  \\\n",
              "207  adjourn feeling ministers mahajan extended rai...  Unrelated   \n",
              "208  rajiv banerjee prime formed mahajan sangma car...  Unrelated   \n",
              "209  claimed prime mahajan outgoing congress candid...  Unrelated   \n",
              "210  shows impasse mps backing prime mahajan slow c...  Unrelated   \n",
              "211  followed become prime government participated ...  Unrelated   \n",
              "\n",
              "     glove_similarity  \n",
              "207          0.355417  \n",
              "208          0.515898  \n",
              "209          0.492309  \n",
              "210          0.462420  \n",
              "211          0.429144  "
            ]
          },
          "metadata": {
            "tags": []
          },
          "execution_count": 71
        }
      ]
    },
    {
      "cell_type": "markdown",
      "metadata": {
        "id": "dTWRNn9jaGpo"
      },
      "source": [
        "# kl_divergence"
      ]
    },
    {
      "cell_type": "code",
      "metadata": {
        "id": "ai4ym5R8aGpo"
      },
      "source": [
        "# Compute the KL-Divergence of language model (LM) representations of the headline and the body\n",
        "def divergence(lm1, lm2):\n",
        "    sigma = 0.0\n",
        "    for i in range(lm1.shape[0]):  # assume lm1 and lm2 has same shape\n",
        "        sigma += lm1[i] * np.log(lm1[i] / lm2[i])\n",
        "    return sigma"
      ],
      "execution_count": null,
      "outputs": []
    },
    {
      "cell_type": "markdown",
      "metadata": {
        "id": "f5o7AKWjaGpp"
      },
      "source": [
        "## Input should be after  doc_to_tf for headline and article"
      ]
    },
    {
      "cell_type": "code",
      "metadata": {
        "id": "Zjy8UdjUaGpq",
        "outputId": "a54a7e40-a5b0-4515-f258-d7fb3194505a"
      },
      "source": [
        "len(basket_article)"
      ],
      "execution_count": null,
      "outputs": [
        {
          "output_type": "execute_result",
          "data": {
            "text/plain": [
              "212"
            ]
          },
          "metadata": {
            "tags": []
          },
          "execution_count": 73
        }
      ]
    },
    {
      "cell_type": "code",
      "metadata": {
        "id": "t5rgGeXwaGpq",
        "outputId": "c171198a-372e-4e82-d57b-f94eb62cd80b"
      },
      "source": [
        "len(basket)"
      ],
      "execution_count": null,
      "outputs": [
        {
          "output_type": "execute_result",
          "data": {
            "text/plain": [
              "212"
            ]
          },
          "metadata": {
            "tags": []
          },
          "execution_count": 74
        }
      ]
    },
    {
      "cell_type": "code",
      "metadata": {
        "id": "_lwj_QZuaGpr"
      },
      "source": [
        "def kl_divergence(head , article, eps=0.1):\n",
        "    # Convert headline and body to 1-gram representations\n",
        "    tf_headline = head\n",
        "    tf_body = article\n",
        "    # Convert dictionary tf representations to vectors (make sure columns match to the same word)\n",
        "    words = set(tf_headline.keys()).union(set(tf_body.keys()))\n",
        "    vec_headline, vec_body = np.zeros(len(words)), np.zeros(len(words))\n",
        "    i = 0\n",
        "    for word in words:\n",
        "        vec_headline[i] += tf_headline[word]\n",
        "        vec_body[i] = tf_body[word]\n",
        "        i += 1\n",
        "    \n",
        "    # Compute a simple 1-gram language model of headline and body\n",
        "    lm_headline = vec_headline + eps\n",
        "    lm_headline /= np.sum(lm_headline)\n",
        "    lm_body = vec_body + eps\n",
        "    lm_body /= np.sum(lm_body)\n",
        "    \n",
        "    # Return KL-divergence of both language models\n",
        "    return divergence(lm_headline, lm_body)\n"
      ],
      "execution_count": null,
      "outputs": []
    },
    {
      "cell_type": "code",
      "metadata": {
        "scrolled": false,
        "id": "KTcPxW0qaGps",
        "outputId": "af023686-4c51-44fb-bb2e-86a19578c3e5"
      },
      "source": [
        "kl_divergence(head = basket[15], article = basket_article[15])"
      ],
      "execution_count": null,
      "outputs": [
        {
          "output_type": "execute_result",
          "data": {
            "text/plain": [
              "0.01723724924324317"
            ]
          },
          "metadata": {
            "tags": []
          },
          "execution_count": 76
        }
      ]
    },
    {
      "cell_type": "code",
      "metadata": {
        "id": "qlDdjstDaGps",
        "outputId": "5430ca54-0943-4384-9951-f85020488df5"
      },
      "source": [
        "len(t_array)"
      ],
      "execution_count": null,
      "outputs": [
        {
          "output_type": "execute_result",
          "data": {
            "text/plain": [
              "212"
            ]
          },
          "metadata": {
            "tags": []
          },
          "execution_count": 77
        }
      ]
    },
    {
      "cell_type": "code",
      "metadata": {
        "id": "wbfYD-0_aGpt"
      },
      "source": [
        "kl_diverge_list = []\n",
        "for i in range(len(t_array)):\n",
        "    kl_diverge_list.append(kl_divergence(head = basket[i], article = basket_article[i]))"
      ],
      "execution_count": null,
      "outputs": []
    },
    {
      "cell_type": "code",
      "metadata": {
        "id": "4lQwhh4CaGpu",
        "outputId": "db597bec-1aed-4d6b-e8f3-f4affcd7add5"
      },
      "source": [
        "len(kl_diverge_list)"
      ],
      "execution_count": null,
      "outputs": [
        {
          "output_type": "execute_result",
          "data": {
            "text/plain": [
              "212"
            ]
          },
          "metadata": {
            "tags": []
          },
          "execution_count": 79
        }
      ]
    },
    {
      "cell_type": "markdown",
      "metadata": {
        "id": "_UHBfA0eaGpu"
      },
      "source": [
        "## Adding kl_diverge_list to main dataframe"
      ]
    },
    {
      "cell_type": "code",
      "metadata": {
        "id": "CxXKY6hFaGpv"
      },
      "source": [
        "Train_data2['kl_divergence'] = kl_diverge_list"
      ],
      "execution_count": null,
      "outputs": []
    },
    {
      "cell_type": "code",
      "metadata": {
        "id": "Gh1aLiVtaGpw"
      },
      "source": [
        "Train_data = Train_data2[[\"Headline_pos\",\"articleBody_pos\",\"Stance\",\"glove_similarity\",\"kl_divergence\"]]"
      ],
      "execution_count": null,
      "outputs": []
    },
    {
      "cell_type": "code",
      "metadata": {
        "id": "4A7KCjyIaGpy",
        "outputId": "8adf5a94-e6ba-4c5c-aade-a02820d17bf3"
      },
      "source": [
        "t_array"
      ],
      "execution_count": null,
      "outputs": [
        {
          "output_type": "execute_result",
          "data": {
            "text/plain": [
              "array([['villiers welcomed newborn family daughter yente danielle wife ab',\n",
              "        'welcomed bangalore photo addition parents successful got john onbeskryklik grateful family tournament upcoming league beautiful week congratulatory son bash stream team groot ipl welcome exploits child eliminator richard wrote runscorer make ab runs genade africa matches home rate went measure yente named batting birth girl uae sons villiers playoffs steady second batsman star slated perfect abraham challengers couple received friday part messages opted blessing first baby november instagram world rushed royal lakh danielle gave south dankie married time rcb big posted take crashed season post daughter strike wife african likes finished took helped',\n",
              "        'Agree'],\n",
              "       ['villiers welcomed newborn family daughter yente danielle wife ab',\n",
              "        'smile welcomed royal duo villers girl standing bangalore addition groot ipl losing smashed villiers eliminator south captioned dankie batsman former rcb hyderabad registered bowed showpiece concluded perfect ab event announced cricketer challengers runs righthanded post daughter heartwarming genade srh shared thursday virat strike wife man rate edition sunrisers seen share african kohliled pretoria halfcenturies onbeskryklik grateful blessing baby instagram family yente world named measure revealed tournament side batting beautiful line mainstay picture',\n",
              "        'Agree'],\n",
              "       ['villiers welcomed newborn family daughter yente danielle wife ab',\n",
              "        'smile welcomed royal duo villers girl standing bangalore addition groot ipl losing smashed villiers eliminator south villierson dankie captioned batsman former rcb hyderabad bowed showpiece postin concluded perfect ab announced cricketer challengers runs thursdayde righthanded virat daughter heartwarming genade srh shared registered strike wife man rate edition sunrisers seen share african kohliled pretoria halfcenturies onbeskryklik grateful eventde blessing baby instagram family yente world named measure revealed tournament side batting beautiful line mainstay picture',\n",
              "        'Agree'],\n",
              "       ['villiers welcomed newborn family daughter yente danielle wife ab',\n",
              "        'smile welcomed royal duo villers girl standing bangalore addition groot ipl losing smashed villiers eliminator south captioned dankie batsman former rcb hyderabad registered bowed showpiece concluded perfect ab event announced cricketer challengers runs righthanded post daughter heartwarming genade srh shared thursday virat strike wife man rate edition sunrisers seen share african kohliled halfcenturies onbeskryklik grateful blessing baby instagram family yente world named measure revealed tournament side batting beautiful line mainstay picture',\n",
              "        'Agree'],\n",
              "       ['villiers welcomed newborn family daughter yente danielle wife ab',\n",
              "        'pulled welcomed fans postponed bangalore indian international photo addition parents comeback due got john forms onbeskryklik grateful adorable family upcoming wants league beautiful retired congratulatory pretorian son bash mark stream team groot ipl exploits child richard runscorer former stint represented make ab good announced runs quality genade new bbl shared matches rate share went measure represent yente named millions batting birth cup pandemic third girl sons villiers bat playoffs steady second batsman cricket perfect abraham tried challengers couple received given skipper selfie part country messages see blessing first baby instagram november world revealed infant news premier royal lakh scored danielle made south captioned dankie married time rcb big spend season post daughter strike wife african likes finished took legend helped',\n",
              "        'Agree'],\n",
              "       ['villiers welcomed newborn family daughter yente danielle wife ab',\n",
              "        'welcomed extended postponed bangalore international photo addition stage represents parents cape comeback wanted future got expected john grapples forms sunrisers march onbeskryklik grateful average adorable family league beautiful period become son bash tour groot ipl trophy child eliminator wrote leading overseas make sharing ab announced runs genade bbl shared africa matches town handle marchapril wait little measure yente featured named close cup lost third coronavirus girl bubble biosecure born visits villiers year second cricket heat pakistan perfect abraham tried sri challengers proud magnificent country opted see host blessing first baby instagram world england match followed players miss royal scored towards beginning danielle made next south dankie married time hyderabad spending big australia brisbane form post interesting strikerate wife lanka retirement',\n",
              "        'Agree'],\n",
              "       ['villiers welcomed newborn family daughter yente danielle wife ab',\n",
              "        'view news ios pic welcomed updates girl danielle sons addition click join instagrammed stay villiers updated south middayinfomedialtd wrote sports android channel keep apps perfect ab abraham cricketer scrolling couple midday post daughter catch new john shared get friday wife download african account grateful blessing baby instagram november yente courtesyab named world family measure telegram beautiful read blessed picture',\n",
              "        'Agree'],\n",
              "       ['covaccine covidshield got banned',\n",
              "        'germany union monday cause certain uncommon products enters problems vaccinated astrazeneca came dvt singleshot cases suggested reports batch safe shown france clots suspend veins vein increased thrombosis risk regulatory said vaccine available events reported deep doses review officials decision britishswedish data careful gaps iceland italy romania age lungs particular jj european evidence usage occur healthcare similar setback caused filled comes medicines thrombocytopenia concern suspended ireland continue vaccination pulmonary safety administered latvia clot programme number suspension affect pharmaceuticals banned johnson mhra britain developing denmark regards use defined uk netherlands jab gender statement approved countries luxembourg stopped issued austria using group saying estonia blood company lithuania embolism eu agency rising people batches receiving',\n",
              "        'Disagree'],\n",
              "       ['covaccine covidshield got banned',\n",
              "        'germany suit indian says scientists vaccinated rare sweden instance astrazeneca woman cases forms march reports division safe france full clots serious scientist germanybased report health valid suspend week sideeffects quoted vein analysed thrombosis following said vaccine ema events reported soumya head immune review institute officials recommendations monitoring bleeding iceland italy bruising probed bulk precautionary observed wait instances complete needs measure major disease european recommend coronavirus diseases caused drive rules panda medicines thrombocytopenia suspended continue chief swaminathan reason vaccination vaccinating say steps death research based ruled last friday safety latvia administered several lead country number link epidemiology first world nations deficiency read underlying india halt panic followed news paulehrlichinstitut council process denmark medical corresponds possible use vaccinations time organization platelets inoculated countries take called conditions form communicable bulgaria hold saying post cerebral put blood lack population including want reliant eu vaccines agency people ongoing samiran covishield',\n",
              "        'Disagree'],\n",
              "       ['covaccine covidshield got banned',\n",
              "        'steep countrywide punebased pharma monday carried decided authorities count vaccinated shots added astrazeneca information determine causality due issue department expected usual aefi cases senior seen continued reports batch reaction shown continues serious administration clots linked health discourage suspend sources denied week advisor national mark briefly quoted vein increased sunday thrombosis risk following said vaccine averse brand know available events crore immunization deep till agencies crossed centre university institute decision aspects data studied tuesday according diversity new unsubstantiated age name observed particular fingers development relating doctor needs cent different suspends wednesday european mainstay committee evidence idea became adverse starting used problem climb hyderabadbased surge hospital year ireland continue many developed disrupt vaccination single received pulmonary covid day evaluating friday programme administered safety clot number country lead fact link first arora contacted enormity hasty concerns india gauged halt panic followed ap produced monitored examined analysis covaxin aefis denmark forced worry directive general coming use defined vaccinations time keeping marketed official gender weeks entire big statement k breached rise countries putting using take group saturday saying serum showed spokesperson light taken marking blood thursday types flagged population extent embolism states ministry vaccines unlikely deaths people giant records covishield',\n",
              "        'Disagree'],\n",
              "       ['covaccine covidshield got banned',\n",
              "        'offering begun additional giving option covaxin respective civic centres offer hills trial next cowin vaccine monday municipal comes body said available hospital dahisar centre head approved options bmc vaccination bkc beneficiaries centralised portal removed administer given proposed mulund days commissioner kakani tag started nesco walkin select includes city jumbo suresh choice allow covishield',\n",
              "        'Disagree'],\n",
              "       ['covaccine covidshield got banned',\n",
              "        'shows ingredients rajiv benefits provider pm union says facebook monday breastfeeding help thinner drug deccan twitter vaccinated added beneficiaries website allergic monohydrate reaction reviews ethanol tell health edta become chronicle lhistidine following said vaccine technology advised prepares events reported sheet recipients till immune institute disorder total dose bleeding according new hydrochloride get worker plans mention affects speciality major getting healthcare adverse fever gandhi pregnant click magnesium hospital super system recipient taking injection dihydrate received understand country fact chloride january sodium severe india edetate inoculate news polysorbate ingredient medical water sucrose jab vial staff immunocompromised medicine follow take previous conditions serum disodium food immunisation blood hexahydrate including risks science delhi ministry people person covishield maker',\n",
              "        'Disagree'],\n",
              "       ['covaccine covidshield got banned',\n",
              "        'healthcare late vein passed caused thrombosis found denmark oxfordastrazenea trial coming workers vaccine advised clinical medicines hospital inoculation jab deep controversies weeks platelets headlines authorities officials unions shots orders french loss recommendations came treated dvt mode dose pulmonary approve model europe get blood develop norwegian safety senior several reports grabbed surrounded suspension including embolism citing first vaccines agency signed widescale clots millions citizens dangerous concerns',\n",
              "        'Disagree'],\n",
              "       ['covaccine covidshield got banned',\n",
              "        'punebased germany suit indian says believe monday regarding conference effects added astrazeneca information stop addressing march press reports batch luxemburg side shown france full clots serious wants scientist look health week suspend national relationship clotting increased risk following said vaccine body available events assessment reported soumya centre university review institute data banning iceland italy precautionary particular focusing measure manner wednesday european oxford evidence committee global nk adverse coronavirus dr pti jabs assure concern suspended ireland continue developed force chief precaution swaminathan done patients therefore vaccination vk reason systematic last days programme latvia safety several signal link suspension niti arora asked world concerns india looks followed produced causal council established process developing denmark medical paul use set netherlands investigation organization aayog panels countries inoculated regard stopped using austria bulgaria reviewing serum estonia blood seized tracking lithuania product member vaccines agency task inoculation people go covishield',\n",
              "        'Disagree'],\n",
              "       ['covaccine covidshield got banned',\n",
              "        'reuters gavi indian domestic regarding clarified insitute export astrazeneca due april diverted struggle various march clear supplied said vaccine reported doses deliveries till conveyed external institute total contract runs imposed affairs new shared rollouts delayed battles bagchi major arindam meet global alliance depending demand jabs channels continue many mea done covax vaccinating infections programme number country wave ban mind world nations concerns india position government developing exports made use keeping official rise stated statement countries requirements hold income serum spokesperson shot put population supplies ministry vaccines temporary alliances',\n",
              "        'Disagree'],\n",
              "       ['april lockdown',\n",
              "        'examination consumer calicut fans pm systematise levels sell commence respective union mortuary photo domestic addition pharma monday details affiliating charlie auto bid isolation restrictions acute parks guidelines portfolio dropped sree chaired setting varanasi grilling syndicate upload treat intervening confirmed milind demise website involved concerned expected odisha rajkumari photograph cases lodged cumulative required resources capital march suffering fumes singh persist compulsory rapid mask nongovernmental allow period tamil false private entrance list numbers visavis hopeful firs sunday transmission increased begin said organisations vaccine available minister doses former icu crossed ktu review officials superintendent gangal event basis postpones save new shared societiesngos rate politics fourhour told issues revised emmanual swing atomic defer facilities ramping modified policy sentiments reiterate fighting fresh punjab inputs run deepening actors authority brought leave committee energy kapil fuel roof tourist district amidst allparty sharp rwasresidential meanwhile pti arjun correspondents sudden die office vials economy chief chandigarh discharging availability hindu digital govt tests src colleges schools death ashutosh positivity single controversy rein pages credit covid acknowledging friday ministries several shiralkar address recalled wave anand turning abdul shiv incidence complaints gone drugs protect native basti receives spoken transporter produced giving beds undergo board emerging ccs present airports next universal meant lives srikanth terms official kalam return express shipping stated k mandatory pharmacies letter strict measures college issued take called allowed requested grow showed worsening attended srikakulam phagu vihar wife mumbai protocols social relief attending sciences main states sanctioned vaccines jena stocked ongoing records temporary apj gujarat rajiv functionaries firstsemester claimed initiated religious postponed exclusive thrissur career halls patel months centres independent mlc place stalin objected current going cm chairing neil essentials vaccinated residential jeemain need diagnosis services got proper meeting director delay staterun administer remdesivir kannada vizianagaram usual tally asymptomatic convened notice chair senior capacity virtual fiscal jamshedpur reports commenced helpline excess deployed officer vicechairman administration city firm infrastructure courts week lakhs view jagan become national testing shadow media state faster management crore order wrote dsp facility northern residents held spiralling monitoring officers intermixing puducherry magistrates according inform railways imposed gyms figures get combined home remained mplan rwas particular playing space jeemains local schedule bjp palaniswami lok sought signed pooram j duties p ambulances commodities registering medicalgrade meet dresses global healthcare updates coronavirus stages starting prioritise reddy pools demand drive carve act looming pressure wuhan campus postpone amit occurred bokaro completed birthday check dean yogini defence vaccination reena care incident sankaracharya sibal early given diarrhea last direction jai growing safety journey administered like number burials rickshaws first kids outlets sufficient ramesh senaled suspected tide contributed special controller rtpcr much followed bihar situation leader lockdown eduminofindia cautious reach lakh developing night kejriwal created deputy civic app regular curfew kj south president effort decide residing staff rise fears comprising technological putting arvind janakpuri warned spots treatment record scheduled b saying nmch post intervals taken underway load action termed important devotees company account stations delivery rail taxis veteran ministry end market class people central dy covishield mps steep staggering spark uncertainty congress stock urban hour newspaper alleged written equipment dgnta drug pradesh sp presymptomatic plants questioned count kottayam holy session information stresses crime andhra supply export due april kuhs boisar move spike high reporters zoos bottles frontline urged performed nadu mk shahdol safe narendra doctors administrations closure madhya maintain health accomodate look curtail today harish rallies concealment oxygen governor turned instructions affiliated welfare moratorium clamour areas percentage advised access reported poorams agencies everyday hours keep university education decision worrisome treated stressing past camps rourkela drrpnishank exam hcws overlooked control wait production admitted doctor effective complete vishakhapatnam railway spread sector constituency major getting absolute pandemic resulted violation fever difficult flws gandhi dr karnataka updated crisis initiates comes survived hospital documents bidar respond many governments left nets taking vardhan mukesh secretary grill inflow patients dmo beaches wrong platforms received day test days edappadi postgraduate cabins operate public began part uttar danger cops opposition believed china legal seeking conduct concerns prakash india exams necessary bed worldwide brazil towards found shocked mr possible btech coming manager sockets time mayor mtech statement ending kerala group closed hold vans nod died resume visited corona lack installed pokhriyal disaster directorate vain including persons biotoilets dates engineering short agency deaths jee writes escalating complexes examinations mild negative emergencies highway cinema prime large modiji witnessed repeated says recoveries workers help kumbh shakur falls decided battling western cylinders commission dellhi practical kalamboli ventilator candidates wearing specifying superspreader added tankers release came patient declare critical prevention department stand election singleday press modi haryana station returnees nitish family france nishank dozens denied civil fell outbreak campaign active ys vehicles parts power mark adsorption ivfluid relieve communication efforts puts colleague municipal topped psa divided rampal till centre quarantine providing arja row setbacks transport postponing theory museums cremations returning sharing coaches total surpassed data places announced victims prepare emergency empty course foot handles threat increasing chaplin manmohan chancellor true varsity north dmk hospitals human needs maharashtra long mosquito procurement vaccinate announcement unit wake infected affected adding used suspect surge ensure casting top alarming scarcity steady second carrying placed developed nitin ngos positive increase date academic sanskrit kozhikode marathon mela investor bhushan tried chhattisgarh fatalities units note protection infections man students filing track country harsh mahatma sabha associations asked november bays heightened proceed read recovery banned mohan government mother late reached reserved medical intensive milk resident general set nodal vaccinations tested low dedicated shortage aayog requirement tope doubled kalady sundays function haridwar surges looking paparao using toll previous discussions tmc saturday stands police gated put chauhan commissioner existing population allowing societies blocks kumar rajesh uttarakhand delhi key claims took rising tweeted liquid receiving planning arrange swimming rates',\n",
              "        'Unrelated'],\n",
              "       ['april lockdown',\n",
              "        'lockdownlike lockdown updates pm states covid restrictions last says resort',\n",
              "        'Discuss'],\n",
              "       ['april lockdown',\n",
              "        'prime burden unprecedented pm provide photo hour conference highlevel count movement supply meeting registered though high cases recorded singleday free modi nation mha noncompliance narendra highlights health court today sources oxygen series said know minister reported order centre leading review held internal seem ways transited facilities support implemented hc run cms directed pandemic ministers coronavirus pti video uae ensure chief availability pulling hand manufacturers day covid meetings days last country innovative implement india followed news situation banned government lakh board passed medical set allocation official invite passengers using point called start stands hold worsening thursday action allowing including states permitted gulf delhi criminal file',\n",
              "        'Unrelated'],\n",
              "       ['april lockdown',\n",
              "        'operators standing accompanying screening recoveries offices stoppages lowest violating authorities restrictions need moved april services interdistrict spike cases required promulgation capacity falling fined screened uddhav remains rapid related health valid active outbreak thackeray private testing list state mark curb increased caseload series essential fine said management excluding flouting minister reasons reported order lowered extend dma till quarantine hours centre decision transport stops surpassed personnel announced according emergency intercity seating home share pictwittercomifyrcqcbnh complete local sops cent implemented maharashtra spread fresh weddings wednesday disease restrict getting trains pandemic operator ministers stamp coronavirus antigen attend rules marriages cmomaharashtra comes hospital year office speciallyabled continue governments chief positive done cabinet care tests hand single day covid cmo last thermal operate public misused bus pay conduct section read attendance defaulting lockdown government travel dmas beginning found medical article passenger use tested needing ground tope ply passengers work onwards function impose spirit driver stamped strict regard buses allowed transportation requested treatment closed case give needy delivering disaster effect come rajesh rail owned deaths people person go marriage',\n",
              "        'Discuss'],\n",
              "       ['april lockdown',\n",
              "        'amicus appearing pm guidance provide union stock advocate clinical drug highlevel tragedy pradesh cancelled ventilator assam supply due april homes high cases chair notice nursing senior suo free modi rational prevent highlights health court today harish national oxygen essential risk intensified said management reported centre years image hours appealed decision officials ways announced salve v new precipitated tank bengal issues revised suffocated live plan update hospitals facilities support represent maharashtra wednesday aged infected updates coronavirus similar dr ensure cognisance storage crisis visits curiae second motu chief patients vaccination say govt death chhattisgarh covid meetings last friday reduce several country uttar representative see wave mind niti innovative complaints drugs india read severe bihar situation discharges infection paul justice use leakage shortage aayog k supreme ji issued using called prevailing record scheduled thursday want states ministry vaccines member took deaths struck',\n",
              "        'Unrelated'],\n",
              "       ['april lockdown',\n",
              "        'counsel shreeniwas hot union treating says urban details failed asks written hamlets ensured surya govindaraj bit tankers month supply distribution april remdesivir registered model jump cases groundwork resort division competitive stocks tea side family breaking closure picking tonnes living city health court suraj active bench oxygen state welfare said vaccine stores zones admit bells available minister crore order doses centre swimmers keep sudhakar transport small new increasing fm foundation tejasvi remained share revised submitted shops oka bengaluru hospitals hc operations training aged withdrawn chain pandemic coronavirus starting amidst airport pil drive pools dr surge karnataka boost updated top published additions vials year second system appeals phone chief force vardhan positive tribal significant employees patients letzkit vaccination govt staffers units worsens covid days administered part public apprehensions number cops harsh wave helps turning bus troublesome asked citizens create rs drugs complaints abhay fare situation intervention lockdown produced government beds air sitharaman reach passed lakh present publish worry consecutive justice set communities coffee tested open allocation grants output thin daily entire staff mechanism k big hearing looking solid treatment tells record approves food police resume alarm thursday strike disrupting bay population stir shut contracted go records storage',\n",
              "        'Discuss'],\n",
              "       ['april lockdown',\n",
              "        'pandemic outbreak third state meanwhile witnessed recoveries consecutive making virus second reported many taking hours row patients succumbed toll previous death day increasing singleday recovered maharashtra deaths wednesday',\n",
              "        'Unrelated'],\n",
              "       ['april lockdown',\n",
              "        'beed thackerayled halls institutions offices cm restrictions grocery april lockdownlike spike registered reporters cases march singleday hotels dip selling recovered uddhav remains continues health active thackeray private state caseload essential slight said minister reported till appealed hours total announced tuesday prior home massive shops educational maharashtra encouraged fresh wednesday disease commodities talking wake district coronavirus affected meanwhile surge medicines continue taking chief increase employees range early days last safety number country november asked india restaurants lockdown government option next milk consecutive open tope daily work rise impose allowed closed died mumbai protocols including want rajesh shut cities people remain marriage',\n",
              "        'Unrelated'],\n",
              "       ['april lockdown',\n",
              "        'cinema extended halls photo focus brings written decided virus violating restrictions parks malls april services kinds spike cases gatherings required holi march aurangabad applicable penalties chishty administration related explained contain reporting today period statewide state commissioners essential said bans municipal till head decision officials slapped announced past imposed new gardens complete local inputs maharashtra spread district meanwhile pti midnight comes second continue chief sealed etc secretary govt beaches highrises day covid days batters friday part public wave rs read lockdown banned government night norms found worry curfew infection time mayor empowered impose allowed closed requirements mumbai israr rfactor collectors effect come approval shut remain',\n",
              "        'Unrelated'],\n",
              "       ['april lockdown', 'address type commas separated email',\n",
              "        'Unrelated'],\n",
              "       ['april lockdown', 'mumbaikars pm zomato swiggy use', 'Unrelated'],\n",
              "       ['april lockdown',\n",
              "        'government pns surge made said focus know time second working april new thursday clear asserted wave fight states delhi right wane deliberate wednesday india missed',\n",
              "        'Unrelated'],\n",
              "       ['april lockdown',\n",
              "        'please otp enter mobile sent verify number email', 'Unrelated'],\n",
              "       ['april lockdown',\n",
              "        'cookie continuing personalised browsing similar website enhance technologies agree policy provide privacy uses recommendations use experience',\n",
              "        'Unrelated'],\n",
              "       ['april lockdown',\n",
              "        'establishments tamil impounded aimed salem coimbatore coronavirus pm government vehicles lockdown canteens essential present says carts said edapaddi minister amma atms madurai containing continue till chief k violators function positive experts release allowed relaxation discussions april announced services mobile vegetable chennai various day high taken days cases friday relaxations home action rate press nadu shops tirupur hospitals applicable complete delivery face palaniswami spread legal full cities restaurants',\n",
              "        'Unrelated'],\n",
              "       ['april lockdown',\n",
              "        'bridge vi hours provide lifeline people sakol', 'Unrelated'],\n",
              "       ['april lockdown',\n",
              "        'gujarat thousands heartwrenching banerjee prime large announces pm ads congress biden provide union worst resurgence televised exposed modimade failed alleged launching bs highlevel page object cancelled acute tragedy protocol isolation chaired tankers supply patient need april meeting speed mamata blame high model cases conveying chair addressing election suffering cry virtual swipe modi breathe narendra citing desperation demanded full continues health today week collaborations tweet opening campaign scale oxygen testing strategist state sense break change management means interrupted vaccine spotlighted minister calls recent nationwide years headlines hours centre row review grief indiaus ushosted chided good handling touched announced demonetisation new increasing hit home appeal bengal production met delayed hospitals bengaluru solution twoday implemented wednesday disease spiral needed shah meet energy global cancels ministers coronavirus gandhi poll constant ensure karnataka crisis unable hospital office second amit expressed carrying chief kishor positive combat patients vaccination challenge death adequate covid day concrete meetings referencing last nashik friday number country summit opposition metro wave climate clean asked havecome rahul joe thank slams india quarantined budget criticism situation leader publicity prashant government interacting regrets speak partnership lakh urgent criticise faced pr kejriwal speech medical targets game dying exercise tested jab ventilators president shortage work speaks arvind stopped sharpened record stands hosted strategy died put thursday lack sweeps action disaster pitched visit underharsh discussion supplies clearance states terming green took deaths people ongoing yediyurappa agenda hollow',\n",
              "        'Unrelated'],\n",
              "       ['padukone lockdown buying alcohol spotted',\n",
              "        'troops pull afghanistan explained worried india', 'Unrelated'],\n",
              "       ['kilometres modi china pm handed land',\n",
              "        'followed leader lied dared earlier pm quo gandhi congress sides video ladakh actual made change said details land status alleged know minister afraid rounds entire image territorial transgress sq journalists defence talks parliament involved cost concerned ruined km handed watch attempting several told control lashed modi chinese nation china scared lac singh narendra protecting rahul rajnath committed integrity protect full india line aggression much',\n",
              "        'Discuss'],\n",
              "       ['kilometres modi china pm handed land',\n",
              "        'shows reuters prime claim pm claimed admissions congress afternoon indian union addition prasad times pertained current gun occupies questioned mos sq youth informed scrutiny sidesteps vindication moved sinopakistan meeting issue party mentioned quick red attempted jammu houses senior march intruded press modi show anyone nation singh attacks claiming narendra citing dispute side flag chinapakistan continues responded soldiers look transgression tweet great hint remarks chant state power region army erect said irrespective discrepancies minister thwart former advising years critics raised walked external erstwhile ceded sacrifices past parliament v withholding opportunity corner affairs kms debate watch figures manmohan december samajwadi amar shankar indicates statements control grabbed submitted mention cited economical shifted kilometers hiding lok bjp condoning mukherjee fresh signed agreement territory meet occupation missed comments lost response ministers upper allparty mp foiled ladakh answers withheld muralidharan queries office second kashmir border pakistan mea clarification parliamentary srinivas area bv govt element challenge socalled controversy stepped cv bihari detail attack briefed km last words friday house lying part several opposition fact ravi cleared china sabha standoff first sensing asked muralitharan india position lac june aggression misleading criticism bihar leader dissecting discrepancy government square junior triggered occupied attempt towards illegal pranab sqkm made land use kilometres reply president time leaders big statement stated figure strict jethamalani issued point replied ram regiment consistent saturday record advances saying incorporates taken pmo facts jumped boundary chinese presence started foreign observations q come question replying member claims structures includes spate rajya records atal',\n",
              "        'Disagree'],\n",
              "       ['kilometres modi china pm handed land',\n",
              "        'prime pm accusing congress afternoon believe focus launching conference responsibility tensions sq added month guys doklam obsessed prefers concerned reporters scathing vision controversial able press modi heard narendra tell happening today july remarks media power sunday linking said access know minister recent targeting years image sitting internal fake handling parliament save affairs strongman watch shared hit october told knows strength bjp forces punjab fresh ani comments nadda similar jp gandhi pressure video top laws making rahulgandhi briefings border fabricated chief weakness talk nobody military reason poor attack farm km last man part country cleared china scared standoff spoil rahul armed india position opponent situation leader building government square believing reached cares present mr made land gave work ji take protest ask saying give taken questions put excongress chinese call want come indiachina tweeted patiala person',\n",
              "        'Discuss'],\n",
              "       ['kilometres modi china pm handed land',\n",
              "        'rally tamil leader battery prime honest sleeps state versa congress gandhi seconds night pick february polls mr nt television volume says said minister going afraid cm chief campaigning talk thinks tn added take dishonest louder fall vice throw tirunelveli stand put remote corrupt several control nadu modi narendra asleep sleep rahul wants cities remove people',\n",
              "        'Discuss'],\n",
              "       ['kilometres modi china pm handed land',\n",
              "        'prime pm congress indian ranging conference security farming sq future yesterday stop able way press modi nation haryana narendra demanded hands agriculture tweet media break said management advised minister recent order bachao rohtang image tunnel save new shared hindi issues clip punjab wednesday territory structure affected gandhi mp bring gripping laws taking many translated incident inaugurate affecting jibe wayanad farm km handed hathras dark yatra several country kanoon china silence asked rahul read leader kheti speak darkness asking destroy ji food questions kaala existing visit waving things uttarakhand come delhi face find breaks atal',\n",
              "        'Unrelated'],\n",
              "       ['kilometres modi china pm handed land',\n",
              "        'prime announces claim accusing hot congress indian sacrifice depsang conference responsibility questioned informed holy added moved answered plains mata party move stand reporters disengagement scathing disengage addressing way kailash press modi singh narendra troops cowardice rajnath full word launches launched coordinated bharat finger navy agreed army areas spitting conceded said efforts minister former centre think surprised ceded sacrifices gogra announced parliament accompanied borders success told needs faith lok forces chowdhury randeep agreement surjewala territory ready enraged used gandhi adding problem ladakh everything ranges headquarters pangong border ranjan venugopal force behaving capability defence adhir area spelling govt given attack day friday country fact solve lauded asserted protecting china sabha asked rahul located armed protect india read uttering portion leader eastern government air mother reached sides undermine mr general land kc president take allowed raise post give verified thursday important chinese springs question animated result coward people secretaries pact',\n",
              "        'Discuss'],\n",
              "       ['kilometres modi china pm handed land',\n",
              "        'leader claimed pm gandhi congress cares army said land laws top conference order knew image antifarm sq reclaim nobody whole take care ask tuesday tell km give addressing person october part able told opposition press modi country knows china agitation backdrop rahul officer patiala safeguard india',\n",
              "        'Unrelated'],\n",
              "       ['kilometres modi china pm handed land',\n",
              "        'wisdom prime claimed pm congress balakot indian demoralises believe monday planning carried alleged actions surgical modiled questioned territorial implications added information questioning responsibilities came meeting director party stop stand infiltrators wordplay modi surrender singh nation paper congressled jagat narendra vitiating troops ranbir valley soldiers worried tweet united national strong power accused presided february designs army portions said political please minister jaishemohammad former years sacrifices make personnel hundreds manmohan hit combined retaliation conducted share true statements control upa bjp forces surrendered operations valour wishes strategic territory janata comments nadda response galwan alliance erosion mindful jp allparty gains personified improve dr ladakh top year office loc border many brazen killed chief force pakistan inc significant camp military strikes insulting fall systematic km last words cross understand reversed country see china unity progressive asked conduct armed bharatiya prakash belittling line june september referred square government air reserve late night made general flat land kilometres president terror leaders letter saw central using previous belongs jpnadda insulted police post questions taken bombed termed action disrespect vain chinese institutional subjects dear airstrikes receiving go incursions meaning',\n",
              "        'Unrelated'],\n",
              "       ['kilometres modi china pm handed land',\n",
              "        'irrigation formed somnath congress patel melamodi offices monday hectares cm inroads pradesh youth added wells supply sardar traditional got gujaratwhich declare paddled administrative pollbound ruling addressing udepur clear way seen modi vadodaradahod saidbringing cheques gir narendra madhya seawould dwellers become clarify checkdams shares state tribals supplied region districtis areas kalyan said minister crore walked timeframe residents garib make event titles pipeline announced cost built creation new proposed cheers chhota debti community bjp heremodi chairmanship districts laid committee harnessed district announcements act sammelan implementation avas hehoweverdid rights year border chief regions secretary tribal districtafter bpl worth dug panchmahals day km handed projects january limits rs much announcementthe additional government travel udepurone lakh attempt talukas dam next water tribalsat land farmland gave waterwhich decide flows big families irrigate spend vadodara called streets network give twin ownership bastion covered yojna sammelanwhich come bicycle',\n",
              "        'Unrelated'],\n",
              "       ['tragic commits come actor bhojpuri work suicide sameer mental rs committed wouldepression health social',\n",
              "        'come', 'Unrelated'],\n",
              "       ['sucide killed kartik aaryan throgh',\n",
              "        'media announce evening official film force kartik kangana johar aaryan backed ranaut karan friday house handle social production exit wouldostana took reacts go hang',\n",
              "        'Disagree'],\n",
              "       ['sucide killed kartik aaryan throgh',\n",
              "        'life wish help virus manoj male kartik producer smiling dad added smooth month due demise sorry family caption team till thanks leading aaryan parag good enthusiastic front shared stillwala shejwalkar went fight pregnancy actors birth lent missed comments energy lost affected coma pleasure anniversary pregnant everything initiative pleasant film birthday tribute left journalists aarti manojmehara death actor last see instagram revealed happy hardworking read section aka much news wherever remember rest parineeti publicist journalist viral sad financial bhayani hearing entertainment replied post died chopra young desai shock writing member celebrity took people helped',\n",
              "        'Unrelated'],\n",
              "       ['sucide killed kartik aaryan throgh',\n",
              "        'shows grewal fans streams postponed allu memes says ramula help ramulo celebrate commits khushi producer kartik suicide due april fearing tv creative famous clocks way show majboor wedding full ala look outbreak wins richa refuse said child crossed ali fun aaryan make sahi htshowbiz kapoor new copy shared trimming hit unemployed issues abates plan drying featured sharma actors pandemic business opens coronavirus affected butta dharti mum everything unable reveal trimmed film selfesteem album chadha manmeet digital beard internet couple sridevi actor youtube friday tricked bomma songs pay world bills read aadat much hilarious vaikuntapuramlo mother late acted faced found made online open fazal work contemplation follow looking khel anushka janhvi saturday paatal daughter face explaining sister committed people mega',\n",
              "        'Unrelated'],\n",
              "       ['sucide killed kartik aaryan throgh',\n",
              "        'koan district postmortem preliminary enquiry caller deputy monday said crisis body morning falls rituraj investigation brother policeman suicide financial informed posted matter due dead note early received outer police shot pistol handed west step vihar commissioner home suggested representational subinspector identified call spot station recovered paschim family delhi service took officer',\n",
              "        'Unrelated'],\n",
              "       ['sucide killed kartik aaryan throgh',\n",
              "        'gujarat dharma symbolic fedex faulty prime sample sikhs says distancing details akhada help regarding kumbh decided pradip commission pradesh kartik twitter suicide scott guidelines likely untrained due got fired party shooting hole spike professional high west cases election gunman reports nadu modi identified eam narendra let breaking upcoming madhya maintain report health week active collection tamil false testing stating media state ten symptomatic confirms following agent said political minister socialist reported detect reasons quarantine hours facility experts held brandon rajasthan assures past according polling new confirming multiple bengal indiana production north update community divulge sneeze bjp maharashtra fresh variants coronavirus dignified violence candidate negatives movie karnataka mass comes sudden hospital film taking killed left arriving failing positive timing bmc say seeks parties mela chhattisgarh death seers wrong given covid others jaishankar day days infections karan house part began uttar country recast productions pilgrims recasting silence india read cough rtpcr news situation dostana night made fifth infection phase tested swab phases official masks leaders staff statement stated indianapolis injured haridwar saw issued kerala called toll tmc saturday record hence revolutionary died give thursday important combining social circumstances including main states kumar round delhi took deaths people parganas person',\n",
              "        'Unrelated'],\n",
              "       ['sucide killed kartik aaryan throgh',\n",
              "        'painful examinations burnt joke large claim fictionalised worked standing accompanying indian dreadful life exonerate remain climax cause laughable pankaj improvising movement sholay broad boring awakening showcased gaze terrible ranaut irony director issue cycle prefers woman jump triumph notice seriousness way coincidence swipe leap king modicum dynamics remains breaking critic roshankumar salutary look genius speaking seems superfluous heaped entrance iit son spouting inspirational lagaan signifying uneasy ignore team naive technology blueblooded feelgood means earnestness audience conundrums faux minister memorable disconnect vikas aggressive charges institute biographical kangana middle height rehearsed education small starring make storm sensible treated empathy thakur founded patronised course underprivileged separate storyline buy home told issues artist particular happen raw rag sequence educational faith long scene run training actors caste women misconduct talking crown getting whimsical chain wallowing nothing aditya urbane mrunal varma srivastava rousing mediocrity minutes amusing story everything sudden lose super amit film spontaneity minds mere tripathi placed taking looms vijay comedian talk working say artificiality fellas cambridge english feels righteous storytelling gratuitous rooted death mathematics sexual art bihari single poor brownfacing disenfranchised programme like lot students sadh nepotismthrough fact shame reviled see scared anand privileged kids silence riddlesbased bringing harping felt special engaging hear evoking much invitation passive bihar deserves real mathematician attempt planting touching portending dies upheavals time alive underdog conflicted virendra sad entire harassment work mounting educating protracted letter ending dreams using take staging truly case light bahl accuses tropes lack hrithik tag character trying account saxena stuck kumar consciousness face fair advocates end hegemony class accents obstacle roshan',\n",
              "        'Unrelated'],\n",
              "       ['sucide killed kartik aaryan throgh',\n",
              "        'suspicion claimed lived version indian months father times going august questioned suicide came affair vasai inlaws gala station old sleep family voiced living court today revenge ds following sleeping said body glass patil husband room kadam according get nagar told selfstab went fight daughters stomach neck wednesday aged impossible act mortem laws kitchen murder hospital year morning slit killed knife members death couple sent sunil man extramarital ipc inspector murdered section rushed produced throat found confessed water love charged time code penal pranali stabbed saying police straight died post wife complained tulinj deceased started nallasopara committed marriage',\n",
              "        'Unrelated'],\n",
              "       ['sucide killed kartik aaryan throgh',\n",
              "        'news fans media worked passed irrfan rukh morning expressed film khan filmmakers condolence calling friends came death actor legendary social several shock billu sorrow industry tweeted wednesday actors shah picture',\n",
              "        'Unrelated'],\n",
              "       ['strain covid new zombies people convert',\n",
              "        'shows heartwrenching claim student ie version treating indian eating facebook television crow scientists conclusion times help failed stage alleged current bottom certain determines gun movement twitter maneating speaker effects shots likely arrest due bulletin screenshot department website influence afwa drunk strokes seen angeles claiming old side breaking credited related goes politifact report archived reads today war disorders boston locked morphed search caption arrested false media quoted turned neurology researchers zombies february relation efforts text vaccine psychological curran said cnn image university dated institute complications alleging kaate proof fake sharing handling room victims eric emergency corner new get shared outlet los apocalypse yepyou true oxfordastrazeneca told instances particular hospitals hoping professor york intensity afp spread long getting scary circulated pandemic begun participant ticker coronavirus tampa carries meme used baseless violence dr story top reverse hospital crows check many symptoms patients potential dui example covid changed days logo rumour house several lead number fact believed anand users turning anti term seizures username jhooth world right philadelphia school india read severe suffered user news gloomy picture lockdown worldwide bole pria advent credible created found medical article made prominent trial assistant half gunshot jab interact spilt viral described representatives medicine scroll debunked driving ifunny sure posted lie temple experience websites treatment start nancy resuscitation serum post shot trauma blood complained social participants ability bay kauva zombie lies neurological including effect rumours dates come vaccines claims end probe find maneaters people receiving pelosi covishield',\n",
              "        'Agree'],\n",
              "       ['strain covid new zombies people convert',\n",
              "        'inflammation infectious alarma stateheadache climatic extreme pandemics centres scientists meningitis cause southern pradesh degrees rare avoid muscle inching andhra terrible fear infecting traced usa prevention cdc mysterious meningoencephalitis disinfect decline cases amebic fevervomitingdizzinessseizuresdelirium includenauseahigh suffering seen way vital reports starts doctors onin render organ rapid transmit depend prevent discovered singlecell scare linked amoeba confusion report swallowed rates sources makes nose july pam wear changes parts acts altered areas eluru temperatures body know antiamoeba available reported deep years n hours warning northern swimming experts residents clips loss hotspot prove fahrenheitthe hundreds sanitize past detected nearing according causes functioning new multiple watch plans name control diving hospitals illnesscausing enter fighting contagion spread largescale disease scary districts primary surfaces rivers lakes changesthe inhaledtransmission similar fowleri defeating globe signs highrisk unknownwhile fatalright making comes thought medicines neckhallucinationsin strain thrive weakness symptoms patients brain potential ponds feel emerged early infections misdiagnosed cognitive lot comatose severity lead several heavy first asked right impacted damage drugs severe contact news travel raising divingaccording credible headachethe activities found fatal worry water infection swelling upto associated risky germ warm spasms countries placesince called harmless suggests form treatment sending start kick travels ineffective braineating interesting indulge nasal ability things mouththe gets end mental people attacking speechwhile stiff helped failure',\n",
              "        'Unrelated'],\n",
              "       ['strain covid new zombies people convert',\n",
              "        'thousands showing nearby reuters downtown unprecedented leaving instructed religious churchgoers centres crowded someone virus cause scenes surgical branch authorities movement restrictions lee dropped eventsouth likely semester fear patient traced services sold confirmed vice involved department prevention move reporteddaegu woman symptomswe virusthe administrative cases tally seoulkwon houses indoors capital march seoul sejong reports southwest barracks citing troops blamed family outkorea hospitalthe korean city linked health week outbreak travelled national media measurethe investigating tabernacle risk following caseswe said stores ordered stay childcare fourth minister reported recent guests centre raised scenario testimony floor officials kwon middle saidthe residents closing sitting held superspreading total youngjin founded empty imposed new debate increasing separate followerssome apocalypse buy home believers told control shops plan civilian unclear close major disease wednesday investigatedthe kindergartens infected considering coronavirus similar deserted adding searches kept custom surge spring bustling likened crisis top hospital postpone known shincheonji wider links taking sealed manhee positive defence wore military patients employees members tried exact daegu base schools kcdc death day km test aparttopics man jesus country cautioned isolated climate china users first asked somebody dongseongro commentators contact church looks restaurants news centresmedia situation banned lockdown gravethe travel government street officialsseveral rest beginning online resident movieit footage majority miles south tested virusdaegu official masks mayor spreading described weeks kim staff families temple streets warned portal transmissionmalls closed scheduled showed heated attended virusshincheonji thursday geunwoo visited prospect briefing saidsouth social shutdown curbing population zombie including come bomb ministry face shut agency korea contracted people receiving kanglip stationed',\n",
              "        'Unrelated'],\n",
              "       ['strain covid new zombies people convert',\n",
              "        'tweet thousands outbreak infected jailed claimed coronavirus government media misinformation claim behave arrested nationals act zombies convicted found medical made said use individuals year cause virus spreading investigated posts communications killed authorities statement officials dismissed patients walking arrest correct victims dead surrounding saying police woman improper network connection last thursday rumour like social true number country fined malaysia chinese china users facilities malaysian ministry ringgit spread deaths seek people contain disease health recover',\n",
              "        'Disagree'],\n",
              "       ['change rs december notes',\n",
              "        'leader real government weightage state announce worry prasad rti said planning notes rbi please denomination minister think statement aurag spoke finance stopped information fake reintroduce answered whatsapp nishad thakur confirmed issue party website notification note saying refer demonetisation surfaced december rumour plans samajwadi october led press vishambhar printing rumours started sabha asked spread rs replace bureau report rajya',\n",
              "        'Agree'],\n",
              "       ['change rs december notes',\n",
              "        'claim flushing withdrawal leftwing digitisation discontinuing prasad rti conclusion notes going introduce rounds informed circulation finance bank information reintroduce nishad issue surfaced pib website notification department withdrawing demonetised extremism formal reality press vishambhar printing demonetise warns reads msgsyoutube holders pibindia state increased communication denominations change misconception said please denomination minister prompted think years aurag nonformal fake adds thakur demonetisation cash new december plans samajwadi october message told objectives admitted releasing replace announcement widespread boost rbi currency channels announcing economy application base note refer checking house began fakenews fact january site sabha eliminating november asked reissue revealed rs bureau india news black real government reserve debunk made worry sender pibfactcheck gave money reply terror viral rise statement stopped whatsapp saying strike introduction rumours alt tax claims exchange financing people planning rajya expand',\n",
              "        'Agree'],\n",
              "       ['change rs december notes',\n",
              "        'prime withdrawal piece believe notes regarding decided suggesting rounds clarified circulation added bank information release go pib website chunk sindhu suggested able reports modi press narendra customers banknotes tweet media list desk garg said chandrasekaran minister recent small recall fake good announced demonetisation opportunity affairs new december hoarding spread announcement fuel third starting announcements value rbi currency check talk secretary rumour several messages cleared january turning roll subhash rs bureau india section news economic black banned government reserve traders air made online fire money open time sure putting saw chandra objection social rumours started account highvalue turns come find took exchange rumourmongers tweeted result people central planning',\n",
              "        'Agree'],\n",
              "       ['change rs december notes',\n",
              "        'claimed claim indian notes alleged written going clarified twitter circulation finance bank information supply sbi due stop pib website press printing singh flooded banknotes microblogging report denied become media state presses said know denomination minister decision fake reconfiguring correct stateowned new discontinue age hit lok sector withdrawn pandemic coronavirus circular rupee rbi currency atms taking placed factchecking internet platforms wing note dispensing lot public banks sabha rs bureau india read anurag news misinformation reserve government article pibfactcheck reply viral stopped issued taken action important social replying question claims central indent',\n",
              "        'Agree'],\n",
              "       ['change rs december notes',\n",
              "        'reserve media rupee change notes rbi viral taking circulated bank start changing new days october message social releasing claims exchange rs india reads',\n",
              "        'Agree'],\n",
              "       ['change rs december notes',\n",
              "        'consumer showing prime claimed noncash withdrawal conspicuous corruption authorised card televised diesel notes failed gas drug debit accepted values decisive arrangements bank restriction issue stop reference move counters accounts red tender cartels naming march modi nation crossborder cheques methods narendra old unaffected crematoriums prevent week become media state increased mangalyaan essential denominations said stores oil available fought minister crore till hours decision surprise shaktikanta data announced places exchanged tuesday cooperative powerful removed according functioning affairs new december overall development ceased hospitals drafts decisions railway sector wednesday root circulated funded booking booths starting adding demand limit ensure midnight value rbi comes currency office atms continue pakistan secretary fort tumour pointed element petrol tried worth note credit day days consumption public moment feature enemies address history banks bus november legal cards citizens rs india necessary black economic identity reduction government reserve air electronic employ suffer lakh night transfer mr made possible worry milk coming money kind tested time official terror fund described forged issued companies closed start post taken inflation briefing action existing accept das ticket terrorists deposited states come stations payments defeat menace result central remain',\n",
              "        'Disagree'],\n",
              "       ['change rs december notes',\n",
              "        'gujarat rackets prime accounted claimed annual madan indian witnessed sabnavis identify notes launch modiled counterfeiters pradesh added crime delay crimes spike registered estimated enforcement introduced recorded taper modi narendra old reveals banknotes released report explains choice national state law remaining begin denominations ratings said carry minister crore weight counterfeiting agencies centre till officials clocking fake total per data announced demonetisation practices affairs new get december home bengal overall cent policy bjp releasing belonging registering getting brought counterfeit rupee value scarcity tend published year currency chief increase significant care challenge attractive familiar worth received confiscated days tricked last familiarise several country uttar history bill november revealed rs bureau india followed criticism black government ncrb present made half money terms time breakup calendar leaders demonetizsation sure statistics looking kerala targeted record curbing economist seized statewise receivers states come delhi accepting ministry market people categories records',\n",
              "        'Unrelated'],\n",
              "       ['change rs december notes',\n",
              "        'steep indian chests wage bhartiya stock pieces mudran notes frauds written decided security wagons revision guidelines informed circulation finance added bank desired due involved march fiscal press printing singh minting family corporation maintain period view private state supplied presses said available denomination minister nationwide dewas settlement decision compared brbnmpl monitoring thakur participating course discontinue arrived strengthening particular production railway lok cent sector pandemic affected demand fullfledged treasury negotiating rbi year currency suspended placed declining resumed employee unionsassociations note public consensus representative limited demands sabha banks banking iba consultation rs transactional india june anurag lockdown reduction government reserve activities lakh occurrence made reply officescurrency mechanism stopped issued discussions reflected saturday mix closed amount loans taken bipartite recommending behalf pension facilitating effect centralstate ministry question member indent peak phased association spmcil',\n",
              "        'Unrelated'],\n",
              "       ['change rs december notes',\n",
              "        'news offering economic pandemic business response commentary subscribed encouragement difficult credible provide reader improve content relevance constant made offer believe online updated times political arising commitment help keeping wider hard feedback continue many stronger subscribe ideals interest implications informed standard digital information subscriptions practise strived need editor quality model goals relevant impact resolve request subscription country issues uptodate seen free topical journalism incisive support authoritative fair world views battle committed encouraging dear achieve remain developments',\n",
              "        'Unrelated'],\n",
              "       [nan,\n",
              "        'accounted pm posed levels guidance interstate union holding facebook addition monday discharged permits controlling legislative mitigate bid piled authorities enforce vikramarkas sq guidelines antisocial vicious future maithon determine biomedical laying concerned registered various dinkar cases recorded deepak required addressing capital march able reality division singh waiting twothree recovered sadar testpermillion side rapid shown samples prevent investment everyone opening period directs buddh accordance tamil gorakhpur private learning launched list numbers pedestrians ten cyber firs caseload region improved increased kangpokpi refuse following thanked said vaccine anybody investing available icmr antinational minister ambulance ukhrul trials doses recent chandrashekhar crossed review officials highlighted electronics una rajasthan event good personnel detected tuesday continuous noncovid careful kanpur new assembly screened rate told issues teams harinarayanachari swing acres paramedical legislature possibility amritsar ltd facilities blocking sops investigator fresh punjab millions manner lakhmark aged authority districts women shekhar stable permission committee nothing participant antigen district pune tough telangana sharp diseases meanwhile imphal responding uae candidate pti joined meerut attracting tripura die office kashmir known economy discharge border chief kalash done malegaon say morbi vk govt owing tests schools death single appointments adults covid sent panchmahal prefabricated shakti asserted livelihoods anand users hoshiarpur world limits impacted complaints protect section observation september paceman excellent beds sonkar undergo mohali board beginning pinarayi discharges senapati next strides sizable consecutive comorbidities mahesh valsad lives complex charged money lulu official rajkot daily work stated k coriander sadan competent easy measures mandatory inspecting permanent healthy issued take called allowed accountslinks matter produce succumbed requested showed serum food hosted encourage surendranagar mumbai social jharkhand bay karaikal dipak states deal mounted visiting unlikely csk owned contracted capf result ut dwarka mission records temporary gujarat somnath car thrissur religious ensuring treating fleece months children appears crowded focus kangra virus going cm responsibility astrazeneca practise principal need succumbing jalandhar got services director meeting delay procedure bulletin bowler kannada tally mounts entering twowheeler senior seen precious virtual medium reports helpline umashankar r asserting atrocious deployed goes rao officer city included administration responded report exceeded spices clp view ginger makes national testing dahod media state symptomatic outside team remaining boosting naina management nirsa crore assured appoint extend order attributed searo facility ali derailed telemedicine randomised compared held mahisagar sathiyan barred adds officers continuing gurdaspur puducherry according cost unnecessary v causes prior get modern foundation ashwini bathinda constructed c enrolment schedule bjp cent named aizawl achievements checkpost chain operating meet barakarchirkunda preventive third updates coronavirus superintendents pathankot exhibit healthcare gains rural demand drive kept diabetes pressure problem apriljuly sites occurred check mysuru comment steps commenting agartala conducting care members apollo emerged example given volunteers last fees governmentrun programme safety turmeric number homeinstitutional first ebikes queue condition located platform banaskantha twenty emmay june contact rtpcr special followed bihar situation leader lockdown bu vajreshwari partnership reach night kejriwal indians deputy civic made pushing infection dhanbad join phase use bright south president importance spreading decide masks leaders tapi paatil staff managing breached rise interest arvind vadodara rejoins transportation labs treatment record fatality saying allegations rapidantigen exorbitant junagadh taken opened travelling mallu action important sanver devotees eighty effect vidyagama come khetrapal stations ministry delivery end sop includes people giant kapurthala go needed central initial monitor covishield infectious admissions congress indian ludhiana urban security violating count pradesh enters twitter session information stresses export cardiovascular jain supply distribution due chandravatiganj servant crosses shailaja party instruction usa issuing spike transcriptionpolymerase high west clock modassar stone famous promulgated kasaragod reaction visitors gir prayagraj narendra doctors choubey register moga recording closure wants awaited madhya scare contain health himachal thekkil amreli today tweet brihanmumbai governor quoted turned welfare seventh areas rises army ipl ordered source noted reported years hours university keep decision education representing langa dealing blocked past complacency bharuch tracing precautionary bengaljharkhand twoyear sandeep admitted went update spot bengaluru effective doctor spread sector different constituency wednesday disease oxford stood directed dms ready migrated pandemic erobots comments booking adverse durgapur immunogenicity east peeths cancer karnataka yogi crisis reverse hospital system yasmeen reopening hospitalised thoubal many taking force nets vijay sufferingwe left vardhan unturned secretary livelihood working patients potential manipur immunity platforms hate research spiteful day violated booked test ruled days stressed considered controlled biocompost afshan lot part public uttar believed projects isolated fazilka pay niti rose instagram hike conduct thailand citizens armed india gupta line taught fortnight bed cumin building exporter council ceo undergoing challenges exports soundararajan norms found mr possible game paul hope land uk time transferred big statement role sahib caution dev kerala group surat start closed case hold underlined nod died bishnupur stark europe sixtysix bowling corona complained mizoram viswanathan disobedience directorate visit decades including containers poonam sheen member short deaths stones prescription neighbouring negative showing nearby prime large rupnagar kakching devi provide afternoon says distancing physical sbs workers help regarding kutch kings clinical conference falls tata ailments upsrtc ventilator wearing selvavinayagam ferozepur whole added bsf release came ks slum chahar department strategyadvisory accounts raj stand jammu suggested singleday organised accessible cfltc press modi champion aurangabad anyone haryana conferencing station teynampet tehsil vijayan valley family mansa corporation released full related depend incharge cbnaat denied active outbreak fatehgarh village mark parts vehicles law publicprivate multidisciplinary observer chamunda efforts robust technology municipal ias calls centre quarantine jamnagar devbhumi providing billing institute recovering total data places touched men announced bilaspur processions built chennai foot increasing studies chandrasekhar bengal nagar respiratory conducted true hindi request experiencing hospitals mishra alertness twoday support implemented maharashtra forces long allahabad hotel chintpurni asia satyendar territory unit jwalamukhi response infected business adding reopened restart video fthospital ensure earn elements rules surge cognizance top verge year super second paused links developed adityanath survive obeisance positive sangrur bmc orders academic reason fall fatalities mehsana climbed systematic propaganda jnims manufacturing nashik youtube infections protection man students markets track country inspector sounadarajan lucknow harsh protecting risen bus asked gautam read gandhinagar sii kodagu tamilisai monitored government study reached resumption blind faced gap ahmedabad nat medical pushed trial suggestions general entered set tested dharavi ventilators cop dedicated code penal aayog requirement hyderabad planned medicine ms regard standard stopped temple using toll previous waste bhatti manuri halting suggests dig stands twowheelers prey police heads novel onelakh put blood commissioner inaugurated stabilised population discussion patan trying call want srinagar kumar rajesh delhi shut latestage took rising benefit task patiala person rates',\n",
              "        'Unrelated'],\n",
              "       ['united national declared indian anthem nations',\n",
              "        'claimed claim indian version international facebook times rounds twitter williams thishis congratulations information talks managed mana website press translates liked report archived reporting unesco today tweet search false national united quoted reader concerning said modishah methodology declatred ajay keywords announced verify editorial aware message hindi told relations went refers educational jana simple announcement verdict circulated email hoax declared claimthe blogs award anthem dr google story published assure scientific check chief say factchecking internet verification sent truth titled public lead country several fact first sue world nations bureau india retweeted worlda leader sayingthe made hope cultural organization gana viral alok asking whatsapp jdu trueno saying snopescom find tweeted people revived worldthe',\n",
              "        'Unrelated'],\n",
              "       ['united national declared indian anthem nations',\n",
              "        'inboxes emailmessage rumours national mana gana many connected jana recognised world graced anthem recurring declaring message fake unesco',\n",
              "        'Disagree'],\n",
              "       ['united national declared indian anthem nations',\n",
              "        'joke wroteso indian details regarding page imprudent williams information need images groups announcedshe indianswhen worldsure press registration reporting today unesco national ashoka concerning rabindranath text silly recent wrote years pillar detailing attract editorial landed aware message sentiment relations playing jana millions announcement directed email hoax declared blogs carries award anthem story click ploy mail thought comes tricolour assure announcing many chief jokebut members proud motive inbox congratsssssssssssssss titled public mumbaihangoutif several country celebrations history yahoo site sue asked job bureau india looks elaborate picture truewe anthemif nt made forced kind hacker official gana asking called group recognition termed innocent achievement clarifications',\n",
              "        'Disagree'],\n",
              "       ['united national declared indian anthem nations',\n",
              "        'pm photo facebook details clarified authorities damaging harmful radioactive photograph tree level unexco kioskowners tamil amounts refuse said minister former pictures fake event alert removed cash kanpur new shared wall told vulnerable circulated declared bbc billionplus ink anthem ak coastline caused meerut assure broke chief govt mittal death serial stepped sent saurabh caught hurt several topperforming messages ballot users messaging world bureau panic september black giving triggered analysis engagement lives money official ground express daily issued called awarded elections goa requested social hoarded ngc runup proliferated tracking turns face autorickshaw claimed claim standing withdrawal fourfold lived months secret focus chinmayi circulation crowds bank need images woman dispel chipembedded virtual show reports delete gps provided report national media currencyscanner state team cnn head vendors chip held anonymity according sripada aware reflector particular signed j global kept chaos google mobs rbi satellite title fabricated clarification strip peaked emerged coloured threads describing number signal first notebandi outlets located singer june identity tracked street reach made app connected exercise rendering print gana heir viral rise countries commodity certificate companies post phosphorous action accept rumours people isis syria indian stock institutions hour times alleged security stories pradesh twitter nano month coins features tender traction escaped nadu iraq narendra shopkeepers coin incometax contain reporting today sources scan grows concerning essential areas sat source phenomenon access reported awareness buying overshadowing organisation un purposes past buzzfeed photos message declares thinkstock went little sends spot geopositioning refusing spread major stood primary involving tampered blogs widespread embedded looting midnight crisis drew trace currency system device monthly employed internet wrong day days rumour began uttar rebutted circulating host batoncharged legal rs salt india popular invalid ceo activities hackers favourite found protons quantities terror apps worlds group misuse watermarks gained installed certified latent presidential agency journal meters file profile prime large worked witnessed mainstream coordinates notes western joyful grocery bit added came tv banyan groups department agra accounts enhancing requesting step forward way modi forwarded claiming firstpost old tell confusion unesco active speaking drivers guardian mark parts attention power communication acts steal detect precise authenticated ians touched announced pricerise true shops york mukherjee support maharashtra eye announcement reflects email affected used independence varma story location jawaharlal potency english fall note markets country humans november incumbent news government reserve isotope jayalalithaa cultural shortage hyderabad nbc stopped islamic using include interests whatsapp mobile police daughter denying commissioner led started delhi claims took subsequent column',\n",
              "        'Unrelated'],\n",
              "       ['united national declared indian anthem nations',\n",
              "        'consumer pm chetan chetanbhaqat keeps photo facebook life warrior details clarified authorities massege rampant damaging congratulation harmful radioactive kinds photograph videos waiting nation tree refused level pranay valid happening prices everyone kioskowners tamil passing false amounts discussing refuse said subsequent obvious minister recent former pictures stops ferozdiwan fake event alert basis removed cash sir kanpur new affairs shared wall told vulnerable educational jana circulated counterfeit declared dollar bbc billionplus ink anthem ak caller coastline caused meerut sanjay making published assure die scientific congratulated broke chief hindu say govt mittal proud death serial stepped sent saurabh caught marked nonlegal hurt several topperforming messages ballot users banks messaging world unverified bureau truecaller section natural panic september renowned black giving triggered analysis hindustan engagement gpsamparos lives money official ground express worldby daily college issued called awarded elections goa requested sandeepgandotra social hoarded rupani ngc runup proliferated bhagat tracking raju turns gets face pmoindia autorickshaw gujarat claimed claim standing withdrawal fourfold lived months delhigovt centres secret appears believe focus shiraz someone phasing pankaj chinmayi circulation congratulations crowds bank need images judging got mana woman dispel chipembedded visuals virtual deptt show mridangam reports delete flooded price gps provided report gpstracking national media currencyscanner state mannatabhinanth identification team ishirazonly please know cnn weight witness wrote head vendors chip mins held anonymity sended according v sripada deepakdubey society aware reflector particular reddit signed j ndtv commodities pranayrupani global gsurya kept mrak chaos google mobs value rbi satellite title fabricated style notebandirelated strip clarification emerged coloured threads km describing authenticate number signal sail first notebandi outlets located somebody singer authentic june aamirkhannw identity tracked street credible reach made app connected exercise rendering print spreading organization gana heir viral vinayaravind rise countries commodity certificate companies belongs post phosphorous bizarre action accept circulars rumours shouting vidwan market balaji people monitor agoplsrt smitaprakash isis narendramodi syria indian stock institutions hour times alleged security august khan stories pradesh twitter nano month due coins features tender traction chips escaped nadu iraq printing narendra shopkeepers credibility coin continues incometax contain reporting today sources united seems forwards quoted scan grows concerning essential illegallyheld areas sat source phenomenon access indiaspend reported awareness buying overshadowing organisation un purposes past confirmation buzzfeed watch tracing photos win declares message indicates went sends spot geopositioning refusing spread major stood primary snapshot involving tampered blogs rupee book widespread embedded looting midnight crisis drew trace currency system phone perform device employed internet aamir diwan received fakes days rumour began smita uttar rebutted circulating believed heavy link host batoncharged legal nations thank rs prakash salt india popular invalid ceo activities hackers favourite found protons quantities keeping time terror statement apps group misuse watermarks facts gained installed certified latent presidential agency journal helping meters profile prime large worked cool witnessed owaisi mainstream coordinates notes regarding western smritiirani joyful proudindian hoards grocery bit added came trivandrum tv banyan groups thread department agra mentioned accounts enhancing requesting step forward amparos dragon way modi forwarded claiming firstpost old family breaking full explained tell confusion reads unesco active fell july drivers guardian speaking mark parts attention power communication acts steal technology detect precise authenticated ians think touched announced rt december pricerise true resurfaced statements shops category aninewsup york mukherjee support maharashtra allahabad forces placement eye announcement reflects ani email response business affected used girls adding story sath year location jawaharlal increase ips application potency hrd note youtube markets retweet country humans fact see january november right fanned oneindia news unescoproud government reserve isotope jayalalithaa cultural code shortage hyderabad firoz absurd nbc standard stopped islamic using include stashing interests genuine whatsapp ask mobile police daughter denying commissioner led sisterinlaw writing dadris started yay kumar delhi explaining claims took musician column',\n",
              "        'Unrelated'],\n",
              "       ['united national declared indian anthem nations',\n",
              "        'shows played banerjee prime sing standing backs congress biden version indian says fashion branded plays alleged celebrate winter august twitter defender dad scott peak mohammed missing month tears images got raft mountain superstar party bowler mamata move nirmal high businessman fast election rashtriya virtual vs free performed lashed quotient climbing lopez performing nation play ended final cannon starstudded deemed word lines launches rjd campaign national launched media garth state gaga turned power changes outfits shares team prestige billowing jlo enormous performances said climbers know calls minister antinational nepalese racial education mewalal mahindra suvendu event promise howrah powerful announced tuesday reggie pop jeers get watch assembly shared home bengal share centrepiece teams flaghoisting completes wheelchair fight went kneeling community abuse fighting artists bjp battle metres wednesday janata converged comments third dal bring independence watches anthem poll video aideturnedbitterenemy leasers drew inauguration mere star chief lady steps dramatic sydney belting reaching note day test error changed recognising friday newlyappointed part nepali country summit opposition shameful january unity anand disgusting first nationalism jennifer hanks joe brooks injury feats protect nighttime india line rally goofup reflect leader aimed tom bihar players ad delivered nandigram nt made leg singing mls classic indigenous nepal sang president keeping brooch time viral ground mountaineering statement emotional ceremony dais siraj spirit dove morrison take swearingin australia called fc stands start saturday hosted trinamool season rendition thursday bastion ball inability wiping young social pitched donning daring celebration lyrics recognise cappella mount choudhary claims struggling took dallas booed cap people purja',\n",
              "        'Unrelated'],\n",
              "       ['united national declared indian anthem nations',\n",
              "        'nuclear frenzy narendramodi prime pm modiji extreme indian international urban roasted threeinchfooll advani congrats pankaj congratulations information riyalovezu vande judging got seems confirmed dipeshdutt mana tweets universe reference copypaste god hey twitterati bastard falling personal modi reminder heard proudmoment subramanian narendra delete old joy pranay happening unesco view tweet fell passing become united national seemed media july mark parts attention naqui g anupam said fat source know minister chiranjeeva organisation keep sharing winning chaddi suchamisfit sept diplomacy according scotch riya win message category naquis gan educational mukherjee spread jana sought gulshanrajput getting pranayrupani circulated hoax declared setback camera girl award parallel suppliers markzuckirberg anthem hind definitive lose year scientific geez comedian broke many title check spotter hindu internet proud player based wrong received supporting trolls day virat modelled jai bagged friday myths man mataram moment lindsay pass zuckerberg becomes hoaxslayer tits first world nations thank joydas floated severe india position june necessary news drinkers misinformation sanghi pereira cleat recycled speech indians chirunews dieppj becoming swamy trolling trump speeches cultural time alive organization gana pointing mlekhi floating boyfriend voted nagpur role jan muchneeded dreams fallen issued seleted awarded matter whatsapp group legends case travelling taken facts lindsaypereira designed sexiest billiards social redjohn rupani adjudged versions correction kher started goumutra rumours snopescom gets member donald dear unsubtledesi',\n",
              "        'Unrelated'],\n",
              "       ['united national declared indian anthem nations',\n",
              "        'adhinayaka reformist played despatch sing annual formed philosophical congress devi indian introducing international curiosity prasad invited help birdsong conference bahadur western british august tottvobodhini pradesh authorities surging irish speaker schoolstudents window session smooth eloquent month jaya principal sangeet vande bupendra mana enchanted brahma mentioned instrumental expert comparison hey capital cry author poem adoption kushari emotions patriotism organ refused recording reading ananthasayanam bard scarlet hands historic sung today chowdhurani presidentship great paean travelled national united billions sarala strong mazumder orchestra selection sense approach february rabindranath political appeared bharatavidhata engraved deep niece wellknown years till decision tune passion bose closing held madabhushi penned sitting bliss nehru front protests audiences blossom assisting corner new mahraja assembly shift saluted december society bengal drench poet freedom request purnima met human maghotsava music york monarch jana long jorasanko select manner devotional birth inspiring committee became declared anticipate amidst dignified stroke anthem writer constitution spring midnight crisis evening year dent second morning founder lifeforce theosophical title translated along fighters inc jawaharlal charan intoned aid english members editor controversy surrounding eternal residence annie received day distinctive last days journey public mataram country patriotic address january delegation first h asked world rendered partition nations tagore composed india renowned followed portion chorus keataki reach prayer faced deputy selected notation coming general set indigenous narayan mantra gave terms official president gana leaders keeping time sang ayyangar mine ceremony song spirit letter besant college enthralled bankim bengali produce devotion calcutta closed chandra pandit recharged opened samaj wife sign young led lyrics dyson dar rajendra constituent come splashes delhi cousins spent took margaret banerji chattopadhyay people gathering james',\n",
              "        'Unrelated'],\n",
              "       ['united national declared indian anthem nations',\n",
              "        'prime narrow pm religious indian betrays regarding areplacement written territorial humanistic added gurudev postindependence contains mana capacity clear reality modi nation subramanian narendra subramanyam report sung national attention content concerning draw change rabindranath violates said humanism thinker infinite minister composition deep wrote bose ideas diversities sentiment takes syndicated jana forces chowdhury remembered adopted reflects global idea replacement sindh business feed mp anthem pride ina ocean portrays concern mere reworked misfit pakistan exists pluralism understanding perfect essence autogenerated words like limited january demands sabha aa nationalism subhash concerns tagore india composed picture leader sind late netaji icon rest present universal swamy considers land cultural ground gana respect knit staff stated spirit letter harmony standard matter divisive hence chandra headline ethos termed cultures lies loved constituent member brotherhood subject rajya',\n",
              "        'Unrelated'],\n",
              "       ['united national declared indian anthem nations',\n",
              "        'adhinayaka congress ie destiny indian version behari written certain common session jaya victory mana subha high friend sindhu god formal shortened pronounced understood mangala poem king jaladhi play steadfast admiration sung later lines great national seconds sense reader rabindranath exist said welcome tava curved wrote majesty held penned ed v assembly age december name bhagya arrived request takes pulin sadhu gatha ashisha jana different punjab simple adopted crown reins response stanzas heart used caused perennial anthem belief taranga many chariot vi yamuna fall day last words understand tatsama vindhya dravida bout january uchhala mind sanskritised first collective amazed tagore india banga vidhata lord guide notations jage language towards maratha emperor path set lacking consisting utkala himachala official gana statement rise song letter george bengali felicitation requested calcutta turmoil ganga straight rendition bharata gujarata languages stir constituent write sen excessive refutes service gahe mental dayaka mage people praise meaning',\n",
              "        'Unrelated'],\n",
              "       ['united national declared indian anthem nations',\n",
              "        'teaching sing misconceptions indian venerated times help certain saharanpur declaration worshipped motherland goddess fatwas need due issuing vande mana involved edicts high west muslims senior clear way kalbe patriotism qasmi flag clerics court qazi headmaster islam national law hailed portions unislamic said recent order jawwad wellknown years cleric hoist firangi darul storm good akhtar khalid arif occasions maulana evicted suspicions deoband jana allahabad condemned manner masoom wake nothing response ifta unusual shia independence anthem rahseed interprets making year madarsa clarification calling incident kicked darululoom controversy day considered scholar ruled last students mataram see asserted shameful mahali nationalism world school teaches uloom kolkata september seminary deserves passed sharia created cast singing fatwa gana controversies big mandatory spirit islamic beaten point timely bizarre worships none muchrevered republic madarsas muslim mufti hymns come question worldrenowned allah',\n",
              "        'Unrelated'],\n",
              "       ['united national declared indian anthem nations',\n",
              "        'tag browser support video', 'Unrelated'],\n",
              "       ['sharad thackeray bal sabha supriya late lok sister mp ncp chief pawar daughter supremo motherinlaw sule sena',\n",
              "        'claimed son mother physiotherapy stroke coma book cancer maratha mr google believe sule published political sudha married second searched supriya former years managing obituary anne keywords pawar spirit friends saw mahindra using survival leadership shashi determination sharad director website bhatt mentioned died age sadanand wife excerpt mrs led went r retirement fighting old family br struggling bhalachandra bhalchandra prayers india recover reads',\n",
              "        'Disagree'],\n",
              "       ['sharad thackeray bal sabha supriya late lok sister mp ncp chief pawar daughter supremo motherinlaw sule sena',\n",
              "        nan, 'Unrelated'],\n",
              "       ['thousands riots claimed muzaffarnagar displaced lives',\n",
              "        'thousands female claimed amnesty standing encouragement investigative months life identify details stage failed status times advocate fir regarding august stories pradesh communal facing stigma informed information missing month wanted came stop scores struggle ghazala woman changing high step cases recorded senior march free reports withdrew accosted acquittal identified filed bail citing reveals ended family delves recording receive officer offered look report court denied coercion consequences riots seems son false state gang accused investigating team approach series begin losing change threatened said granted fourth trials reported bribes years everyday head organisation officials hearings held unlicensed coerced husband ones men camps petitioned opportunity new courtroom adjournments occasions december name childbirth home october pistols request told promised statements points delayed wait complaint clashes human faith different sought approached survivor fresh withdrawn women districts directed jat emerge evidence begun dream pressurise third violence kept renewed pressure shamli moving chaman villages rights year system suspended carrying killed activists failing journalists spoke hindu working pointed gangraped reason challenging ignored sexual proceeding death fatima threats received agreeing given changed days last protection roaming titled house filing began uttar country several january bus first november condition complaints protect seek rs india displaced special proceed pipe lawyers september june testify government lakh faced transfer delays rape trial adjourned intimidation justice set meant majority time harassment swift families statement hearing letter supreme guns threaten record closed case police died unwilling daughter underway give wife bano withdraw young social relief terrace complained concluding muslim threatening presence delivery magistrate attached took claims people kill raped file muzaffarnagar',\n",
              "        'Agree'],\n",
              "       ['thousands riots claimed muzaffarnagar displaced lives',\n",
              "        'youths thousands village riots district arrested claimed sharp used violence accused erupted sunday night facebook weapon monday said lives murder sanserpal killed twitter communal email rai area mohadpur budhana afresh police registered connection cases house october linkedin singh persons including recovered inputs people kill displaced muzaffarnagar september',\n",
              "        'Agree'],\n",
              "       ['thousands riots claimed muzaffarnagar displaced lives',\n",
              "        'youths thousands village riots district arrested claimed sharp used violence accused erupted night weapon said lives murder sanserpal killed communal rai area mohadpur yesterday budhana afresh police registered connection cases house october singh persons including recovered inputs people kill displaced today muzaffarnagar september',\n",
              "        'Agree'],\n",
              "       ['thousands riots claimed muzaffarnagar displaced lives',\n",
              "        'youths thousands village riots district arrested claimed sharp used violence accused erupted night pti weapon said lives murder sanserpal killed communal rai area mohadpur yesterday budhana afresh police registered connection cases house october singh persons including recovered inputs people kill displaced today muzaffarnagar september',\n",
              "        'Agree'],\n",
              "       ['thousands riots claimed muzaffarnagar displaced lives',\n",
              "        'phugana thousands village riots district claimed arrested team witnessed found shamli bahawdi sources said western investigation arson pradesh left constable communal displaced loot incident dead involved case police others neighbouring cases uttar persons including station villagers districts delhi probe people probing sit special muzaffarnagar september',\n",
              "        'Discuss'],\n",
              "       ['thousands riots claimed muzaffarnagar displaced lives',\n",
              "        'phugana thousands village riots district claimed arrested team witnessed found shamli bahawdi said western investigation arson pradesh left constable communal displaced loot incident dead involved case police others riot neighbouring cases uttar persons including station villagers districts delhi muzaffarnagar people probing sit special sources september',\n",
              "        'Discuss'],\n",
              "       ['thousands riots claimed muzaffarnagar displaced lives',\n",
              "        'youths thousands village riots district arrested claimed sharp used violence accused erupted night weapon said lives murder sanserpal killed communal rai area mohadpur yesterday budhana afresh police registered connection cases house october singh persons including recovered inputs people kill displaced today muzaffarnagar september',\n",
              "        'Agree'],\n",
              "       ['thousands riots claimed muzaffarnagar displaced lives',\n",
              "        'thousands additional thana arrested riots district claimed extended violence speech custody inciting shamli areas lives making speeches till chief charges communal rana riotaffected provocative judcial others days adjoining bhawan lucknow mla incite judicial narendra local kumar magistrate bjp november wednesday displaced suresh court muzaffarnagar september',\n",
              "        'Disagree'],\n",
              "       ['thousands riots claimed muzaffarnagar displaced lives',\n",
              "        'thousands claimed collided normal life belonged security pradesh tightened gaurav communal youth fearing boys kaval convict muslims sentenced refused living judge court village riots accused fine following said shelter relatives altercation places victims camps imposed precautionary imprisonment clashes community local measure spread different refuge verdict districts flee became district violence himanshu shamli villages left killed area bike given friday safety uttar sparked rs native displaced additional situation triggered bhatnagar lakh forced sachin lives majority killing money return families take homeless cousins people neighbouring muzaffarnagar',\n",
              "        'Agree'],\n",
              "       ['thousands riots claimed muzaffarnagar displaced lives',\n",
              "        'thousands village riots claimed fever loee shamli areas cardiac said lives taslim set alleged hospital time shelter boy communal camp arrest due treated camps police others died taken adjoining man suffering relief noruddin including persons villagers clashes local wednesday displaced muzaffarnagar september',\n",
              "        'Disagree'],\n",
              "       ['thousands riots claimed muzaffarnagar displaced lives',\n",
              "        'examination village sep riots beefed claimed postmortem bearing adding accused aug meanwhile found areas kala said ascertain lives alias body security untoward sensitive left officials communal injured incident ram matter personnel dead saturday police sent died extra probed adjoining home precautionary das several bullet clashes measure deployed injury prevent committed murdered people displaced kutba muzaffarnagar',\n",
              "        'Disagree'],\n",
              "       ['thousands riots claimed muzaffarnagar displaced lives',\n",
              "        'thousands claimed routine congress attitude singhvi difficulty alleged connivance try colluded western security commission pradesh sp gaurav saharanpur communal facing defending sangeet due party blame reporters manu ruling manish muslims complicit chargesheeted reports modi mla vitiating blamed demanded sahay serious living report abhishek locked lax speaking riots governor state accused said irrespective som bhatia proof officers room inquiry new samajwadi ran told statements chowhury submitted gather category needs bjp spread districts defend committee violence adding shamli supremo meerut involvement year spokesman known tewari left heinous regime parties confined naik bsp surrounding responsible given day others last uttar country number demanding sufficient displaced rejected leader reject government mayawati indicted found made trial game vindicated justice tens offences attacked oneman killing enjoying leaders statement z strict dismissed take perpetrated ram happened ask dead record saying allegations showed spokesperson taken thursday bulldozers action innocent persons want rajendra ministership delhi people muzaffarnagar',\n",
              "        'Disagree'],\n",
              "       ['thousands riots claimed muzaffarnagar displaced lives',\n",
              "        'thousands additional thana arrested district riots claimed extended violence speech custody inciting shamli areas lives making speeches till chief charges communal rana riotaffected provocative displaced trust yesterday judcial others days adjoining bhawan press lucknow mla incite judicial narendra local kumar magistrate november bjp india suresh court muzaffarnagar september',\n",
              "        'Agree'],\n",
              "       ['thousands riots claimed muzaffarnagar displaced lives',\n",
              "        'withdrawal kawal life western minor pradesh communal came moved procedure party cases sentenced press filed blamed related summoned court today village riots arrested state power accused team concerning army said misjudging minister mishandling reported years yadavled iqbal officials rioting altercation men according samajwadi complicity chit complaint clashes local inputs bjp furkan named approached wednesday muzammil districts evidence pti shamli yogi deployment continue broke killed chief provisions adityanath say trust death emerged given attack track uttar convicts history clean first battered india section displaced special sit news situation government afzal triggered convicted found janangir trial nadeem killing code time investigated investigation leaders implicated saw akhilesh case guilty police withdraw led mujassim ikbal prison agency probe killings people criminal remain chargesheets muzaffarnagar',\n",
              "        'Agree'],\n",
              "       ['thousands riots claimed muzaffarnagar displaced lives',\n",
              "        'seat thousands refuted feeling prime honest claimed difficulties corruption spcongress ministerial sugar gain alleged mills battling western askedbalyan cm clarified commission pradesh sp communal facing farmers recommendation added wanted votes yadavji practise remark talked issue party declare reinstated step cases quota election able modi mla singh religion haryana rss demonetise deployed upcoming related court locked campaign rival riots seems son national reservation state jats accused sizeable threecorned following declaring said political minister crore tension prevailed years centre castes dispensation decision held sitting sanjeev appealing balyan calm demonetisation cost removed owed watch manmohan samajwadi noteswhile name told development fight upa community local faith waive bjp lok policy constituency named rethink major adopted caste electoral everybody wake lost declared mp demand pti candidate combine faultlines yadav continue many governments left chief muchpublicised campaigning done rana reason favour exploit death bsp given attack quashed last mining like corrupt uttar country number several riotaccused waived swaroop wave sabha sympathy saffron asked seeking supported rs leader government mayawati faced illegal accountable half analysts gave money attacked time saidhe leaders knew chitranjan interest hukum supreme previous targeted elections dead akhilesh strategy saying allegations give taken impact bypoll action led narrative highvalue stayed advocating face delhi mafia people attacking suresh muzaffarnagar agriculture',\n",
              "        'Disagree'],\n",
              "       ['thousands riots claimed muzaffarnagar displaced lives',\n",
              "        'noting riots government state withdrawal used violence accused congress inflammatory extended february exonerate exposes prominent saeeduzzama justice set making speeches political time leaders governments pradesh instance rana qadir parties worth bsp party case move exploited prosecution various foot high cases travesty samajwadi uttar muslim withdrew relating haryana terrorism agitation bjp allahabad serve sought ends benefit soldiers withdrawn section court jat muzaffarnagar',\n",
              "        'Disagree'],\n",
              "       ['thousands riots claimed muzaffarnagar displaced lives',\n",
              "        'thousands claimed large formed toxic children expelled says months angry place workers notes flow drop winter communal murderous rajanya fear homes boys recorded continued estranged attacks shown agricultural released living hundred campaign eqbal riots aman biradari national state passage numbers displacement team authored fought outrage immediate years unofficial settlements bose enticing chronicles camps akhtar unsafe ruined home conducted blankets live support findings wednesday districts detailed women jat restricted became resolved violence girls book winters shamli villages zafar refugee continue many left rebuilding hindu feel sexual death based hate poor colonies mander akram several cold carnage resettlement enemies harsh livelihoods history terminated partition apart india displaced dread september followed government violent ancestors faced bitter forced medical lives land return families comprising interest food died survey unwilling blood lack relief visit muslim supplies persons stayed fearful took people muzaffarnagar',\n",
              "        'Disagree'],\n",
              "       ['kilometres modi china pm handed land',\n",
              "        'followed leader lied dared earlier pm quo gandhi congress sides video ladakh actual made change said details land status alleged know minister afraid rounds entire image territorial transgress sq journalists defence talks parliament involved cost concerned ruined km handed watch attempting several told control lashed modi chinese nation china scared lac singh narendra protecting rahul rajnath committed integrity protect full india line aggression much',\n",
              "        'Discuss'],\n",
              "       ['kilometres modi china pm handed land',\n",
              "        'shows reuters prime claim pm claimed admissions congress afternoon indian union addition prasad times pertained current gun occupies questioned mos sq youth informed scrutiny sidesteps vindication moved sinopakistan meeting issue party mentioned quick red attempted jammu houses senior march intruded press modi show anyone nation singh attacks claiming narendra citing dispute side flag chinapakistan continues responded soldiers look transgression tweet great hint remarks chant state power region army erect said irrespective discrepancies minister thwart former advising years critics raised walked external erstwhile ceded sacrifices past parliament v withholding opportunity corner affairs kms debate watch figures manmohan december samajwadi amar shankar indicates statements control grabbed submitted mention cited economical shifted kilometers hiding lok bjp condoning mukherjee fresh signed agreement territory meet occupation missed comments lost response ministers upper allparty mp foiled ladakh answers withheld muralidharan queries office second kashmir border pakistan mea clarification parliamentary srinivas area bv govt element challenge socalled controversy stepped cv bihari detail attack briefed km last words friday house lying part several opposition fact ravi cleared china sabha standoff first sensing asked muralitharan india position lac june aggression misleading criticism bihar leader dissecting discrepancy government square junior triggered occupied attempt towards illegal pranab sqkm made land use kilometres reply president time leaders big statement stated figure strict jethamalani issued point replied ram regiment consistent saturday record advances saying incorporates taken pmo facts jumped boundary chinese presence started foreign observations q come question replying member claims structures includes spate rajya records atal',\n",
              "        'Disagree'],\n",
              "       ['kilometres modi china pm handed land',\n",
              "        'prime pm accusing congress afternoon believe focus launching conference responsibility tensions sq added month guys doklam obsessed prefers concerned reporters scathing vision controversial able press modi heard narendra tell happening today july remarks media power sunday linking said access know minister recent targeting years image sitting internal fake handling parliament save affairs strongman watch shared hit october told knows strength bjp forces punjab fresh ani comments nadda similar jp gandhi pressure video top laws making rahulgandhi briefings border fabricated chief weakness talk nobody military reason poor attack farm km last man part country cleared china scared standoff spoil rahul armed india position opponent situation leader building government square believing reached cares present mr made land gave work ji take protest ask saying give taken questions put excongress chinese call want come indiachina tweeted patiala person',\n",
              "        'Discuss'],\n",
              "       ['kilometres modi china pm handed land',\n",
              "        'prime pm congress indian ranging conference security farming sq future yesterday stop able way press modi nation haryana narendra demanded hands agriculture tweet media break said management advised minister recent order bachao rohtang image tunnel save new shared hindi issues clip punjab wednesday territory structure affected gandhi mp bring gripping laws taking many translated incident inaugurate affecting jibe wayanad farm km handed hathras dark yatra several country kanoon china silence asked rahul read leader kheti speak darkness asking destroy ji food questions kaala existing visit waving things uttarakhand come delhi face find breaks atal',\n",
              "        'Discuss'],\n",
              "       ['kilometres modi china pm handed land',\n",
              "        'prime announces claim accusing hot congress indian sacrifice depsang conference responsibility questioned informed holy added moved answered plains mata party move stand reporters disengagement scathing disengage addressing way kailash press modi singh narendra troops cowardice rajnath full word launches launched coordinated bharat finger navy agreed army areas spitting conceded said efforts minister former centre think surprised ceded sacrifices gogra announced parliament accompanied borders success told needs faith lok forces chowdhury randeep agreement surjewala territory ready enraged used gandhi adding problem ladakh everything ranges headquarters pangong border ranjan venugopal force behaving capability defence adhir area spelling govt given attack day friday country fact solve lauded asserted protecting china sabha asked rahul located armed protect india read uttering portion leader eastern government air mother reached sides undermine mr general land kc president take allowed raise post give verified thursday important chinese springs question animated result coward people secretaries pact',\n",
              "        'Unrelated'],\n",
              "       ['kilometres modi china pm handed land',\n",
              "        'leader claimed pm gandhi congress cares army said land laws top conference order knew image antifarm sq reclaim nobody whole take care ask tuesday tell km give addressing person october part able told opposition press modi country knows china agitation backdrop rahul officer patiala safeguard india',\n",
              "        'Discuss'],\n",
              "       ['kilometres modi china pm handed land',\n",
              "        'wisdom prime claimed pm congress balakot indian demoralises believe monday planning carried alleged actions surgical modiled questioned territorial implications added information questioning responsibilities came meeting director party stop stand infiltrators wordplay modi surrender singh nation paper congressled jagat narendra vitiating troops ranbir valley soldiers worried tweet united national strong power accused presided february designs army portions said political please minister jaishemohammad former years sacrifices make personnel hundreds manmohan hit combined retaliation conducted share true statements control upa bjp forces surrendered operations valour wishes strategic territory janata comments nadda response galwan alliance erosion mindful jp allparty gains personified improve dr ladakh top year office loc border many brazen killed chief force pakistan inc significant camp military strikes insulting fall systematic km last words cross understand reversed country see china unity progressive asked conduct armed bharatiya prakash belittling line june september referred square government air reserve late night made general flat land kilometres president terror leaders letter saw central using previous belongs jpnadda insulted police post questions taken bombed termed action disrespect vain chinese institutional subjects dear airstrikes receiving go incursions meaning',\n",
              "        'Unrelated'],\n",
              "       ['kilometres modi china pm handed land',\n",
              "        'irrigation formed somnath congress patel melamodi offices monday hectares cm inroads pradesh youth added wells supply sardar traditional got gujaratwhich declare paddled administrative pollbound ruling addressing udepur clear way seen modi vadodaradahod saidbringing cheques gir narendra madhya seawould dwellers become clarify checkdams shares state tribals supplied region districtis areas kalyan said minister crore walked timeframe residents garib make event titles pipeline announced cost built creation new proposed cheers chhota debti community bjp heremodi chairmanship districts laid committee harnessed district announcements act sammelan implementation avas hehoweverdid rights year border chief regions secretary tribal districtafter bpl worth dug panchmahals day km handed projects january limits rs much announcementthe additional government travel udepurone lakh attempt talukas dam next water tribalsat land farmland gave waterwhich decide flows big families irrigate spend vadodara called streets network give twin ownership bastion covered yojna sammelanwhich come bicycle',\n",
              "        'Unrelated'],\n",
              "       ['currency notes covid spread cops',\n",
              "        'infected dared coronavirus testing zonal car state used reached cctv pick ashish denominations threw turn ordered said notes municipal footage identify money infection currency unknown road apprehensive polythene bhopal taking pradesh staff hours officials positive spoke informed deadly area sped patients succumbed collect personnel toll fearing death khatipura front police bag sprayed thursday none surged commissioner man constables scanning locals singh lodge touch spot disinfectant persons unidentified superiors sticks thrown madhya rs officer indore',\n",
              "        'Agree'],\n",
              "       ['currency notes covid spread cops',\n",
              "        'rajiv prime grabs afternoon indian cctv survives strewn patrolling place notes sanitized hotspots someone virus spotted sanitization fear got unclaimed rohini capital locals singh paper station claiming cameras city incharge mill week sources dry khatiwala amounts said colony know denomination recent road slipped droplets residents total according new studies nagar told teams development spot local spread indore surfaces evidence bhadoria similar value currency scientific bhopal area incident emerged last lying scanning country cops humans lucknow thrown rs rushed panic news dharamshala lockdown indicated triggered passed found transmitted express hira happened police thursday ownership installed seized delhi service find market took people',\n",
              "        'Discuss'],\n",
              "       ['currency notes covid spread cops',\n",
              "        'rajiv claimed prime car cctv patrolling times notes blog hotspots authorities pradesh added april rupees got unclaimed cases singh anyone station unidentified examining contaminated madhya city incharge health state ten investigating denominations said municipal know reported road raised residents hotspot total data according front nagar speculations told teams development harinarayanachari live spot mishra local ndtv indore pandemic bhadoria updates coronavirus value top currency area emerged man lying country cops inspector see possibilities thrown rs read rushed panic anurag triggered deputy found possible threw infection general footage picked sanitised follow hira khatipura case allegations police alarm thursday ownership corona seized lodge dwary examine ministry anuragdwary',\n",
              "        'Discuss'],\n",
              "       ['currency notes covid spread cops',\n",
              "        'rajiv claimed prime grabs afternoon cctv strewn patrolling notes sanitized hotspots someone pradesh spotted april rupees unclaimed got confirmed cases locals singh claiming cameras madhya city sources said know denomination reported road slipped residents hotspot total according precautionary nagar told teams development spot local ndtv indore bhadoria coronavirus value currency many area incident emerged received lying scanning country cops thrown rs rushed panic anurag triggered found mr totals official investigation picked sanitised measures matter hira happened police thursday ownership installed seized call dwary find anuragdwary deaths people',\n",
              "        'Discuss'],\n",
              "       ['currency notes covid spread cops',\n",
              "        'eyewitness infected bhadoria claimed coronavirus stating locality media claim rumormongering east reached investigating team act chance cctv strewn said footage value notes qureshi someone currency reported road picked rounds rumors hours mischief sp positive dropped sanitised nobody hiranagar mohammed likely take total checked unclaimed khatipura police given high incharge rajeev thursday ownership cases lying nagar social heera true admitted rumours want station come spread find fourwheeler deaths rs disease alerted noon indore panic',\n",
              "        'Discuss'],\n",
              "       ['currency notes covid spread cops',\n",
              "        'claim cctv believe policemen notes branch plastic informed crime checked antisocials cases lpg senior singh recovered city fell investigating ri said reported leading officials officers room places sanitising nagar cctvs told control spread wednesday infected similar coronavirus seniors alarming tomar evening currency check boy area roads jai days lying inspector believed see thrown rs special reserve reached found present possible infection footage incidents work policeman sanitised saw fallen hira pocket khatipura police taken put bag action seized come deliberately delivery tukoganj cylinder person',\n",
              "        'Discuss'],\n",
              "       ['currency notes covid spread cops',\n",
              "        'claimed duo place notes alleged shop products photopti movement questioned services boys registered singh filed station sections nihangs arrested apprehended accused reattached sunday curfewpasses following spitting said body chopped buying road nationwide raised charges residents men imposed relevant watch home ran live dairy complaint punjab sho pandemic wake updates coronavirus bhagwan commuters shopkeeper writer custody evening currency kharar continue check chandigarh patients incident spit hand booked friday track gates quarantined customer read bihar lockdown mohali app purchased threw acting cop saw follow closed case police alarm taken rubbed risks delivery handing took',\n",
              "        'Unrelated'],\n",
              "       ['currency notes covid spread cops',\n",
              "        'pandemic look recovery situation infected false business testing coronavirus government levels provide problem areas editions morning mismanagement newspapers rise hurdles standard information april hysteria kick various infections friday cases relaxations hindi country takes spread select regional deaths india panic picture',\n",
              "        'Unrelated'],\n",
              "       ['currency notes covid spread cops',\n",
              "        'claimed large locality car extreme cctv children curiosity strewn identify notes sanitized plastic wearing information checked middleclass scattered videos gloves jittery locals pouches anyone station examining ended cameras contaminated corporation scare incharge recover flocked collection toi team denominations said municipal collected carry road raised videorecorded residents collect harinaryanachari inform causes collecting rajeev watch home nagar speculations heera confirm told went mishra spot indore bhadoria used seal video covidhit imc currency virusinfested expressed concern check left neighbourhood area tests note sent confiscated ruled number cops kids possibilities rs cordoned examined found pick prompting footage gave money masks investigation picked viral entire caution inset dig khatipura allegations police alarm thursday action trying sticks find took people',\n",
              "        'Discuss'],\n",
              "       ['currency notes covid spread cops',\n",
              "        'claimed notes someone virus pradesh information fear scattered cases capital singh station recovered madhya officer city scare health alone testing state quoted returned worstaffected areas said fourth reported leading officials total according rajeev home nagar spread wednesday disease getting districts indore ani bhadoria coronavirus declared affected pti quoting currency bhopal done positive area patients climbed house number country khandwa thrown gone rs news khargone street reached found containment lives investigation sanitised expanded fallen fotprint hira thursday seized persons agency took rising cities people receiving',\n",
              "        'Unrelated'],\n",
              "       ['currency notes covid spread cops',\n",
              "        'hl theocratic burden kirana khushnaseeb ensuring sikhs months corporate distancing ease hour enactment help regarding written cause distance meal misinformed essentials products responsibility pradesh citizen added information gear supply selfproclaimed need distribution due checkups involved misgovernance move scope kinds enhance exacerbated flout stand provision step ruling required transfers march capital falling ratio vital free religion nation singh ended crunch credibility backdrop wholesale donation corporation administration health opacity fraternity ample hanspaul outbreak view seems riots state parts power amounts sent slowdown communication corporates worstaffected moratorium counter essential dirba efforts stores irrespective political rich devices frequent bond recent kaur shelter immediate cooperation centre arun providing dispensation decision transparent sc likeliness unorganisedinformal wageearners basis dealing jinping cost cash front spotlight processions complacency aggarwal upheaval new gurdwara editorial handle rate xi points drying fight effective space amritsar needs lesson zirakpur punjab wonders sharma items getting announcement chain champions coffers double email pandemic fuel coronavirus defaults district difficult repo used bring limit kept writer chaos selfish ensure rules realities disrupted attempts rbi mail deepakshi system economy governments many chandigarh pakistan exceed overflowing letterstribunemailcom significant donated steps favour incident parties challenging moral lowering expansion challenge editor persecution poor borrowings refer day covid considered attack days protection nissim apropos afghanistan safety lot reduce public uttar country cops opposition economies fact address caa livelihoods legitimate mind right thrown citizens create job protect prakash typed india accommodate bold retail economic situation lockdown evident government guide option seth dealt laudable dhall towards language present forced medical made meant secure lives individuals money fire time keeping ground daily conceal emotional liquidity financial countries follow regard measures cashreserve expanded include take stagnant timely streets bm letters prevailing loans food police patiala corona action important hustling social goyal rule donations turns basic wagers gets payments market struggling unhindered professionals short people initial go fiasco funds',\n",
              "        'Unrelated'],\n",
              "       ['currency notes covid spread cops',\n",
              "        'pm accused cctv foiled present footageamrita threw footage said chilli evening shop eyes dewas taking chili nabbed incident came interrogation snatch based sarafa police owners thursday attempted jewellery man owner shopowner action solanki locals clear told plan identified escape anand trying gold started complaint throwing powder pradeshs station grams revealed madhya fleeing singh incharge ani gathered',\n",
              "        'Unrelated'],\n",
              "       ['currency notes covid spread cops',\n",
              "        'pandemic outbreak coverage live coronavirus deccan thank herald globe following',\n",
              "        'Unrelated'],\n",
              "       ['currency notes covid spread cops',\n",
              "        'counsel nath become voting tuesday plea ended infructuous campaigning place told take',\n",
              "        'Unrelated'],\n",
              "       ['qs iit features kharagpur subject ranking top',\n",
              "        'rankings rank narrow institutions broad finance added information reputation comparison report topranking civil economics content areas said technology employment institute electronics surpassed total quality disciplines marine syndicated sector electrical earth accomplishments computer ranked business feed econometrics systems globe top published operational year qs second reworked institution academic autogenerated research based manufacturing mining aeronautical country mineral india environmental picture worldwide emerging rest materials official mechanical accounting statement prestigious staff statistics standard issued graduate headline forestry ranking sciences including structural science engineering subjects subject field agriculture',\n",
              "        'Discuss'],\n",
              "       ['qs iit features kharagpur subject ranking top',\n",
              "        'rankings rank worldwide iit narrow econometrics economics ranked emerging systems kharagpur areas institutions globe said technology top published employment year qs official second operational computer civil mechanical materials accounting statement prestigious institute electronics statistics institution broad finance academic information issued surpassed added total graduate reputation research based quality features forestry disciplines manufacturing comparison mining accomplishments ranking aeronautical country mineral marine sciences including structural science sector engineering electrical subjects subject earth india environmental topranking field agriculture',\n",
              "        'Agree'],\n",
              "       ['qs iit features kharagpur subject ranking top',\n",
              "        'rankings rank narrow institutions feeds broad sus finance added information reputation comparison topranking civil edited iit economics areas said technology source employment outlook rg institute electronics surpassed total quality disciplines marine mar sector electrical earth accomplishments computer ranked econometrics systems pti globe story top published operational year qs second institution academic autogenerated research based manufacturing mining aeronautical country mineral india environmental kolkata news worldwide disclaimer emerging kharagpur materials official mechanical accounting statement prestigious staff statistics issued graduate forestry ranking sciences including structural science engineering agency subjects subject field agriculture',\n",
              "        'Agree'],\n",
              "       ['qs iit features kharagpur subject ranking top',\n",
              "        'rankings index rank teaching pm standing bangalore oct indian says institutions dominate failed guage western iitm striving fourteen roorkee dropped jindal providers need pack crack rankingqs decline op nonstem dip notwithstanding varsities continues league report londonbased celebrated iit blow improved approach said technology symonds pursue brand recent bracket guwahati years university faculty institute decision slipped education compared held officials make universities places announced jun past continuing ist kanpur positions new infra iitbombay plans shift remained conducted control mar bengaluru prepared iitkgp complete teachinglearning slipping sector findings major wednesday asia oxford ranked stable global pandemic wake reconsidered suggest telecom dec improve performer globe top comes operational year qs hard developed proportion aspired tops internet colleges bestranked schools mathematics based mit apr lists nov gin entrant last bagged titled students london feature country programmes innovation ramesh world impacted india trumpets followed study employability pc iits kharagpur igauge online entered uk institutes leads quacquarelli boosted iitk ground manage hyderabad countries include misses hold showed bombay iisc survey gained impact pokhriyal ranking call including science delhi service engineering madras fail coveted entries rates',\n",
              "        'Disagree'],\n",
              "       ['qs iit features kharagpur subject ranking top',\n",
              "        'rankings rank bangalore provide indian institutions institutescolleges independent place broad jindal iim managed got reputation mentioned op march paper remains academy released iit list individual areas management technology symonds qswur guwahati leading university manipal education institute comparative parameters faculty universities basis jamia performance get chemistry citations grabbed category spot electrical computer ranked global business globe top qs placed academic hamdard colleges research based productivity mining students feature world ranks programs jnu electronic anna analysis kharagpur analysts materials institutes quacquarelli mechanical calculate minerals employer bombay iisc taken impact ranking petroleum science delhi madras engineering subjects subject',\n",
              "        'Disagree'],\n",
              "       ['qs iit features kharagpur subject ranking top', nan,\n",
              "        'Unrelated'],\n",
              "       ['qs iit features kharagpur subject ranking top',\n",
              "        'rankings bangalore indian institutions focus jindal iim came cohort op anthropology capital courses pokriyal related national iit list stream du law increased said technology management minister guwahati years university institute education universities total continuous nehru course new studies cogrartulated development bengaluru category spot featured acclaimed situated computer ranked global resulted top year qs placed jawaharlal significant cambridge reform colleges mit last programme number feature programmes ramesh world taught news jnu anna representation kharagpur made electricalelectronic include iitdelhi bombay ranking science delhi service madras engineering took subjects improvement reputed',\n",
              "        'Disagree'],\n",
              "       ['qs iit features kharagpur subject ranking top',\n",
              "        'global followed rank jnu list broken du indian iits life kharagpur institutions made scraped tier technology top symonds topped management institutes qs quacquarelli humanities distance university medicine institute jawaharlal institution arts elite came group nehru according crack iitmadras bombay kanpur iitdelhi iitbombay ranking remained social overall able country fact sciences category including science delhi key categories world engineering madras released wednesday subject major natural stood position ranked',\n",
              "        'Disagree'],\n",
              "       ['qs iit features kharagpur subject ranking top',\n",
              "        'rankings rank large student indian switzerland international says witnessed institutions drop ajit appear roorkee islamia dropped facultystudent brilliant wur go need due reputation director move chaturvedi tg appreciate ratio average receive released deemed league explains private iit national list state numbers improved driven seventh ivy technology symonds available precise recent worldclass guwahati years millia university parameters institute education faculty secured dominated seem good universities total data adds jamia performance citations points sooner bengaluru spot massachusetts featured ranked comprised global improve journals top year qs collegegoer factors institution academic colleges single research mit note considered last understand students number feature see helps world india line position ranks june read sitharaman stanford scored hindex beginning iits kharagpur made names next online secure uk institutes quacquarelli topnotch importance output jadavpur hyderabad work k tables prestigious thinks saw measures looking employer suggests spots calcutta case bombay iisc impact ranking including want science delhi madras engineering subject central planning papers harvard',\n",
              "        'Disagree'],\n",
              "       ['global leads iit mit bombay ranking engineering india',\n",
              "        'rankings rank indian switzerland federal roorkee iim eth national iit tsinghua list technology management topped guwahati university institute universities according kanpur chemistry category spot zurich imperial massachusetts oxford computer ranked missed global business top year qs placed achieved california cambridge mit mining programme london number mineral china score singapore world india ranks followed anna stanford ahmedabad kharagpur made swiss consecutive uk institutes leads materials mechanical tenth technological college berkeley bombay iisc ranking petroleum science delhi engineering madras subject pilani',\n",
              "        'Agree'],\n",
              "       ['global leads iit mit bombay ranking engineering india',\n",
              "        'rankings rank pm standing bangalore indian union institutions scientists monday place times iitm drug hinted rounds fraud belgium fourteen latter jindal month iim fear supply defending director lifetime feb drives op suu portugal inception election dip champion credits notwithstanding citing france continues league national iit list power ten g increased researchers improved agreed army change said vaccine fourth bracket guwahati years bloc university myanmar education institute faculty slipped specific compared publications make clusters universities democracy places announced jun nehru ist protests new unsubstantiated citations iitbombay overall qualify mar bengaluru iitkgp slipping policy battles featured eminence anticoup wednesday p asia european edition cup ranked global third sep band globe contribution top reforms jabs year qs second jawaharlal govt members tops fifa bestranked pfizerbiontech research schools approve nov entrant last bagged public london feature programmes kyi first november listed ramesh world england india decade followed anna brazil sitharam option sixth representation iits ahmedabad kharagpur eleventh fields half institutes unsteady effort iitk hyderabad ropar jan doubling spain halting misses spots bombay iisc europe none pokhriyal ranking seized gets delhi science madras end engineering subject fail detaining transition',\n",
              "        'Discuss'],\n",
              "       ['global leads iit mit bombay ranking engineering india',\n",
              "        'index rank rankings indian switzerland standord america federal reputation cut usa iitb way paper citation shown continues scientist eth national tsinghua list iitroorkee technology university parameters institute secured publications elite good universities nanyang according performance securing citations iitbombay grabbed iitguwahati cited imperial spot zurich iitkanpur allotted massachusetts oxford ranked global third iitkharagpur top published qs california academic cambridge colleges research emerged mit based productivity received scholar london number country china singapore world followed anna dominance hindex swiss set uk institutes work technological measuring college employer group berkeley hold iitmadras bombay iitdelhi iisc impact ranking including ministry key engineering claims assessed subject papers',\n",
              "        'Agree'],\n",
              "       ['bitcoin wins acceptance mainstream tops',\n",
              "        'percent mainstream carmaker falls drop quarter display surging twitter goods dropped setting month supply need services crosses soared high acceptance surged bestknown precious vs coindcx virtual citing customers price full continues bull prices biography lakhs mark wins offer losing following turkey bans irreparable said cryptocurrency know recent crossed years breaches experts crypto total announced touched paypal new usbased inflated hit december rate namecheck electric transaction safehaven cent twoweek run wednesday retreating dollar gains bring minutes bought amendments value laws year currency known title traded talk significant jumps say digital surpasses tops elon range sumit sustained purchase cofounder highs day extends last days friday volatility part drops began saved soars outperforms ban risen january gold first rose gst world quadrupled amend damage rs extending gupta budget accommodate tesla popular bitcoin rally news clarity traders ceo organizations cryptocurrencies lakh mr possible touching online coming metals fifth use time weeks trading investors breached tagged interest doubling using allowed saturday income record investments thursday jumped swung company touch broader things volatile risks tax payments reduced market assets revived musk',\n",
              "        'Disagree'],\n",
              "       ['bitcoin wins acceptance mainstream tops',\n",
              "        'bitcoin rally building large managers gains street firms desks vaulted carmaker signs mainstream bought gaining coming said cryptocurrency fuelled money year currency investors finance string traditional dealing fringes amongst record tuesday new high investments acceptance last hit sheets wall buy lot accept company electric started risen payment rose world balance tesla',\n",
              "        'Agree'],\n",
              "       ['rankings rohit spots men charts virat top kohli odi jasprit icc sharma batsmen bumrah loses bowling place retain',\n",
              "        'rankings opener indian trent glenn conclusion place storms gain indies khan bowlers enters positionother boult moved due successful mushfiqur spotsbangladesh bowler west bumrah senior finch full included alzarri mustafizur wickets hasan scoring rohan curtis series tour performances mehidy captain zealand taylor fourth bangladesh aaron places men runs occupying new matches javed rashid maxwell remained mujeeb rahim points pacer update spot ur kohli featured icc sharma hashmatullah allrounder missed mustafaafter pandemic third mrfworldwide listireland awardbangladesh kittyrohit lifted uaevire top second batsman ireland placed pakistan jasprit concluded stirling grabbing player rahman virat tamim last skipper oneday haul shakib number began ross babar first injury al dubai india position match appearances players centuries azam moves listkohli scored reach eighth game paul join rohit batsmen include take australia spinner spots slots retained odi gained shahidi matchesafghanistan including round progressed',\n",
              "        'Unrelated'],\n",
              "       ['rankings rohit spots men charts virat top kohli odi jasprit icc sharma batsmen bumrah loses bowling place retain',\n",
              "        'rankings indian trent gain place indies khan bowlers boult due successful mushfiqur bowler west bumrah senior finch included mustafizur wickets hasan list scoring series tour performances captain mehidy zealand taylor fourth bangladesh aaron places runs occupying new matches javed rashid remained mujeeb rahim points pacer update spot ur kohli featured icc sharma hashmatullah allrounder missed pandemic third award lifted top appearance second batsman ireland placed pakistan jasprit concluded stirling grabbing player virat rahman last skipper oneday haul began number shakib kitty ross babar first injury al india position match players centuries azam scored reach eighth game paul rohit batsmen include take australia spinner spots slots retained odi gained shahidi including round progressed',\n",
              "        'Agree'],\n",
              "       ['rankings rohit spots men charts virat top kohli odi jasprit icc sharma batsmen bumrah loses bowling place retain',\n",
              "        'rankings zealand drop new odi series loss place vs',\n",
              "        'Unrelated'],\n",
              "       ['rankings rohit spots men charts virat top kohli odi jasprit icc sharma batsmen bumrah loses bowling place retain',\n",
              "        'rankings opener topranked indian trent facebook abbas gain place leftarm bowlers twitter dropped attained boult moved pack move bowler features lone nabi ben bumrah attain knock reign hauls hasan emulated list series seventh daysupremacy captain said gaining henry zealand miandad fourth taylor threewicket mantained years thanks zaman nawaz held adds centurion places past rating fakhar new africa odis javed mujeeb yousuf points playing update pacer spot ur compatriots long kohli icc sharma batting stokes brought allrounder ranked email zaheer became third shaheen pti top second batsman star kiwi ravichandran pakistan weekly jasprit tests player lefthanded virat rahman last ashwin chart shakib number country careerbest ross babar score first world dubai al england cups india position match azam sixth reach deputy charts game fifth south rohit leads effort time print statement injured batsmen ending spinner whatsapp slots odi mohammad matt started counterpart find end progressed helped',\n",
              "        'Agree'],\n",
              "       ['global rankings qs top bangalore world ahmedabad bschools mba iim',\n",
              "        'rankings rank criteria bangalore indian institutions drop finance iim supply paris various comparison masters seen courses released investment prospective great indicators scoring region missions management relative qswur pacific leading university parameters institute faculty slipped mba universities total basis places marketing chennai performance diversity landed twoyear overall wait category spot asia evaluate stood chain indore ranked lakes global business top thought year qs placed significant kozhikode schools last bagged programme students london several programmes lucknow worlduniranking entrepreneurship matters analytics first world school read position september programs discover employability ahmedabad alumni institutes time return hes statement accounting include leadership graduate form stands calcutta post ranking master including udaipur key class',\n",
              "        'Agree'],\n",
              "       ['global rankings qs top bangalore world ahmedabad bschools mba iim',\n",
              "        'rankings topranked bangalore indian institutions place wharton sp dropped iim jain director paris bschool sloan american fellow released today discuss list ten said management creditworthy fourth reasons leading institute slipped secured dominated mba places according slip positions overall plan professor punjab discussed global business krishnan top comes qs concern placed institution schools research based mit last insead rishikesha lucknow hec collective school position followed sixth stanford mohali ahmedabad campuses made fifth hyderabad graduate calcutta mumbai multicampus achievement main harvard',\n",
              "        'Agree'],\n",
              "       ['global rankings qs top bangalore world ahmedabad bschools mba iim',\n",
              "        'news offering economic pandemic business response commentary subscribed encouragement difficult credible provide reader improve content relevance constant made offer believe online updated times political arising commitment help keeping wider hard feedback continue many stronger subscribe ideals interest implications informed standard digital information subscriptions practise strived need editor quality model goals relevant impact resolve request subscription country issues uptodate seen free topical journalism incisive support authoritative fair world views battle committed encouraging dear achieve remain developments',\n",
              "        'Unrelated'],\n",
              "       ['global rankings qs top bangalore world ahmedabad bschools mba iim',\n",
              "        'rankings indian ahmedabad compiled management top institutes qs time university secured iim spots tuesday calcutta ranking category first november world released firm ranked',\n",
              "        'Agree'],\n",
              "       ['global rankings qs top bangalore world ahmedabad bschools mba iim',\n",
              "        'global rankings followed graduates business student used employability bangalore indian ahmedabad made management symonds top value thought money technology quacquarelli placed university parameters institute leadership base tuesday calcutta paris diversity bombay masters number hec spot brics science world school released firm iimahmedabad position ranked',\n",
              "        'Agree'],\n",
              "       ['global rankings qs top bangalore world ahmedabad bschools mba iim',\n",
              "        'rankings rank ie indian photo wharton insitute penn sp iim jain reputation cut kingdom features paris concerned masters featuring ratio vital sloan brics france varsities released investment employers today week indicators united list break outcomes management symonds tool metrics leading university studying institute faculty mba universities according diversity new africa madrid phd york learn different oxford global business used compile keen russia top entrepreneurial thought academics year qs check many proportion perfect academic cambridge schools research mit others insead students london number feature hec china site score entrepreneurship world school philadelphia india position programs brazil covers stanford employability holds seeqs rest ahmedabad alumni made compiled institutes quacquarelli official return hyderabad staff columbia topmbacom countries include leadership using websites graduate calcutta mumbai ranking including states topuniversitiescom sister harvard association businessminded',\n",
              "        'Agree'],\n",
              "       ['global rankings qs top bangalore world ahmedabad bschools mba iim',\n",
              "        'rankings provider student bangalore indian months institutions place focus finance responses added iim future director paris various masters comparison mbas able recruit released investment look employers great indicators unique umbrella dna management access know factor university secured specific mba deciding basis disciplines asian separate told particular takes category spot focusing releasing simona named different ranked global response business third considering used iims top making comes qs phone french stem tops finding single received discipline bagged insead programme chart students part london number hec pay first analytics world school position special news real tracked ahmedabad indians alumni compiled wise exercise kind institutes time return communications work asking employable take calcutta start heads bizzozero ranking want come spent subjects looked harvard',\n",
              "        'Agree'],\n",
              "       ['global rankings qs top bangalore world ahmedabad bschools mba iim',\n",
              "        'rankings rank entry normal bangalore indian introducing earned physical times wharton dropped iim came livemint managed due director website model continuity ft notice seen reports chicago calculated adversity france released salaries highlights nonstop suspend graduation completing makes learning list mark quoted improved efforts said management topped worldclass reiterates years core education parameter secured compared mba data quality positions usbased new get increasing success true classrooms resilience isb sector standstill asia women indore ranked email global wake pandemic business third bring caused srivastava iims crisis top making highquality value year feet blended continue check dean hampered schools research based climbed emerged workforce others last insead testament students london number singapore first anju world school gone participation india position followed seth stanford strengthens ahmedabad alumni bschools made shocked prominent secure join commitment money institutes time destination knew work financial countries produce calcutta saying iimc encourage ranking delivering including rajendra delivery struggling gathering',\n",
              "        'Agree'],\n",
              "       ['global index time first innovation nations india top',\n",
              "        'index rank rankings graduates indian switzerland institutions southern stability sweden advanced information services creative various capital show middleincome gradual gii released infrastructure edited knowledge indicators rdintensive become list analysed communication areas said technology available property metrics cornell years thanks university institute dominated outputs publications universities total highincome places quality according positions asian shift eastward syndicated bengaluru human intellectual wednesday asia ndtv global business third feed joined moving story top published scientific economy philippines arriving research insead lead economies china first innovation wipo innovative world school nations india position ranks government ict exports online uk netherlands time keeping organization locus staff statement sophistication countries include companies group headline bombay ranking improvements science delhi engineering market central file',\n",
              "        'Agree'],\n",
              "       ['global index time first innovation nations india top',\n",
              "        'index rankings graduates played rank prime indian switzerland institutions brings stability southern optimisation accepted sweden added advanced information policyled services department creative mentioned paradigm step capital vibrant show middleincome gradual gii shown released amazing infrastructure sources knowledge indicators rdintensive become private national list vehicles nirbhar analysed region communication alternative bharat areas efforts said technology property minister metrics weight cornell years thanks leading university institute dominated outputs publications universities total highincome places quality according positions asian new ecosystem shift superpowers achievers eastward points development electric pivotal bengaluru human space different intellectual wednesday major startup global energy enriching business third biotechnology punches ensure moving contribution top year scientific economy aims philippines arriving done working owing research compete last direction insead interventions public lead country economies china niti innovation wipo first innovative world school bringing nations india bodies ranks position government ict developing exports online immense entered uk netherlands time official keeping organization aayog locus work statement sophistication role countries include companies group consistent bombay ranking decentralisation call states science delhi key engineering market aatma realized class central improvement',\n",
              "        'Agree'],\n",
              "       ['global index time first innovation nations india top',\n",
              "        'index rankings annual switzerland decentralization southern accepted sweden release step capital vibrant shown released provided amazing report knowledge private list region content property years leading monitoring according asian ecosystem achievers syndicated intellectual major ranked startup global business feed constant top year reworked done owing autogenerated research climbed evaluating last direction public niti wipo innovation innovative world india position picture occupied organizations rest immense uk netherlands official organization aayog work staff stated countries standard spots consistent headline ranking thrust including states central improvement',\n",
              "        'Agree'],\n",
              "       ['global index time first innovation nations india top',\n",
              "        'index rank rankings graduates narendramodi prime transparency hr indian switzerland resource institutions southern stability sweden missionkarmayogi advanced information future services creative various capacity capital show modi middleincome gradual gii narendra constructive released servants infrastructure civil knowledge indicators rdintensive become national learning scale list state analysed communication pictwittercomnxgbcaxugo areas said management technology available property minister metrics cornell years thanks university institute dominated outputs publications universities total highincome places continuous quality according prepare practices positions asian shift eastward karmayogi bengaluru human intellectual wednesday asia global business third augment improve joined moving top making scientific aims economy philippines arriving cabinet art research enable insead lead rolebased economies china first innovation wipo innovative world school nations platform india position ranks september building government ict exports online use uk netherlands program time keeping organization locus statement sophistication approved countries include companies group bombay ranking improvements igot science delhi engineering market tweeted central mission transition',\n",
              "        'Agree'],\n",
              "       ['global index time first innovation nations india top',\n",
              "        'index rank rankings graduates played prime indian switzerland institutions brings southern stability optimisation accepted sweden added advanced information policyled services department creative various paradigm step capital vibrant show middleincome gradual gii shown released amazing infrastructure sources knowledge indicators rdintensive become private national list vehicles nirbhar analysed region communication alternative bharat areas efforts said technology available property noted minister metrics weight cornell years thanks leading university institute dominated outputs publications universities total highincome places according positions asian ecosystem shift superpowers achievers electric pivotal bengaluru human space different intellectual wednesday asia major startup global energy enriching business third biotechnology joined punches moving ensure top year scientific economy aims philippines arriving done working owing research compete last direction insead interventions public lead country economies china first innovation wipo niti innovative world school bringing nations india position ranks bodies government ict developing exports online immense uk netherlands time keeping official organization aayog locus work statement sophistication role countries include companies group consistent bombay ranking improvements decentralisation call states science delhi engineering market aatma realized class central improvement',\n",
              "        'Agree'],\n",
              "       ['global index time first innovation nations india top',\n",
              "        'index rank rankings graduates indian switzerland institutions southern stability sweden advanced information services creative various capital show middleincome gradual gii released infrastructure knowledge indicators rdintensive become list analysed communication areas said technology available property metrics cornell years thanks university institute dominated outputs publications universities total highincome places according positions asian shift bengaluru human intellectual wednesday asia global business third joined moving top scientific economy philippines arriving research insead lead economies china first innovation wipo innovative world school nations india position ranks government ict exports online uk netherlands time keeping organization locus statement sophistication countries include companies group bombay ranking improvements science delhi engineering market central',\n",
              "        'Agree'],\n",
              "       ['global index time first innovation nations india top',\n",
              "        'global index rank rankings business list switzerland joined moving said top uk netherlands property time keeping southern organization cornell stability locus years agencies philippines statement university countries sweden dominated advanced group highincome places according positions asian new insead shift ranking lead show economies china gradual gii first innovation delhi wipo world school nations released intellectual asia wednesday central india position',\n",
              "        'Agree'],\n",
              "       ['global index time first innovation nations india top',\n",
              "        'index rank rankings graduates indian switzerland facebook institutions southern stability twitter sweden advanced information services creative various capital show middleincome gradual gii released infrastructure knowledge indicators rdintensive become list analysed communication areas said technology available property metrics cornell years thanks university institute dominated outputs publications universities total highincome places according positions asian new shift bengaluru human intellectual wednesday asia email global business third joined moving top scientific economy philippines arriving research insead lead economies china first innovation wipo innovative world school nations india position ranks government ict exports online uk netherlands time keeping print organization locus statement sophistication countries include companies group whatsapp bombay ranking improvements science delhi engineering market central',\n",
              "        'Agree'],\n",
              "       ['global index time first innovation nations india top',\n",
              "        'index rank rankings graduates played prime indian switzerland institutions brings southern stability optimisation accepted sweden added advanced information policyled services department creative various paradigm step capital vibrant show gradual gii shown released amazing infrastructure sources knowledge indicators rdintensive become private national list vehicles nirbhar analysed region communication alternative bharat areas efforts said technology available property noted minister metrics weight cornell years thanks leading university institute dominated outputs publications universities total highincome places quality according positions asian ecosystem shift superpowers achievers electric pivotal bengaluru human space different intellectual wednesday asia lowermiddleincome major startup global energy enriching business third biotechnology joined punches moving ensure top year scientific economy aims philippines arriving done working owing research compete last direction insead interventions public lead country economies china first innovation wipo niti innovative world school bringing nations india position ranks bodies government ict developing exports online immense uk netherlands time keeping official organization aayog locus work statement sophistication role countries include companies group consistent bombay ranking improvements decentralisation call states science delhi engineering market aatma realized class central improvement',\n",
              "        'Agree'],\n",
              "       ['global index time first innovation nations india top',\n",
              "        'examination index highway reuters pregrant annual initiated marks international photo life domestic notes pph represents bottom tracks incentivize sweden lengthy longstanding guidelines go gipc activity nonemergency vice kingdom critical prosecution secrets enforcement proceedings clear way free registration compulsory commercial released commerce continues report inventions today patentability indicators unique july united national measured list holders strong broken ten increased improved areas percentage efforts kilbride said computerimplemented benchmark noted property strengthen access awareness wellknown agencies attract according ipr performance new increasing ciis overall points development prepared implementing licensing cent policy long intellectual training copyright edition reflects ranked ip deliverables global evidence suggest creators used situations improve rights reforms trademark year factors treaties chambers center positive reform analyses tops challenging based surrounding last protection standards innovators opposition country environment programmes economies limited climate score first innovation world participation india ranks followed additional government passed towards created commitment time importance president coordination respect complement procedures investors workshops figure technological countries patrick demonstrated issued innovations requirements tenets computerrelated weaknesses framework ranking sciences foreign patent trade key technical needed improvement remain meaningful',\n",
              "        'Unrelated'],\n",
              "       ['global index time first innovation nations india top',\n",
              "        'index graduates rank banerjee prime germany indian switzerland institutions place shaping directorgeneral sweden moved services various instrumental high publication middleincome nation exception gii released continues vocal city word report knowledge indicators models learning iit japan break remaining insight benefited club said technology provides property cooperation st row parameters institute outputs clusters chains highincome chandrajit according positions garner remained secondmost malaysia development bengaluru cii israel intellectual confederation asia ranked global became tokyoyokohama agenda band improve top value year scientific second economy broke many bettered philippines increase actionable designing research last number country topperforming economies china singapore first innovation industry wipo innovative world policies nationalism india position ranks followed government integration ict remember exports found made pushing intensive online unilateralism time valuable organization output sophistication countries caution companies group bombay maintained ranking improvements riding important cluster figured networks science delhi face market engineering korea juncture helped',\n",
              "        'Agree'],\n",
              "       ['holidays tax big new investments offer india win',\n",
              "        'thirdlargest consumer prime benefits gems leaving provide evaporated percent corporate addition pharma failed equipment plants cover goods finance answered services stop estimated evaluated capital fiscal jobs tourism modi declined identified narendra citing hurtling full invest administration wrecking investment explores contraction fullyear provided infrastructure stimulus testing list expanding said access devices minister factories years sectors decision electronics clusters proposing room attract according new proposed rate development plan incentives facilities support operations asia leave pandemic offering lost coronavirus telecom demand rules proposal making top spokesman economy lure comment working familiar research given fouryear leather limited china holiday first industry asked bringing india june textiles government developing medical made next land program jewelry exemption variant investors big approved requires laborintensive measures looking easy include companies matter labs upgrade start food spokesperson investments give taken existing thrust trying including decades call trade ministry tax processing upwards people breaks footwear',\n",
              "        'Agree'],\n",
              "       ['holidays tax big new investments offer india win',\n",
              "        'thirdlargest consumer prime benefits gems leaving provide corporate addition pharma failed equipment plants cover goods finance answered services stop estimated evaluated capital fiscal jobs tourism modi declined identified commentthe narendra citing hurtling jewelery full invest administration wrecking investment explores contraction fullyear provided infrastructure stimulus evaporateda testing list expanding said access devices minister factories years sectors electronics saidthe clusters proposing room according new proposed rate development plan incentives facilities support operations pandemic offering lost coronavirus telecom demand rules proposal making top spokesman economy lure working familiar research given fouryear leather limited china holiday first industry asked bringing india june textiles government developing medical made land program exemption variant investors big approved requires laborintensive measures easy include matterthe companies labs upgrade start food spokesperson decisionfrom investments give taken existing thrust trying including decades call tax trade ministry processing upwards people breaks footwear',\n",
              "        'Agree'],\n",
              "       ['holidays tax big new investments offer india win',\n",
              "        'news offering economic pandemic business response commentary subscribed encouragement difficult credible provide reader improve content relevance constant made offer believe online updated times political arising commitment help keeping wider hard feedback continue many stronger subscribe ideals interest implications informed standard digital information subscriptions practise strived need editor quality model goals relevant impact resolve request subscription country issues uptodate seen free topical journalism incisive support authoritative fair world views battle committed encouraging dear achieve remain developments',\n",
              "        'Unrelated'],\n",
              "       ['holidays tax big new investments offer india win',\n",
              "        'claim annual extended indian monday paid crores turnover citizen finance restriction reducing paperless nirmala capital march funding flexibilities provided permitting investment period allow converted opcs said granted minister rebate years extension eligible presenting announced proposed fm cent profit getting announcement startup offering gains limit boost paying incorporated year incorporate exceed type days opc incentivise india read ventures budget sitharaman indians set time exemption big bigtech financial nonresident companies grow eligibility allowing company holidays startups tax residency person',\n",
              "        'Agree'],\n",
              "       ['holidays tax big new investments offer india win',\n",
              "        'terminal claim sell intent provide indian union holding co monday times llp hardest residential setting finance oversight need sinha undertaking director coupled vahdam cases nirmala capital march rolled able utkarsh personal r claiming translates family funding level investment offered removes growth period undertaken absence sarda undivided bharat dried proposes said partners investing available property minister order extend rebate road years profits image raised loan extension friends recovering eligible purposes make new proposed promoters prescribed fm hit share qualify told incentives support cent policy focused operations enterprises ironed sridhar announcement properties shah startup pandemic halted business third augment similar gains difficult earlystage limit improve act pti sustainable boost implementation minimum rights incorporated year steady founder many date hindu bala digital steps area voting given covid respite words partner thornton advisors country environment bexley see savings opc holiday first incentivise propose limits extending india read budget promotersinvestors situation incentivised government sitharaman ceo promoting speech setup transfer made leg online coming considers set individuals relaxing grant time invested exemption respect express fund taxpayer investors mechanism families managing qualifying big sure muchneeded financial pinpoints rai previous entrepreneurs hufs khaitan raise network investments taken give eligibility company holidays proactive tax payments startups indruj hoped lokesh key benefit remain funds',\n",
              "        'Agree'],\n",
              "       ['holidays tax big new investments offer india win',\n",
              "        'gujarat commencement deductions prime claim longterm provide union indian international percent urban independent stake times help regarding gift gives hub finance quadruple determine need services director headed expected comparison step ray equity nirmala houses march clear way map modi competitive narendra related explained city firm ilfs happening infrastructure chairman allow venture private state series said rb minister appointment centre profits head years officials ifsc ajay options experts make announced attract according new tremendous reacted proposed arrive get hit fifty told development aircraft incentives ltd sops transaction policy cent operations fresh replace announcement shah unit profitlinked breath global idea dream business opens purpose announcements drive keen boost bought crisis value year reemphasised founder chief vijay provisions inc increase regime investor pronouncement based teccity given joint deduction partner lot appointed advisors country limited first holiday budgetary confidence leasing conduct right entities dubai asked november housed india section budget read gandhinagar dipesh advisory government air sitharaman ceo activities firms process emerging holds made selected next transactions consecutive open pandey importance express weeks invite big managing project financial measures take group form taxholiday give investments tapan improvements shortlisted rupani company allowing come tax key service valuation owned took financing people transition',\n",
              "        'Unrelated'],\n",
              "       ['holidays tax big new investments offer india win',\n",
              "        'consumer operators burden burgeoning pm extended unveiled nifty union photo domestic addition evasion ease monday foregone augmenting details sale taxes distribute paid launch gas slabs saath certain bid ports mos swasthya farmers atmanirbhar construction youth parks portfolio pegging boring chaired goods future traditional stress unviable swachh various package expected argument realisation surged cases required voluntary vision nirmala capital march able igst nation singh stocks paragraphs hdfc spectacular level ipo distributed word employers trouble allow disinvested period opening accordance tamil private slashed launched list nip amounts yojana thumping aspirational works increased bse benefited umbrella pses seaweed said replaced collected available strengthen minister assessment vikas core charges license review document loss recommendations good disputes deviation memorandum pegged save ram psu performance strengths sir removed new fm cheers success meets share revised told instances points plan witnessing trusts reiterate policy kovind asset wealth vishwas women strategic districts funded tourist accruedreceived dollar consumers bring covering improve ladakh contractual sanjay making thrice fee refinance assure kashmir office economy imported expectations enhanced extensive revive rationalised digital cabinet govt lowering schools tribunals nep adequate credit lay operation inverted sainik several calibrated becomes clean banks gold secondary holiday auction banking inspite industry world gainers bureau levied section economic black players established raising inverters board beginning assembles present airports next slashes retain offences pli lives cloth materials vehicle boosted flows weed wheat promote work shipping trading onor easy necessities measures margin take called pf allowed portal timely goa elections grow governance epicentre outlines slogans inherent light encourage dawn recurring licensed insurance social relief extent vistadome broader main tweaked states reduced naphtha deal vaccines trade concentrate assets financing noticed textile charter mission packages helped gujarat deposits swan ppp card children generate months centres wish touches begins place envisages thirukkural crores going current recalling ensured farming assam forthcoming likely bank spotted activity need services streamline scheme cut remitted pib well estimated nutritional introduced red chair slew senior seen fiscal capacity medium anomalies birla download filed housing amounted tea price provided goes sloganeering firm city mandis infrastructure rates compliant vijayakumar lakhs week briefcase national models changes state bharat team outcomes management means carry crore reminds minibudgets order metroneo loan territories compared tunnel adds pipeline build rolling continuing amended thakur according inform cost msmes get ecosystem shift comprehensive huge contribute development space cent lok relate swiftly duties self visibility double bpcl idbi operating meet sea global preventive structure third updates copper scs healthcare debuted rural demand freight custom kept act treasury problem presentation moving curative tier ujjwala value vertical rbi completed nath deployment calibrate codes defence steps census solidarity folder care members hikes concrete farm disinvestment mandates msme last words alternatives km house fees growing reduce programme direction number lanterns furniture limited gurjeet excise hydrogen first establishing innovative rahul equivalent remove platform amend automotive happy incremental special expenditure allocating nbfcs situation eastern scrappage lockdown leader rashtrapati air liability integrated weak partnership lakh recalls night created announce guard app depositors prominent corridors competitiveness phase exercise mantra push allocation titan president exempt manage bad project interest countries expanded employer companies mumbaikanyakumari gig record b nonbank opened taken fdi underway develop important dhoot pension electrification pandemicinduced sgst company alang account reliant come lending customs ministry rail market end schemes includes people cities central funds mps households welcomed benefits annual announces enam cess congress resolution protesting stock ancient institutions urban polished times spectrum celebrate sts security august equipment products indices twitter strengthened cover information advanced presented beneficiaries provisioning providers distribution due month switched witnesses gratitude high garments lpg frontline silver threshold free jobs nadu king narendra lic funding receipts closure salaries awaited maintain commend health linked bird parliamentarians today chairperson pegs recycling concealment sources collection estimating nirbhar strong books unified compliance series maximum welfare areas generating essential aim conventional benchmark distortions functions access noted employment bhavan lowered aidc copies adjusted years university education remit consultations make debt consolidate attract toys parliament smoothen proposed october win overall presents couplet control creating raw bengaluru sponsored psus complete railway sector major peripheral augmentation withdrawn tweak detailed somnagargomu primary ready pandemic resulted metrolite returns jal consequent earmarked apmcs limit allocations systems poshan gandhi protest allocated ongc implementation boost amendments crisis laws comes selfreliant operational morning depositories hospital system documents hard many taking migrant formulation provisions exceed inflow working petrol radiowaves reaching kochi intend sustained borrowings import constituents considered acquire stressed enable logo consolidation lot part public operate chart opposition projects monetised ship china bill term progress niti jeevan propose require relatable conduct seeking bringing citizens jasbir rs collects tagore india wellbeing budget affordable anurag bed additional exemptions portion monetisation cgst rubber council option sitharaman towards exports nylon norms mr carpet possible labour hope sabka land gave time cgd exemption compares capitalization monopoly revenues swift investors mechanism big borrowing buses australia corridor amount case framework leaves pool paddy ball circumstances quotes facilitate including rationalise decades wood networks short committed noon file contributing frbm labourers deductions highway prime large reuters provide international says diesel physical workers choose help decided sebi introduce western standup commission securities speaker wearing valued finance added cooperatives highways reducing came electricity department provision saed critical estimate paperless extraordinary step jammu introduces liberation eklavya gill personal modi press focussed imposition old licence scrap commercial ration released budgets serious deficit commerce reads idle active vehicles mark attention power shares communication approach february draw atma rabindranath solar digits spv metros calls target centre gross providing monetising msp transport sectors small estimates gown nabard garib collections presenting total strived data coaches projected gsdp announced quality chennai expresses borders increasing park december chemicals bengal sensex decriminalisation support implemented close procurement select items announcement safeguard tertiary territory ani fifteenth usage size response buoyancy business yards diamonds telecom reopened used deduct hubs contractions pollution aujla ensure earn minimum rrts agri reforms year announcing carrying nse developed increase host tribal institution employees rallied feels investor aatmanirbhar expansion based explanatory manufacturing nashik protection markets track divisible country machines fact metro opted protecting january savings sabha bus paradip overlook icici gst asked right create contributions gdp rally recovery government eased late delivered holds rough speech general set exceeding grant code low dedicated fund aayog outlay entire hyderabad doubled nagpur approved financial ms doubling annvil deposit expectation provident income multilateral loans raise soft investments fishing put courtesy honourable impact reconstruction stabilised want basic multipurpose blocks institutional tax delhi startups service green took achieve benefit revenue structures cotton duty agriculture',\n",
              "        'Unrelated'],\n",
              "       ['unfazed coronavirus investors appear impact tesla retail',\n",
              "        'udf gujarat reuters chelsea bjpled slow congress union ministerial conversations stock polls domestic says gain monday details angel times alleged eyes bid appear farmers assam shots finance release talks speculation tractor services mata jugeshinder party door lampard goto drives disturbing competition declan ruling frank nirmala election clear auctions free virtual division bachchan reports bell singh highcost attacks verratti side wants officer league look report health transgression today sources motors noting united relationship vehicles mary multiplex marco bharat sunday welfare coal individual agent said vaccine partners executive minister buying beneficial centre bloc organisation sabarimala interested rice expansionism winning alarmed continuing rumblings tuesday protests pop barra assembly politics shuns win told chosen development tightlipped shortterm amity bjp gomes constituency encouraged long enterprises signed wednesday restrict european gadkari talking brought agreement janata sarma champions global pandemic scindia faceoff business contest alliance coronavirus amitabh gandhi demand ladakh samvad rules teammates top laws comes thought initiative deems year film biswa taking many force chief pakistan title talk nitin inc spinoff working sta potential commenting solidarity drugmakers digital renegotiating farm jyotiraditya fronts negotiations mining ruled man public peace opposition country beijing ham see asserted intention china link agitating term rahul cards world bharatiya participation india tesla retail rally recovery leader inox players government sitharaman ceo gulabo process nt mr made next trump general path phase land time mine president strategies work statement investors gm interest financial contesting midfielder jan troubled looking kerala called belongs take elections group results coled unfazed recovers ev shareholders stars saying lining post novel northeast disappointed impact young company firstquarter wholed ldf want effect scams eu deal trade face vaccines sitabo outdo service adani donald shut people subject central himanta psg agriculture',\n",
              "        'Unrelated'],\n",
              "       ['unfazed coronavirus investors appear impact tesla retail',\n",
              "        'shows frenzy drawn car sedan indian stock facebook launch paid stockal gaurav venturing finance accounts high model surged guy apple able signalled way american stocks recovered holdings reading momandpop invest firm period biography launches week amazon shares vehicles impending following said foray buying jhunjhunwala brokerages fan held make data new buys get plans october wait electric focused duties shah pandemic booking became coronavirus comes year inc significant elon worth emerged import marchend fees markets world sparked quadrupled nations concerns india popular tesla vested viram ceo firms emerging favourite promoting created indians present possible becoming use crash time invested investors placing imagined brokerage flagged company trying presence come market tweeted bets musk maker',\n",
              "        'Unrelated'],\n",
              "       ['unfazed coronavirus investors appear impact tesla retail',\n",
              "        'cars large annual suit numerous sell longterm longerterm volume carmaker months corporate facebook lowinterestrate stock holding bitcoinlike mainstream soaring current going stability multiples quarter twitter microsoft instance finance bank tenfold prompt future traditional restriction follows director door move concerned brown high expert sheets nosedive march apple capital signalled way dollars seen janet mistake selling paper holdings average proxy price ends associate invest continues level investment dangerous manages harder bull look prices invasion fell view predicting lagarde consequences stating vehicles ned approach maximum regulatory percentage change anything management source send investing cryptocurrency excitement stay technology appeared recent sheet likewise hours leading keep imagine head sec university small flexibility make regulation total crypto microstrategy announced spillover material cash bitcoins positions new canadian watch writ regulators expects conviction buy share creating electric went plan vulnerable effective proportions community space professor eke segal reserves long different asset close sought major profit run announcement european yellen reckoning waitandsee stable global response considering translate returns similar depending difficult used caused drive problem treasury pressure justified surge google liverpool bluechip value comes year surplus firstever broke tempting force dipped increase secretary calling digital potential exact worth trend research note example purchase day yields maximise days canada volatility appointed markets signal doubt environment see diversify wave heavy ban rose listed gensler gone receives tesla retail much bitcoin news ballooned heady lossmaking christine quarterly royal reserve sixth regulator predict towards made article next meant coming treasurers unsettling analysts permit gary money allocation time context invested valuable president weeks pointing trigger expect investors rise daily watching converting financial putting easy follow standard net fallen companies form start hold saying case amount conversation put goldrush prospect important led company likes rule effect volatile payment institutional tech gavin accepting approval market tradingview assets benefit balance central musk',\n",
              "        'Unrelated'],\n",
              "       ['places business jumps ease india',\n",
              "        'shows index rank rankings prime generate witnessed introducing creditors corporate ease addition place notes taxes misallocation cause current distance delhiprotections suggesting trade restrictions enforce strengthened goods rare added bank inefficient multisectoral reducing export applies procedure services cut amending issue introduction estimated proceedings complimented jump introduced cases businesses administrative required resources tan clear comply streamlined reports modi claiming validation narendra creditthis subramanian criterion available released report historic growth courts today stay mumbaiin measured scale national undertaken law increased improved optimal team compliance bankruptcy areas following efforts hailed adviser said systemsa pushhe obtain easing provides zealand access minister factor reorganization lowered strengthen moody improving minority frontier years arun agencies positionindia port automatic saidthe removing secured interested merchant make total debt data places demonetisation cost rating elimination requiring new borders increasing payments appreciated fm combined resolve points economyformer implementing judicial local licensing overtime cent implemented complianceearlier ranked continuation size business starting improve limit moving boost rules impacts paying debtors making reforms dtf efficient value year applications contractsindia system many chief perform simplify application employees resolving facilitated reform parties priority employee areform nhava preventing tribunals performanceindia platforms example productivity pan credit import saidindia last grounds fees number country nonperforming economies acknowledgement grid china singapore score world incorporation platform rs jaitley india ranks much economic recovery building government study electronic pt firms process passed denmark adopting made transformhistoric possible online outcome transactions permit upgraded mantra saidmeanwhile push spice code time fund achieving elevation regulations big procedures investors regulationsin interest countries measures permanent arvind include prejudicial form spots provident stands loans income showed jaitleyhe fundamentals saying mumbaiindia mobile case taken jumped inflation tweetedthe ranking improvements led establishment unnoticed flayed allowing merging mumbai determined insolvency relief account management structural sweeping reduced tax delhi payment municipality profession market assets processing agency remedies mega result yearthe go sheva remain rates',\n",
              "        'Agree'],\n",
              "       ['places business jumps ease india',\n",
              "        'rankings rank weaved narendramodi prime large annual lagging listamong interstate witnessed enforcing ease believe saidsantiago gain place downes help permits taxes deteriorated indiajaitley battling currencyin kong goods construction finance bank multisectoral go rwanda need due services director electricity georgia welcomes consideration high jump required yearswith capacity seen way jobs modi nation coveredindia narendra play brics shown breaking yearsaccording historic growth report lags pushaddressing indicators scale july indiaindia become media list broken break remaining improved series bankruptcy offer areas hailed faster said obtain target denomination minister assessment access voices minority rita zealand improving years think arun parameters washingtonnew surprise dealing room places treated wouldoing tuesday demonetisation continuous removed cumbersome new borders get shift hit reforming barriers takes told attributing points development massive issues croci local classify implemented major adopted getting reflects unit ranked global planet reportthe business cutoff starting washington adding nice improve climb dissenting russia story paying jubilant top reforms comes making year office second economy continue opportunities taking achieved force perform vow permitsit done significant saidbut resolving reason availability reform tops investor areform credit guided yearcredit yearsreforms last protection days direction lot number country environment protecting china authors transformhe progress score history first undertake gst sufficient world contracts right create jaitley india read position june doable saidwhile saidmodi followed economic reduction building government brazil landmark process denmark nt made pushing next coming consecutive permit half uk mantra acting south manager time ground work procedures investors trading big easy countries take ramalho point group achievablei entrepreneurs reflected counted spots sending start amount retained taxation marathi shot taken none impact jumped ranking nationsreacting covered determined insolvency trying assessing account resolutionthe addedthe come tax delhi trade improvers arm market took korea result reportgst improvement',\n",
              "        'Agree'],\n",
              "       ['places business jumps ease india',\n",
              "        'index rank prime benefits pm ease believe details place taxes quarter flags finance multisectoral bank moved april dixon vice tweets blame reporters jump red businesses slid clear medium modi report historic growth competing today indicators scale national launched changes strong law slowdown series said zealand property minister bangladesh minority years arun leading small sharing factored places tuesday demonetisation prosperity new borders rate told sector asia registering getting defend ranked ready business third starting improve act boost paying top reforms year economy opportunities many pakistan done reform tops insisted based credit hitting msme last number signal country fact environment protecting china singapore gst policies world bringing jaitley india gdp june doable rejected criticism economic government somalia preferred rest nt mr made denmark next leapt open push low president south investors trading placing big fallen companies entrepreneurs saying fundamentals allegations jumped mumbai ranking trying decades tax delhi improvers tweeted result',\n",
              "        'Agree'],\n",
              "       ['places business jumps ease india',\n",
              "        'news offering economic pandemic business response commentary subscribed encouragement difficult credible provide reader improve content relevance constant made offer believe online updated times political arising commitment help keeping wider hard feedback continue many stronger subscribe ideals interest implications informed standard digital information subscriptions practise strived need editor quality model goals relevant impact resolve request subscription country issues uptodate seen free topical journalism incisive support authoritative fair world views battle committed encouraging dear achieve remain developments',\n",
              "        'Disagree'],\n",
              "       ['places business jumps ease india',\n",
              "        'gujarat index reformist prime influential annual withdrawal congress indian enforcing months ease help permits attracted goods construction likely finance bank referring need services raft party paradigm businesses rolled way jobs medium modi nadu statistician cease narendra banknotes investment maintain report growth lags rival indicators tamil become july numbers processes strong disruptions areas bigticket puts said benchmark stay access minister former arun small credentials visible data places dealing helped demonetisation performance new msmes get borders shift win consider remained told takes true straws sluggish decisions policy bjp long close randeep findings excluded surjewala global business starting tough barometer improve hubs varma pronab top laws reforms year second economy continue many chief journalists done say impressed reform clutching based credit manufacturing signals last partner hurts hurt opposition representative climate china first require unchanged world contracts jaitley india june looks picture criticism reflect economic arch government gap possible pushed next competitiveness outcome land analysts time work trading measures record showed spokesperson taxation momentum investments impact jumped mumbai ranking narrative shock insolvency account burnishing highvalue including tax delhi sen trade sinks go nilaya looked impressive',\n",
              "        'Agree'],\n",
              "       ['places business jumps ease india',\n",
              "        'rankings index criteria prime dipp indian enforcing months domestic corporate initiatives place permits taxes help notches securities accepted enforce bhutan facing construction finance multisectoral release go advanced bank expedite need due dixon director vice electricity ahmad enforcement jump connection transform capacity modi narendra registration average investment report lags today abhishek indicators private changes ten law region improved vaulted opposed remaining areas efforts hailed change said obtain target strengthen minister property fourth minority years thanks arun centre regulation factored dealing highincome places contract tuesday cost slip performance new reforming observed takes points junaid category incentives local implemented major asia highestranked getting registering deepening absolute global business cutoff starting adding improve systems paying top laws reforms completed year economy many oecd talk increase secretary significant availability resolving endeavour reform challenging reaching credit others last days number country economies protecting progress gst asked world contracts ramesh create require implement jaitley india position june followed annette building preferred towards next online secure set sustaining south low president terms time nepal regulations investors work procedures worsened placing countries include entrepreneurs consistent start taxation momentum investments taken framework impact jumped mumbai ranking improvements insolvency foreign come states reduced delhi key improvers recognised result ongoing improvement',\n",
              "        'Agree'],\n",
              "       ['places business jumps ease india',\n",
              "        'rankings rank prime bearing union enforcing institutions ease permits taxes twitter facing exceptional goods construction finance added bank release services director electricity reference granting ahmad stand enforcement connection cases transform capacity press performed modi map narendra wants commerce investment report growth transformative indicators private changes passage improved remaining areas change hailed said fourth minister minority road centre years arun parameters parameter regulation places tuesday new evidenced prabhu junaid incentives implemented different deepening getting ranked business starting improve systems video moving implementation ensure paying laws reforms resolving challenging credit poor country protecting score industry require world contracts implement pace bringing jaitley india ranks economic government reaches hails online secure sustaining time metric regulations investors rise countries start momentum framework jumped ranking insolvency states tax key fruit committed tweeted ongoing suresh',\n",
              "        'Agree'],\n",
              "       ['places business jumps ease india',\n",
              "        'weaved rank large annual resolution interstate witnessed enforcing says quarters ease taxes certain kristalina subscribe goods rare added bank services extraordinary jump required slew jobs modi narendra magazine report indicators broken improved bankruptcy faster said obtain access assessment outlook voices minority centre years parameters georgieva places wouldoing demonetisation removed borders shift reforming barriers licensing inputs implemented adopted reflects ranked business pti dissenting implementation click pays top making reforms comes paying year achieved significant resolving govt investor credit last protection country environment lauded protecting first gst objective world contracts create nations india read deserves reduction building government ceo seeing balanced permit half time investors procedures trading take start saying taxation post shot jumped pat ranking achievement journalism insolvency account tax delhi trade arm persistence market improvers improvement indepth helped',\n",
              "        'Agree'],\n",
              "       ['places business jumps ease india',\n",
              "        'rankings rank faulty prime annual pm perception resolution union witnessed enforcing life ease initiatives paved focus place downes permits taxes failed conference bottom quarter goods construction finance setting bank release go rwanda came need distribution services director georgia pib jump ndagovernment required businesses slew way press modi compiling narendra brics report lags indicators noting july db changes pibindia power ten law improved compliance series bankruptcy areas following hailed faster change said bigbang minorities obtain relative efforts access calls minister minority rita years centre arun parameters officials dealing room places continuous registers according practices cumbersome requiring new borders fm pictwittercomcgewfxukbb october improver remained takes told attributing massive live croci fighting licensing needs local inputs battle major asia announcement absolute unit bureaucratic global business envisioned starting washington santiago used bring improve climb pti implementation acknowledges paying top making reforms incorporated efficient year office economy aims rollout taking done availability significant resolving steps reform investor credit last protection days number opposition country demonetization economies feature improvementit protecting history becomes exit undertake gst unchanged world contracts asked costly jaitley india bold reflect giving reduction building government eased study acknowledged analyse arunjaitley made possible transactions worldbank manager acting south time official effort terms work big procedures investors trading doingbusiness countries saw ramalho previous group entrepreneurs results start taxation shot taken none praised jumped ranking insolvency operationalised structural states tax gets arm recognised pmoindia took assessed attacking improvement helped',\n",
              "        'Agree'],\n",
              "       ['places business jumps ease india',\n",
              "        'rankings prime annual ease place focus taxes commendable bank moved managed scheme enhance jump seen modi leap narendra shown investment report measured private enough list broken improved areas change club efforts said target noted minister bracket row compared ones places attract new borders conducted overall goal spot sector named ranked meet size business third joined boost paying top year economy pakistan resolving reform given country economies remarkable score first world bringing flagship nations ninth india position saudi praising sixth raising made substantial competitiveness join effort metric big trading countries issued previous targeted saying thursday ranking insolvency foreign delhi improvers upward improvement helped',\n",
              "        'Agree'],\n",
              "       ['places business jumps ease india',\n",
              "        'index rankings rank showing large bearing indian enforcing photo ease initiatives addition deloitte help permits taxes conference integrating movement effects goods construction finance added bank release export supply moved services director electricity ahmad expected forward forms fiscal medium press modi registration recording full commerce maintain inspections look report growth infrastructure allow indicators measured state strong udgirkar processes broaden works centred driven bankruptcy lifecycle efforts said technology source replaced noted property minister years arun leading small good contract abolished borders get multiple overall prabhu junaid shops goal category development community needs enterprises vishwas registering getting chain ranked establishments continuation business district starting sharp improve act sets paying value reforms year continue successes phone measurement done halved application resolving pointed digital reform govt sustained note credit import practice others last days partner lot several country climate site gst conduct world contracts right nations incorporation jaitley india ranks news reflect economic government ranged excellent process laudable mr made adopting general aresolving use commitment effort code time promote work trading sure countries using deadline companies form reflected results start innovations mobile taxation taken jumped mumbai ranking insolvency twitterwbresearch thrust including effect extent logistics tax categories delhi trade took fruit cities end people enabling result improvement suresh upward agenda',\n",
              "        'Agree'],\n",
              "       ['places business jumps ease india',\n",
              "        'rankings rank showing reuters prime transparency simplicity levels union enforcing indian photo international ease identify place brings launch going distance enforce goods construction finance bank release go month need moved services dixon amongst vice electricity move instrumental jump pushes medium jobs modi performing narendra full continues level slot report growth today indicators alone joining state strong works region improved areas efforts said threefour relative noted minister improving minority years frontier arun seekers small make event lag contract places highincome demonetisation according creation cumbersome performance asian new figures persistent involve rate evaluation takes creating local needs decisions implemented cent close enterprises indirect asia getting occupy edition absolute global amitabh business onetime starting kant improve moving implementation rules top reforms tend year continue oecd regime significant correlation credit practice given marked last days growing like part number country economies see protecting progress niti roll asked objective world contracts gst create job smes jaitley collects seeking india ranks underlying september annette government ceo process reach towards gap pushing next labour south time president terms metric effort aayog expect big placing indicator procedures investors role countries entrepreneurs reflected consistent start survey taken put comparable gained impact jumped mumbai ranking important things emphasised come reduced tax market result helping needed improvement file',\n",
              "        'Agree'],\n",
              "       ['places business jumps ease india',\n",
              "        'rank muchawaited prime repeat pm enforcing ease place times permits taxes launch conference current hinted goods construction finance bank release crime services kishore electricity expected jump introduced businesses formal vital press leap nation narendra register breaking commerce officer included report manages infrastructure week today list ten break improved said benchmark tomorrow assesses minister assessment recent improving wrote property minority years arun parameters make addressed preceding event minus dealing places tuesday positions borders multiple success overall prabhu particular category measure releasing wednesday announcement getting edition registering ranked breath dream business starting difficult improve watches situations paying top making reforms year resolving pmeac baited affecting based credit given day considered last understand country environment economies lauded protecting progress niti gst world bringing contracts nations jaitley india read ranks special news economic advisory government council made substantial breach set time aayog express golden regulations investors trading financial hearing measures countries easy take hold jumped inflation ranking important desai insolvency tax market coveted suresh duty',\n",
              "        'Agree'],\n",
              "       ['places business jumps ease india',\n",
              "        'weaved rank rankings large annual slow resolution interstate witnessed enforcing life quarters ease initiatives place downes permits taxes carried bottom certain quarter kong goods construction finance added bank go rwanda referring need managed services distribution got director georgia enforcement jump required businesses uttaratribuneindiacom slew way jobs willingness modi narendra play brics average registration level tell report court lags indicators july become noting private list broken improved series bankruptcy areas faster change said obtain relative easing access zealand property assessment improving voices minority rita years arun parameters compared surprise dealing room places wouldoing continuous demonetisation according removed cumbersome new borders get shift ptitns reforming barriers request takes attributing massive points spot croci local licensing classify implemented sector named major adopted reflects unit ranked bureaucratic absolute global planet business starting washington santiago prioritise adding nice used improve climb dissenting implementation russia paying top making reforms comes efficient year second system economy hard taking achieved bettered significant availability resolving say area reform tops investor credit last protection days direction lot number country environment protecting china authors history score first undertake gst world contracts right create nations costly jaitley india position doable much followed reflect argued reduction building government denmark nt made next transactions consecutive permit half uk acting south manager downs time effort terms investors procedures trading big asking countries saw take ramalho group entrepreneurs counted reflected spots results start retained simpler taxation post shot none jumped ranking covered insolvency trying account things structural come states tax delhi trade arm improvers market unlikely korea central improvement helped',\n",
              "        'Agree'],\n",
              "       ['places business jumps ease india',\n",
              "        'entrepreneurs room efficient change relative absolute said costly life significant india transactions place improvement bureaucratic making',\n",
              "        'Disagree'],\n",
              "       ['places business jumps ease india',\n",
              "        'rankings criteria prime recognises distinct introducing enforcing corporate ease believe place nclt permits taxes help listing goods construction finance setting bank release added moved services dixon vice electricity reporters jump introduced administrative rolled jobs modi climbing narendra report lags national law region compliance bankruptcy areas following efforts connections said easing target noted minister fourth assessment minority ians years arun leading parameters dealing places wouldoing tuesday according performance requiring new get reforming told possibility regional asia getting brought absolute ranked global business considering cutoff starting tough adding improve act performer moving paying top making reforms comes year significant date employees area resolving sustained climbed credit day last protection lot number country economies see term progress first tribunal gst world bringing contracts create gone jaitley india position june doable worldwide government made substantial hope set south time boosted ground code fund president investors work countries measures include take companies group results provident income taxation jumped ranking riding company insolvency account come tax delhi payments improvers short result subsequent',\n",
              "        'Disagree'],\n",
              "       ['places business jumps ease india',\n",
              "        'rankings business measured prime annette eased region improved norms areas ease efforts rules said improvement paying permits reforms taxes south push minister year landing minority interview investors report parameters construction resolving bank event came places dixon start stands demonetisation credit various taken last bloombergquint jumped particular economies insolvency protecting vicepresident narendra pay trade implemented world assessed asia india ranked',\n",
              "        'Disagree'],\n",
              "       ['places business jumps ease india',\n",
              "        'rankings rank prime worrying resolution indian witnessed enforcing photo compilation ease monday permits taxes battling modiled problems construction informed finance whole bank multisectoral moved procedure got involved consideration accounts granting expected jump required transform forms slew fiscal tan way leap modi narendra deficit report growth historic look indicators speaking july teething list numbers processes law break team bankruptcy said target access minister uptick minority years arun parameters officials parameter good places tuesday according borders get bags precarious takes threeyear development went din implemented brought ranked business starting climb pti merged paying top reforms year economy many date digital reform employee harbours trend pan credit respite last days slowing country opposition protecting obtaining world contracts jaitley india position gdp read section june criticism news economic reduction building government eased process made online outcome permit gave push low time code fund investors procedures trading sure countries take provident start faultfinding post taken jumped inflation mumbai ranking introduction barrage insolvency things reduced tax delhi took tweeted needed improvement helped',\n",
              "        'Disagree'],\n",
              "       ['sumitra sabha former mahajan lok pakistan speaker days flights canada india bans',\n",
              "        'reliable least mahajan wondered congress says believe carried brother speaker tharoor mandar came april confirmed demise tweets reports birla heard administration responded tweet false son media mark fine hearty said source calls attributed former relatives represented fake announced parliament confirmation particular twain clip bjp lok constituency audio getting deleted became district pti channels clarification misquote pointed shashi death allindia note others hale friday sabha asked outlets om popular much news deleting leader government exaggerated relieved night turn gave alive terms leaders asking putting take saying daughter put thursday mumbai flashed sumitra started states veteran banked people central',\n",
              "        'Agree'],\n",
              "       ['sumitra sabha former mahajan lok pakistan speaker days flights canada india bans',\n",
              "        'seat least mahajan congress photo believe times delighted carried brother speaker tharoor mandar convey talked confirmed demise tweets gracious tai birla heard family administration responded tweet false son media fine organisations said calls apologies former row relatives represented fake announced confirmation apologised clip bjp lok audio elder getting deleted sincere became district mp expressed known spoke understanding pointed shashi death allindia note others last friday sabha asked om hear news leader misinformation government night mr gave leaders asking ms ji take saying daughter marathi put thursday sumitra started veteran sister people central file wishes',\n",
              "        'Agree'],\n",
              "       ['sumitra sabha former mahajan lok pakistan speaker days flights canada india bans',\n",
              "        'points earning completed checkins login daily checkin keep',\n",
              "        'Unrelated'],\n",
              "       ['sumitra sabha former mahajan lok pakistan speaker days flights canada india bans',\n",
              "        'fell losses record dollar thread rupee mark spike cases friday',\n",
              "        'Unrelated'],\n",
              "       ['sumitra sabha former mahajan lok pakistan speaker days flights canada india bans',\n",
              "        nan, 'Unrelated'],\n",
              "       ['sumitra sabha former mahajan lok pakistan speaker days flights canada india bans',\n",
              "        nan, 'Unrelated'],\n",
              "       ['sumitra sabha former mahajan lok pakistan speaker days flights canada india bans',\n",
              "        'situation flagging ministers prime oxygen government air coronavirus state power union maximum medical said scarcity comes medicines gas minister time second reported chairing lifesaving force work highlevel chief rise territories working tankers called transportation need meeting record requirements fatalities railways registered covid day new cases friday infections reduce several number singleday modi wave fight narendra states collective deployed india meet',\n",
              "        'Unrelated'],\n",
              "       ['sumitra sabha former mahajan lok pakistan speaker days flights canada india bans',\n",
              "        'nuclear prime reuters leaving formed career union indian photo lasting strobe behari place times advani manvendra written hijacked security jet august commission ensured episode effects finance diplomatese vajpayee future arrest came sona rebel party headed goto ahmad friend shed houses senior seen personal modi jinnah singh nation rss kandahar ailing narendra old storied demanded saddened serious health chairperson taliban pokhran united mark strong ahmed sunday handled eventful army said political easing pakistanbacked minister suave fought former lk till head external organisation row officials review ali thwarted held rajasthan versed serving democracy treated parliament diplomacy causes positions affairs new debate goodwill december name home politics remained partying met admitted nda saeed bjp syndrome lok long close zargar breathed gadkari strategic brought assignments barmer lost contest ic parting marred masood airport mp book situations enquiry caused independence negotiating candidate sons cardiac hostage condoled survived hospital morning served reflecting hijacking founder governments many left talbot airlines fighters nitin sepsis device defence azhar cabinet death controversy research sustained early credit fall poor emerged considered halfway last caught afghanistan house man sanctions escorted opposition representative pass sheikh sabha first sangh desire injury armed shimla native severe india ranks june engaging suffered much panic leader beefing government avatar late singhji tweeting passed entrusted language bitter found deputy mr omar jaswant created airports crucial defeated tested president leaders sensitive passengers figure worlds jan saw letter illness ram elections dysfunction referral portfolios multiorgan partitiion mohammad sympathetic wife elected mushtaq darjeeling sidelines led visited terrorists ticket decades including turns states deal bomb delhi member veteran flight defeat choudhary exchange expulsion planning rajya dabbled association atal',\n",
              "        'Unrelated'],\n",
              "       ['sumitra sabha former mahajan lok pakistan speaker days flights canada india bans',\n",
              "        'reuters prime unpublished annual pm provide indian wage quarters urban hour workers newspaper status assess current quarter gives youth month came april contains department recorded march able jobs reports modi dip narendra average released report growth week period fell july enough numbers increased february percentage following said available employment unemployment minister recent assessment methodology years image compared estimates document preceding basis data according comprehensive december arrived rate unemployed cent releasing aged asia business third rural published making year reflecting economy force extensive weekly edged employees socalled fall considered days last slowing public january selfemployed create revealed participation india section picture criticism economic method joblessness government quarterly weak representation leaked faced regular labour reviewed set low work statistics standard ending using januarymarch showed survey relief population account ministry ire apriljune short people person',\n",
              "        'Unrelated'],\n",
              "       ['sumitra sabha former mahajan lok pakistan speaker days flights canada india bans',\n",
              "        'spare office space vogue wfh oxygen beds vacant isolation corporates corporate',\n",
              "        'Unrelated'],\n",
              "       ['sumitra sabha former mahajan lok pakistan speaker days flights canada india bans',\n",
              "        nan, 'Unrelated'],\n",
              "       ['sumitra sabha former mahajan lok pakistan speaker days flights canada india bans',\n",
              "        'many voila type initial topic topics letters', 'Unrelated'],\n",
              "       ['death sumitra sabha former mahajan lok speaker',\n",
              "        'refuted claimed mahajan congress believe delighted speaker twitter tharoor mandar convey april declare demise tweets gracious birla family administration report tweet false son media fine declaring hearty said apologies former represented announced parliament confirmation clip bjp lok constituency run deleted indore sincere mp pti comes expressed channels announcing spoke understanding pointed shashi death note day others hale last friday cross checking urgency sabha asked outlets om hear news leader government misinformation passed night mr terms leaders ji take called dead saying put thursday shashitharoor sumitra veteran people central wishes',\n",
              "        'Disagree'],\n",
              "       ['death sumitra sabha former mahajan lok speaker',\n",
              "        'reliable refuted pulled mahajan congress photo rounds speaker condolence twitter tharoor added april demise brics family administration prayers report tweet sushma passing swaraj learning media fine hearty said crosschecking source former interactions confirmation message reacting learn lok learnt run indore ani condolences mp thought channels announcing many parliamentary positive shashi socalled death received sent hale cross checking lead urgency delegation sabha asked om moscow news leader relieved late remember night mr called saying thursday telecasting social sumitra rumours started including tweeted file',\n",
              "        'Disagree'],\n",
              "       ['death sumitra sabha former mahajan lok speaker',\n",
              "        'reliable least mahajan wondered congress says believe carried brother speaker tharoor mandar came confirmed demise tweets reports birla heard administration responded tweet false son media mark fine hearty said source calls attributed former relatives represented fake announced parliament confirmation particular twain clip bjp lok constituency audio getting deleted became district channels clarification misquote pointed shashi death allindia note others hale friday sabha asked outlets om popular much news deleting leader government exaggerated relieved night turn gave alive terms leaders asking putting take saying daughter put thursday mumbai flashed sumitra started states veteran banked people central',\n",
              "        'Disagree'],\n",
              "       ['death sumitra sabha former mahajan lok speaker',\n",
              "        'reliable least mahajan wondered congress says believe carried clarified speaker tharoor mandar came april confirmed demise tweets birla heard administration responded tweet false son media fine hearty said calls former relatives represented fake announced parliament confirmation shared clip bjp lok constituency audio getting deleted became district video channels clarification pointed shashi allindia note others hale sabha asked outlets uploaded om deleting news much leader mumbaibased government relieved night mr gave alive terms leaders asking ms putting take saying daughter thursday mumbai flashed sumitra started veteran banked people central',\n",
              "        'Disagree'],\n",
              "       ['death sumitra sabha former mahajan lok speaker',\n",
              "        'leader media mahajan corporator cyber dedge pti said try written trace official spreading order former pradesh speaker added offence basis servant death sudhir case inquiry screenshot sarafa police registered sunil post mentioned lodged friday rumour disobedience social public ipc told promulgated inspector rumours sumitra complaint sabha filed unidentified local station bjp lok spread attached madhya sharma person section',\n",
              "        'Disagree'],\n",
              "       ['death sumitra sabha former mahajan lok speaker',\n",
              "        'reliable least mahajan wondered congress says believe carried brother speaker tharoor mandar came april confirmed demise tweets reports birla heard administration responded tweet false son media mark fine hearty said source calls attributed former relatives represented fake announced parliament confirmation particular twain clip bjp lok constituency audio getting deleted became district pti channels clarification misquote pointed shashi death allindia note others hale friday sabha asked outlets om popular much news deleting leader government exaggerated relieved night turn gave alive terms leaders asking putting take saying daughter put thursday mumbai flashed sumitra started states veteran banked people central',\n",
              "        'Disagree'],\n",
              "       ['death sumitra sabha former mahajan lok speaker',\n",
              "        'reliable least mahajan wondered congress says believe carried brother speaker tharoor mandar came confirmed demise tweets reports birla heard administration responded tweet false son media mark fine hearty said source calls attributed former relatives represented fake announced parliament confirmation particular twain clip bjp lok constituency audio getting deleted became district pti channels clarification misquote pointed shashi death allindia note others hale friday sabha asked outlets om popular much news deleting leader government exaggerated relieved night turn gave alive terms leaders asking putting take saying daughter put thursday mumbai flashed sumitra started states veteran banked people central',\n",
              "        'Disagree'],\n",
              "       ['death sumitra sabha former mahajan lok speaker',\n",
              "        'reliable least mahajan wondered congress says believe carried speaker tharoor mandar came confirmed demise tweets reports birla heard administration responded tweet false son media mark fine hearty said calls attributed former relatives represented fake announced parliament confirmation particular twain clip bjp lok constituency audio getting deleted became district channels misquote pointed shashi death allindia note others hale friday sabha asked outlets om popular deleting news much leader government exaggerated relieved night turn gave alive terms leaders asking putting take saying daughter put thursday mumbai flashed sumitra started states veteran banked people central',\n",
              "        'Disagree'],\n",
              "       ['death sumitra sabha former mahajan lok speaker',\n",
              "        'claimed extreme life father pradesh suicide swapneesh came due woman jump step singh ended family breaking madhya mandideep awaited city report week sources shook son chandrakala said dewas raised superintendent daughterinlaw apartment ones according industrial separate confirm went prepared meena hanged raisen wednesday women pandemic fourthfloor lost amrit coronavirus district depressed sanjay hospital bhopal members tried hand death autopsy day days depression read news additional mother infection incidents viral vivek injured hold township police died daughter alarm jumped wife balkishan loved took committed deaths people',\n",
              "        'Unrelated'],\n",
              "       ['death sumitra sabha former mahajan lok speaker',\n",
              "        'reliable negative mahajan corporator congress dedge believe delighted try written posts problems speaker feeds tharoor added mandar convey servant demise tweets screenshot sarafa registered mentioned supporter lodged gatherings gracious urged np promulgated filed station unidentified family officer administration flared report edited tweet false son media law cyber lal fine said organisations source please apologies order outlook former anger represented offence basis announced parliament sudhir inquiry deeply told met complaint local clip bjp lok spread constituency sharma deleted sincere district mp pti crpc video story evening trace expressed hwp spoke understanding pointed shashi autogenerated death apr others sunil covid last friday rumour public hurt ipc lead inspector sabha create section hear deleting news leader banned misinformation relieved mother disclaimer night terms official spreading leaders staff stated putting healthy ji case saying police post put disobedience social rumours sumitra attached agency banked people person wishes',\n",
              "        'Disagree'],\n",
              "       ['death sumitra sabha former mahajan lok speaker',\n",
              "        'seat honoured prime claimed conferred behave pm mahajan congress candidature chance months says hour monday workers lawmaker campaigners khan pradesh sp restrictions speaker tharoor month need moved blueeyed talked party tweets chair urged senior election show birla modi mla singh exspeaker delete narendra full madhya officer contain celebrated court today tweet outbreak sushma disapprove vijayvargiya swaraj arrested view son state power said oratory appeared minister recipients former arun collectorate akash shinzo rajasthan make apologises hundreds announced calm parliament front chennai apologised new get samajwadi ayodhya politics request issues photographic civilian music judgement bjp lok learn rakesh motion manner chouhan wednesday remembered training verdict deleted indore janata coronavirus chouhanled award antivirus used mp mohd act pray minutes crisis vibhushan bat condoled hospital year morning second spokesman star compliments cricket deities chief boy spoke wore skills governmentenforced pointed thinking shashi memory members parties death wrong shivraj ruled last direction friday padma part public opposition recalled sabha japanese supported bharatiya jaitley om singer india assault leader government abilities speak relieved azam favourite night civic mr shawls balanced jhabua disapproves mantra program assaulting leads president leaders awesome ms nervous healthy supreme abe leadership called protest requested saturday raise defying died thursday lawmakers elected bypoll young accept led loved balasubrahmanyam formalities neglected sumitra started call peaceful member veteran people legend exlok',\n",
              "        'Disagree'],\n",
              "       ['death sumitra sabha former mahajan lok speaker',\n",
              "        'tweet news refuted leader negative speaking urging false son condolences media mahajan congress video mr fine said reply please evening alive official channels announcing leaders former niece terms statement speaker twitter tharoor represented healthy shashi called mandar informing death vijayvargiya parliament demise confirmation saying covid new put friday cross checking urgency met kailash sumitra agency sabha clip delhi lok asked hurry bjp spread revealed tweeted run administration people constituency report deleted indore',\n",
              "        'Disagree'],\n",
              "       ['death sumitra sabha former mahajan lok speaker',\n",
              "        'adjourn feeling ministers mahajan extended raising appreciating sides disruptions bahut union thanked hour conclusion said minister president hai former cooperation thanks leading many speaker e concluded session replied members lag death forcing couple various day new proceedings questions last days taken supplementaries disruption opposition issues discussion went sumitra including started sabha january achha ahamed delhi lok question motion thank raha happy budget today much',\n",
              "        'Unrelated'],\n",
              "       ['death sumitra sabha former mahajan lok speaker',\n",
              "        'rajiv banerjee prime formed mahajan sangma career congress gandhiled international life expelled months sangmaji times current lunch speaker pawar protocol assam setting finance vajpayee humble sharad endeared party reference demise mamata selfmade anwar masters grew marginalised expressing modi mla singh nation inducted impartiality narendra refused saddened allegiance degree spontaneous rao sections today graduation completing passing become national village july mark numbers broken state nature law sense power lasted returned struggled following losing ncp said tura political exited body minister chapahati sonia deep personality former years st head centre university grief decision stint bose friends sitting small strove upheaval convivial manmohan race sorodini home age massive relations north development went multifaceted shifted witnessing mukherjee bjp lok breathed constituency sonsconrad learnt run p forming major janata became district heart east gandhi adding obtained founding independence candidate hills contribution tenure born merged morning office known hard anthony many left obituary chief influenced dibrugarh unforgettable charan tribal picturesque cabinet affable members parties death bihari swornin attack day last house man opposition agitated wit january sabha pay first rose garo india monumental september shortlived leader smile masses government split downtoearth netaji indira beginning pranab made forced labour adjourned amelioration disarm join condoling official shortage president respect time origins knew chequered rise college elections agatha form tmc disposition james trinamool died meghalaya taken leaves daughter tariq elected wife accept ticket decades sumitra narasimha foreign faction ministry member presidential reelected homage revolt nationalist people rajya quit atal',\n",
              "        'Unrelated'],\n",
              "       ['death sumitra sabha former mahajan lok speaker',\n",
              "        'claimed prime mahajan outgoing congress candidature indian monday alleged someone pradesh courage speaker backed added dilip questioning defended party digvijaya senior modi singh heard attacks narendra bail officer madhya blasts great false arrested national remarks media accused investigating said pragya minister reported theory friends cursed demeaned correct thakur bajrang lowly ats told hemant cited bjp lok karkare maharashtra constituency associates shah talking indore janata evidence comments response became recommend dal custody candidate civilisation top amit bhopal phone killed chief martyr malegaon say death controversy proud example country ban unity sabha patidar november bharatiya floated line insult leader vote made associated distorted president terror express leaders interest role seconded called simi tortured saying allegations police died give facts put mumbai led sumitra including symbol come tweeted arrests responding duty',\n",
              "        'Unrelated'],\n",
              "       ['death sumitra sabha former mahajan lok speaker',\n",
              "        'shows impasse mps backing prime mahajan slow congress corruption afternoon indian mould kaul chamber monsoon ease evasion monday resignation taxes defensive paid favours eyes legislative rajshekhar pradesh stormed accepted speaker fraud informed session victory got denzil forcing party allies witnesses involved struggle expected proceedings tycoon jittery way jobs modi singh politician narendra demanded refused let wants madhya rao living stalled happening today sheshrao overhaul passing private entrance state passage kadiyam moreshwar law break following change said srihari productive minister recent minority former appealed sitting governed hussain diwathe make data xiaoping swept past amended parliament tuesday save transformation reformers new trs plans shankar sheila sabhas massive goal needs support bjp lok measure ismail mohite deepening tainted business third upper telangana independence pressure aspirations manoranjan office transacting year sports many pratapsinh chief rana reform shashi members parties bhakta research purchase tributes ratlam day dubbed last chand house growing man london opposition country pass china sabha progress bill first deshmukh pace prakash panel june halt exams harbaji economic leader revival warangal government deng vote britain reach passed cast dileep made adjourned hope set land majority gave namdeo fire leaders respect bhuria vir work investors twothirds bhattam college take ram slogans faces modernisation resigned companies b supporters allegations resume died slower lawmakers tentative atkinson sumitra want shouting main foreign tax member veteran reassuring claims margaret deaths central go agenda',\n",
              "        'Unrelated'],\n",
              "       ['death sumitra sabha former mahajan lok speaker',\n",
              "        'followed become prime government participated covers mahajan exemplary devi book sense region pti life ahilyabai fairness inspiration authored justice source times considers respected plays minister order prevailed saint holker speaker worshipped function perfect release good malwa april death governance based lifetime considered prospered ruled legendary ruler holkar several able modi see empire sumitra want sabha narendra play lok spread organizer remembered reign people central india period',\n",
              "        'Unrelated']], dtype=object)"
            ]
          },
          "metadata": {
            "tags": []
          },
          "execution_count": 86
        }
      ]
    },
    {
      "cell_type": "code",
      "metadata": {
        "id": "xk414nueaGpz"
      },
      "source": [
        "# Other feature 1, Create function for N-grams\n",
        "def ngram_overlap(head , article):\n",
        "    # Returns how many times n-grams (up to 3-gram) that occur in the article's headline occur on the article's body.\n",
        "    tf_headline = doc_to_tf(head, ngram=3)\n",
        "    tf_body = doc_to_tf(article, ngram=3)\n",
        "    matches = 0.0\n",
        "    for words in tf_headline.keys():\n",
        "        if words in tf_body:\n",
        "            matches += tf_body[words]\n",
        "    return np.power((matches / len(tokenise(doc[1]))), 1 / np.e)  # normalise for document length\n",
        "\n"
      ],
      "execution_count": null,
      "outputs": []
    },
    {
      "cell_type": "code",
      "metadata": {
        "scrolled": false,
        "id": "47vQ8-czaGp0"
      },
      "source": [
        "ngram_overlap_list = []\n",
        "for i in range(len(t_array)):\n",
        "    ngram_overlap_list.append(ngram_overlap(head = t_array[i,0] , article = t_array[i,0]))"
      ],
      "execution_count": null,
      "outputs": []
    },
    {
      "cell_type": "code",
      "metadata": {
        "id": "v9Ev-CL-aGp1",
        "outputId": "f6b63b34-6189-4168-d966-0e92a395350f"
      },
      "source": [
        "len(ngram_overlap_list)"
      ],
      "execution_count": null,
      "outputs": [
        {
          "output_type": "execute_result",
          "data": {
            "text/plain": [
              "212"
            ]
          },
          "metadata": {
            "tags": []
          },
          "execution_count": 92
        }
      ]
    },
    {
      "cell_type": "markdown",
      "metadata": {
        "id": "0Xuri23GaGp2"
      },
      "source": [
        "## Adding ngram_overlap_list to main dataframe"
      ]
    },
    {
      "cell_type": "code",
      "metadata": {
        "id": "6m_FRs0xaGp2"
      },
      "source": [
        "Train_data2['ngram_overlap'] = ngram_overlap_list"
      ],
      "execution_count": null,
      "outputs": []
    },
    {
      "cell_type": "code",
      "metadata": {
        "id": "MppcA-6uaGp2",
        "outputId": "9b8a2f00-2ede-47cc-d95f-225c6ad055f2"
      },
      "source": [
        "Train_data2.columns"
      ],
      "execution_count": null,
      "outputs": [
        {
          "output_type": "execute_result",
          "data": {
            "text/plain": [
              "Index(['Unnamed: 0', 'Headline', 'Stance', 'articleBody', 'stance_cat',\n",
              "       'stance_base', 'jaccard_similarity', 'Headline_pos', 'articleBody_pos',\n",
              "       'jaccard_similarity_nouns', 'Headline_Nouns',\n",
              "       'articleBody_pos_lemmatized', 'Headline_pos_lemmatized', 'LDA_Score',\n",
              "       'glove_similarity', 'kl_divergence', 'ngram_overlap'],\n",
              "      dtype='object')"
            ]
          },
          "metadata": {
            "tags": []
          },
          "execution_count": 101
        }
      ]
    },
    {
      "cell_type": "code",
      "metadata": {
        "id": "vqJnhTn3aGp3"
      },
      "source": [
        "Train_data = Train_data2[[\"Headline_pos\",\"articleBody_pos\",\"Stance\",\"glove_similarity\",\"kl_divergence\",\"ngram_overlap\"]]"
      ],
      "execution_count": null,
      "outputs": []
    },
    {
      "cell_type": "code",
      "metadata": {
        "scrolled": true,
        "id": "EijMx_wdaGp4",
        "outputId": "1d8b98df-b980-4eb3-d410-20bbbc30d1c3"
      },
      "source": [
        "Train_data.sample(10)"
      ],
      "execution_count": null,
      "outputs": [
        {
          "output_type": "execute_result",
          "data": {
            "text/html": [
              "<div>\n",
              "<style scoped>\n",
              "    .dataframe tbody tr th:only-of-type {\n",
              "        vertical-align: middle;\n",
              "    }\n",
              "\n",
              "    .dataframe tbody tr th {\n",
              "        vertical-align: top;\n",
              "    }\n",
              "\n",
              "    .dataframe thead th {\n",
              "        text-align: right;\n",
              "    }\n",
              "</style>\n",
              "<table border=\"1\" class=\"dataframe\">\n",
              "  <thead>\n",
              "    <tr style=\"text-align: right;\">\n",
              "      <th></th>\n",
              "      <th>Headline_pos</th>\n",
              "      <th>articleBody_pos</th>\n",
              "      <th>Stance</th>\n",
              "      <th>glove_similarity</th>\n",
              "      <th>kl_divergence</th>\n",
              "      <th>ngram_overlap</th>\n",
              "    </tr>\n",
              "  </thead>\n",
              "  <tbody>\n",
              "    <tr>\n",
              "      <th>135</th>\n",
              "      <td>rankings rohit spots men charts virat top kohl...</td>\n",
              "      <td>rankings opener topranked indian trent faceboo...</td>\n",
              "      <td>Agree</td>\n",
              "      <td>0.860503</td>\n",
              "      <td>1.026867</td>\n",
              "      <td>4.154264</td>\n",
              "    </tr>\n",
              "    <tr>\n",
              "      <th>154</th>\n",
              "      <td>global index time first innovation nations ind...</td>\n",
              "      <td>index graduates rank banerjee prime germany in...</td>\n",
              "      <td>Agree</td>\n",
              "      <td>0.950501</td>\n",
              "      <td>0.697624</td>\n",
              "      <td>2.895936</td>\n",
              "    </tr>\n",
              "    <tr>\n",
              "      <th>38</th>\n",
              "      <td>kilometres modi china pm handed land</td>\n",
              "      <td>prime announces claim accusing hot congress in...</td>\n",
              "      <td>Discuss</td>\n",
              "      <td>0.855989</td>\n",
              "      <td>0.629099</td>\n",
              "      <td>2.494644</td>\n",
              "    </tr>\n",
              "    <tr>\n",
              "      <th>168</th>\n",
              "      <td>places business jumps ease india</td>\n",
              "      <td>news offering economic pandemic business respo...</td>\n",
              "      <td>Disagree</td>\n",
              "      <td>0.773566</td>\n",
              "      <td>1.123672</td>\n",
              "      <td>2.244121</td>\n",
              "    </tr>\n",
              "    <tr>\n",
              "      <th>117</th>\n",
              "      <td>currency notes covid spread cops</td>\n",
              "      <td>counsel nath become voting tuesday plea ended ...</td>\n",
              "      <td>Unrelated</td>\n",
              "      <td>0.557626</td>\n",
              "      <td>2.259718</td>\n",
              "      <td>2.244121</td>\n",
              "    </tr>\n",
              "    <tr>\n",
              "      <th>107</th>\n",
              "      <td>currency notes covid spread cops</td>\n",
              "      <td>rajiv claimed prime grabs afternoon cctv strew...</td>\n",
              "      <td>Discuss</td>\n",
              "      <td>0.739763</td>\n",
              "      <td>0.840844</td>\n",
              "      <td>2.244121</td>\n",
              "    </tr>\n",
              "    <tr>\n",
              "      <th>142</th>\n",
              "      <td>global rankings qs top bangalore world ahmedab...</td>\n",
              "      <td>rankings provider student bangalore indian mon...</td>\n",
              "      <td>Agree</td>\n",
              "      <td>0.514785</td>\n",
              "      <td>0.806761</td>\n",
              "      <td>3.219225</td>\n",
              "    </tr>\n",
              "    <tr>\n",
              "      <th>29</th>\n",
              "      <td>april lockdown</td>\n",
              "      <td>establishments tamil impounded aimed salem coi...</td>\n",
              "      <td>Unrelated</td>\n",
              "      <td>0.191915</td>\n",
              "      <td>0.205985</td>\n",
              "      <td>1.000000</td>\n",
              "    </tr>\n",
              "    <tr>\n",
              "      <th>139</th>\n",
              "      <td>global rankings qs top bangalore world ahmedab...</td>\n",
              "      <td>rankings indian ahmedabad compiled management ...</td>\n",
              "      <td>Agree</td>\n",
              "      <td>0.740085</td>\n",
              "      <td>1.309872</td>\n",
              "      <td>3.219225</td>\n",
              "    </tr>\n",
              "    <tr>\n",
              "      <th>126</th>\n",
              "      <td>qs iit features kharagpur subject ranking top</td>\n",
              "      <td>rankings rank large student indian switzerland...</td>\n",
              "      <td>Disagree</td>\n",
              "      <td>0.807598</td>\n",
              "      <td>0.523538</td>\n",
              "      <td>2.708069</td>\n",
              "    </tr>\n",
              "  </tbody>\n",
              "</table>\n",
              "</div>"
            ],
            "text/plain": [
              "                                          Headline_pos  \\\n",
              "135  rankings rohit spots men charts virat top kohl...   \n",
              "154  global index time first innovation nations ind...   \n",
              "38                kilometres modi china pm handed land   \n",
              "168                   places business jumps ease india   \n",
              "117                   currency notes covid spread cops   \n",
              "107                   currency notes covid spread cops   \n",
              "142  global rankings qs top bangalore world ahmedab...   \n",
              "29                                      april lockdown   \n",
              "139  global rankings qs top bangalore world ahmedab...   \n",
              "126      qs iit features kharagpur subject ranking top   \n",
              "\n",
              "                                       articleBody_pos     Stance  \\\n",
              "135  rankings opener topranked indian trent faceboo...      Agree   \n",
              "154  index graduates rank banerjee prime germany in...      Agree   \n",
              "38   prime announces claim accusing hot congress in...    Discuss   \n",
              "168  news offering economic pandemic business respo...   Disagree   \n",
              "117  counsel nath become voting tuesday plea ended ...  Unrelated   \n",
              "107  rajiv claimed prime grabs afternoon cctv strew...    Discuss   \n",
              "142  rankings provider student bangalore indian mon...      Agree   \n",
              "29   establishments tamil impounded aimed salem coi...  Unrelated   \n",
              "139  rankings indian ahmedabad compiled management ...      Agree   \n",
              "126  rankings rank large student indian switzerland...   Disagree   \n",
              "\n",
              "     glove_similarity  kl_divergence  ngram_overlap  \n",
              "135          0.860503       1.026867       4.154264  \n",
              "154          0.950501       0.697624       2.895936  \n",
              "38           0.855989       0.629099       2.494644  \n",
              "168          0.773566       1.123672       2.244121  \n",
              "117          0.557626       2.259718       2.244121  \n",
              "107          0.739763       0.840844       2.244121  \n",
              "142          0.514785       0.806761       3.219225  \n",
              "29           0.191915       0.205985       1.000000  \n",
              "139          0.740085       1.309872       3.219225  \n",
              "126          0.807598       0.523538       2.708069  "
            ]
          },
          "metadata": {
            "tags": []
          },
          "execution_count": 96
        }
      ]
    },
    {
      "cell_type": "code",
      "metadata": {
        "scrolled": true,
        "id": "suS_9UbaaGp4",
        "outputId": "3474db36-7298-4fb3-b937-4643f9cf6349"
      },
      "source": [
        "Train_data_subset = Train_data[Train_data.Stance == \"unrelated\" ]\n",
        "Train_data_subset.sample(10)"
      ],
      "execution_count": null,
      "outputs": [
        {
          "output_type": "error",
          "ename": "ValueError",
          "evalue": "a must be greater than 0 unless no samples are taken",
          "traceback": [
            "\u001b[1;31m---------------------------------------------------------------------------\u001b[0m",
            "\u001b[1;31mValueError\u001b[0m                                Traceback (most recent call last)",
            "\u001b[1;32m<ipython-input-98-15c843de043c>\u001b[0m in \u001b[0;36m<module>\u001b[1;34m\u001b[0m\n\u001b[0;32m      1\u001b[0m \u001b[0mTrain_data_subset\u001b[0m \u001b[1;33m=\u001b[0m \u001b[0mTrain_data\u001b[0m\u001b[1;33m[\u001b[0m\u001b[0mTrain_data\u001b[0m\u001b[1;33m.\u001b[0m\u001b[0mStance\u001b[0m \u001b[1;33m==\u001b[0m \u001b[1;34m\"unrelated\"\u001b[0m \u001b[1;33m]\u001b[0m\u001b[1;33m\u001b[0m\u001b[1;33m\u001b[0m\u001b[0m\n\u001b[1;32m----> 2\u001b[1;33m \u001b[0mTrain_data_subset\u001b[0m\u001b[1;33m.\u001b[0m\u001b[0msample\u001b[0m\u001b[1;33m(\u001b[0m\u001b[1;36m10\u001b[0m\u001b[1;33m)\u001b[0m\u001b[1;33m\u001b[0m\u001b[1;33m\u001b[0m\u001b[0m\n\u001b[0m",
            "\u001b[1;32mC:\\ProgramData\\Anaconda3\\lib\\site-packages\\pandas\\core\\generic.py\u001b[0m in \u001b[0;36msample\u001b[1;34m(self, n, frac, replace, weights, random_state, axis)\u001b[0m\n\u001b[0;32m   5059\u001b[0m             )\n\u001b[0;32m   5060\u001b[0m \u001b[1;33m\u001b[0m\u001b[0m\n\u001b[1;32m-> 5061\u001b[1;33m         \u001b[0mlocs\u001b[0m \u001b[1;33m=\u001b[0m \u001b[0mrs\u001b[0m\u001b[1;33m.\u001b[0m\u001b[0mchoice\u001b[0m\u001b[1;33m(\u001b[0m\u001b[0maxis_length\u001b[0m\u001b[1;33m,\u001b[0m \u001b[0msize\u001b[0m\u001b[1;33m=\u001b[0m\u001b[0mn\u001b[0m\u001b[1;33m,\u001b[0m \u001b[0mreplace\u001b[0m\u001b[1;33m=\u001b[0m\u001b[0mreplace\u001b[0m\u001b[1;33m,\u001b[0m \u001b[0mp\u001b[0m\u001b[1;33m=\u001b[0m\u001b[0mweights\u001b[0m\u001b[1;33m)\u001b[0m\u001b[1;33m\u001b[0m\u001b[1;33m\u001b[0m\u001b[0m\n\u001b[0m\u001b[0;32m   5062\u001b[0m         \u001b[1;32mreturn\u001b[0m \u001b[0mself\u001b[0m\u001b[1;33m.\u001b[0m\u001b[0mtake\u001b[0m\u001b[1;33m(\u001b[0m\u001b[0mlocs\u001b[0m\u001b[1;33m,\u001b[0m \u001b[0maxis\u001b[0m\u001b[1;33m=\u001b[0m\u001b[0maxis\u001b[0m\u001b[1;33m)\u001b[0m\u001b[1;33m\u001b[0m\u001b[1;33m\u001b[0m\u001b[0m\n\u001b[0;32m   5063\u001b[0m \u001b[1;33m\u001b[0m\u001b[0m\n",
            "\u001b[1;32mmtrand.pyx\u001b[0m in \u001b[0;36mnumpy.random.mtrand.RandomState.choice\u001b[1;34m()\u001b[0m\n",
            "\u001b[1;31mValueError\u001b[0m: a must be greater than 0 unless no samples are taken"
          ]
        }
      ]
    },
    {
      "cell_type": "code",
      "metadata": {
        "id": "fz1exHguaGp5",
        "outputId": "6dae67dd-ae32-41d5-9c39-17058a115f13"
      },
      "source": [
        "Train_data2.columns"
      ],
      "execution_count": null,
      "outputs": [
        {
          "output_type": "execute_result",
          "data": {
            "text/plain": [
              "Index(['Headline', 'Body ID', 'articleBody', 'jaccard_similarity',\n",
              "       'Headline_Nouns', 'articleBody_Nouns', 'jaccard_similarity_nouns',\n",
              "       'Headline_POS', 'articleBody_POS', 'Stance', 'glove_similarity',\n",
              "       'kl_divergence', 'ngram_overlap'],\n",
              "      dtype='object')"
            ]
          },
          "metadata": {
            "tags": []
          },
          "execution_count": 101
        }
      ]
    },
    {
      "cell_type": "code",
      "metadata": {
        "id": "tKqOV1puaGp6"
      },
      "source": [
        "Train_data2.to_csv(\"feature_selection_real_test_data.csv\") # save the extracted featurs to csv file"
      ],
      "execution_count": null,
      "outputs": []
    },
    {
      "cell_type": "code",
      "metadata": {
        "id": "agYFPs79aGp8",
        "outputId": "1426d283-3634-4ac9-c9e8-a3bd8060b2e1"
      },
      "source": [
        "glove_similarity[1]"
      ],
      "execution_count": null,
      "outputs": [
        {
          "output_type": "execute_result",
          "data": {
            "text/plain": [
              "0.8487198340255651"
            ]
          },
          "metadata": {
            "tags": []
          },
          "execution_count": 184
        }
      ]
    },
    {
      "cell_type": "code",
      "metadata": {
        "id": "cQTWl-5gaGp9",
        "outputId": "de42301e-5239-42b4-ce59-fcfada40e484"
      },
      "source": [
        "kl_diverge_list[1]"
      ],
      "execution_count": null,
      "outputs": [
        {
          "output_type": "execute_result",
          "data": {
            "text/plain": [
              "0.5678964967816353"
            ]
          },
          "metadata": {
            "tags": []
          },
          "execution_count": 185
        }
      ]
    },
    {
      "cell_type": "code",
      "metadata": {
        "id": "fmTzVmfXaGp-",
        "outputId": "581f60d4-672b-4a60-e598-1199ebcc6ef4"
      },
      "source": [
        "ngram_overlap_list[1]"
      ],
      "execution_count": null,
      "outputs": [
        {
          "output_type": "execute_result",
          "data": {
            "text/plain": [
              "2.8959359196111367"
            ]
          },
          "metadata": {
            "tags": []
          },
          "execution_count": 186
        }
      ]
    },
    {
      "cell_type": "code",
      "metadata": {
        "scrolled": true,
        "id": "51hPQfR_aGp_",
        "outputId": "f1d87612-e46b-4f67-b7e5-75ad54dd216c"
      },
      "source": [
        "# Define function to convert (headline, body) to feature vectors for each document\n",
        "ftrs = [cosine_similarity, kl_divergence, ngram_overlap]\n",
        "def to_feature_array(doc):\n",
        "    vec = np.array([0.0] * len(ftrs))\n",
        "    for i in range(len(ftrs)):\n",
        "        vec[i] = ftrs[i](doc)\n",
        "    return vec\n",
        "\n",
        "# Initialise X (matrix of feature vectors) for train dataset\n",
        "x_train = np.array([to_feature_array(doc) for doc in tqdm(train_all)])\n",
        "print(x_train[:10])"
      ],
      "execution_count": null,
      "outputs": [
        {
          "output_type": "stream",
          "text": [
            "100%|████████████████████████████████████████████████████████████████████████████████| 498/498 [00:05<00:00, 90.45it/s]"
          ],
          "name": "stderr"
        },
        {
          "output_type": "stream",
          "text": [
            "[[0.87649484 0.50955458 0.15493561]\n",
            " [0.6748764  0.55143937 0.16068777]\n",
            " [0.34981342 1.03285062 0.        ]\n",
            " [0.76814813 1.20395594 0.1774245 ]\n",
            " [0.23342949 0.69538758 0.        ]\n",
            " [0.50060348 1.02454323 0.        ]\n",
            " [0.75018547 1.57579235 0.18176848]\n",
            " [0.60970192 1.19170078 0.        ]\n",
            " [0.79756063 0.72217049 0.11321949]\n",
            " [0.63275567 0.76686731 0.26758903]]\n"
          ],
          "name": "stdout"
        },
        {
          "output_type": "stream",
          "text": [
            "\n"
          ],
          "name": "stderr"
        }
      ]
    },
    {
      "cell_type": "code",
      "metadata": {
        "id": "-7sr-twlaGqA",
        "outputId": "42d1808a-60f4-4272-b9d3-88a57c4fc80a"
      },
      "source": [
        "# Define label <-> int mappings for y\n",
        "label_to_int = {'agree': 0, 'disagree': 1, 'discuss': 2, 'unrelated': 3}\n",
        "int_to_label = ['agree', 'disagree', 'discuss', 'unrelated']\n",
        "\n",
        "# Initialise Y (gold output vector) for train dataset\n",
        "y_train = np.array([label_to_int[i] for i in train_all[:, 2]])\n",
        "print(y_train[:10])"
      ],
      "execution_count": null,
      "outputs": [
        {
          "output_type": "stream",
          "text": [
            "[3 3 3 3 3 3 3 3 3 2]\n"
          ],
          "name": "stdout"
        }
      ]
    },
    {
      "cell_type": "code",
      "metadata": {
        "id": "paBOYBESaGqA",
        "outputId": "92e398a1-d7a9-4661-9b1e-90ce13b3a31a"
      },
      "source": [
        "# Check integrity of X and Y\n",
        "print(np.where(np.isnan(x_train)))\n",
        "print(np.where(np.isfinite(x_train) == False))\n",
        "print(x_train.shape)\n",
        "print(y_train.shape)  # x_train.shape[0] == y_train.shape[0]"
      ],
      "execution_count": null,
      "outputs": [
        {
          "output_type": "stream",
          "text": [
            "(array([], dtype=int64), array([], dtype=int64))\n",
            "(array([], dtype=int64), array([], dtype=int64))\n",
            "(498, 3)\n",
            "(498,)\n"
          ],
          "name": "stdout"
        }
      ]
    },
    {
      "cell_type": "code",
      "metadata": {
        "id": "F2q14MEMaGqB",
        "outputId": "ca2966fd-7517-45d3-9da1-70a2c633173b"
      },
      "source": [
        "# Plot GLoVe distance vs KL-Divergence on a coloured scatter plot with different colours for each label\n",
        "colours = np.array(['g', 'r', 'b', 'y'])\n",
        "plt.scatter(list(x_train[:, 0]), list(x_train[:, 1]), c=colours[y_train])\n",
        "plt.xlabel('Cosine Similarity of GLoVe vectors')\n",
        "plt.ylabel('KL Divergence of Unigram LMs')\n",
        "print([(colours[i], int_to_label[i]) for i in range(len(int_to_label))])\n",
        "plt.show()"
      ],
      "execution_count": null,
      "outputs": [
        {
          "output_type": "stream",
          "text": [
            "[('g', 'agree'), ('r', 'disagree'), ('b', 'discuss'), ('y', 'unrelated')]\n"
          ],
          "name": "stdout"
        },
        {
          "output_type": "display_data",
          "data": {
            "image/png": "[encoded data removed]",
            "text/plain": [
              "<Figure size 432x288 with 1 Axes>"
            ]
          },
          "metadata": {
            "tags": [],
            "needs_background": "light"
          }
        }
      ]
    },
    {
      "cell_type": "code",
      "metadata": {
        "id": "UtaBWM1caGqC",
        "outputId": "7080d492-ae47-442c-9469-028a6b4f986c"
      },
      "source": [
        "# Initialise x (feature vectors) for validation dataset\n",
        "x_val = np.array([to_feature_array(doc) for doc in tqdm(val_all)])\n",
        "print(x_val[:5])"
      ],
      "execution_count": null,
      "outputs": [
        {
          "output_type": "stream",
          "text": [
            "100%|████████████████████████████████████████████████████████████████████████████████| 502/502 [00:05<00:00, 95.88it/s]"
          ],
          "name": "stderr"
        },
        {
          "output_type": "stream",
          "text": [
            "[[0.87189026 0.78067868 0.2388975 ]\n",
            " [0.77362252 0.82331639 0.48594791]\n",
            " [0.71733218 1.59193486 0.        ]\n",
            " [0.77513163 0.70753292 0.31846951]\n",
            " [0.87665324 0.38219986 0.28974359]]\n"
          ],
          "name": "stdout"
        },
        {
          "output_type": "stream",
          "text": [
            "\n"
          ],
          "name": "stderr"
        }
      ]
    },
    {
      "cell_type": "code",
      "metadata": {
        "id": "61jGY95eaGqD",
        "outputId": "93ca3aaa-0227-454e-855e-5ce6a5861b9d"
      },
      "source": [
        "# Linear regression model\n",
        "def mse(pred, gold):\n",
        "    sigma = 0.0\n",
        "    for i in range(pred.shape[0]):\n",
        "        sigma += np.square(pred[i] - gold[i])\n",
        "    return sigma / (2 * pred.shape[0])\n",
        "\n",
        "print(mse(np.array([0.0, 0.2, 0.5, 0.5, 0.8, 1.0]), np.array([0, 0, 0, 1, 1, 1])))"
      ],
      "execution_count": null,
      "outputs": [
        {
          "output_type": "stream",
          "text": [
            "0.04833333333333334\n"
          ],
          "name": "stdout"
        }
      ]
    },
    {
      "cell_type": "code",
      "metadata": {
        "id": "V82xkUmxaGqD",
        "outputId": "3248b2ee-1429-4ba6-a8ca-02918399fc45"
      },
      "source": [
        "class LinearRegression:\n",
        "    \n",
        "    def __init__(self, lrn_rate, n_iter):\n",
        "        self.lrn_rate = lrn_rate\n",
        "        self.n_iter = n_iter\n",
        "        # self.breakpoints = set([n_iter * i // 10 for i in range(1, 11)])\n",
        "        \n",
        "    def fit(self, X, Y):\n",
        "        # Learn a model y = intercept + x0*t0 + x1*t1 + x2*t2 + ... that minimises MSE. Need to optimise T\n",
        "        # self.intercept = 0.0\n",
        "        self.model = np.zeros(X.shape[1])  # model[0] = t0, model[1] = t1, etc.\n",
        "        for it in tqdm(range(self.n_iter)):\n",
        "            model_Y = self.transform(X)\n",
        "            # Thetas\n",
        "            for col in range(X.shape[1]):\n",
        "                s = 0.0\n",
        "                for row in range(X.shape[0]):\n",
        "                    s += (model_Y[row] - Y[row]) * X[row, col]\n",
        "                self.model[col] -= self.lrn_rate * s / X.shape[0]\n",
        "            # Intercept\n",
        "            # s_int = 0.0\n",
        "            # for row in range(X.shape[0]):\n",
        "            #     s_int += (model_Y[row] - Y[row]) * 1.0\n",
        "            # self.intercept -= self.lrn_rate * s_int / X.shape[0]\n",
        "            # if it + 1 in self.breakpoints:\n",
        "                # print('Iteration', it+1, 'MSE:', mse(model_Y, Y))\n",
        "        print('Final MSE:', mse(model_Y, Y))\n",
        "        # print('Intercept:', self.intercept)\n",
        "        print('Model:', self.model)\n",
        "        \n",
        "    def transform(self, X):\n",
        "        # Returns a float value for each X. (Regression)\n",
        "        Y = np.zeros(X.shape[0])\n",
        "        for row in range(X.shape[0]):\n",
        "            # s = self.intercept\n",
        "            s = 0.0\n",
        "            for col in range(X.shape[1]):\n",
        "                s += self.model[col] * X[row, col]\n",
        "            Y[row] = s\n",
        "        return Y\n",
        "    \n",
        "    def predict(self, X):\n",
        "        # Uses results of transform() for binary classification. For testing only, use OneVAllClassifier for the final run.\n",
        "        Y = self.transform(X)\n",
        "        Y = np.array([(1 if i > 0.5 else 0) for i in Y])\n",
        "        return Y\n",
        "\n",
        "# Test only\n",
        "lr = LinearRegression(lrn_rate=0.1, n_iter=100)\n",
        "lr.fit(x_train[:1000], np.array([(1 if i == 3 else 0) for i in y_train[:1000]]))\n",
        "print(lr.transform(x_train[1000:1020]))\n",
        "print('Predicted', lr.predict(x_train[1000:1020]))\n",
        "print('Actual', np.array([(1 if i == 3 else 0) for i in y_train[1000:1020]]))"
      ],
      "execution_count": null,
      "outputs": [
        {
          "output_type": "stream",
          "text": [
            "100%|███████████████████████████████████████████████████████████████████████████████| 100/100 [00:00<00:00, 214.25it/s]"
          ],
          "name": "stderr"
        },
        {
          "output_type": "stream",
          "text": [
            "Final MSE: 0.07560286662295661\n",
            "Model: [ 0.16264258  0.5190416  -0.2707051 ]\n",
            "[]\n",
            "Predicted []\n",
            "Actual []\n"
          ],
          "name": "stdout"
        },
        {
          "output_type": "stream",
          "text": [
            "\n"
          ],
          "name": "stderr"
        }
      ]
    },
    {
      "cell_type": "code",
      "metadata": {
        "id": "rY-LWivoaGqE",
        "outputId": "a763b498-606f-4171-d159-81a1405562d5"
      },
      "source": [
        "# Logistic regression functions\n",
        "def sigmoid(Y):\n",
        "    return 1 / (1 + np.exp(Y * -1))\n",
        "\n",
        "print(sigmoid(np.array([0.0, 0.2, 0.5, 0.5, 0.8, 1.0])))\n",
        "\n",
        "def logistic_cost(pred, gold):\n",
        "    sigma = 0.0\n",
        "    for i in range(pred.shape[0]):\n",
        "        if gold[i] == 1:  \n",
        "            sigma -= np.log(pred[i])\n",
        "        elif gold[i] == 0:\n",
        "            sigma -= np.log(1 - pred[i])\n",
        "    return sigma / pred.shape[0]\n",
        "\n",
        "print(mse(np.array([0.0, 0.2, 0.5, 0.5, 0.8, 1.0]), np.array([0, 0, 0, 1, 1, 1])))\n",
        "print(logistic_cost(np.array([0.0, 0.2, 0.5, 0.5, 0.8, 1.0]), np.array([0, 0, 0, 1, 1, 1])))\n",
        "print(logistic_cost(sigmoid(np.array([0.0, 0.2, 0.5, 0.5, 0.8, 1.0])), np.array([0, 0, 0, 1, 1, 1])))"
      ],
      "execution_count": null,
      "outputs": [
        {
          "output_type": "stream",
          "text": [
            "[0.5        0.549834   0.62245933 0.62245933 0.68997448 0.73105858]\n",
            "0.04833333333333334\n",
            "0.3054302439580517\n",
            "0.6039670619612919\n"
          ],
          "name": "stdout"
        }
      ]
    },
    {
      "cell_type": "code",
      "metadata": {
        "id": "BG5k5OYVaGqF",
        "outputId": "a4b839d9-851f-4601-94f4-04911418552a"
      },
      "source": [
        "# Logistic regression model\n",
        "class LogisticRegression:\n",
        "    \n",
        "    def __init__(self, lrn_rate, n_iter):\n",
        "        self.lrn_rate = lrn_rate\n",
        "        self.n_iter = n_iter\n",
        "        # self.breakpoints = set([n_iter * i // 10 for i in range(1, 11)])\n",
        "        \n",
        "    def fit(self, X, Y):\n",
        "        # Learn a model y = x0*t0 + x1*t1 + x2*t2 + ... that minimises MSE. Need to optimise T\n",
        "        self.model = np.zeros(X.shape[1])  # model[0] = t0, model[1] = t1, etc.\n",
        "        for it in tqdm(range(self.n_iter)):\n",
        "            model_Y = self.transform(X)\n",
        "            for col in range(X.shape[1]):\n",
        "                s = 0.0\n",
        "                for row in range(X.shape[0]):\n",
        "                    s += (model_Y[row] - Y[row]) * X[row, col]\n",
        "                self.model[col] -= self.lrn_rate * s / X.shape[0]\n",
        "            # if it + 1 in self.breakpoints:\n",
        "                # print('Iteration', it+1, 'loss:', logistic_cost(model_Y, Y))\n",
        "        print('Final loss:', logistic_cost(model_Y, Y))\n",
        "        print('Model:', self.model)\n",
        "        \n",
        "    def transform(self, X):\n",
        "        # Returns a float value for each X. (Regression)\n",
        "        Y = np.zeros(X.shape[0])\n",
        "        for row in range(X.shape[0]):\n",
        "            s = 0.0\n",
        "            for col in range(X.shape[1]):\n",
        "                s += self.model[col] * X[row, col]\n",
        "            Y[row] = s\n",
        "        return sigmoid(Y)\n",
        "    \n",
        "    def predict(self, X):\n",
        "        # Uses results of transform() for binary classification. For testing only, use OneVAllClassifier for the final run.\n",
        "        Y = self.transform(X)\n",
        "        Y = np.array([(1 if i > 0.5 else 0) for i in Y])\n",
        "        return Y\n",
        "\n",
        "# Test only\n",
        "lr = LogisticRegression(lrn_rate=0.1, n_iter=100)\n",
        "lr.fit(x_train[:1000], np.array([(1 if i == 3 else 0) for i in y_train[:1000]]))\n",
        "print(lr.transform(x_train[1000:1020]))\n",
        "print('Predicted', lr.predict(x_train[1000:1020]))\n",
        "print('Actual', np.array([(1 if i == 3 else 0) for i in y_train[1000:1020]]))"
      ],
      "execution_count": null,
      "outputs": [
        {
          "output_type": "stream",
          "text": [
            "100%|███████████████████████████████████████████████████████████████████████████████| 100/100 [00:00<00:00, 202.54it/s]"
          ],
          "name": "stderr"
        },
        {
          "output_type": "stream",
          "text": [
            "Final loss: 0.484848352663648\n",
            "Model: [-0.03172098  1.03656011 -0.39971637]\n",
            "[]\n",
            "Predicted []\n",
            "Actual []\n"
          ],
          "name": "stdout"
        },
        {
          "output_type": "stream",
          "text": [
            "\n"
          ],
          "name": "stderr"
        }
      ]
    },
    {
      "cell_type": "code",
      "metadata": {
        "id": "aL4ZxM4daGqG",
        "outputId": "06334897-a47b-4d55-8cd7-c32cad1c57eb"
      },
      "source": [
        "# To use linear/logistic regression models to classify multiple classes\n",
        "class OneVAllClassifier:\n",
        "    \n",
        "    def __init__(self, regression, **params):\n",
        "        self.regression = regression\n",
        "        self.params = params\n",
        "        \n",
        "    def fit(self, X, Y):\n",
        "        # Learn a model for each parameter.\n",
        "        self.categories = np.unique(Y)\n",
        "        self.models = {}\n",
        "        for cat in self.categories:\n",
        "            ova_Y = np.array([(1 if i == cat else 0) for i in Y])\n",
        "            model = self.regression(**self.params)\n",
        "            model.fit(X, ova_Y)\n",
        "            self.models[cat] = model\n",
        "            print(int_to_label[cat])\n",
        "    \n",
        "    def predict(self, X):\n",
        "        # Predicts each x for each different model learned, and returns the category related to the model with the highest score.\n",
        "        vals = {}\n",
        "        for cat, model in self.models.items():\n",
        "            vals[cat] = model.transform(X)\n",
        "        Y = np.zeros(X.shape[0], dtype=np.int)\n",
        "        for row in range(X.shape[0]):\n",
        "            max_val, max_cat = -math.inf, -math.inf\n",
        "            for cat, val in vals.items():\n",
        "                if val[row] > max_val:\n",
        "                    max_val, max_cat = val[row], cat\n",
        "            Y[row] = max_cat\n",
        "        return Y\n",
        "    \n",
        "# Test only\n",
        "ova = OneVAllClassifier(LinearRegression, lrn_rate=0.1, n_iter=100)\n",
        "ova.fit(x_train[:1000], y_train[:1000])\n",
        "print('Predicted', ova.predict(x_train[1000:1020]))\n",
        "print('Actual', y_train[1000:1020])"
      ],
      "execution_count": null,
      "outputs": [
        {
          "output_type": "stream",
          "text": [
            "100%|███████████████████████████████████████████████████████████████████████████████| 100/100 [00:00<00:00, 204.63it/s]\n",
            " 45%|████████████████████████████████████                                            | 45/100 [00:00<00:00, 198.10it/s]"
          ],
          "name": "stderr"
        },
        {
          "output_type": "stream",
          "text": [
            "Final MSE: 0.030942609881614288\n",
            "Model: [ 0.13363787 -0.02838457  0.12399113]\n",
            "agree\n"
          ],
          "name": "stdout"
        },
        {
          "output_type": "stream",
          "text": [
            "100%|███████████████████████████████████████████████████████████████████████████████| 100/100 [00:00<00:00, 214.69it/s]\n",
            " 21%|████████████████▊                                                               | 21/100 [00:00<00:00, 202.47it/s]"
          ],
          "name": "stderr"
        },
        {
          "output_type": "stream",
          "text": [
            "Final MSE: 0.007758642419530318\n",
            "Model: [ 0.03534103 -0.01136144  0.0273887 ]\n",
            "disagree\n"
          ],
          "name": "stdout"
        },
        {
          "output_type": "stream",
          "text": [
            "100%|███████████████████████████████████████████████████████████████████████████████| 100/100 [00:00<00:00, 140.24it/s]\n",
            " 12%|█████████▌                                                                      | 12/100 [00:00<00:00, 116.82it/s]"
          ],
          "name": "stderr"
        },
        {
          "output_type": "stream",
          "text": [
            "Final MSE: 0.057998285997644804\n",
            "Model: [ 0.35101399 -0.09342772  0.30342663]\n",
            "discuss\n"
          ],
          "name": "stdout"
        },
        {
          "output_type": "stream",
          "text": [
            "100%|███████████████████████████████████████████████████████████████████████████████| 100/100 [00:00<00:00, 158.15it/s]"
          ],
          "name": "stderr"
        },
        {
          "output_type": "stream",
          "text": [
            "Final MSE: 0.07560286662295661\n",
            "Model: [ 0.16264258  0.5190416  -0.2707051 ]\n",
            "unrelated\n",
            "Predicted []\n",
            "Actual []\n"
          ],
          "name": "stdout"
        },
        {
          "output_type": "stream",
          "text": [
            "\n"
          ],
          "name": "stderr"
        }
      ]
    },
    {
      "cell_type": "code",
      "metadata": {
        "scrolled": true,
        "id": "IJ5ok1YoaGqG",
        "outputId": "9e8e107b-dad4-4b85-a136-0d8c522729b8"
      },
      "source": [
        "# Train the linear regression & One-V-All classifier models on the train set\n",
        "clf = OneVAllClassifier(LinearRegression, lrn_rate=0.1, n_iter=1000)\n",
        "clf.fit(x_train, y_train)"
      ],
      "execution_count": null,
      "outputs": [
        {
          "output_type": "stream",
          "text": [
            "100%|█████████████████████████████████████████████████████████████████████████████| 1000/1000 [00:04<00:00, 226.80it/s]\n",
            "  2%|█▊                                                                             | 23/1000 [00:00<00:04, 226.09it/s]"
          ],
          "name": "stderr"
        },
        {
          "output_type": "stream",
          "text": [
            "Final MSE: 0.029025231683839293\n",
            "Model: [ 0.09551653 -0.03579025  0.47678124]\n",
            "agree\n"
          ],
          "name": "stdout"
        },
        {
          "output_type": "stream",
          "text": [
            "100%|█████████████████████████████████████████████████████████████████████████████| 1000/1000 [00:04<00:00, 222.85it/s]\n",
            "  6%|████▎                                                                          | 55/1000 [00:00<00:03, 269.36it/s]"
          ],
          "name": "stderr"
        },
        {
          "output_type": "stream",
          "text": [
            "Final MSE: 0.007678320040489881\n",
            "Model: [ 0.03600519 -0.0165486   0.093227  ]\n",
            "disagree\n"
          ],
          "name": "stdout"
        },
        {
          "output_type": "stream",
          "text": [
            "100%|█████████████████████████████████████████████████████████████████████████████| 1000/1000 [00:04<00:00, 238.68it/s]\n",
            "  5%|████                                                                           | 51/1000 [00:00<00:03, 253.28it/s]"
          ],
          "name": "stderr"
        },
        {
          "output_type": "stream",
          "text": [
            "Final MSE: 0.047234664818422305\n",
            "Model: [ 0.29648972 -0.12673286  1.11556414]\n",
            "discuss\n"
          ],
          "name": "stdout"
        },
        {
          "output_type": "stream",
          "text": [
            "100%|█████████████████████████████████████████████████████████████████████████████| 1000/1000 [00:03<00:00, 257.52it/s]"
          ],
          "name": "stderr"
        },
        {
          "output_type": "stream",
          "text": [
            "Final MSE: 0.052201947636044826\n",
            "Model: [ 0.57193125  0.41600865 -1.58666296]\n",
            "unrelated\n"
          ],
          "name": "stdout"
        },
        {
          "output_type": "stream",
          "text": [
            "\n"
          ],
          "name": "stderr"
        }
      ]
    },
    {
      "cell_type": "code",
      "metadata": {
        "id": "s0zqNcU_aGqH",
        "outputId": "e219c401-1961-4e8e-faae-3abb6f3ba570"
      },
      "source": [
        "# Predict y for validation set\n",
        "y_pred = clf.predict(x_val)\n",
        "print(y_pred[:5])\n",
        "predicted = np.array([int_to_label[i] for i in y_pred])\n",
        "print(predicted[:5])\n",
        "print(val_all[:, 2][:5])"
      ],
      "execution_count": null,
      "outputs": [
        {
          "output_type": "error",
          "ename": "NameError",
          "evalue": "name 'clf' is not defined",
          "traceback": [
            "\u001b[1;31m---------------------------------------------------------------------------\u001b[0m",
            "\u001b[1;31mNameError\u001b[0m                                 Traceback (most recent call last)",
            "\u001b[1;32m<ipython-input-18-e6581854e762>\u001b[0m in \u001b[0;36m<module>\u001b[1;34m\u001b[0m\n\u001b[0;32m      1\u001b[0m \u001b[1;31m# Predict y for validation set\u001b[0m\u001b[1;33m\u001b[0m\u001b[1;33m\u001b[0m\u001b[1;33m\u001b[0m\u001b[0m\n\u001b[1;32m----> 2\u001b[1;33m \u001b[0my_pred\u001b[0m \u001b[1;33m=\u001b[0m \u001b[0mclf\u001b[0m\u001b[1;33m.\u001b[0m\u001b[0mpredict\u001b[0m\u001b[1;33m(\u001b[0m\u001b[0mx_val\u001b[0m\u001b[1;33m)\u001b[0m\u001b[1;33m\u001b[0m\u001b[1;33m\u001b[0m\u001b[0m\n\u001b[0m\u001b[0;32m      3\u001b[0m \u001b[0mprint\u001b[0m\u001b[1;33m(\u001b[0m\u001b[0my_pred\u001b[0m\u001b[1;33m[\u001b[0m\u001b[1;33m:\u001b[0m\u001b[1;36m5\u001b[0m\u001b[1;33m]\u001b[0m\u001b[1;33m)\u001b[0m\u001b[1;33m\u001b[0m\u001b[1;33m\u001b[0m\u001b[0m\n\u001b[0;32m      4\u001b[0m \u001b[0mpredicted\u001b[0m \u001b[1;33m=\u001b[0m \u001b[0mnp\u001b[0m\u001b[1;33m.\u001b[0m\u001b[0marray\u001b[0m\u001b[1;33m(\u001b[0m\u001b[1;33m[\u001b[0m\u001b[0mint_to_label\u001b[0m\u001b[1;33m[\u001b[0m\u001b[0mi\u001b[0m\u001b[1;33m]\u001b[0m \u001b[1;32mfor\u001b[0m \u001b[0mi\u001b[0m \u001b[1;32min\u001b[0m \u001b[0my_pred\u001b[0m\u001b[1;33m]\u001b[0m\u001b[1;33m)\u001b[0m\u001b[1;33m\u001b[0m\u001b[1;33m\u001b[0m\u001b[0m\n\u001b[0;32m      5\u001b[0m \u001b[0mprint\u001b[0m\u001b[1;33m(\u001b[0m\u001b[0mpredicted\u001b[0m\u001b[1;33m[\u001b[0m\u001b[1;33m:\u001b[0m\u001b[1;36m5\u001b[0m\u001b[1;33m]\u001b[0m\u001b[1;33m)\u001b[0m\u001b[1;33m\u001b[0m\u001b[1;33m\u001b[0m\u001b[0m\n",
            "\u001b[1;31mNameError\u001b[0m: name 'clf' is not defined"
          ]
        }
      ]
    },
    {
      "cell_type": "code",
      "metadata": {
        "id": "v-cUJhQbaGqI"
      },
      "source": [
        "# Prepare validation dataset format for score_submission in scorer.py\n",
        "body_ids = [str(body_inverse_index[body]) for body in val_all[:, 1]]\n",
        "pred_for_cm = np.array([{'Headline': val_all[i, 0], 'Body ID': body_ids[i], 'Stance': predicted[i]} for i in range(len(val_all))])\n",
        "gold_for_cm = np.array([{'Headline': val_all[i, 0], 'Body ID': body_ids[i], 'Stance': val_all[i, 2]} for i in range(len(val_all))])"
      ],
      "execution_count": null,
      "outputs": []
    },
    {
      "cell_type": "code",
      "metadata": {
        "scrolled": true,
        "id": "JRhoc2b1aGqI",
        "outputId": "6f4009d4-9ab2-4732-d02a-d36d875c7d14"
      },
      "source": [
        "# Score using scorer.py (provided in https://github.com/FakeNewsChallenge/fnc-1) on VALIDATION set:\n",
        "test_score, cm = score_submission(gold_for_cm, pred_for_cm)\n",
        "null_score, max_score = score_defaults(gold_for_cm)\n",
        "print_confusion_matrix(cm)\n",
        "print(SCORE_REPORT.format(max_score, null_score, test_score))"
      ],
      "execution_count": null,
      "outputs": [
        {
          "output_type": "stream",
          "text": [
            "CONFUSION MATRIX:\n",
            "-------------------------------------------------------------\n",
            "|           |   agree   | disagree  |  discuss  | unrelated |\n",
            "-------------------------------------------------------------\n",
            "|   agree   |     0     |     0     |    30     |     7     |\n",
            "-------------------------------------------------------------\n",
            "| disagree  |     0     |     0     |     4     |     5     |\n",
            "-------------------------------------------------------------\n",
            "|  discuss  |     0     |     0     |    70     |    20     |\n",
            "-------------------------------------------------------------\n",
            "| unrelated |     0     |     0     |     6     |    360    |\n",
            "-------------------------------------------------------------\n",
            "ACCURACY: 0.857\n",
            "\n",
            "MAX  - the best possible score (100% accuracy)\n",
            "NULL - score as if all predicted stances were unrelated\n",
            "TEST - score based on the provided predictions\n",
            "\n",
            "||    MAX    ||    NULL   ||    TEST   ||\n",
            "||   227.5   ||   91.5    ||   168.5   ||\n",
            "\n"
          ],
          "name": "stdout"
        }
      ]
    },
    {
      "cell_type": "code",
      "metadata": {
        "id": "j6dUxK_6aGqJ",
        "outputId": "457d1c5f-9701-4e18-9b58-d773cb4385ee"
      },
      "source": [
        "# Predict y for validation set using logistic regression instead of linear regression, and compare results of scorer.py\n",
        "clf_logistic = OneVAllClassifier(LogisticRegression, lrn_rate=0.1, n_iter=1000)\n",
        "clf_logistic.fit(x_train, y_train)\n",
        "\n",
        "y_pred = clf_logistic.predict(x_val)\n",
        "predicted = np.array([int_to_label[i] for i in y_pred])\n",
        "\n",
        "body_ids = [str(body_inverse_index[body]) for body in val_all[:, 1]]\n",
        "pred_for_cm = np.array([{'Headline': val_all[i, 0], 'Body ID': body_ids[i], 'Stance': predicted[i]} for i in range(len(val_all))])\n",
        "gold_for_cm = np.array([{'Headline': val_all[i, 0], 'Body ID': body_ids[i], 'Stance': val_all[i, 2]} for i in range(len(val_all))])\n",
        "\n",
        "test_score, cm = score_submission(gold_for_cm, pred_for_cm)\n",
        "null_score, max_score = score_defaults(gold_for_cm)\n",
        "print()\n",
        "print_confusion_matrix(cm)\n",
        "print(SCORE_REPORT.format(max_score, null_score, test_score))\n",
        "# linear regression performs better, so that model is chosen for the test set"
      ],
      "execution_count": null,
      "outputs": [
        {
          "output_type": "stream",
          "text": [
            "100%|█████████████████████████████████████████████████████████████████████████████| 1000/1000 [00:04<00:00, 217.55it/s]\n",
            "  5%|████▎                                                                          | 54/1000 [00:00<00:03, 271.79it/s]"
          ],
          "name": "stderr"
        },
        {
          "output_type": "stream",
          "text": [
            "Final loss: 0.2500813657175405\n",
            "Model: [-0.72436045 -1.99140168  0.75132424]\n",
            "agree\n"
          ],
          "name": "stdout"
        },
        {
          "output_type": "stream",
          "text": [
            "100%|█████████████████████████████████████████████████████████████████████████████| 1000/1000 [00:04<00:00, 246.42it/s]\n",
            "  6%|████▍                                                                          | 56/1000 [00:00<00:03, 270.97it/s]"
          ],
          "name": "stderr"
        },
        {
          "output_type": "stream",
          "text": [
            "Final loss: 0.07455027920977261\n",
            "Model: [-1.77378594 -2.92872592 -0.16038989]\n",
            "disagree\n"
          ],
          "name": "stdout"
        },
        {
          "output_type": "stream",
          "text": [
            "100%|█████████████████████████████████████████████████████████████████████████████| 1000/1000 [00:03<00:00, 261.59it/s]\n",
            "  2%|█▏                                                                             | 15/1000 [00:00<00:06, 141.89it/s]"
          ],
          "name": "stderr"
        },
        {
          "output_type": "stream",
          "text": [
            "Final loss: 0.3328454889108511\n",
            "Model: [ 0.74406215 -2.27140776  2.18769065]\n",
            "discuss\n"
          ],
          "name": "stdout"
        },
        {
          "output_type": "stream",
          "text": [
            "100%|█████████████████████████████████████████████████████████████████████████████| 1000/1000 [00:04<00:00, 238.34it/s]"
          ],
          "name": "stderr"
        },
        {
          "output_type": "stream",
          "text": [
            "Final loss: 0.33204125814704716\n",
            "Model: [-1.63168023  2.41203715 -3.26364398]\n",
            "unrelated\n",
            "\n",
            "CONFUSION MATRIX:\n",
            "-------------------------------------------------------------\n",
            "|           |   agree   | disagree  |  discuss  | unrelated |\n",
            "-------------------------------------------------------------\n",
            "|   agree   |     0     |     0     |    20     |    17     |\n",
            "-------------------------------------------------------------\n",
            "| disagree  |     0     |     0     |     2     |     7     |\n",
            "-------------------------------------------------------------\n",
            "|  discuss  |     0     |     0     |    45     |    45     |\n",
            "-------------------------------------------------------------\n",
            "| unrelated |     0     |     0     |     9     |    357    |\n",
            "-------------------------------------------------------------\n",
            "ACCURACY: 0.801\n",
            "\n",
            "MAX  - the best possible score (100% accuracy)\n",
            "NULL - score as if all predicted stances were unrelated\n",
            "TEST - score based on the provided predictions\n",
            "\n",
            "||    MAX    ||    NULL   ||    TEST   ||\n",
            "||   227.5   ||   91.5    ||  139.75   ||\n",
            "\n"
          ],
          "name": "stdout"
        },
        {
          "output_type": "stream",
          "text": [
            "\n"
          ],
          "name": "stderr"
        }
      ]
    },
    {
      "cell_type": "markdown",
      "metadata": {
        "id": "OYc492DxfJLm"
      },
      "source": [
        "**Test the model on FNC-1 test dataset**"
      ]
    },
    {
      "cell_type": "code",
      "metadata": {
        "id": "VooBaaoEaGqK"
      },
      "source": [
        "DATASET_PATH = os.path.join(os.getcwd(),\"C:\\\\Users\\\\Shreyansh\\\\Abhinav\\data\",\"\")\n",
        "\n",
        "competition_test_bodies = pd.read_csv(DATASET_PATH+\"competition_test_bodies.csv\",encoding='ISO-8859-1')"
      ],
      "execution_count": null,
      "outputs": []
    },
    {
      "cell_type": "code",
      "metadata": {
        "id": "-rwxA220aGqK",
        "outputId": "cebdec2b-52cb-447a-faf0-ef2d99adba2f"
      },
      "source": [
        "competition_test_bodies.shape"
      ],
      "execution_count": null,
      "outputs": [
        {
          "output_type": "execute_result",
          "data": {
            "text/plain": [
              "(904, 2)"
            ]
          },
          "metadata": {
            "tags": []
          },
          "execution_count": 53
        }
      ]
    },
    {
      "cell_type": "code",
      "metadata": {
        "id": "YQUgWc7XaGqL"
      },
      "source": [
        "competition_test_stances = pd.read_csv(DATASET_PATH+\"competition_test_stances.csv\",encoding='ISO-8859-1')"
      ],
      "execution_count": null,
      "outputs": []
    },
    {
      "cell_type": "code",
      "metadata": {
        "scrolled": true,
        "id": "Jc0lvuqNaGqL",
        "outputId": "31df796c-cc60-454c-a543-66622a7050f5"
      },
      "source": [
        "competition_test_bodies.shape"
      ],
      "execution_count": null,
      "outputs": [
        {
          "output_type": "execute_result",
          "data": {
            "text/plain": [
              "(904, 2)"
            ]
          },
          "metadata": {
            "tags": []
          },
          "execution_count": 55
        }
      ]
    },
    {
      "cell_type": "code",
      "metadata": {
        "id": "yU4PcoU0aGqM"
      },
      "source": [
        "DATASET_PATH = os.path.join(os.getcwd(),\"C:\\\\Users\\\\Shreyansh\\\\Abhinav\\data\",\"\")\n",
        "\n",
        "competition_test_bodies = pd.read_csv(DATASET_PATH+\"competition_test_bodies.csv\",encoding='ISO-8859-1')\n",
        "competition_test_stances = pd.read_csv(DATASET_PATH+\"competition_test_stances.csv\",encoding='ISO-8859-1')"
      ],
      "execution_count": null,
      "outputs": []
    },
    {
      "cell_type": "code",
      "metadata": {
        "id": "QnEcgRd4aGqN",
        "outputId": "d2e41ae8-700c-4a07-d568-e6144a4d4069"
      },
      "source": [
        "competition_test_bodies.head()"
      ],
      "execution_count": null,
      "outputs": [
        {
          "output_type": "execute_result",
          "data": {
            "text/html": [
              "<div>\n",
              "<style scoped>\n",
              "    .dataframe tbody tr th:only-of-type {\n",
              "        vertical-align: middle;\n",
              "    }\n",
              "\n",
              "    .dataframe tbody tr th {\n",
              "        vertical-align: top;\n",
              "    }\n",
              "\n",
              "    .dataframe thead th {\n",
              "        text-align: right;\n",
              "    }\n",
              "</style>\n",
              "<table border=\"1\" class=\"dataframe\">\n",
              "  <thead>\n",
              "    <tr style=\"text-align: right;\">\n",
              "      <th></th>\n",
              "      <th>Body ID</th>\n",
              "      <th>articleBody</th>\n",
              "    </tr>\n",
              "  </thead>\n",
              "  <tbody>\n",
              "    <tr>\n",
              "      <th>0</th>\n",
              "      <td>1</td>\n",
              "      <td>Al-Sisi has denied Israeli reports stating tha...</td>\n",
              "    </tr>\n",
              "    <tr>\n",
              "      <th>1</th>\n",
              "      <td>2</td>\n",
              "      <td>A bereaved Afghan mother took revenge on the T...</td>\n",
              "    </tr>\n",
              "    <tr>\n",
              "      <th>2</th>\n",
              "      <td>3</td>\n",
              "      <td>CNBC is reporting Tesla has chosen Nevada as t...</td>\n",
              "    </tr>\n",
              "    <tr>\n",
              "      <th>3</th>\n",
              "      <td>12</td>\n",
              "      <td>A 4-inch version of the iPhone 6 is said to be...</td>\n",
              "    </tr>\n",
              "    <tr>\n",
              "      <th>4</th>\n",
              "      <td>19</td>\n",
              "      <td>GR editors Note\\n\\nThere are no reports in th...</td>\n",
              "    </tr>\n",
              "  </tbody>\n",
              "</table>\n",
              "</div>"
            ],
            "text/plain": [
              "   Body ID                                        articleBody\n",
              "0        1  Al-Sisi has denied Israeli reports stating tha...\n",
              "1        2  A bereaved Afghan mother took revenge on the T...\n",
              "2        3  CNBC is reporting Tesla has chosen Nevada as t...\n",
              "3       12  A 4-inch version of the iPhone 6 is said to be...\n",
              "4       19  GR editors Note\\n\\nThere are no reports in th..."
            ]
          },
          "metadata": {
            "tags": []
          },
          "execution_count": 65
        }
      ]
    },
    {
      "cell_type": "code",
      "metadata": {
        "scrolled": true,
        "id": "xaiQ07axaGqN",
        "outputId": "4e723bb4-0ffb-493b-c479-504fd511d572"
      },
      "source": [
        "competition_test_stances.head()"
      ],
      "execution_count": null,
      "outputs": [
        {
          "output_type": "execute_result",
          "data": {
            "text/html": [
              "<div>\n",
              "<style scoped>\n",
              "    .dataframe tbody tr th:only-of-type {\n",
              "        vertical-align: middle;\n",
              "    }\n",
              "\n",
              "    .dataframe tbody tr th {\n",
              "        vertical-align: top;\n",
              "    }\n",
              "\n",
              "    .dataframe thead th {\n",
              "        text-align: right;\n",
              "    }\n",
              "</style>\n",
              "<table border=\"1\" class=\"dataframe\">\n",
              "  <thead>\n",
              "    <tr style=\"text-align: right;\">\n",
              "      <th></th>\n",
              "      <th>Headline</th>\n",
              "      <th>Body ID</th>\n",
              "      <th>Stance</th>\n",
              "    </tr>\n",
              "  </thead>\n",
              "  <tbody>\n",
              "    <tr>\n",
              "      <th>0</th>\n",
              "      <td>Ferguson riots: Pregnant woman loses eye after...</td>\n",
              "      <td>2008</td>\n",
              "      <td>unrelated</td>\n",
              "    </tr>\n",
              "    <tr>\n",
              "      <th>1</th>\n",
              "      <td>Crazy Conservatives Are Sure a Gitmo Detainee ...</td>\n",
              "      <td>1550</td>\n",
              "      <td>unrelated</td>\n",
              "    </tr>\n",
              "    <tr>\n",
              "      <th>2</th>\n",
              "      <td>A Russian Guy Says His Justin Bieber Ringtone ...</td>\n",
              "      <td>2</td>\n",
              "      <td>unrelated</td>\n",
              "    </tr>\n",
              "    <tr>\n",
              "      <th>3</th>\n",
              "      <td>Zombie Cat: Buried Kitty Believed Dead, Meows ...</td>\n",
              "      <td>1793</td>\n",
              "      <td>unrelated</td>\n",
              "    </tr>\n",
              "    <tr>\n",
              "      <th>4</th>\n",
              "      <td>Argentina's President Adopts Boy to End Werewo...</td>\n",
              "      <td>37</td>\n",
              "      <td>unrelated</td>\n",
              "    </tr>\n",
              "  </tbody>\n",
              "</table>\n",
              "</div>"
            ],
            "text/plain": [
              "                                            Headline  Body ID     Stance\n",
              "0  Ferguson riots: Pregnant woman loses eye after...     2008  unrelated\n",
              "1  Crazy Conservatives Are Sure a Gitmo Detainee ...     1550  unrelated\n",
              "2  A Russian Guy Says His Justin Bieber Ringtone ...        2  unrelated\n",
              "3  Zombie Cat: Buried Kitty Believed Dead, Meows ...     1793  unrelated\n",
              "4  Argentina's President Adopts Boy to End Werewo...       37  unrelated"
            ]
          },
          "metadata": {
            "tags": []
          },
          "execution_count": 67
        }
      ]
    },
    {
      "cell_type": "code",
      "metadata": {
        "id": "slQLOIN4aGqO"
      },
      "source": [
        "Test_data_combined = pd.read_csv(DATASET_PATH+\"Test_data_combined.csv\",encoding='ISO-8859-1')"
      ],
      "execution_count": null,
      "outputs": []
    },
    {
      "cell_type": "code",
      "metadata": {
        "id": "ft_SDjWJaGqP",
        "outputId": "6183aa5f-fe40-40b6-fa40-2e6ff737f079"
      },
      "source": [
        "Test_data_combined.head()"
      ],
      "execution_count": null,
      "outputs": [
        {
          "output_type": "execute_result",
          "data": {
            "text/html": [
              "<div>\n",
              "<style scoped>\n",
              "    .dataframe tbody tr th:only-of-type {\n",
              "        vertical-align: middle;\n",
              "    }\n",
              "\n",
              "    .dataframe tbody tr th {\n",
              "        vertical-align: top;\n",
              "    }\n",
              "\n",
              "    .dataframe thead th {\n",
              "        text-align: right;\n",
              "    }\n",
              "</style>\n",
              "<table border=\"1\" class=\"dataframe\">\n",
              "  <thead>\n",
              "    <tr style=\"text-align: right;\">\n",
              "      <th></th>\n",
              "      <th>Headline</th>\n",
              "      <th>Body ID</th>\n",
              "      <th>articleBody</th>\n",
              "      <th>jaccard_similarity</th>\n",
              "      <th>Headline_Nouns</th>\n",
              "      <th>articleBody_Nouns</th>\n",
              "      <th>jaccard_similarity_nouns</th>\n",
              "      <th>Headline_POS</th>\n",
              "      <th>articleBody_POS</th>\n",
              "    </tr>\n",
              "  </thead>\n",
              "  <tbody>\n",
              "    <tr>\n",
              "      <th>0</th>\n",
              "      <td>ferguson riots pregnant woman loses eye cops f...</td>\n",
              "      <td>2008</td>\n",
              "      <td>respected senior french police officer investi...</td>\n",
              "      <td>0.000000</td>\n",
              "      <td>cops eye car riots bag woman window round</td>\n",
              "      <td>limoges office commissioners town supermarket ...</td>\n",
              "      <td>0.000000</td>\n",
              "      <td>bean cops fire eye pregnant car riots bag ferg...</td>\n",
              "      <td>limoges like particular supermarket mirror pai...</td>\n",
              "    </tr>\n",
              "    <tr>\n",
              "      <th>1</th>\n",
              "      <td>crazy conservatives sure gitmo detainee killed...</td>\n",
              "      <td>1550</td>\n",
              "      <td>dave morin social networking company path repo...</td>\n",
              "      <td>0.000000</td>\n",
              "      <td>james conservatives detainee</td>\n",
              "      <td>email path ceo aims techcrunch newsletter pric...</td>\n",
              "      <td>0.000000</td>\n",
              "      <td>conservatives crazy foley james sure detainee ...</td>\n",
              "      <td>email newsletter acquisition incorporated acco...</td>\n",
              "    </tr>\n",
              "    <tr>\n",
              "      <th>2</th>\n",
              "      <td>russian guy says justin bieber ringtone saved ...</td>\n",
              "      <td>2</td>\n",
              "      <td>bereaved afghan mother took revenge taliban wa...</td>\n",
              "      <td>13.157895</td>\n",
              "      <td>bieber guy justin ringtone attack</td>\n",
              "      <td>gains weapon daughterinlaw hamid taliban week ...</td>\n",
              "      <td>29.850746</td>\n",
              "      <td>attack says saved bieber bear guy russian just...</td>\n",
              "      <td>particular using tuesday check daughter broadc...</td>\n",
              "    </tr>\n",
              "    <tr>\n",
              "      <th>3</th>\n",
              "      <td>zombie cat buried kitty believed dead meows ba...</td>\n",
              "      <td>1793</td>\n",
              "      <td>hewlettpackard officially splitting two follow...</td>\n",
              "      <td>0.000000</td>\n",
              "      <td>life cat zombie meows</td>\n",
              "      <td>position part experiences leo acquisition part...</td>\n",
              "      <td>0.000000</td>\n",
              "      <td>buried life zombie dead meows believed cat kitty</td>\n",
              "      <td>position laptop appointed part particular expe...</td>\n",
              "    </tr>\n",
              "    <tr>\n",
              "      <th>4</th>\n",
              "      <td>argentina president adopts boy end werewolf curse</td>\n",
              "      <td>37</td>\n",
              "      <td>airline passenger headed dallas removed plane ...</td>\n",
              "      <td>0.000000</td>\n",
              "      <td>president adopts werewolf curse</td>\n",
              "      <td>workers plane everyone board airline attendant...</td>\n",
              "      <td>0.000000</td>\n",
              "      <td>president end adopts curse argentina boy werewolf</td>\n",
              "      <td>began workers celebrates plane everyone board ...</td>\n",
              "    </tr>\n",
              "  </tbody>\n",
              "</table>\n",
              "</div>"
            ],
            "text/plain": [
              "                                            Headline  Body ID  \\\n",
              "0  ferguson riots pregnant woman loses eye cops f...     2008   \n",
              "1  crazy conservatives sure gitmo detainee killed...     1550   \n",
              "2  russian guy says justin bieber ringtone saved ...        2   \n",
              "3  zombie cat buried kitty believed dead meows ba...     1793   \n",
              "4  argentina president adopts boy end werewolf curse       37   \n",
              "\n",
              "                                         articleBody  jaccard_similarity  \\\n",
              "0  respected senior french police officer investi...            0.000000   \n",
              "1  dave morin social networking company path repo...            0.000000   \n",
              "2  bereaved afghan mother took revenge taliban wa...           13.157895   \n",
              "3  hewlettpackard officially splitting two follow...            0.000000   \n",
              "4  airline passenger headed dallas removed plane ...            0.000000   \n",
              "\n",
              "                              Headline_Nouns  \\\n",
              "0  cops eye car riots bag woman window round   \n",
              "1               james conservatives detainee   \n",
              "2          bieber guy justin ringtone attack   \n",
              "3                      life cat zombie meows   \n",
              "4            president adopts werewolf curse   \n",
              "\n",
              "                                   articleBody_Nouns  \\\n",
              "0  limoges office commissioners town supermarket ...   \n",
              "1  email path ceo aims techcrunch newsletter pric...   \n",
              "2  gains weapon daughterinlaw hamid taliban week ...   \n",
              "3  position part experiences leo acquisition part...   \n",
              "4  workers plane everyone board airline attendant...   \n",
              "\n",
              "   jaccard_similarity_nouns  \\\n",
              "0                  0.000000   \n",
              "1                  0.000000   \n",
              "2                 29.850746   \n",
              "3                  0.000000   \n",
              "4                  0.000000   \n",
              "\n",
              "                                        Headline_POS  \\\n",
              "0  bean cops fire eye pregnant car riots bag ferg...   \n",
              "1  conservatives crazy foley james sure detainee ...   \n",
              "2  attack says saved bieber bear guy russian just...   \n",
              "3   buried life zombie dead meows believed cat kitty   \n",
              "4  president end adopts curse argentina boy werewolf   \n",
              "\n",
              "                                     articleBody_POS  \n",
              "0  limoges like particular supermarket mirror pai...  \n",
              "1  email newsletter acquisition incorporated acco...  \n",
              "2  particular using tuesday check daughter broadc...  \n",
              "3  position laptop appointed part particular expe...  \n",
              "4  began workers celebrates plane everyone board ...  "
            ]
          },
          "metadata": {
            "tags": []
          },
          "execution_count": 69
        }
      ]
    },
    {
      "cell_type": "code",
      "metadata": {
        "id": "C0-2wBn0aGqQ",
        "outputId": "c21b7b27-bb78-413d-ba8f-85eba921a4f9"
      },
      "source": [
        "test_bodies_my_data = Test_data_combined[[\"Body ID\",\"articleBody_POS\"]]\n",
        "test_bodies_my_data.rename(columns = {'articleBody_POS': 'articleBody'}, inplace = True)"
      ],
      "execution_count": null,
      "outputs": [
        {
          "output_type": "stream",
          "text": [
            "C:\\ProgramData\\Anaconda3\\lib\\site-packages\\pandas\\core\\frame.py:4133: SettingWithCopyWarning: \n",
            "A value is trying to be set on a copy of a slice from a DataFrame\n",
            "\n",
            "See the caveats in the documentation: https://pandas.pydata.org/pandas-docs/stable/user_guide/indexing.html#returning-a-view-versus-a-copy\n",
            "  errors=errors,\n"
          ],
          "name": "stderr"
        }
      ]
    },
    {
      "cell_type": "code",
      "metadata": {
        "id": "OSBDjFLoaGqQ",
        "outputId": "4919487d-41bc-460f-cae0-32b8ac39ff4a"
      },
      "source": [
        "test_headline_my_data = Test_data_combined[[\"Headline_POS\",\"Body ID\"]]\n",
        "test_headline_my_data.rename(columns = {'Headline_POS': 'Headline'}, inplace = True)"
      ],
      "execution_count": null,
      "outputs": [
        {
          "output_type": "stream",
          "text": [
            "C:\\ProgramData\\Anaconda3\\lib\\site-packages\\pandas\\core\\frame.py:4133: SettingWithCopyWarning: \n",
            "A value is trying to be set on a copy of a slice from a DataFrame\n",
            "\n",
            "See the caveats in the documentation: https://pandas.pydata.org/pandas-docs/stable/user_guide/indexing.html#returning-a-view-versus-a-copy\n",
            "  errors=errors,\n"
          ],
          "name": "stderr"
        }
      ]
    },
    {
      "cell_type": "code",
      "metadata": {
        "id": "mRCOVjrqaGqR",
        "outputId": "4075bc79-1c55-4261-a0ec-204452bd6c62"
      },
      "source": [
        "test_headline_my_data[\"Stance\"] = competition_test_stances[\"Stance\"]\n"
      ],
      "execution_count": null,
      "outputs": [
        {
          "output_type": "stream",
          "text": [
            "C:\\ProgramData\\Anaconda3\\lib\\site-packages\\ipykernel_launcher.py:1: SettingWithCopyWarning: \n",
            "A value is trying to be set on a copy of a slice from a DataFrame.\n",
            "Try using .loc[row_indexer,col_indexer] = value instead\n",
            "\n",
            "See the caveats in the documentation: https://pandas.pydata.org/pandas-docs/stable/user_guide/indexing.html#returning-a-view-versus-a-copy\n",
            "  \"\"\"Entry point for launching an IPython kernel.\n"
          ],
          "name": "stderr"
        }
      ]
    },
    {
      "cell_type": "code",
      "metadata": {
        "id": "aGeYfhsHaGqS",
        "outputId": "1239b318-70f7-4a43-dcf3-ae8bccafe2ce"
      },
      "source": [
        "test_headline_my_data.head()"
      ],
      "execution_count": null,
      "outputs": [
        {
          "output_type": "execute_result",
          "data": {
            "text/html": [
              "<div>\n",
              "<style scoped>\n",
              "    .dataframe tbody tr th:only-of-type {\n",
              "        vertical-align: middle;\n",
              "    }\n",
              "\n",
              "    .dataframe tbody tr th {\n",
              "        vertical-align: top;\n",
              "    }\n",
              "\n",
              "    .dataframe thead th {\n",
              "        text-align: right;\n",
              "    }\n",
              "</style>\n",
              "<table border=\"1\" class=\"dataframe\">\n",
              "  <thead>\n",
              "    <tr style=\"text-align: right;\">\n",
              "      <th></th>\n",
              "      <th>Headline</th>\n",
              "      <th>Body ID</th>\n",
              "      <th>Stance</th>\n",
              "    </tr>\n",
              "  </thead>\n",
              "  <tbody>\n",
              "    <tr>\n",
              "      <th>0</th>\n",
              "      <td>bean cops fire eye pregnant car riots bag ferg...</td>\n",
              "      <td>2008</td>\n",
              "      <td>unrelated</td>\n",
              "    </tr>\n",
              "    <tr>\n",
              "      <th>1</th>\n",
              "      <td>conservatives crazy foley james sure detainee ...</td>\n",
              "      <td>1550</td>\n",
              "      <td>unrelated</td>\n",
              "    </tr>\n",
              "    <tr>\n",
              "      <th>2</th>\n",
              "      <td>attack says saved bieber bear guy russian just...</td>\n",
              "      <td>2</td>\n",
              "      <td>unrelated</td>\n",
              "    </tr>\n",
              "    <tr>\n",
              "      <th>3</th>\n",
              "      <td>buried life zombie dead meows believed cat kitty</td>\n",
              "      <td>1793</td>\n",
              "      <td>unrelated</td>\n",
              "    </tr>\n",
              "    <tr>\n",
              "      <th>4</th>\n",
              "      <td>president end adopts curse argentina boy werewolf</td>\n",
              "      <td>37</td>\n",
              "      <td>unrelated</td>\n",
              "    </tr>\n",
              "  </tbody>\n",
              "</table>\n",
              "</div>"
            ],
            "text/plain": [
              "                                            Headline  Body ID     Stance\n",
              "0  bean cops fire eye pregnant car riots bag ferg...     2008  unrelated\n",
              "1  conservatives crazy foley james sure detainee ...     1550  unrelated\n",
              "2  attack says saved bieber bear guy russian just...        2  unrelated\n",
              "3   buried life zombie dead meows believed cat kitty     1793  unrelated\n",
              "4  president end adopts curse argentina boy werewolf       37  unrelated"
            ]
          },
          "metadata": {
            "tags": []
          },
          "execution_count": 79
        }
      ]
    },
    {
      "cell_type": "code",
      "metadata": {
        "id": "4CmC6MoDaGqS"
      },
      "source": [
        "test_headline_my_data.to_csv('test_headline_my_data.csv')\n",
        "test_bodies_my_data.to_csv('test_bodies_my_data.csv')\n"
      ],
      "execution_count": null,
      "outputs": []
    },
    {
      "cell_type": "code",
      "metadata": {
        "scrolled": true,
        "id": "iGeFgYVNaGqT",
        "outputId": "422eb812-6e95-4e0b-df0d-5fbfcbf541d4"
      },
      "source": [
        "test_headline_my_data.head()"
      ],
      "execution_count": null,
      "outputs": [
        {
          "output_type": "execute_result",
          "data": {
            "text/html": [
              "<div>\n",
              "<style scoped>\n",
              "    .dataframe tbody tr th:only-of-type {\n",
              "        vertical-align: middle;\n",
              "    }\n",
              "\n",
              "    .dataframe tbody tr th {\n",
              "        vertical-align: top;\n",
              "    }\n",
              "\n",
              "    .dataframe thead th {\n",
              "        text-align: right;\n",
              "    }\n",
              "</style>\n",
              "<table border=\"1\" class=\"dataframe\">\n",
              "  <thead>\n",
              "    <tr style=\"text-align: right;\">\n",
              "      <th></th>\n",
              "      <th>Headline</th>\n",
              "      <th>Body ID</th>\n",
              "      <th>Stance</th>\n",
              "    </tr>\n",
              "  </thead>\n",
              "  <tbody>\n",
              "    <tr>\n",
              "      <th>0</th>\n",
              "      <td>bean cops fire eye pregnant car riots bag ferg...</td>\n",
              "      <td>2008</td>\n",
              "      <td>unrelated</td>\n",
              "    </tr>\n",
              "    <tr>\n",
              "      <th>1</th>\n",
              "      <td>conservatives crazy foley james sure detainee ...</td>\n",
              "      <td>1550</td>\n",
              "      <td>unrelated</td>\n",
              "    </tr>\n",
              "    <tr>\n",
              "      <th>2</th>\n",
              "      <td>attack says saved bieber bear guy russian just...</td>\n",
              "      <td>2</td>\n",
              "      <td>unrelated</td>\n",
              "    </tr>\n",
              "    <tr>\n",
              "      <th>3</th>\n",
              "      <td>buried life zombie dead meows believed cat kitty</td>\n",
              "      <td>1793</td>\n",
              "      <td>unrelated</td>\n",
              "    </tr>\n",
              "    <tr>\n",
              "      <th>4</th>\n",
              "      <td>president end adopts curse argentina boy werewolf</td>\n",
              "      <td>37</td>\n",
              "      <td>unrelated</td>\n",
              "    </tr>\n",
              "  </tbody>\n",
              "</table>\n",
              "</div>"
            ],
            "text/plain": [
              "                                            Headline  Body ID     Stance\n",
              "0  bean cops fire eye pregnant car riots bag ferg...     2008  unrelated\n",
              "1  conservatives crazy foley james sure detainee ...     1550  unrelated\n",
              "2  attack says saved bieber bear guy russian just...        2  unrelated\n",
              "3   buried life zombie dead meows believed cat kitty     1793  unrelated\n",
              "4  president end adopts curse argentina boy werewolf       37  unrelated"
            ]
          },
          "metadata": {
            "tags": []
          },
          "execution_count": 81
        }
      ]
    },
    {
      "cell_type": "code",
      "metadata": {
        "scrolled": true,
        "id": "GBmc3ab6aGqU"
      },
      "source": [
        "# Load test data from CSV\n",
        "f_tbodies = open('data/test_bodies_my_data.csv', 'r', encoding='ISO-8859-1')\n",
        "csv_tbodies = csv.DictReader(f_tbodies)\n",
        "tbodies = []\n",
        "for row in csv_tbodies:\n",
        "    body_id = int(row['Body ID'])\n",
        "    if (body_id + 1) > len(tbodies):\n",
        "        tbodies += [None] * (body_id + 1 - len(tbodies))\n",
        "    tbodies[body_id] = row['articleBody']\n",
        "f_tbodies.close()\n",
        "tbody_inverse_index = {tbodies[i]: i for i in range(len(tbodies))}\n",
        "\n",
        "test_all = []  # each article = (headline, body, stance)\n",
        "\n",
        "f_tstances = open('data/test_headline_my_data.csv', 'r', encoding='ISO-8859-1')\n",
        "csv_tstances = csv.DictReader(f_tstances)\n",
        "for row in csv_tstances:\n",
        "    body = tbodies[int(row['Body ID'])]\n",
        "    test_all.append((row['Headline'], body, row['Stance']))\n",
        "f_tstances.close()\n",
        "\n",
        "#test_all = np.array(test_all)  # for some reason gives MemoryError\n",
        "#print(test_all.shape)"
      ],
      "execution_count": null,
      "outputs": []
    },
    {
      "cell_type": "code",
      "metadata": {
        "scrolled": true,
        "id": "ACky2olBaGqV",
        "outputId": "f3f8a16d-5f2e-4fdc-91f7-622e67c22e91"
      },
      "source": [
        "# Initialise x (feature vectors) and y for test dataset\n",
        "x_test = np.array([to_feature_array(doc) for doc in tqdm(test_all)])\n",
        "print(x_test[:5])"
      ],
      "execution_count": null,
      "outputs": [
        {
          "output_type": "stream",
          "text": [
            "100%|███████████████████████████████████████████████████████████████████████████| 25413/25413 [03:17<00:00, 128.58it/s]"
          ],
          "name": "stderr"
        },
        {
          "output_type": "stream",
          "text": [
            "[[0.82238215 1.77919325 0.        ]\n",
            " [0.59040958 1.58384738 0.        ]\n",
            " [0.71089599 1.43037371 0.        ]\n",
            " [0.60790418 1.03524844 0.        ]\n",
            " [0.74988613 2.02504285 0.        ]]\n"
          ],
          "name": "stdout"
        },
        {
          "output_type": "stream",
          "text": [
            "\n"
          ],
          "name": "stderr"
        }
      ]
    },
    {
      "cell_type": "code",
      "metadata": {
        "id": "hZ_nuEROaGqV",
        "outputId": "c256eb64-3a99-47cc-e1f3-a0107612cfc3"
      },
      "source": [
        "# Predict y for test set\n",
        "y_test = clf.predict(x_test)\n",
        "print(y_pred[:5])\n",
        "pred_test = np.array([int_to_label[i] for i in y_test])\n",
        "print(pred_test[:5])"
      ],
      "execution_count": null,
      "outputs": [
        {
          "output_type": "stream",
          "text": [
            "[3 2 3 2 2]\n",
            "['unrelated' 'unrelated' 'unrelated' 'unrelated' 'unrelated']\n"
          ],
          "name": "stdout"
        }
      ]
    },
    {
      "cell_type": "code",
      "metadata": {
        "id": "dgNORkn7aGqW"
      },
      "source": [
        "# Prepare test dataset format for score_submission in scorer.py\n",
        "test_body_ids = [str(tbody_inverse_index[test_all[i][1]]) for i in range(len(test_all))]\n",
        "test_pred_for_cm = np.array([{'Headline': test_all[i][0], 'Body ID': test_body_ids[i], 'Stance': pred_test[i]} for i in range(len(test_all))])\n",
        "test_gold_for_cm = np.array([{'Headline': test_all[i][0], 'Body ID': test_body_ids[i], 'Stance': test_all[i][2]} for i in range(len(test_all))])"
      ],
      "execution_count": null,
      "outputs": []
    },
    {
      "cell_type": "code",
      "metadata": {
        "id": "05mXSE-faGqW",
        "outputId": "a400dc17-9065-4db4-9720-1daf421ed371"
      },
      "source": [
        "# Score using scorer.py (provided in https://github.com/FakeNewsChallenge/fnc-1) on TEST set:\n",
        "test_score, cm = score_submission(test_gold_for_cm, test_pred_for_cm)\n",
        "null_score, max_score = score_defaults(test_gold_for_cm)\n",
        "print_confusion_matrix(cm)\n",
        "print(SCORE_REPORT.format(max_score, null_score, test_score))"
      ],
      "execution_count": null,
      "outputs": [
        {
          "output_type": "stream",
          "text": [
            "CONFUSION MATRIX:\n",
            "-------------------------------------------------------------\n",
            "|           |   agree   | disagree  |  discuss  | unrelated |\n",
            "-------------------------------------------------------------\n",
            "|   agree   |     0     |     0     |   1442    |    461    |\n",
            "-------------------------------------------------------------\n",
            "| disagree  |     0     |     0     |    433    |    264    |\n",
            "-------------------------------------------------------------\n",
            "|  discuss  |     5     |     0     |   3355    |   1104    |\n",
            "-------------------------------------------------------------\n",
            "| unrelated |     6     |     0     |    231    |   18112   |\n",
            "-------------------------------------------------------------\n",
            "ACCURACY: 0.845\n",
            "\n",
            "MAX  - the best possible score (100% accuracy)\n",
            "NULL - score as if all predicted stances were unrelated\n",
            "TEST - score based on the provided predictions\n",
            "\n",
            "||    MAX    ||    NULL   ||    TEST   ||\n",
            "|| 11651.25  ||  4587.25  ||  8353.0   ||\n",
            "\n"
          ],
          "name": "stdout"
        }
      ]
    },
    {
      "cell_type": "markdown",
      "metadata": {
        "id": "wB38UmsyaGqX"
      },
      "source": [
        "## Comparison Models"
      ]
    },
    {
      "cell_type": "code",
      "metadata": {
        "id": "WgCba5k2aGqY",
        "outputId": "4cea9f77-d48b-4167-e41f-29f24069657d"
      },
      "source": [
        "!pip install xgboost"
      ],
      "execution_count": null,
      "outputs": [
        {
          "output_type": "stream",
          "text": [
            "Requirement already satisfied: xgboost in c:\\programdata\\anaconda3\\lib\\site-packages (1.3.3)\n",
            "Requirement already satisfied: scipy in c:\\programdata\\anaconda3\\lib\\site-packages (from xgboost) (1.4.1)\n",
            "Requirement already satisfied: numpy in c:\\programdata\\anaconda3\\lib\\site-packages (from xgboost) (1.19.5)\n"
          ],
          "name": "stdout"
        }
      ]
    },
    {
      "cell_type": "code",
      "metadata": {
        "id": "FcT-aZo6aGqZ"
      },
      "source": [
        "from sklearn.linear_model import LogisticRegression\n",
        "from sklearn.neighbors import KNeighborsClassifier\n",
        "from sklearn.svm import SVC\n",
        "from sklearn.naive_bayes import MultinomialNB\n",
        "from sklearn.linear_model import SGDClassifier   \n",
        "from sklearn.discriminant_analysis import QuadraticDiscriminantAnalysis\n",
        "from sklearn.ensemble import RandomForestClassifier, AdaBoostClassifier\n",
        "import xgboost\n",
        "from sklearn.discriminant_analysis import LinearDiscriminantAnalysis\n",
        "from sklearn.naive_bayes import GaussianNB\n",
        "from sklearn.tree import DecisionTreeClassifier\n",
        "from sklearn.semi_supervised import LabelPropagation\n",
        "\n",
        "classifiers=[\n",
        "    \n",
        "    (LogisticRegression(penalty='l1', dual=False, tol=0.0001, C=100.0, fit_intercept=True,\n",
        "    intercept_scaling=10, class_weight=None, random_state=None, solver='liblinear', max_iter=10,\n",
        "    multi_class='ovr', verbose=0, warm_start=False, n_jobs=None),\"Logistic Regression\"),\n",
        "    \n",
        "    \n",
        "    (KNeighborsClassifier(1),\"K Nearest Classifier \"),\n",
        "    \n",
        "    (SVC(C=50.0, cache_size=200, class_weight=None, coef0=0.0,\n",
        "    decision_function_shape='ovr', degree=3, gamma='auto', kernel='rbf',\n",
        "    max_iter=-1, probability=False, random_state=None, shrinking=True,\n",
        "    tol=0.001, verbose=False),'Support Vector Machine Classifier'),\n",
        "    \n",
        "    (QuadraticDiscriminantAnalysis(),'Qudratic Discriminant Analysis'),\n",
        "    \n",
        "    (RandomForestClassifier(max_depth=50, n_estimators=10, max_features=1),'Random Forest Classifier'),\n",
        "    \n",
        "    (AdaBoostClassifier(base_estimator=None, n_estimators=50, learning_rate=0.01,\n",
        "                        algorithm='SAMME.R', random_state=None),'Adaboost Classifier'),\n",
        "    (SGDClassifier(),'SGD Classifier'),\n",
        "    \n",
        "    (DecisionTreeClassifier(max_depth=5),'Decision Tree Classifier'),\n",
        "    (xgboost.XGBClassifier(learning_rate=0.1),'XG Boost Classifier'),\n",
        "    \n",
        "    (LinearDiscriminantAnalysis(solver='svd', shrinkage=None, priors=None, n_components=None, \n",
        "        store_covariance=False,tol=0.00001),'Linear Discriminant Analysis'),\n",
        "     \n",
        "    (GaussianNB(),'Gaussian Naive Bayes ')\n",
        "]"
      ],
      "execution_count": null,
      "outputs": []
    },
    {
      "cell_type": "code",
      "metadata": {
        "id": "UoSRWgoMaGqZ"
      },
      "source": [
        "#!pip install -U scikit-learn"
      ],
      "execution_count": null,
      "outputs": []
    },
    {
      "cell_type": "code",
      "metadata": {
        "id": "djABh_17aGqa",
        "outputId": "4042b26f-b3c6-4ca8-881e-0f1076c8e6c3"
      },
      "source": [
        "['liblinear', 'newton-cg', 'lbfgs', 'sag', 'saga']"
      ],
      "execution_count": null,
      "outputs": [
        {
          "output_type": "execute_result",
          "data": {
            "text/plain": [
              "['liblinear', 'newton-cg', 'lbfgs', 'sag', 'saga']"
            ]
          },
          "metadata": {
            "tags": []
          },
          "execution_count": 129
        }
      ]
    },
    {
      "cell_type": "code",
      "metadata": {
        "scrolled": true,
        "id": "WRLQEqw0aGqb",
        "outputId": "57bf4075-6420-4730-c8fb-79f8fad9c474"
      },
      "source": [
        "score=[];names=[]\n",
        "\n",
        "for model,name in classifiers:\n",
        "    clf= model.fit(x_train,y_train)\n",
        "    y_pred=clf.predict(x_val)\n",
        "    predicted = np.array([int_to_label[i] for i in y_pred])\n",
        "    body_ids = [str(body_inverse_index[body]) for body in val_all[:, 1]]\n",
        "    pred_for_cm = np.array([{'Headline': val_all[i, 0], 'Body ID': body_ids[i], 'Stance': predicted[i]} for i in range(len(val_all))])\n",
        "    gold_for_cm = np.array([{'Headline': val_all[i, 0], 'Body ID': body_ids[i], 'Stance': val_all[i, 2]} for i in range(len(val_all))])\n",
        "    \n",
        "    test_score, cm = score_submission(gold_for_cm, pred_for_cm)\n",
        "    null_score, max_score = score_defaults(gold_for_cm)\n",
        "    print('*'*20);names.append(name)\n",
        "    print(name)\n",
        "    score.append(print_confusion_matrix(cm));\n",
        "    a=SCORE_REPORT.format(max_score, null_score, test_score)"
      ],
      "execution_count": null,
      "outputs": [
        {
          "output_type": "stream",
          "text": [
            "C:\\ProgramData\\Anaconda3\\lib\\site-packages\\sklearn\\svm\\_base.py:947: ConvergenceWarning: Liblinear failed to converge, increase the number of iterations.\n",
            "  \"the number of iterations.\", ConvergenceWarning)\n"
          ],
          "name": "stderr"
        },
        {
          "output_type": "stream",
          "text": [
            "********************\n",
            "Logistic Regression\n",
            "CONFUSION MATRIX:\n",
            "-------------------------------------------------------------\n",
            "|           |   agree   | disagree  |  discuss  | unrelated |\n",
            "-------------------------------------------------------------\n",
            "|   agree   |     0     |     0     |    35     |     2     |\n",
            "-------------------------------------------------------------\n",
            "| disagree  |     0     |     0     |     4     |     5     |\n",
            "-------------------------------------------------------------\n",
            "|  discuss  |     0     |     0     |    78     |    12     |\n",
            "-------------------------------------------------------------\n",
            "| unrelated |     0     |     0     |     5     |    361    |\n",
            "-------------------------------------------------------------\n",
            "ACCURACY: 0.875\n",
            "********************\n",
            "K Nearest Classifier \n",
            "CONFUSION MATRIX:\n",
            "-------------------------------------------------------------\n",
            "|           |   agree   | disagree  |  discuss  | unrelated |\n",
            "-------------------------------------------------------------\n",
            "|   agree   |     6     |     6     |    21     |     4     |\n",
            "-------------------------------------------------------------\n",
            "| disagree  |     2     |     0     |     4     |     3     |\n",
            "-------------------------------------------------------------\n",
            "|  discuss  |    26     |     5     |    47     |    12     |\n",
            "-------------------------------------------------------------\n",
            "| unrelated |     5     |     1     |    11     |    349    |\n",
            "-------------------------------------------------------------\n",
            "ACCURACY: 0.801\n",
            "********************\n",
            "Support Vector Machine Classifier\n",
            "CONFUSION MATRIX:\n",
            "-------------------------------------------------------------\n",
            "|           |   agree   | disagree  |  discuss  | unrelated |\n",
            "-------------------------------------------------------------\n",
            "|   agree   |     0     |     0     |    37     |     0     |\n",
            "-------------------------------------------------------------\n",
            "| disagree  |     0     |     0     |     5     |     4     |\n",
            "-------------------------------------------------------------\n",
            "|  discuss  |     0     |     0     |    81     |     9     |\n",
            "-------------------------------------------------------------\n",
            "| unrelated |     0     |     0     |     9     |    357    |\n",
            "-------------------------------------------------------------\n",
            "ACCURACY: 0.873\n",
            "********************\n",
            "Qudratic Discriminant Analysis\n",
            "CONFUSION MATRIX:\n",
            "-------------------------------------------------------------\n",
            "|           |   agree   | disagree  |  discuss  | unrelated |\n",
            "-------------------------------------------------------------\n",
            "|   agree   |     4     |     0     |    32     |     1     |\n",
            "-------------------------------------------------------------\n",
            "| disagree  |     1     |     0     |     7     |     1     |\n",
            "-------------------------------------------------------------\n",
            "|  discuss  |     7     |     0     |    79     |     4     |\n",
            "-------------------------------------------------------------\n",
            "| unrelated |     6     |     0     |     9     |    351    |\n",
            "-------------------------------------------------------------\n",
            "ACCURACY: 0.865\n",
            "********************\n",
            "Random Forest Classifier\n",
            "CONFUSION MATRIX:\n",
            "-------------------------------------------------------------\n",
            "|           |   agree   | disagree  |  discuss  | unrelated |\n",
            "-------------------------------------------------------------\n",
            "|   agree   |     5     |     0     |    31     |     1     |\n",
            "-------------------------------------------------------------\n",
            "| disagree  |     0     |     0     |     5     |     4     |\n",
            "-------------------------------------------------------------\n",
            "|  discuss  |    15     |     1     |    65     |     9     |\n",
            "-------------------------------------------------------------\n",
            "| unrelated |     2     |     0     |     9     |    355    |\n",
            "-------------------------------------------------------------\n",
            "ACCURACY: 0.847\n",
            "********************\n",
            "Adaboost Classifier\n",
            "CONFUSION MATRIX:\n",
            "-------------------------------------------------------------\n",
            "|           |   agree   | disagree  |  discuss  | unrelated |\n",
            "-------------------------------------------------------------\n",
            "|   agree   |     0     |     0     |    34     |     3     |\n",
            "-------------------------------------------------------------\n",
            "| disagree  |     0     |     0     |     7     |     2     |\n",
            "-------------------------------------------------------------\n",
            "|  discuss  |     0     |     0     |    76     |    14     |\n",
            "-------------------------------------------------------------\n",
            "| unrelated |     0     |     0     |    14     |    352    |\n",
            "-------------------------------------------------------------\n",
            "ACCURACY: 0.853\n",
            "********************\n",
            "SGD Classifier\n",
            "CONFUSION MATRIX:\n",
            "-------------------------------------------------------------\n",
            "|           |   agree   | disagree  |  discuss  | unrelated |\n",
            "-------------------------------------------------------------\n",
            "|   agree   |     0     |     0     |    36     |     1     |\n",
            "-------------------------------------------------------------\n",
            "| disagree  |     0     |     0     |     6     |     3     |\n",
            "-------------------------------------------------------------\n",
            "|  discuss  |     0     |     0     |    81     |     9     |\n",
            "-------------------------------------------------------------\n",
            "| unrelated |     0     |     0     |     7     |    359    |\n",
            "-------------------------------------------------------------\n",
            "ACCURACY: 0.876\n",
            "********************\n",
            "Decision Tree Classifier\n",
            "CONFUSION MATRIX:\n",
            "-------------------------------------------------------------\n",
            "|           |   agree   | disagree  |  discuss  | unrelated |\n",
            "-------------------------------------------------------------\n",
            "|   agree   |     2     |     1     |    31     |     3     |\n",
            "-------------------------------------------------------------\n",
            "| disagree  |     0     |     0     |     5     |     4     |\n",
            "-------------------------------------------------------------\n",
            "|  discuss  |     7     |     0     |    71     |    12     |\n",
            "-------------------------------------------------------------\n",
            "| unrelated |     5     |     5     |     9     |    347    |\n",
            "-------------------------------------------------------------\n",
            "ACCURACY: 0.837\n",
            "[15:26:47] WARNING: C:/Users/Administrator/workspace/xgboost-win64_release_1.3.0/src/learner.cc:1061: Starting in XGBoost 1.3.0, the default evaluation metric used with the objective 'multi:softprob' was changed from 'merror' to 'mlogloss'. Explicitly set eval_metric if you'd like to restore the old behavior.\n"
          ],
          "name": "stdout"
        },
        {
          "output_type": "stream",
          "text": [
            "C:\\ProgramData\\Anaconda3\\lib\\site-packages\\xgboost\\sklearn.py:888: UserWarning: The use of label encoder in XGBClassifier is deprecated and will be removed in a future release. To remove this warning, do the following: 1) Pass option use_label_encoder=False when constructing XGBClassifier object; and 2) Encode your labels (y) as integers starting with 0, i.e. 0, 1, 2, ..., [num_class - 1].\n",
            "  warnings.warn(label_encoder_deprecation_msg, UserWarning)\n"
          ],
          "name": "stderr"
        },
        {
          "output_type": "stream",
          "text": [
            "********************\n",
            "XG Boost Classifier\n",
            "CONFUSION MATRIX:\n",
            "-------------------------------------------------------------\n",
            "|           |   agree   | disagree  |  discuss  | unrelated |\n",
            "-------------------------------------------------------------\n",
            "|   agree   |     6     |     2     |    26     |     3     |\n",
            "-------------------------------------------------------------\n",
            "| disagree  |     0     |     0     |     5     |     4     |\n",
            "-------------------------------------------------------------\n",
            "|  discuss  |    18     |     5     |    59     |     8     |\n",
            "-------------------------------------------------------------\n",
            "| unrelated |     3     |     0     |    10     |    353    |\n",
            "-------------------------------------------------------------\n",
            "ACCURACY: 0.833\n",
            "********************\n",
            "Linear Discriminant Analysis\n",
            "CONFUSION MATRIX:\n",
            "-------------------------------------------------------------\n",
            "|           |   agree   | disagree  |  discuss  | unrelated |\n",
            "-------------------------------------------------------------\n",
            "|   agree   |     0     |     0     |    36     |     1     |\n",
            "-------------------------------------------------------------\n",
            "| disagree  |     0     |     0     |     8     |     1     |\n",
            "-------------------------------------------------------------\n",
            "|  discuss  |     0     |     0     |    84     |     6     |\n",
            "-------------------------------------------------------------\n",
            "| unrelated |     0     |     0     |    15     |    351    |\n",
            "-------------------------------------------------------------\n",
            "ACCURACY: 0.867\n",
            "********************\n",
            "Gaussian Naive Bayes \n",
            "CONFUSION MATRIX:\n",
            "-------------------------------------------------------------\n",
            "|           |   agree   | disagree  |  discuss  | unrelated |\n",
            "-------------------------------------------------------------\n",
            "|   agree   |     5     |     0     |    31     |     1     |\n",
            "-------------------------------------------------------------\n",
            "| disagree  |     0     |     0     |     8     |     1     |\n",
            "-------------------------------------------------------------\n",
            "|  discuss  |     8     |     0     |    77     |     5     |\n",
            "-------------------------------------------------------------\n",
            "| unrelated |     5     |     0     |    19     |    342    |\n",
            "-------------------------------------------------------------\n",
            "ACCURACY: 0.845\n"
          ],
          "name": "stdout"
        }
      ]
    },
    {
      "cell_type": "code",
      "metadata": {
        "id": "QpKS4fJiaGqc",
        "outputId": "71555611-df1c-4f24-9c13-3bfd7a2c2489"
      },
      "source": [
        "for i in range(len(score)):\n",
        "    score[i]=score[i]*100\n",
        "print(score)"
      ],
      "execution_count": null,
      "outputs": [
        {
          "output_type": "stream",
          "text": [
            "[87.45019920318725, 80.0796812749004, 87.25099601593625, 86.45418326693228, 84.66135458167331, 85.2589641434263, 87.64940239043824, 83.66533864541833, 83.26693227091634, 86.65338645418326, 84.4621513944223]\n"
          ],
          "name": "stdout"
        }
      ]
    },
    {
      "cell_type": "code",
      "metadata": {
        "id": "35xgcFNsaGqc",
        "outputId": "af3c8851-fbb8-4b26-b65d-e408b8ef4bc6"
      },
      "source": [
        "names=['LR','KNC','SVC','QDA','RFC','ADC','SGDC','DTC','XGB','LDA','GNB']\n",
        "import seaborn as sns\n",
        "from matplotlib import pyplot as plt\n",
        "fig = plt.figure()\n",
        "ax = fig.add_subplot(111)\n",
        "A = score[:]\n",
        "plt.plot(A)\n",
        "for i, label in enumerate(names):\n",
        "    plt.text(i,A[i], label)\n",
        "plt.show()"
      ],
      "execution_count": null,
      "outputs": [
        {
          "output_type": "display_data",
          "data": {
            "image/png": "[encoded data removed]",
            "text/plain": [
              "<Figure size 432x288 with 1 Axes>"
            ]
          },
          "metadata": {
            "tags": [],
            "needs_background": "light"
          }
        }
      ]
    }
  ]
}